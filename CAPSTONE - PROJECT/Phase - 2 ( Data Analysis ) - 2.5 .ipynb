{
 "cells": [
  {
   "cell_type": "code",
   "execution_count": null,
   "id": "2384c4e9",
   "metadata": {},
   "outputs": [],
   "source": []
  },
  {
   "cell_type": "code",
   "execution_count": 1,
   "id": "8dafad9f",
   "metadata": {},
   "outputs": [],
   "source": [
    "# importing libraries for reading dataset"
   ]
  },
  {
   "cell_type": "code",
   "execution_count": 2,
   "id": "e3d15cc9",
   "metadata": {},
   "outputs": [],
   "source": [
    "import pandas as pd\n",
    "import numpy as np\n",
    "\n",
    "import warnings\n",
    "warnings.filterwarnings('ignore')"
   ]
  },
  {
   "cell_type": "code",
   "execution_count": null,
   "id": "0c7a79ef",
   "metadata": {},
   "outputs": [],
   "source": []
  },
  {
   "cell_type": "code",
   "execution_count": null,
   "id": "ddf07f59",
   "metadata": {},
   "outputs": [],
   "source": []
  },
  {
   "cell_type": "code",
   "execution_count": 3,
   "id": "f7470e10",
   "metadata": {},
   "outputs": [],
   "source": [
    "#   2.5 - Analysis of population vs overall crime"
   ]
  },
  {
   "cell_type": "code",
   "execution_count": null,
   "id": "ede2fef5",
   "metadata": {},
   "outputs": [],
   "source": []
  },
  {
   "cell_type": "code",
   "execution_count": 4,
   "id": "7c3508f0",
   "metadata": {},
   "outputs": [],
   "source": [
    "# importing population dataset of India according to 2019"
   ]
  },
  {
   "cell_type": "code",
   "execution_count": null,
   "id": "3b95d978",
   "metadata": {},
   "outputs": [],
   "source": []
  },
  {
   "cell_type": "code",
   "execution_count": 5,
   "id": "2c4c0bec",
   "metadata": {},
   "outputs": [
    {
     "data": {
      "text/html": [
       "<div>\n",
       "<style scoped>\n",
       "    .dataframe tbody tr th:only-of-type {\n",
       "        vertical-align: middle;\n",
       "    }\n",
       "\n",
       "    .dataframe tbody tr th {\n",
       "        vertical-align: top;\n",
       "    }\n",
       "\n",
       "    .dataframe thead th {\n",
       "        text-align: right;\n",
       "    }\n",
       "</style>\n",
       "<table border=\"1\" class=\"dataframe\">\n",
       "  <thead>\n",
       "    <tr style=\"text-align: right;\">\n",
       "      <th></th>\n",
       "      <th>S.No</th>\n",
       "      <th>State</th>\n",
       "      <th>total_population</th>\n",
       "      <th>population_male</th>\n",
       "      <th>population_female</th>\n",
       "    </tr>\n",
       "  </thead>\n",
       "  <tbody>\n",
       "    <tr>\n",
       "      <th>0</th>\n",
       "      <td>1</td>\n",
       "      <td>MAHARASHTRA</td>\n",
       "      <td>37722136</td>\n",
       "      <td>19961736</td>\n",
       "      <td>17760400</td>\n",
       "    </tr>\n",
       "    <tr>\n",
       "      <th>1</th>\n",
       "      <td>2</td>\n",
       "      <td>UTTAR PRADESH</td>\n",
       "      <td>25302925</td>\n",
       "      <td>13433369</td>\n",
       "      <td>11869556</td>\n",
       "    </tr>\n",
       "    <tr>\n",
       "      <th>2</th>\n",
       "      <td>3</td>\n",
       "      <td>ANDHRA PRADESH</td>\n",
       "      <td>18171615</td>\n",
       "      <td>9192368</td>\n",
       "      <td>8979247</td>\n",
       "    </tr>\n",
       "    <tr>\n",
       "      <th>3</th>\n",
       "      <td>4</td>\n",
       "      <td>WEST BENGAL</td>\n",
       "      <td>18063509</td>\n",
       "      <td>9357777</td>\n",
       "      <td>8705732</td>\n",
       "    </tr>\n",
       "    <tr>\n",
       "      <th>4</th>\n",
       "      <td>5</td>\n",
       "      <td>GUJARAT</td>\n",
       "      <td>17835049</td>\n",
       "      <td>9541688</td>\n",
       "      <td>8293361</td>\n",
       "    </tr>\n",
       "    <tr>\n",
       "      <th>5</th>\n",
       "      <td>6</td>\n",
       "      <td>KARNATAKA</td>\n",
       "      <td>15799896</td>\n",
       "      <td>8112840</td>\n",
       "      <td>7687056</td>\n",
       "    </tr>\n",
       "    <tr>\n",
       "      <th>6</th>\n",
       "      <td>7</td>\n",
       "      <td>TAMIL NADU</td>\n",
       "      <td>13879395</td>\n",
       "      <td>6957261</td>\n",
       "      <td>6922134</td>\n",
       "    </tr>\n",
       "    <tr>\n",
       "      <th>7</th>\n",
       "      <td>8</td>\n",
       "      <td>DELHI</td>\n",
       "      <td>13481997</td>\n",
       "      <td>7201322</td>\n",
       "      <td>6280675</td>\n",
       "    </tr>\n",
       "    <tr>\n",
       "      <th>8</th>\n",
       "      <td>9</td>\n",
       "      <td>MADHYA PRADESH</td>\n",
       "      <td>11023091</td>\n",
       "      <td>5761143</td>\n",
       "      <td>5261948</td>\n",
       "    </tr>\n",
       "    <tr>\n",
       "      <th>9</th>\n",
       "      <td>10</td>\n",
       "      <td>RAJASTHAN</td>\n",
       "      <td>10443016</td>\n",
       "      <td>5484470</td>\n",
       "      <td>4958546</td>\n",
       "    </tr>\n",
       "    <tr>\n",
       "      <th>10</th>\n",
       "      <td>11</td>\n",
       "      <td>BIHAR</td>\n",
       "      <td>6714516</td>\n",
       "      <td>3558722</td>\n",
       "      <td>3155794</td>\n",
       "    </tr>\n",
       "    <tr>\n",
       "      <th>11</th>\n",
       "      <td>12</td>\n",
       "      <td>HARYANA</td>\n",
       "      <td>5952223</td>\n",
       "      <td>3181968</td>\n",
       "      <td>2770255</td>\n",
       "    </tr>\n",
       "    <tr>\n",
       "      <th>12</th>\n",
       "      <td>13</td>\n",
       "      <td>PUNJAB</td>\n",
       "      <td>5821876</td>\n",
       "      <td>3106473</td>\n",
       "      <td>2715403</td>\n",
       "    </tr>\n",
       "    <tr>\n",
       "      <th>13</th>\n",
       "      <td>14</td>\n",
       "      <td>JHARKHAND</td>\n",
       "      <td>4278259</td>\n",
       "      <td>2247819</td>\n",
       "      <td>2030440</td>\n",
       "    </tr>\n",
       "    <tr>\n",
       "      <th>14</th>\n",
       "      <td>15</td>\n",
       "      <td>CHHATTISGARH</td>\n",
       "      <td>3137918</td>\n",
       "      <td>1612019</td>\n",
       "      <td>1525899</td>\n",
       "    </tr>\n",
       "    <tr>\n",
       "      <th>15</th>\n",
       "      <td>16</td>\n",
       "      <td>ORISSA</td>\n",
       "      <td>3003234</td>\n",
       "      <td>1560423</td>\n",
       "      <td>1442811</td>\n",
       "    </tr>\n",
       "    <tr>\n",
       "      <th>16</th>\n",
       "      <td>17</td>\n",
       "      <td>KERALA</td>\n",
       "      <td>2755973</td>\n",
       "      <td>1335615</td>\n",
       "      <td>1420358</td>\n",
       "    </tr>\n",
       "    <tr>\n",
       "      <th>17</th>\n",
       "      <td>18</td>\n",
       "      <td>J&amp;K</td>\n",
       "      <td>1804987</td>\n",
       "      <td>953292</td>\n",
       "      <td>851695</td>\n",
       "    </tr>\n",
       "    <tr>\n",
       "      <th>18</th>\n",
       "      <td>19</td>\n",
       "      <td>ASSAM</td>\n",
       "      <td>1391154</td>\n",
       "      <td>720132</td>\n",
       "      <td>671022</td>\n",
       "    </tr>\n",
       "    <tr>\n",
       "      <th>19</th>\n",
       "      <td>20</td>\n",
       "      <td>UTTARAKHAND</td>\n",
       "      <td>1340397</td>\n",
       "      <td>706939</td>\n",
       "      <td>633458</td>\n",
       "    </tr>\n",
       "    <tr>\n",
       "      <th>20</th>\n",
       "      <td>21</td>\n",
       "      <td>CHANDIGARH</td>\n",
       "      <td>960787</td>\n",
       "      <td>525226</td>\n",
       "      <td>435561</td>\n",
       "    </tr>\n",
       "    <tr>\n",
       "      <th>21</th>\n",
       "      <td>22</td>\n",
       "      <td>PONDY</td>\n",
       "      <td>541801</td>\n",
       "      <td>266359</td>\n",
       "      <td>275442</td>\n",
       "    </tr>\n",
       "    <tr>\n",
       "      <th>22</th>\n",
       "      <td>23</td>\n",
       "      <td>TRIPURA</td>\n",
       "      <td>399688</td>\n",
       "      <td>199616</td>\n",
       "      <td>200072</td>\n",
       "    </tr>\n",
       "    <tr>\n",
       "      <th>23</th>\n",
       "      <td>24</td>\n",
       "      <td>MIZORAM</td>\n",
       "      <td>291822</td>\n",
       "      <td>143803</td>\n",
       "      <td>148019</td>\n",
       "    </tr>\n",
       "    <tr>\n",
       "      <th>24</th>\n",
       "      <td>25</td>\n",
       "      <td>MANIPUR</td>\n",
       "      <td>264986</td>\n",
       "      <td>128931</td>\n",
       "      <td>136055</td>\n",
       "    </tr>\n",
       "    <tr>\n",
       "      <th>25</th>\n",
       "      <td>26</td>\n",
       "      <td>HIMACHAL PRADESH</td>\n",
       "      <td>169758</td>\n",
       "      <td>93364</td>\n",
       "      <td>76394</td>\n",
       "    </tr>\n",
       "    <tr>\n",
       "      <th>26</th>\n",
       "      <td>27</td>\n",
       "      <td>MEGHALAYA</td>\n",
       "      <td>143007</td>\n",
       "      <td>70028</td>\n",
       "      <td>72979</td>\n",
       "    </tr>\n",
       "    <tr>\n",
       "      <th>27</th>\n",
       "      <td>28</td>\n",
       "      <td>NAGALAND</td>\n",
       "      <td>123777</td>\n",
       "      <td>65017</td>\n",
       "      <td>58760</td>\n",
       "    </tr>\n",
       "    <tr>\n",
       "      <th>28</th>\n",
       "      <td>29</td>\n",
       "      <td>ANDAMAN &amp; NICOBAR ISLANDS</td>\n",
       "      <td>100608</td>\n",
       "      <td>53247</td>\n",
       "      <td>47361</td>\n",
       "    </tr>\n",
       "    <tr>\n",
       "      <th>29</th>\n",
       "      <td>30</td>\n",
       "      <td>SIKKIM</td>\n",
       "      <td>610577</td>\n",
       "      <td>323070</td>\n",
       "      <td>287507</td>\n",
       "    </tr>\n",
       "    <tr>\n",
       "      <th>30</th>\n",
       "      <td>31</td>\n",
       "      <td>DNH</td>\n",
       "      <td>13039</td>\n",
       "      <td>8193</td>\n",
       "      <td>4846</td>\n",
       "    </tr>\n",
       "    <tr>\n",
       "      <th>31</th>\n",
       "      <td>32</td>\n",
       "      <td>TELANGANA</td>\n",
       "      <td>35003674</td>\n",
       "      <td>17611633</td>\n",
       "      <td>17392041</td>\n",
       "    </tr>\n",
       "    <tr>\n",
       "      <th>32</th>\n",
       "      <td>33</td>\n",
       "      <td>GOA</td>\n",
       "      <td>1458545</td>\n",
       "      <td>739140</td>\n",
       "      <td>719405</td>\n",
       "    </tr>\n",
       "  </tbody>\n",
       "</table>\n",
       "</div>"
      ],
      "text/plain": [
       "    S.No                      State  total_population  population_male  \\\n",
       "0      1                MAHARASHTRA          37722136         19961736   \n",
       "1      2              UTTAR PRADESH          25302925         13433369   \n",
       "2      3             ANDHRA PRADESH          18171615          9192368   \n",
       "3      4                WEST BENGAL          18063509          9357777   \n",
       "4      5                    GUJARAT          17835049          9541688   \n",
       "5      6                  KARNATAKA          15799896          8112840   \n",
       "6      7                 TAMIL NADU          13879395          6957261   \n",
       "7      8                      DELHI          13481997          7201322   \n",
       "8      9             MADHYA PRADESH          11023091          5761143   \n",
       "9     10                  RAJASTHAN          10443016          5484470   \n",
       "10    11                      BIHAR           6714516          3558722   \n",
       "11    12                    HARYANA           5952223          3181968   \n",
       "12    13                     PUNJAB           5821876          3106473   \n",
       "13    14                  JHARKHAND           4278259          2247819   \n",
       "14    15               CHHATTISGARH           3137918          1612019   \n",
       "15    16                     ORISSA           3003234          1560423   \n",
       "16    17                     KERALA           2755973          1335615   \n",
       "17    18                        J&K           1804987           953292   \n",
       "18    19                      ASSAM           1391154           720132   \n",
       "19    20                UTTARAKHAND           1340397           706939   \n",
       "20    21                 CHANDIGARH            960787           525226   \n",
       "21    22                      PONDY            541801           266359   \n",
       "22    23                    TRIPURA            399688           199616   \n",
       "23    24                    MIZORAM            291822           143803   \n",
       "24    25                    MANIPUR            264986           128931   \n",
       "25    26           HIMACHAL PRADESH            169758            93364   \n",
       "26    27                  MEGHALAYA            143007            70028   \n",
       "27    28                   NAGALAND            123777            65017   \n",
       "28    29  ANDAMAN & NICOBAR ISLANDS            100608            53247   \n",
       "29    30                     SIKKIM            610577           323070   \n",
       "30    31                        DNH             13039             8193   \n",
       "31    32                  TELANGANA          35003674         17611633   \n",
       "32    33                        GOA           1458545           739140   \n",
       "\n",
       "    population_female  \n",
       "0            17760400  \n",
       "1            11869556  \n",
       "2             8979247  \n",
       "3             8705732  \n",
       "4             8293361  \n",
       "5             7687056  \n",
       "6             6922134  \n",
       "7             6280675  \n",
       "8             5261948  \n",
       "9             4958546  \n",
       "10            3155794  \n",
       "11            2770255  \n",
       "12            2715403  \n",
       "13            2030440  \n",
       "14            1525899  \n",
       "15            1442811  \n",
       "16            1420358  \n",
       "17             851695  \n",
       "18             671022  \n",
       "19             633458  \n",
       "20             435561  \n",
       "21             275442  \n",
       "22             200072  \n",
       "23             148019  \n",
       "24             136055  \n",
       "25              76394  \n",
       "26              72979  \n",
       "27              58760  \n",
       "28              47361  \n",
       "29             287507  \n",
       "30               4846  \n",
       "31           17392041  \n",
       "32             719405  "
      ]
     },
     "execution_count": 5,
     "metadata": {},
     "output_type": "execute_result"
    }
   ],
   "source": [
    "state_popu = pd.read_csv('state_wise_population__2019.csv')\n",
    "state_popu"
   ]
  },
  {
   "cell_type": "code",
   "execution_count": null,
   "id": "d7f604fb",
   "metadata": {},
   "outputs": [],
   "source": []
  },
  {
   "cell_type": "code",
   "execution_count": null,
   "id": "18dd8a1a",
   "metadata": {},
   "outputs": [],
   "source": []
  },
  {
   "cell_type": "code",
   "execution_count": 6,
   "id": "c386ae19",
   "metadata": {},
   "outputs": [],
   "source": [
    "# importing crime dataset for India state-wise"
   ]
  },
  {
   "cell_type": "code",
   "execution_count": 7,
   "id": "805049da",
   "metadata": {},
   "outputs": [
    {
     "data": {
      "text/html": [
       "<div>\n",
       "<style scoped>\n",
       "    .dataframe tbody tr th:only-of-type {\n",
       "        vertical-align: middle;\n",
       "    }\n",
       "\n",
       "    .dataframe tbody tr th {\n",
       "        vertical-align: top;\n",
       "    }\n",
       "\n",
       "    .dataframe thead th {\n",
       "        text-align: right;\n",
       "    }\n",
       "</style>\n",
       "<table border=\"1\" class=\"dataframe\">\n",
       "  <thead>\n",
       "    <tr style=\"text-align: right;\">\n",
       "      <th></th>\n",
       "      <th>STATE/UT</th>\n",
       "      <th>DISTRICT</th>\n",
       "      <th>YEAR</th>\n",
       "      <th>MURDER</th>\n",
       "      <th>ATTEMPT TO MURDER</th>\n",
       "      <th>CULPABLE HOMICIDE NOT AMOUNTING TO MURDER</th>\n",
       "      <th>RAPE</th>\n",
       "      <th>CUSTODIAL RAPE</th>\n",
       "      <th>OTHER RAPE</th>\n",
       "      <th>KIDNAPPING &amp; ABDUCTION</th>\n",
       "      <th>...</th>\n",
       "      <th>ARSON</th>\n",
       "      <th>HURT/GREVIOUS HURT</th>\n",
       "      <th>DOWRY DEATHS</th>\n",
       "      <th>ASSAULT ON WOMEN WITH INTENT TO OUTRAGE HER MODESTY</th>\n",
       "      <th>INSULT TO MODESTY OF WOMEN</th>\n",
       "      <th>CRUELTY BY HUSBAND OR HIS RELATIVES</th>\n",
       "      <th>IMPORTATION OF GIRLS FROM FOREIGN COUNTRIES</th>\n",
       "      <th>CAUSING DEATH BY NEGLIGENCE</th>\n",
       "      <th>OTHER IPC CRIMES</th>\n",
       "      <th>TOTAL IPC CRIMES</th>\n",
       "    </tr>\n",
       "  </thead>\n",
       "  <tbody>\n",
       "    <tr>\n",
       "      <th>0</th>\n",
       "      <td>ANDHRA PRADESH</td>\n",
       "      <td>ADILABAD</td>\n",
       "      <td>2001</td>\n",
       "      <td>101</td>\n",
       "      <td>60</td>\n",
       "      <td>17</td>\n",
       "      <td>50</td>\n",
       "      <td>0</td>\n",
       "      <td>50</td>\n",
       "      <td>46</td>\n",
       "      <td>...</td>\n",
       "      <td>30</td>\n",
       "      <td>1131</td>\n",
       "      <td>16</td>\n",
       "      <td>149</td>\n",
       "      <td>34</td>\n",
       "      <td>175</td>\n",
       "      <td>0</td>\n",
       "      <td>181</td>\n",
       "      <td>1518</td>\n",
       "      <td>4154</td>\n",
       "    </tr>\n",
       "    <tr>\n",
       "      <th>1</th>\n",
       "      <td>ANDHRA PRADESH</td>\n",
       "      <td>ANANTAPUR</td>\n",
       "      <td>2001</td>\n",
       "      <td>151</td>\n",
       "      <td>125</td>\n",
       "      <td>1</td>\n",
       "      <td>23</td>\n",
       "      <td>0</td>\n",
       "      <td>23</td>\n",
       "      <td>53</td>\n",
       "      <td>...</td>\n",
       "      <td>69</td>\n",
       "      <td>1543</td>\n",
       "      <td>7</td>\n",
       "      <td>118</td>\n",
       "      <td>24</td>\n",
       "      <td>154</td>\n",
       "      <td>0</td>\n",
       "      <td>270</td>\n",
       "      <td>754</td>\n",
       "      <td>4125</td>\n",
       "    </tr>\n",
       "    <tr>\n",
       "      <th>2</th>\n",
       "      <td>ANDHRA PRADESH</td>\n",
       "      <td>CHITTOOR</td>\n",
       "      <td>2001</td>\n",
       "      <td>101</td>\n",
       "      <td>57</td>\n",
       "      <td>2</td>\n",
       "      <td>27</td>\n",
       "      <td>0</td>\n",
       "      <td>27</td>\n",
       "      <td>59</td>\n",
       "      <td>...</td>\n",
       "      <td>38</td>\n",
       "      <td>2088</td>\n",
       "      <td>14</td>\n",
       "      <td>112</td>\n",
       "      <td>83</td>\n",
       "      <td>186</td>\n",
       "      <td>0</td>\n",
       "      <td>404</td>\n",
       "      <td>1262</td>\n",
       "      <td>5818</td>\n",
       "    </tr>\n",
       "    <tr>\n",
       "      <th>3</th>\n",
       "      <td>ANDHRA PRADESH</td>\n",
       "      <td>CUDDAPAH</td>\n",
       "      <td>2001</td>\n",
       "      <td>80</td>\n",
       "      <td>53</td>\n",
       "      <td>1</td>\n",
       "      <td>20</td>\n",
       "      <td>0</td>\n",
       "      <td>20</td>\n",
       "      <td>25</td>\n",
       "      <td>...</td>\n",
       "      <td>23</td>\n",
       "      <td>795</td>\n",
       "      <td>17</td>\n",
       "      <td>126</td>\n",
       "      <td>38</td>\n",
       "      <td>57</td>\n",
       "      <td>0</td>\n",
       "      <td>233</td>\n",
       "      <td>1181</td>\n",
       "      <td>3140</td>\n",
       "    </tr>\n",
       "    <tr>\n",
       "      <th>4</th>\n",
       "      <td>ANDHRA PRADESH</td>\n",
       "      <td>EAST GODAVARI</td>\n",
       "      <td>2001</td>\n",
       "      <td>82</td>\n",
       "      <td>67</td>\n",
       "      <td>1</td>\n",
       "      <td>23</td>\n",
       "      <td>0</td>\n",
       "      <td>23</td>\n",
       "      <td>49</td>\n",
       "      <td>...</td>\n",
       "      <td>41</td>\n",
       "      <td>1244</td>\n",
       "      <td>12</td>\n",
       "      <td>109</td>\n",
       "      <td>58</td>\n",
       "      <td>247</td>\n",
       "      <td>0</td>\n",
       "      <td>431</td>\n",
       "      <td>2313</td>\n",
       "      <td>6507</td>\n",
       "    </tr>\n",
       "    <tr>\n",
       "      <th>...</th>\n",
       "      <td>...</td>\n",
       "      <td>...</td>\n",
       "      <td>...</td>\n",
       "      <td>...</td>\n",
       "      <td>...</td>\n",
       "      <td>...</td>\n",
       "      <td>...</td>\n",
       "      <td>...</td>\n",
       "      <td>...</td>\n",
       "      <td>...</td>\n",
       "      <td>...</td>\n",
       "      <td>...</td>\n",
       "      <td>...</td>\n",
       "      <td>...</td>\n",
       "      <td>...</td>\n",
       "      <td>...</td>\n",
       "      <td>...</td>\n",
       "      <td>...</td>\n",
       "      <td>...</td>\n",
       "      <td>...</td>\n",
       "      <td>...</td>\n",
       "    </tr>\n",
       "    <tr>\n",
       "      <th>9012</th>\n",
       "      <td>LAKSHADWEEP</td>\n",
       "      <td>LAKSHADWEEP</td>\n",
       "      <td>2012</td>\n",
       "      <td>0</td>\n",
       "      <td>0</td>\n",
       "      <td>0</td>\n",
       "      <td>0</td>\n",
       "      <td>0</td>\n",
       "      <td>0</td>\n",
       "      <td>0</td>\n",
       "      <td>...</td>\n",
       "      <td>3</td>\n",
       "      <td>3</td>\n",
       "      <td>0</td>\n",
       "      <td>1</td>\n",
       "      <td>0</td>\n",
       "      <td>1</td>\n",
       "      <td>0</td>\n",
       "      <td>0</td>\n",
       "      <td>32</td>\n",
       "      <td>60</td>\n",
       "    </tr>\n",
       "    <tr>\n",
       "      <th>9013</th>\n",
       "      <td>LAKSHADWEEP</td>\n",
       "      <td>TOTAL</td>\n",
       "      <td>2012</td>\n",
       "      <td>0</td>\n",
       "      <td>0</td>\n",
       "      <td>0</td>\n",
       "      <td>0</td>\n",
       "      <td>0</td>\n",
       "      <td>0</td>\n",
       "      <td>0</td>\n",
       "      <td>...</td>\n",
       "      <td>3</td>\n",
       "      <td>3</td>\n",
       "      <td>0</td>\n",
       "      <td>1</td>\n",
       "      <td>0</td>\n",
       "      <td>1</td>\n",
       "      <td>0</td>\n",
       "      <td>0</td>\n",
       "      <td>32</td>\n",
       "      <td>60</td>\n",
       "    </tr>\n",
       "    <tr>\n",
       "      <th>9014</th>\n",
       "      <td>PUDUCHERRY</td>\n",
       "      <td>KARAIKAL</td>\n",
       "      <td>2012</td>\n",
       "      <td>5</td>\n",
       "      <td>6</td>\n",
       "      <td>2</td>\n",
       "      <td>6</td>\n",
       "      <td>0</td>\n",
       "      <td>6</td>\n",
       "      <td>2</td>\n",
       "      <td>...</td>\n",
       "      <td>1</td>\n",
       "      <td>186</td>\n",
       "      <td>0</td>\n",
       "      <td>2</td>\n",
       "      <td>0</td>\n",
       "      <td>1</td>\n",
       "      <td>0</td>\n",
       "      <td>44</td>\n",
       "      <td>392</td>\n",
       "      <td>787</td>\n",
       "    </tr>\n",
       "    <tr>\n",
       "      <th>9015</th>\n",
       "      <td>PUDUCHERRY</td>\n",
       "      <td>PUDUCHERRY</td>\n",
       "      <td>2012</td>\n",
       "      <td>24</td>\n",
       "      <td>21</td>\n",
       "      <td>10</td>\n",
       "      <td>7</td>\n",
       "      <td>0</td>\n",
       "      <td>7</td>\n",
       "      <td>17</td>\n",
       "      <td>...</td>\n",
       "      <td>20</td>\n",
       "      <td>632</td>\n",
       "      <td>0</td>\n",
       "      <td>7</td>\n",
       "      <td>2</td>\n",
       "      <td>5</td>\n",
       "      <td>0</td>\n",
       "      <td>219</td>\n",
       "      <td>1668</td>\n",
       "      <td>3494</td>\n",
       "    </tr>\n",
       "    <tr>\n",
       "      <th>9016</th>\n",
       "      <td>PUDUCHERRY</td>\n",
       "      <td>TOTAL</td>\n",
       "      <td>2012</td>\n",
       "      <td>29</td>\n",
       "      <td>27</td>\n",
       "      <td>12</td>\n",
       "      <td>13</td>\n",
       "      <td>0</td>\n",
       "      <td>13</td>\n",
       "      <td>19</td>\n",
       "      <td>...</td>\n",
       "      <td>21</td>\n",
       "      <td>818</td>\n",
       "      <td>0</td>\n",
       "      <td>9</td>\n",
       "      <td>2</td>\n",
       "      <td>6</td>\n",
       "      <td>0</td>\n",
       "      <td>263</td>\n",
       "      <td>2060</td>\n",
       "      <td>4281</td>\n",
       "    </tr>\n",
       "  </tbody>\n",
       "</table>\n",
       "<p>9017 rows × 33 columns</p>\n",
       "</div>"
      ],
      "text/plain": [
       "            STATE/UT       DISTRICT  YEAR  MURDER  ATTEMPT TO MURDER  \\\n",
       "0     ANDHRA PRADESH       ADILABAD  2001     101                 60   \n",
       "1     ANDHRA PRADESH      ANANTAPUR  2001     151                125   \n",
       "2     ANDHRA PRADESH       CHITTOOR  2001     101                 57   \n",
       "3     ANDHRA PRADESH       CUDDAPAH  2001      80                 53   \n",
       "4     ANDHRA PRADESH  EAST GODAVARI  2001      82                 67   \n",
       "...              ...            ...   ...     ...                ...   \n",
       "9012     LAKSHADWEEP    LAKSHADWEEP  2012       0                  0   \n",
       "9013     LAKSHADWEEP          TOTAL  2012       0                  0   \n",
       "9014      PUDUCHERRY       KARAIKAL  2012       5                  6   \n",
       "9015      PUDUCHERRY     PUDUCHERRY  2012      24                 21   \n",
       "9016      PUDUCHERRY          TOTAL  2012      29                 27   \n",
       "\n",
       "      CULPABLE HOMICIDE NOT AMOUNTING TO MURDER  RAPE  CUSTODIAL RAPE  \\\n",
       "0                                            17    50               0   \n",
       "1                                             1    23               0   \n",
       "2                                             2    27               0   \n",
       "3                                             1    20               0   \n",
       "4                                             1    23               0   \n",
       "...                                         ...   ...             ...   \n",
       "9012                                          0     0               0   \n",
       "9013                                          0     0               0   \n",
       "9014                                          2     6               0   \n",
       "9015                                         10     7               0   \n",
       "9016                                         12    13               0   \n",
       "\n",
       "      OTHER RAPE  KIDNAPPING & ABDUCTION  ...  ARSON  HURT/GREVIOUS HURT  \\\n",
       "0             50                      46  ...     30                1131   \n",
       "1             23                      53  ...     69                1543   \n",
       "2             27                      59  ...     38                2088   \n",
       "3             20                      25  ...     23                 795   \n",
       "4             23                      49  ...     41                1244   \n",
       "...          ...                     ...  ...    ...                 ...   \n",
       "9012           0                       0  ...      3                   3   \n",
       "9013           0                       0  ...      3                   3   \n",
       "9014           6                       2  ...      1                 186   \n",
       "9015           7                      17  ...     20                 632   \n",
       "9016          13                      19  ...     21                 818   \n",
       "\n",
       "      DOWRY DEATHS  ASSAULT ON WOMEN WITH INTENT TO OUTRAGE HER MODESTY  \\\n",
       "0               16                                                149     \n",
       "1                7                                                118     \n",
       "2               14                                                112     \n",
       "3               17                                                126     \n",
       "4               12                                                109     \n",
       "...            ...                                                ...     \n",
       "9012             0                                                  1     \n",
       "9013             0                                                  1     \n",
       "9014             0                                                  2     \n",
       "9015             0                                                  7     \n",
       "9016             0                                                  9     \n",
       "\n",
       "      INSULT TO MODESTY OF WOMEN  CRUELTY BY HUSBAND OR HIS RELATIVES  \\\n",
       "0                             34                                  175   \n",
       "1                             24                                  154   \n",
       "2                             83                                  186   \n",
       "3                             38                                   57   \n",
       "4                             58                                  247   \n",
       "...                          ...                                  ...   \n",
       "9012                           0                                    1   \n",
       "9013                           0                                    1   \n",
       "9014                           0                                    1   \n",
       "9015                           2                                    5   \n",
       "9016                           2                                    6   \n",
       "\n",
       "      IMPORTATION OF GIRLS FROM FOREIGN COUNTRIES  \\\n",
       "0                                               0   \n",
       "1                                               0   \n",
       "2                                               0   \n",
       "3                                               0   \n",
       "4                                               0   \n",
       "...                                           ...   \n",
       "9012                                            0   \n",
       "9013                                            0   \n",
       "9014                                            0   \n",
       "9015                                            0   \n",
       "9016                                            0   \n",
       "\n",
       "      CAUSING DEATH BY NEGLIGENCE  OTHER IPC CRIMES  TOTAL IPC CRIMES  \n",
       "0                             181              1518              4154  \n",
       "1                             270               754              4125  \n",
       "2                             404              1262              5818  \n",
       "3                             233              1181              3140  \n",
       "4                             431              2313              6507  \n",
       "...                           ...               ...               ...  \n",
       "9012                            0                32                60  \n",
       "9013                            0                32                60  \n",
       "9014                           44               392               787  \n",
       "9015                          219              1668              3494  \n",
       "9016                          263              2060              4281  \n",
       "\n",
       "[9017 rows x 33 columns]"
      ]
     },
     "execution_count": 7,
     "metadata": {},
     "output_type": "execute_result"
    }
   ],
   "source": [
    "crime_type = pd.read_csv('01_District_wise_crimes_committed_IPC_2001_2012.csv')\n",
    "\n",
    "crime_type"
   ]
  },
  {
   "cell_type": "code",
   "execution_count": null,
   "id": "7bff8428",
   "metadata": {},
   "outputs": [],
   "source": []
  },
  {
   "cell_type": "code",
   "execution_count": null,
   "id": "7a9b4aee",
   "metadata": {},
   "outputs": [],
   "source": []
  },
  {
   "cell_type": "code",
   "execution_count": null,
   "id": "c2324577",
   "metadata": {},
   "outputs": [],
   "source": []
  },
  {
   "cell_type": "code",
   "execution_count": 8,
   "id": "5c845a3e",
   "metadata": {},
   "outputs": [],
   "source": [
    "# crime data for Andhra Pradesh"
   ]
  },
  {
   "cell_type": "code",
   "execution_count": null,
   "id": "842c328d",
   "metadata": {},
   "outputs": [],
   "source": []
  },
  {
   "cell_type": "code",
   "execution_count": 9,
   "id": "68f78852",
   "metadata": {},
   "outputs": [
    {
     "data": {
      "text/html": [
       "<div>\n",
       "<style scoped>\n",
       "    .dataframe tbody tr th:only-of-type {\n",
       "        vertical-align: middle;\n",
       "    }\n",
       "\n",
       "    .dataframe tbody tr th {\n",
       "        vertical-align: top;\n",
       "    }\n",
       "\n",
       "    .dataframe thead th {\n",
       "        text-align: right;\n",
       "    }\n",
       "</style>\n",
       "<table border=\"1\" class=\"dataframe\">\n",
       "  <thead>\n",
       "    <tr style=\"text-align: right;\">\n",
       "      <th></th>\n",
       "      <th>STATE/UT</th>\n",
       "      <th>DISTRICT</th>\n",
       "      <th>YEAR</th>\n",
       "      <th>MURDER</th>\n",
       "      <th>ATTEMPT TO MURDER</th>\n",
       "      <th>CULPABLE HOMICIDE NOT AMOUNTING TO MURDER</th>\n",
       "      <th>RAPE</th>\n",
       "      <th>CUSTODIAL RAPE</th>\n",
       "      <th>OTHER RAPE</th>\n",
       "      <th>KIDNAPPING &amp; ABDUCTION</th>\n",
       "      <th>...</th>\n",
       "      <th>ARSON</th>\n",
       "      <th>HURT/GREVIOUS HURT</th>\n",
       "      <th>DOWRY DEATHS</th>\n",
       "      <th>ASSAULT ON WOMEN WITH INTENT TO OUTRAGE HER MODESTY</th>\n",
       "      <th>INSULT TO MODESTY OF WOMEN</th>\n",
       "      <th>CRUELTY BY HUSBAND OR HIS RELATIVES</th>\n",
       "      <th>IMPORTATION OF GIRLS FROM FOREIGN COUNTRIES</th>\n",
       "      <th>CAUSING DEATH BY NEGLIGENCE</th>\n",
       "      <th>OTHER IPC CRIMES</th>\n",
       "      <th>TOTAL IPC CRIMES</th>\n",
       "    </tr>\n",
       "  </thead>\n",
       "  <tbody>\n",
       "    <tr>\n",
       "      <th>8239</th>\n",
       "      <td>ANDHRA PRADESH</td>\n",
       "      <td>TOTAL</td>\n",
       "      <td>2012</td>\n",
       "      <td>2717</td>\n",
       "      <td>2183</td>\n",
       "      <td>158</td>\n",
       "      <td>1341</td>\n",
       "      <td>0</td>\n",
       "      <td>1341</td>\n",
       "      <td>1870</td>\n",
       "      <td>...</td>\n",
       "      <td>980</td>\n",
       "      <td>56768</td>\n",
       "      <td>504</td>\n",
       "      <td>4816</td>\n",
       "      <td>3714</td>\n",
       "      <td>13389</td>\n",
       "      <td>0</td>\n",
       "      <td>13929</td>\n",
       "      <td>39025</td>\n",
       "      <td>192522</td>\n",
       "    </tr>\n",
       "  </tbody>\n",
       "</table>\n",
       "<p>1 rows × 33 columns</p>\n",
       "</div>"
      ],
      "text/plain": [
       "            STATE/UT DISTRICT  YEAR  MURDER  ATTEMPT TO MURDER  \\\n",
       "8239  ANDHRA PRADESH    TOTAL  2012    2717               2183   \n",
       "\n",
       "      CULPABLE HOMICIDE NOT AMOUNTING TO MURDER  RAPE  CUSTODIAL RAPE  \\\n",
       "8239                                        158  1341               0   \n",
       "\n",
       "      OTHER RAPE  KIDNAPPING & ABDUCTION  ...  ARSON  HURT/GREVIOUS HURT  \\\n",
       "8239        1341                    1870  ...    980               56768   \n",
       "\n",
       "      DOWRY DEATHS  ASSAULT ON WOMEN WITH INTENT TO OUTRAGE HER MODESTY  \\\n",
       "8239           504                                               4816     \n",
       "\n",
       "      INSULT TO MODESTY OF WOMEN  CRUELTY BY HUSBAND OR HIS RELATIVES  \\\n",
       "8239                        3714                                13389   \n",
       "\n",
       "      IMPORTATION OF GIRLS FROM FOREIGN COUNTRIES  \\\n",
       "8239                                            0   \n",
       "\n",
       "      CAUSING DEATH BY NEGLIGENCE  OTHER IPC CRIMES  TOTAL IPC CRIMES  \n",
       "8239                        13929             39025            192522  \n",
       "\n",
       "[1 rows x 33 columns]"
      ]
     },
     "execution_count": 9,
     "metadata": {},
     "output_type": "execute_result"
    }
   ],
   "source": [
    "andhra_crime = crime_type[8239:8240]\n",
    "andhra_crime"
   ]
  },
  {
   "cell_type": "code",
   "execution_count": 10,
   "id": "d6de25ba",
   "metadata": {},
   "outputs": [
    {
     "data": {
      "text/plain": [
       "8239    192522\n",
       "Name: TOTAL IPC CRIMES, dtype: int64"
      ]
     },
     "execution_count": 10,
     "metadata": {},
     "output_type": "execute_result"
    }
   ],
   "source": [
    "andhra_crime = andhra_crime['TOTAL IPC CRIMES']\n",
    "andhra_crime"
   ]
  },
  {
   "cell_type": "code",
   "execution_count": null,
   "id": "442c4717",
   "metadata": {},
   "outputs": [],
   "source": []
  },
  {
   "cell_type": "code",
   "execution_count": null,
   "id": "2793df4b",
   "metadata": {},
   "outputs": [],
   "source": []
  },
  {
   "cell_type": "code",
   "execution_count": 11,
   "id": "db105ac5",
   "metadata": {},
   "outputs": [],
   "source": [
    "# Population data for Andhra Pradesh"
   ]
  },
  {
   "cell_type": "code",
   "execution_count": 12,
   "id": "616972d0",
   "metadata": {},
   "outputs": [
    {
     "data": {
      "text/html": [
       "<div>\n",
       "<style scoped>\n",
       "    .dataframe tbody tr th:only-of-type {\n",
       "        vertical-align: middle;\n",
       "    }\n",
       "\n",
       "    .dataframe tbody tr th {\n",
       "        vertical-align: top;\n",
       "    }\n",
       "\n",
       "    .dataframe thead th {\n",
       "        text-align: right;\n",
       "    }\n",
       "</style>\n",
       "<table border=\"1\" class=\"dataframe\">\n",
       "  <thead>\n",
       "    <tr style=\"text-align: right;\">\n",
       "      <th></th>\n",
       "      <th>S.No</th>\n",
       "      <th>State</th>\n",
       "      <th>total_population</th>\n",
       "      <th>population_male</th>\n",
       "      <th>population_female</th>\n",
       "    </tr>\n",
       "  </thead>\n",
       "  <tbody>\n",
       "    <tr>\n",
       "      <th>2</th>\n",
       "      <td>3</td>\n",
       "      <td>ANDHRA PRADESH</td>\n",
       "      <td>18171615</td>\n",
       "      <td>9192368</td>\n",
       "      <td>8979247</td>\n",
       "    </tr>\n",
       "  </tbody>\n",
       "</table>\n",
       "</div>"
      ],
      "text/plain": [
       "   S.No           State  total_population  population_male  population_female\n",
       "2     3  ANDHRA PRADESH          18171615          9192368            8979247"
      ]
     },
     "execution_count": 12,
     "metadata": {},
     "output_type": "execute_result"
    }
   ],
   "source": [
    "andhra_popu = state_popu[2:3]\n",
    "andhra_popu"
   ]
  },
  {
   "cell_type": "code",
   "execution_count": 13,
   "id": "3337c441",
   "metadata": {},
   "outputs": [
    {
     "data": {
      "text/plain": [
       "2    18171615\n",
       "Name: total_population, dtype: int64"
      ]
     },
     "execution_count": 13,
     "metadata": {},
     "output_type": "execute_result"
    }
   ],
   "source": [
    "andhra_popu = andhra_popu['total_population']\n",
    "andhra_popu"
   ]
  },
  {
   "cell_type": "code",
   "execution_count": null,
   "id": "fb49d5b7",
   "metadata": {},
   "outputs": [],
   "source": []
  },
  {
   "cell_type": "code",
   "execution_count": null,
   "id": "7904e82e",
   "metadata": {},
   "outputs": [],
   "source": []
  },
  {
   "cell_type": "code",
   "execution_count": null,
   "id": "9b40409a",
   "metadata": {},
   "outputs": [],
   "source": []
  },
  {
   "cell_type": "code",
   "execution_count": 14,
   "id": "f85be804",
   "metadata": {},
   "outputs": [],
   "source": [
    "# crime data for Arunachal Pradesh"
   ]
  },
  {
   "cell_type": "code",
   "execution_count": 15,
   "id": "96413140",
   "metadata": {},
   "outputs": [
    {
     "data": {
      "text/html": [
       "<div>\n",
       "<style scoped>\n",
       "    .dataframe tbody tr th:only-of-type {\n",
       "        vertical-align: middle;\n",
       "    }\n",
       "\n",
       "    .dataframe tbody tr th {\n",
       "        vertical-align: top;\n",
       "    }\n",
       "\n",
       "    .dataframe thead th {\n",
       "        text-align: right;\n",
       "    }\n",
       "</style>\n",
       "<table border=\"1\" class=\"dataframe\">\n",
       "  <thead>\n",
       "    <tr style=\"text-align: right;\">\n",
       "      <th></th>\n",
       "      <th>STATE/UT</th>\n",
       "      <th>DISTRICT</th>\n",
       "      <th>YEAR</th>\n",
       "      <th>MURDER</th>\n",
       "      <th>ATTEMPT TO MURDER</th>\n",
       "      <th>CULPABLE HOMICIDE NOT AMOUNTING TO MURDER</th>\n",
       "      <th>RAPE</th>\n",
       "      <th>CUSTODIAL RAPE</th>\n",
       "      <th>OTHER RAPE</th>\n",
       "      <th>KIDNAPPING &amp; ABDUCTION</th>\n",
       "      <th>...</th>\n",
       "      <th>ARSON</th>\n",
       "      <th>HURT/GREVIOUS HURT</th>\n",
       "      <th>DOWRY DEATHS</th>\n",
       "      <th>ASSAULT ON WOMEN WITH INTENT TO OUTRAGE HER MODESTY</th>\n",
       "      <th>INSULT TO MODESTY OF WOMEN</th>\n",
       "      <th>CRUELTY BY HUSBAND OR HIS RELATIVES</th>\n",
       "      <th>IMPORTATION OF GIRLS FROM FOREIGN COUNTRIES</th>\n",
       "      <th>CAUSING DEATH BY NEGLIGENCE</th>\n",
       "      <th>OTHER IPC CRIMES</th>\n",
       "      <th>TOTAL IPC CRIMES</th>\n",
       "    </tr>\n",
       "  </thead>\n",
       "  <tbody>\n",
       "    <tr>\n",
       "      <th>8257</th>\n",
       "      <td>ARUNACHAL PRADESH</td>\n",
       "      <td>TOTAL</td>\n",
       "      <td>2012</td>\n",
       "      <td>73</td>\n",
       "      <td>29</td>\n",
       "      <td>1</td>\n",
       "      <td>46</td>\n",
       "      <td>0</td>\n",
       "      <td>46</td>\n",
       "      <td>82</td>\n",
       "      <td>...</td>\n",
       "      <td>33</td>\n",
       "      <td>438</td>\n",
       "      <td>1</td>\n",
       "      <td>67</td>\n",
       "      <td>2</td>\n",
       "      <td>26</td>\n",
       "      <td>0</td>\n",
       "      <td>94</td>\n",
       "      <td>657</td>\n",
       "      <td>2420</td>\n",
       "    </tr>\n",
       "  </tbody>\n",
       "</table>\n",
       "<p>1 rows × 33 columns</p>\n",
       "</div>"
      ],
      "text/plain": [
       "               STATE/UT DISTRICT  YEAR  MURDER  ATTEMPT TO MURDER  \\\n",
       "8257  ARUNACHAL PRADESH    TOTAL  2012      73                 29   \n",
       "\n",
       "      CULPABLE HOMICIDE NOT AMOUNTING TO MURDER  RAPE  CUSTODIAL RAPE  \\\n",
       "8257                                          1    46               0   \n",
       "\n",
       "      OTHER RAPE  KIDNAPPING & ABDUCTION  ...  ARSON  HURT/GREVIOUS HURT  \\\n",
       "8257          46                      82  ...     33                 438   \n",
       "\n",
       "      DOWRY DEATHS  ASSAULT ON WOMEN WITH INTENT TO OUTRAGE HER MODESTY  \\\n",
       "8257             1                                                 67     \n",
       "\n",
       "      INSULT TO MODESTY OF WOMEN  CRUELTY BY HUSBAND OR HIS RELATIVES  \\\n",
       "8257                           2                                   26   \n",
       "\n",
       "      IMPORTATION OF GIRLS FROM FOREIGN COUNTRIES  \\\n",
       "8257                                            0   \n",
       "\n",
       "      CAUSING DEATH BY NEGLIGENCE  OTHER IPC CRIMES  TOTAL IPC CRIMES  \n",
       "8257                           94               657              2420  \n",
       "\n",
       "[1 rows x 33 columns]"
      ]
     },
     "execution_count": 15,
     "metadata": {},
     "output_type": "execute_result"
    }
   ],
   "source": [
    "arunachal_crime = crime_type[8257:8258]\n",
    "arunachal_crime"
   ]
  },
  {
   "cell_type": "code",
   "execution_count": 16,
   "id": "1dbe122f",
   "metadata": {},
   "outputs": [
    {
     "data": {
      "text/plain": [
       "8257    2420\n",
       "Name: TOTAL IPC CRIMES, dtype: int64"
      ]
     },
     "execution_count": 16,
     "metadata": {},
     "output_type": "execute_result"
    }
   ],
   "source": [
    "arunachal_crime = arunachal_crime['TOTAL IPC CRIMES']\n",
    "arunachal_crime"
   ]
  },
  {
   "cell_type": "code",
   "execution_count": null,
   "id": "03439484",
   "metadata": {},
   "outputs": [],
   "source": []
  },
  {
   "cell_type": "code",
   "execution_count": null,
   "id": "2a9b0179",
   "metadata": {},
   "outputs": [],
   "source": []
  },
  {
   "cell_type": "code",
   "execution_count": null,
   "id": "298f053e",
   "metadata": {},
   "outputs": [],
   "source": []
  },
  {
   "cell_type": "code",
   "execution_count": 17,
   "id": "934d604a",
   "metadata": {},
   "outputs": [],
   "source": [
    "# crime data for Assam "
   ]
  },
  {
   "cell_type": "code",
   "execution_count": 18,
   "id": "8a014acd",
   "metadata": {},
   "outputs": [
    {
     "data": {
      "text/html": [
       "<div>\n",
       "<style scoped>\n",
       "    .dataframe tbody tr th:only-of-type {\n",
       "        vertical-align: middle;\n",
       "    }\n",
       "\n",
       "    .dataframe tbody tr th {\n",
       "        vertical-align: top;\n",
       "    }\n",
       "\n",
       "    .dataframe thead th {\n",
       "        text-align: right;\n",
       "    }\n",
       "</style>\n",
       "<table border=\"1\" class=\"dataframe\">\n",
       "  <thead>\n",
       "    <tr style=\"text-align: right;\">\n",
       "      <th></th>\n",
       "      <th>STATE/UT</th>\n",
       "      <th>DISTRICT</th>\n",
       "      <th>YEAR</th>\n",
       "      <th>MURDER</th>\n",
       "      <th>ATTEMPT TO MURDER</th>\n",
       "      <th>CULPABLE HOMICIDE NOT AMOUNTING TO MURDER</th>\n",
       "      <th>RAPE</th>\n",
       "      <th>CUSTODIAL RAPE</th>\n",
       "      <th>OTHER RAPE</th>\n",
       "      <th>KIDNAPPING &amp; ABDUCTION</th>\n",
       "      <th>...</th>\n",
       "      <th>ARSON</th>\n",
       "      <th>HURT/GREVIOUS HURT</th>\n",
       "      <th>DOWRY DEATHS</th>\n",
       "      <th>ASSAULT ON WOMEN WITH INTENT TO OUTRAGE HER MODESTY</th>\n",
       "      <th>INSULT TO MODESTY OF WOMEN</th>\n",
       "      <th>CRUELTY BY HUSBAND OR HIS RELATIVES</th>\n",
       "      <th>IMPORTATION OF GIRLS FROM FOREIGN COUNTRIES</th>\n",
       "      <th>CAUSING DEATH BY NEGLIGENCE</th>\n",
       "      <th>OTHER IPC CRIMES</th>\n",
       "      <th>TOTAL IPC CRIMES</th>\n",
       "    </tr>\n",
       "  </thead>\n",
       "  <tbody>\n",
       "    <tr>\n",
       "      <th>8290</th>\n",
       "      <td>ASSAM</td>\n",
       "      <td>TOTAL</td>\n",
       "      <td>2012</td>\n",
       "      <td>1368</td>\n",
       "      <td>670</td>\n",
       "      <td>54</td>\n",
       "      <td>1716</td>\n",
       "      <td>0</td>\n",
       "      <td>1716</td>\n",
       "      <td>3812</td>\n",
       "      <td>...</td>\n",
       "      <td>2830</td>\n",
       "      <td>6676</td>\n",
       "      <td>140</td>\n",
       "      <td>1840</td>\n",
       "      <td>5</td>\n",
       "      <td>6407</td>\n",
       "      <td>2</td>\n",
       "      <td>2565</td>\n",
       "      <td>27077</td>\n",
       "      <td>77682</td>\n",
       "    </tr>\n",
       "  </tbody>\n",
       "</table>\n",
       "<p>1 rows × 33 columns</p>\n",
       "</div>"
      ],
      "text/plain": [
       "     STATE/UT DISTRICT  YEAR  MURDER  ATTEMPT TO MURDER  \\\n",
       "8290    ASSAM    TOTAL  2012    1368                670   \n",
       "\n",
       "      CULPABLE HOMICIDE NOT AMOUNTING TO MURDER  RAPE  CUSTODIAL RAPE  \\\n",
       "8290                                         54  1716               0   \n",
       "\n",
       "      OTHER RAPE  KIDNAPPING & ABDUCTION  ...  ARSON  HURT/GREVIOUS HURT  \\\n",
       "8290        1716                    3812  ...   2830                6676   \n",
       "\n",
       "      DOWRY DEATHS  ASSAULT ON WOMEN WITH INTENT TO OUTRAGE HER MODESTY  \\\n",
       "8290           140                                               1840     \n",
       "\n",
       "      INSULT TO MODESTY OF WOMEN  CRUELTY BY HUSBAND OR HIS RELATIVES  \\\n",
       "8290                           5                                 6407   \n",
       "\n",
       "      IMPORTATION OF GIRLS FROM FOREIGN COUNTRIES  \\\n",
       "8290                                            2   \n",
       "\n",
       "      CAUSING DEATH BY NEGLIGENCE  OTHER IPC CRIMES  TOTAL IPC CRIMES  \n",
       "8290                         2565             27077             77682  \n",
       "\n",
       "[1 rows x 33 columns]"
      ]
     },
     "execution_count": 18,
     "metadata": {},
     "output_type": "execute_result"
    }
   ],
   "source": [
    "assam_crime = crime_type[8290:8291]\n",
    "assam_crime"
   ]
  },
  {
   "cell_type": "code",
   "execution_count": 19,
   "id": "56df7a95",
   "metadata": {},
   "outputs": [
    {
     "data": {
      "text/plain": [
       "8290    77682\n",
       "Name: TOTAL IPC CRIMES, dtype: int64"
      ]
     },
     "execution_count": 19,
     "metadata": {},
     "output_type": "execute_result"
    }
   ],
   "source": [
    "assam_crime = assam_crime['TOTAL IPC CRIMES']\n",
    "assam_crime"
   ]
  },
  {
   "cell_type": "code",
   "execution_count": null,
   "id": "c9193f74",
   "metadata": {},
   "outputs": [],
   "source": []
  },
  {
   "cell_type": "code",
   "execution_count": 20,
   "id": "3e163b15",
   "metadata": {},
   "outputs": [],
   "source": [
    "# population data for Assam"
   ]
  },
  {
   "cell_type": "code",
   "execution_count": 21,
   "id": "d9344ee8",
   "metadata": {},
   "outputs": [
    {
     "data": {
      "text/html": [
       "<div>\n",
       "<style scoped>\n",
       "    .dataframe tbody tr th:only-of-type {\n",
       "        vertical-align: middle;\n",
       "    }\n",
       "\n",
       "    .dataframe tbody tr th {\n",
       "        vertical-align: top;\n",
       "    }\n",
       "\n",
       "    .dataframe thead th {\n",
       "        text-align: right;\n",
       "    }\n",
       "</style>\n",
       "<table border=\"1\" class=\"dataframe\">\n",
       "  <thead>\n",
       "    <tr style=\"text-align: right;\">\n",
       "      <th></th>\n",
       "      <th>S.No</th>\n",
       "      <th>State</th>\n",
       "      <th>total_population</th>\n",
       "      <th>population_male</th>\n",
       "      <th>population_female</th>\n",
       "    </tr>\n",
       "  </thead>\n",
       "  <tbody>\n",
       "    <tr>\n",
       "      <th>18</th>\n",
       "      <td>19</td>\n",
       "      <td>ASSAM</td>\n",
       "      <td>1391154</td>\n",
       "      <td>720132</td>\n",
       "      <td>671022</td>\n",
       "    </tr>\n",
       "  </tbody>\n",
       "</table>\n",
       "</div>"
      ],
      "text/plain": [
       "    S.No  State  total_population  population_male  population_female\n",
       "18    19  ASSAM           1391154           720132             671022"
      ]
     },
     "execution_count": 21,
     "metadata": {},
     "output_type": "execute_result"
    }
   ],
   "source": [
    "assam_popu = state_popu[18:19]\n",
    "assam_popu"
   ]
  },
  {
   "cell_type": "code",
   "execution_count": 22,
   "id": "1777ebbe",
   "metadata": {},
   "outputs": [
    {
     "data": {
      "text/plain": [
       "18    1391154\n",
       "Name: total_population, dtype: int64"
      ]
     },
     "execution_count": 22,
     "metadata": {},
     "output_type": "execute_result"
    }
   ],
   "source": [
    "assam_popu = assam_popu['total_population']\n",
    "assam_popu"
   ]
  },
  {
   "cell_type": "code",
   "execution_count": null,
   "id": "a7f2412c",
   "metadata": {},
   "outputs": [],
   "source": []
  },
  {
   "cell_type": "code",
   "execution_count": null,
   "id": "3590510d",
   "metadata": {},
   "outputs": [],
   "source": []
  },
  {
   "cell_type": "code",
   "execution_count": 23,
   "id": "ba63854b",
   "metadata": {},
   "outputs": [],
   "source": [
    "# crime data for Bihar"
   ]
  },
  {
   "cell_type": "code",
   "execution_count": 24,
   "id": "0d56706f",
   "metadata": {},
   "outputs": [
    {
     "data": {
      "text/html": [
       "<div>\n",
       "<style scoped>\n",
       "    .dataframe tbody tr th:only-of-type {\n",
       "        vertical-align: middle;\n",
       "    }\n",
       "\n",
       "    .dataframe tbody tr th {\n",
       "        vertical-align: top;\n",
       "    }\n",
       "\n",
       "    .dataframe thead th {\n",
       "        text-align: right;\n",
       "    }\n",
       "</style>\n",
       "<table border=\"1\" class=\"dataframe\">\n",
       "  <thead>\n",
       "    <tr style=\"text-align: right;\">\n",
       "      <th></th>\n",
       "      <th>STATE/UT</th>\n",
       "      <th>DISTRICT</th>\n",
       "      <th>YEAR</th>\n",
       "      <th>MURDER</th>\n",
       "      <th>ATTEMPT TO MURDER</th>\n",
       "      <th>CULPABLE HOMICIDE NOT AMOUNTING TO MURDER</th>\n",
       "      <th>RAPE</th>\n",
       "      <th>CUSTODIAL RAPE</th>\n",
       "      <th>OTHER RAPE</th>\n",
       "      <th>KIDNAPPING &amp; ABDUCTION</th>\n",
       "      <th>...</th>\n",
       "      <th>ARSON</th>\n",
       "      <th>HURT/GREVIOUS HURT</th>\n",
       "      <th>DOWRY DEATHS</th>\n",
       "      <th>ASSAULT ON WOMEN WITH INTENT TO OUTRAGE HER MODESTY</th>\n",
       "      <th>INSULT TO MODESTY OF WOMEN</th>\n",
       "      <th>CRUELTY BY HUSBAND OR HIS RELATIVES</th>\n",
       "      <th>IMPORTATION OF GIRLS FROM FOREIGN COUNTRIES</th>\n",
       "      <th>CAUSING DEATH BY NEGLIGENCE</th>\n",
       "      <th>OTHER IPC CRIMES</th>\n",
       "      <th>TOTAL IPC CRIMES</th>\n",
       "    </tr>\n",
       "  </thead>\n",
       "  <tbody>\n",
       "    <tr>\n",
       "      <th>8335</th>\n",
       "      <td>BIHAR</td>\n",
       "      <td>TOTAL</td>\n",
       "      <td>2012</td>\n",
       "      <td>3566</td>\n",
       "      <td>5452</td>\n",
       "      <td>285</td>\n",
       "      <td>927</td>\n",
       "      <td>0</td>\n",
       "      <td>927</td>\n",
       "      <td>4807</td>\n",
       "      <td>...</td>\n",
       "      <td>799</td>\n",
       "      <td>45827</td>\n",
       "      <td>1275</td>\n",
       "      <td>118</td>\n",
       "      <td>37</td>\n",
       "      <td>3686</td>\n",
       "      <td>4</td>\n",
       "      <td>4631</td>\n",
       "      <td>35421</td>\n",
       "      <td>146614</td>\n",
       "    </tr>\n",
       "  </tbody>\n",
       "</table>\n",
       "<p>1 rows × 33 columns</p>\n",
       "</div>"
      ],
      "text/plain": [
       "     STATE/UT DISTRICT  YEAR  MURDER  ATTEMPT TO MURDER  \\\n",
       "8335    BIHAR    TOTAL  2012    3566               5452   \n",
       "\n",
       "      CULPABLE HOMICIDE NOT AMOUNTING TO MURDER  RAPE  CUSTODIAL RAPE  \\\n",
       "8335                                        285   927               0   \n",
       "\n",
       "      OTHER RAPE  KIDNAPPING & ABDUCTION  ...  ARSON  HURT/GREVIOUS HURT  \\\n",
       "8335         927                    4807  ...    799               45827   \n",
       "\n",
       "      DOWRY DEATHS  ASSAULT ON WOMEN WITH INTENT TO OUTRAGE HER MODESTY  \\\n",
       "8335          1275                                                118     \n",
       "\n",
       "      INSULT TO MODESTY OF WOMEN  CRUELTY BY HUSBAND OR HIS RELATIVES  \\\n",
       "8335                          37                                 3686   \n",
       "\n",
       "      IMPORTATION OF GIRLS FROM FOREIGN COUNTRIES  \\\n",
       "8335                                            4   \n",
       "\n",
       "      CAUSING DEATH BY NEGLIGENCE  OTHER IPC CRIMES  TOTAL IPC CRIMES  \n",
       "8335                         4631             35421            146614  \n",
       "\n",
       "[1 rows x 33 columns]"
      ]
     },
     "execution_count": 24,
     "metadata": {},
     "output_type": "execute_result"
    }
   ],
   "source": [
    "bihar_crime = crime_type[8335:8336]\n",
    "bihar_crime"
   ]
  },
  {
   "cell_type": "code",
   "execution_count": 25,
   "id": "7648fc05",
   "metadata": {},
   "outputs": [
    {
     "data": {
      "text/plain": [
       "8335    146614\n",
       "Name: TOTAL IPC CRIMES, dtype: int64"
      ]
     },
     "execution_count": 25,
     "metadata": {},
     "output_type": "execute_result"
    }
   ],
   "source": [
    "bihar_crime = bihar_crime['TOTAL IPC CRIMES']\n",
    "bihar_crime"
   ]
  },
  {
   "cell_type": "code",
   "execution_count": null,
   "id": "9fe12270",
   "metadata": {},
   "outputs": [],
   "source": []
  },
  {
   "cell_type": "code",
   "execution_count": 26,
   "id": "ec54a7e5",
   "metadata": {},
   "outputs": [],
   "source": [
    "# population data for Bihar"
   ]
  },
  {
   "cell_type": "code",
   "execution_count": 27,
   "id": "c1c9f08f",
   "metadata": {},
   "outputs": [
    {
     "data": {
      "text/html": [
       "<div>\n",
       "<style scoped>\n",
       "    .dataframe tbody tr th:only-of-type {\n",
       "        vertical-align: middle;\n",
       "    }\n",
       "\n",
       "    .dataframe tbody tr th {\n",
       "        vertical-align: top;\n",
       "    }\n",
       "\n",
       "    .dataframe thead th {\n",
       "        text-align: right;\n",
       "    }\n",
       "</style>\n",
       "<table border=\"1\" class=\"dataframe\">\n",
       "  <thead>\n",
       "    <tr style=\"text-align: right;\">\n",
       "      <th></th>\n",
       "      <th>S.No</th>\n",
       "      <th>State</th>\n",
       "      <th>total_population</th>\n",
       "      <th>population_male</th>\n",
       "      <th>population_female</th>\n",
       "    </tr>\n",
       "  </thead>\n",
       "  <tbody>\n",
       "    <tr>\n",
       "      <th>10</th>\n",
       "      <td>11</td>\n",
       "      <td>BIHAR</td>\n",
       "      <td>6714516</td>\n",
       "      <td>3558722</td>\n",
       "      <td>3155794</td>\n",
       "    </tr>\n",
       "  </tbody>\n",
       "</table>\n",
       "</div>"
      ],
      "text/plain": [
       "    S.No  State  total_population  population_male  population_female\n",
       "10    11  BIHAR           6714516          3558722            3155794"
      ]
     },
     "execution_count": 27,
     "metadata": {},
     "output_type": "execute_result"
    }
   ],
   "source": [
    "bihar_popu = state_popu[10:11]\n",
    "bihar_popu"
   ]
  },
  {
   "cell_type": "code",
   "execution_count": 28,
   "id": "1af726a0",
   "metadata": {},
   "outputs": [
    {
     "data": {
      "text/plain": [
       "10    6714516\n",
       "Name: total_population, dtype: int64"
      ]
     },
     "execution_count": 28,
     "metadata": {},
     "output_type": "execute_result"
    }
   ],
   "source": [
    "bihar_popu = bihar_popu['total_population']\n",
    "bihar_popu"
   ]
  },
  {
   "cell_type": "code",
   "execution_count": null,
   "id": "89e629f4",
   "metadata": {},
   "outputs": [],
   "source": []
  },
  {
   "cell_type": "code",
   "execution_count": null,
   "id": "7fc6791d",
   "metadata": {},
   "outputs": [],
   "source": []
  },
  {
   "cell_type": "code",
   "execution_count": 29,
   "id": "b7aa9b17",
   "metadata": {},
   "outputs": [],
   "source": [
    "# crime data for Chattisgarh"
   ]
  },
  {
   "cell_type": "code",
   "execution_count": 30,
   "id": "483594c5",
   "metadata": {},
   "outputs": [
    {
     "data": {
      "text/html": [
       "<div>\n",
       "<style scoped>\n",
       "    .dataframe tbody tr th:only-of-type {\n",
       "        vertical-align: middle;\n",
       "    }\n",
       "\n",
       "    .dataframe tbody tr th {\n",
       "        vertical-align: top;\n",
       "    }\n",
       "\n",
       "    .dataframe thead th {\n",
       "        text-align: right;\n",
       "    }\n",
       "</style>\n",
       "<table border=\"1\" class=\"dataframe\">\n",
       "  <thead>\n",
       "    <tr style=\"text-align: right;\">\n",
       "      <th></th>\n",
       "      <th>STATE/UT</th>\n",
       "      <th>DISTRICT</th>\n",
       "      <th>YEAR</th>\n",
       "      <th>MURDER</th>\n",
       "      <th>ATTEMPT TO MURDER</th>\n",
       "      <th>CULPABLE HOMICIDE NOT AMOUNTING TO MURDER</th>\n",
       "      <th>RAPE</th>\n",
       "      <th>CUSTODIAL RAPE</th>\n",
       "      <th>OTHER RAPE</th>\n",
       "      <th>KIDNAPPING &amp; ABDUCTION</th>\n",
       "      <th>...</th>\n",
       "      <th>ARSON</th>\n",
       "      <th>HURT/GREVIOUS HURT</th>\n",
       "      <th>DOWRY DEATHS</th>\n",
       "      <th>ASSAULT ON WOMEN WITH INTENT TO OUTRAGE HER MODESTY</th>\n",
       "      <th>INSULT TO MODESTY OF WOMEN</th>\n",
       "      <th>CRUELTY BY HUSBAND OR HIS RELATIVES</th>\n",
       "      <th>IMPORTATION OF GIRLS FROM FOREIGN COUNTRIES</th>\n",
       "      <th>CAUSING DEATH BY NEGLIGENCE</th>\n",
       "      <th>OTHER IPC CRIMES</th>\n",
       "      <th>TOTAL IPC CRIMES</th>\n",
       "    </tr>\n",
       "  </thead>\n",
       "  <tbody>\n",
       "    <tr>\n",
       "      <th>8364</th>\n",
       "      <td>CHHATTISGARH</td>\n",
       "      <td>TOTAL</td>\n",
       "      <td>2012</td>\n",
       "      <td>998</td>\n",
       "      <td>593</td>\n",
       "      <td>26</td>\n",
       "      <td>1034</td>\n",
       "      <td>0</td>\n",
       "      <td>1034</td>\n",
       "      <td>450</td>\n",
       "      <td>...</td>\n",
       "      <td>330</td>\n",
       "      <td>10855</td>\n",
       "      <td>81</td>\n",
       "      <td>1601</td>\n",
       "      <td>162</td>\n",
       "      <td>980</td>\n",
       "      <td>0</td>\n",
       "      <td>2888</td>\n",
       "      <td>23387</td>\n",
       "      <td>54598</td>\n",
       "    </tr>\n",
       "  </tbody>\n",
       "</table>\n",
       "<p>1 rows × 33 columns</p>\n",
       "</div>"
      ],
      "text/plain": [
       "          STATE/UT DISTRICT  YEAR  MURDER  ATTEMPT TO MURDER  \\\n",
       "8364  CHHATTISGARH    TOTAL  2012     998                593   \n",
       "\n",
       "      CULPABLE HOMICIDE NOT AMOUNTING TO MURDER  RAPE  CUSTODIAL RAPE  \\\n",
       "8364                                         26  1034               0   \n",
       "\n",
       "      OTHER RAPE  KIDNAPPING & ABDUCTION  ...  ARSON  HURT/GREVIOUS HURT  \\\n",
       "8364        1034                     450  ...    330               10855   \n",
       "\n",
       "      DOWRY DEATHS  ASSAULT ON WOMEN WITH INTENT TO OUTRAGE HER MODESTY  \\\n",
       "8364            81                                               1601     \n",
       "\n",
       "      INSULT TO MODESTY OF WOMEN  CRUELTY BY HUSBAND OR HIS RELATIVES  \\\n",
       "8364                         162                                  980   \n",
       "\n",
       "      IMPORTATION OF GIRLS FROM FOREIGN COUNTRIES  \\\n",
       "8364                                            0   \n",
       "\n",
       "      CAUSING DEATH BY NEGLIGENCE  OTHER IPC CRIMES  TOTAL IPC CRIMES  \n",
       "8364                         2888             23387             54598  \n",
       "\n",
       "[1 rows x 33 columns]"
      ]
     },
     "execution_count": 30,
     "metadata": {},
     "output_type": "execute_result"
    }
   ],
   "source": [
    "chattisgarh_crime = crime_type[8364:8365]\n",
    "chattisgarh_crime"
   ]
  },
  {
   "cell_type": "code",
   "execution_count": 31,
   "id": "d099f0b7",
   "metadata": {},
   "outputs": [
    {
     "data": {
      "text/plain": [
       "8364    54598\n",
       "Name: TOTAL IPC CRIMES, dtype: int64"
      ]
     },
     "execution_count": 31,
     "metadata": {},
     "output_type": "execute_result"
    }
   ],
   "source": [
    "chattisgarh_crime = chattisgarh_crime['TOTAL IPC CRIMES']\n",
    "chattisgarh_crime"
   ]
  },
  {
   "cell_type": "code",
   "execution_count": null,
   "id": "26ac4f26",
   "metadata": {},
   "outputs": [],
   "source": []
  },
  {
   "cell_type": "code",
   "execution_count": 32,
   "id": "c6a472b4",
   "metadata": {},
   "outputs": [],
   "source": [
    "# population data for Chattisgarh "
   ]
  },
  {
   "cell_type": "code",
   "execution_count": 33,
   "id": "5b7e85ef",
   "metadata": {},
   "outputs": [
    {
     "data": {
      "text/html": [
       "<div>\n",
       "<style scoped>\n",
       "    .dataframe tbody tr th:only-of-type {\n",
       "        vertical-align: middle;\n",
       "    }\n",
       "\n",
       "    .dataframe tbody tr th {\n",
       "        vertical-align: top;\n",
       "    }\n",
       "\n",
       "    .dataframe thead th {\n",
       "        text-align: right;\n",
       "    }\n",
       "</style>\n",
       "<table border=\"1\" class=\"dataframe\">\n",
       "  <thead>\n",
       "    <tr style=\"text-align: right;\">\n",
       "      <th></th>\n",
       "      <th>S.No</th>\n",
       "      <th>State</th>\n",
       "      <th>total_population</th>\n",
       "      <th>population_male</th>\n",
       "      <th>population_female</th>\n",
       "    </tr>\n",
       "  </thead>\n",
       "  <tbody>\n",
       "    <tr>\n",
       "      <th>14</th>\n",
       "      <td>15</td>\n",
       "      <td>CHHATTISGARH</td>\n",
       "      <td>3137918</td>\n",
       "      <td>1612019</td>\n",
       "      <td>1525899</td>\n",
       "    </tr>\n",
       "  </tbody>\n",
       "</table>\n",
       "</div>"
      ],
      "text/plain": [
       "    S.No         State  total_population  population_male  population_female\n",
       "14    15  CHHATTISGARH           3137918          1612019            1525899"
      ]
     },
     "execution_count": 33,
     "metadata": {},
     "output_type": "execute_result"
    }
   ],
   "source": [
    "chattisgarh_popu = state_popu[14:15]\n",
    "chattisgarh_popu"
   ]
  },
  {
   "cell_type": "code",
   "execution_count": 34,
   "id": "2d566837",
   "metadata": {},
   "outputs": [
    {
     "data": {
      "text/plain": [
       "14    3137918\n",
       "Name: total_population, dtype: int64"
      ]
     },
     "execution_count": 34,
     "metadata": {},
     "output_type": "execute_result"
    }
   ],
   "source": [
    "chattisgarh_popu = chattisgarh_popu['total_population']\n",
    "chattisgarh_popu"
   ]
  },
  {
   "cell_type": "code",
   "execution_count": null,
   "id": "bd9a4c55",
   "metadata": {},
   "outputs": [],
   "source": []
  },
  {
   "cell_type": "code",
   "execution_count": null,
   "id": "1bf96455",
   "metadata": {},
   "outputs": [],
   "source": []
  },
  {
   "cell_type": "code",
   "execution_count": null,
   "id": "f8fcc8ca",
   "metadata": {},
   "outputs": [],
   "source": []
  },
  {
   "cell_type": "code",
   "execution_count": 35,
   "id": "2a3ad6b8",
   "metadata": {},
   "outputs": [],
   "source": [
    "# crime data for Goa"
   ]
  },
  {
   "cell_type": "code",
   "execution_count": 36,
   "id": "4e6a3119",
   "metadata": {},
   "outputs": [
    {
     "data": {
      "text/html": [
       "<div>\n",
       "<style scoped>\n",
       "    .dataframe tbody tr th:only-of-type {\n",
       "        vertical-align: middle;\n",
       "    }\n",
       "\n",
       "    .dataframe tbody tr th {\n",
       "        vertical-align: top;\n",
       "    }\n",
       "\n",
       "    .dataframe thead th {\n",
       "        text-align: right;\n",
       "    }\n",
       "</style>\n",
       "<table border=\"1\" class=\"dataframe\">\n",
       "  <thead>\n",
       "    <tr style=\"text-align: right;\">\n",
       "      <th></th>\n",
       "      <th>STATE/UT</th>\n",
       "      <th>DISTRICT</th>\n",
       "      <th>YEAR</th>\n",
       "      <th>MURDER</th>\n",
       "      <th>ATTEMPT TO MURDER</th>\n",
       "      <th>CULPABLE HOMICIDE NOT AMOUNTING TO MURDER</th>\n",
       "      <th>RAPE</th>\n",
       "      <th>CUSTODIAL RAPE</th>\n",
       "      <th>OTHER RAPE</th>\n",
       "      <th>KIDNAPPING &amp; ABDUCTION</th>\n",
       "      <th>...</th>\n",
       "      <th>ARSON</th>\n",
       "      <th>HURT/GREVIOUS HURT</th>\n",
       "      <th>DOWRY DEATHS</th>\n",
       "      <th>ASSAULT ON WOMEN WITH INTENT TO OUTRAGE HER MODESTY</th>\n",
       "      <th>INSULT TO MODESTY OF WOMEN</th>\n",
       "      <th>CRUELTY BY HUSBAND OR HIS RELATIVES</th>\n",
       "      <th>IMPORTATION OF GIRLS FROM FOREIGN COUNTRIES</th>\n",
       "      <th>CAUSING DEATH BY NEGLIGENCE</th>\n",
       "      <th>OTHER IPC CRIMES</th>\n",
       "      <th>TOTAL IPC CRIMES</th>\n",
       "    </tr>\n",
       "  </thead>\n",
       "  <tbody>\n",
       "    <tr>\n",
       "      <th>8367</th>\n",
       "      <td>GOA</td>\n",
       "      <td>TOTAL</td>\n",
       "      <td>2012</td>\n",
       "      <td>45</td>\n",
       "      <td>35</td>\n",
       "      <td>3</td>\n",
       "      <td>55</td>\n",
       "      <td>0</td>\n",
       "      <td>55</td>\n",
       "      <td>24</td>\n",
       "      <td>...</td>\n",
       "      <td>34</td>\n",
       "      <td>266</td>\n",
       "      <td>0</td>\n",
       "      <td>49</td>\n",
       "      <td>16</td>\n",
       "      <td>24</td>\n",
       "      <td>0</td>\n",
       "      <td>233</td>\n",
       "      <td>1115</td>\n",
       "      <td>3608</td>\n",
       "    </tr>\n",
       "  </tbody>\n",
       "</table>\n",
       "<p>1 rows × 33 columns</p>\n",
       "</div>"
      ],
      "text/plain": [
       "     STATE/UT DISTRICT  YEAR  MURDER  ATTEMPT TO MURDER  \\\n",
       "8367      GOA    TOTAL  2012      45                 35   \n",
       "\n",
       "      CULPABLE HOMICIDE NOT AMOUNTING TO MURDER  RAPE  CUSTODIAL RAPE  \\\n",
       "8367                                          3    55               0   \n",
       "\n",
       "      OTHER RAPE  KIDNAPPING & ABDUCTION  ...  ARSON  HURT/GREVIOUS HURT  \\\n",
       "8367          55                      24  ...     34                 266   \n",
       "\n",
       "      DOWRY DEATHS  ASSAULT ON WOMEN WITH INTENT TO OUTRAGE HER MODESTY  \\\n",
       "8367             0                                                 49     \n",
       "\n",
       "      INSULT TO MODESTY OF WOMEN  CRUELTY BY HUSBAND OR HIS RELATIVES  \\\n",
       "8367                          16                                   24   \n",
       "\n",
       "      IMPORTATION OF GIRLS FROM FOREIGN COUNTRIES  \\\n",
       "8367                                            0   \n",
       "\n",
       "      CAUSING DEATH BY NEGLIGENCE  OTHER IPC CRIMES  TOTAL IPC CRIMES  \n",
       "8367                          233              1115              3608  \n",
       "\n",
       "[1 rows x 33 columns]"
      ]
     },
     "execution_count": 36,
     "metadata": {},
     "output_type": "execute_result"
    }
   ],
   "source": [
    "goa_crime = crime_type[8367:8368]\n",
    "goa_crime"
   ]
  },
  {
   "cell_type": "code",
   "execution_count": 37,
   "id": "31feab9f",
   "metadata": {},
   "outputs": [
    {
     "data": {
      "text/plain": [
       "8367    3608\n",
       "Name: TOTAL IPC CRIMES, dtype: int64"
      ]
     },
     "execution_count": 37,
     "metadata": {},
     "output_type": "execute_result"
    }
   ],
   "source": [
    "goa_crime = goa_crime['TOTAL IPC CRIMES']\n",
    "goa_crime"
   ]
  },
  {
   "cell_type": "code",
   "execution_count": null,
   "id": "54578265",
   "metadata": {},
   "outputs": [],
   "source": []
  },
  {
   "cell_type": "code",
   "execution_count": 38,
   "id": "886daa7c",
   "metadata": {},
   "outputs": [],
   "source": [
    "# population data for Goa"
   ]
  },
  {
   "cell_type": "code",
   "execution_count": 39,
   "id": "fcc0af97",
   "metadata": {},
   "outputs": [
    {
     "data": {
      "text/html": [
       "<div>\n",
       "<style scoped>\n",
       "    .dataframe tbody tr th:only-of-type {\n",
       "        vertical-align: middle;\n",
       "    }\n",
       "\n",
       "    .dataframe tbody tr th {\n",
       "        vertical-align: top;\n",
       "    }\n",
       "\n",
       "    .dataframe thead th {\n",
       "        text-align: right;\n",
       "    }\n",
       "</style>\n",
       "<table border=\"1\" class=\"dataframe\">\n",
       "  <thead>\n",
       "    <tr style=\"text-align: right;\">\n",
       "      <th></th>\n",
       "      <th>S.No</th>\n",
       "      <th>State</th>\n",
       "      <th>total_population</th>\n",
       "      <th>population_male</th>\n",
       "      <th>population_female</th>\n",
       "    </tr>\n",
       "  </thead>\n",
       "  <tbody>\n",
       "    <tr>\n",
       "      <th>32</th>\n",
       "      <td>33</td>\n",
       "      <td>GOA</td>\n",
       "      <td>1458545</td>\n",
       "      <td>739140</td>\n",
       "      <td>719405</td>\n",
       "    </tr>\n",
       "  </tbody>\n",
       "</table>\n",
       "</div>"
      ],
      "text/plain": [
       "    S.No State  total_population  population_male  population_female\n",
       "32    33   GOA           1458545           739140             719405"
      ]
     },
     "execution_count": 39,
     "metadata": {},
     "output_type": "execute_result"
    }
   ],
   "source": [
    "goa_popu = state_popu[32:33]\n",
    "goa_popu"
   ]
  },
  {
   "cell_type": "code",
   "execution_count": 40,
   "id": "1c2c405c",
   "metadata": {},
   "outputs": [
    {
     "data": {
      "text/plain": [
       "32    1458545\n",
       "Name: total_population, dtype: int64"
      ]
     },
     "execution_count": 40,
     "metadata": {},
     "output_type": "execute_result"
    }
   ],
   "source": [
    "goa_popu = goa_popu['total_population']\n",
    "goa_popu"
   ]
  },
  {
   "cell_type": "code",
   "execution_count": null,
   "id": "8c7e6de4",
   "metadata": {},
   "outputs": [],
   "source": []
  },
  {
   "cell_type": "code",
   "execution_count": null,
   "id": "f8bd633e",
   "metadata": {},
   "outputs": [],
   "source": []
  },
  {
   "cell_type": "code",
   "execution_count": 41,
   "id": "405f14af",
   "metadata": {},
   "outputs": [],
   "source": [
    "# crime data for Gujarat"
   ]
  },
  {
   "cell_type": "code",
   "execution_count": 42,
   "id": "ecba1d91",
   "metadata": {},
   "outputs": [
    {
     "data": {
      "text/html": [
       "<div>\n",
       "<style scoped>\n",
       "    .dataframe tbody tr th:only-of-type {\n",
       "        vertical-align: middle;\n",
       "    }\n",
       "\n",
       "    .dataframe tbody tr th {\n",
       "        vertical-align: top;\n",
       "    }\n",
       "\n",
       "    .dataframe thead th {\n",
       "        text-align: right;\n",
       "    }\n",
       "</style>\n",
       "<table border=\"1\" class=\"dataframe\">\n",
       "  <thead>\n",
       "    <tr style=\"text-align: right;\">\n",
       "      <th></th>\n",
       "      <th>STATE/UT</th>\n",
       "      <th>DISTRICT</th>\n",
       "      <th>YEAR</th>\n",
       "      <th>MURDER</th>\n",
       "      <th>ATTEMPT TO MURDER</th>\n",
       "      <th>CULPABLE HOMICIDE NOT AMOUNTING TO MURDER</th>\n",
       "      <th>RAPE</th>\n",
       "      <th>CUSTODIAL RAPE</th>\n",
       "      <th>OTHER RAPE</th>\n",
       "      <th>KIDNAPPING &amp; ABDUCTION</th>\n",
       "      <th>...</th>\n",
       "      <th>ARSON</th>\n",
       "      <th>HURT/GREVIOUS HURT</th>\n",
       "      <th>DOWRY DEATHS</th>\n",
       "      <th>ASSAULT ON WOMEN WITH INTENT TO OUTRAGE HER MODESTY</th>\n",
       "      <th>INSULT TO MODESTY OF WOMEN</th>\n",
       "      <th>CRUELTY BY HUSBAND OR HIS RELATIVES</th>\n",
       "      <th>IMPORTATION OF GIRLS FROM FOREIGN COUNTRIES</th>\n",
       "      <th>CAUSING DEATH BY NEGLIGENCE</th>\n",
       "      <th>OTHER IPC CRIMES</th>\n",
       "      <th>TOTAL IPC CRIMES</th>\n",
       "    </tr>\n",
       "  </thead>\n",
       "  <tbody>\n",
       "    <tr>\n",
       "      <th>8402</th>\n",
       "      <td>GUJARAT</td>\n",
       "      <td>TOTAL</td>\n",
       "      <td>2012</td>\n",
       "      <td>1126</td>\n",
       "      <td>557</td>\n",
       "      <td>43</td>\n",
       "      <td>473</td>\n",
       "      <td>0</td>\n",
       "      <td>473</td>\n",
       "      <td>1720</td>\n",
       "      <td>...</td>\n",
       "      <td>282</td>\n",
       "      <td>10234</td>\n",
       "      <td>21</td>\n",
       "      <td>745</td>\n",
       "      <td>93</td>\n",
       "      <td>6658</td>\n",
       "      <td>0</td>\n",
       "      <td>5573</td>\n",
       "      <td>75702</td>\n",
       "      <td>130121</td>\n",
       "    </tr>\n",
       "  </tbody>\n",
       "</table>\n",
       "<p>1 rows × 33 columns</p>\n",
       "</div>"
      ],
      "text/plain": [
       "     STATE/UT DISTRICT  YEAR  MURDER  ATTEMPT TO MURDER  \\\n",
       "8402  GUJARAT    TOTAL  2012    1126                557   \n",
       "\n",
       "      CULPABLE HOMICIDE NOT AMOUNTING TO MURDER  RAPE  CUSTODIAL RAPE  \\\n",
       "8402                                         43   473               0   \n",
       "\n",
       "      OTHER RAPE  KIDNAPPING & ABDUCTION  ...  ARSON  HURT/GREVIOUS HURT  \\\n",
       "8402         473                    1720  ...    282               10234   \n",
       "\n",
       "      DOWRY DEATHS  ASSAULT ON WOMEN WITH INTENT TO OUTRAGE HER MODESTY  \\\n",
       "8402            21                                                745     \n",
       "\n",
       "      INSULT TO MODESTY OF WOMEN  CRUELTY BY HUSBAND OR HIS RELATIVES  \\\n",
       "8402                          93                                 6658   \n",
       "\n",
       "      IMPORTATION OF GIRLS FROM FOREIGN COUNTRIES  \\\n",
       "8402                                            0   \n",
       "\n",
       "      CAUSING DEATH BY NEGLIGENCE  OTHER IPC CRIMES  TOTAL IPC CRIMES  \n",
       "8402                         5573             75702            130121  \n",
       "\n",
       "[1 rows x 33 columns]"
      ]
     },
     "execution_count": 42,
     "metadata": {},
     "output_type": "execute_result"
    }
   ],
   "source": [
    "gujarat_crime = crime_type[8402:8403]\n",
    "gujarat_crime"
   ]
  },
  {
   "cell_type": "code",
   "execution_count": 43,
   "id": "176301b6",
   "metadata": {},
   "outputs": [
    {
     "data": {
      "text/plain": [
       "8402    130121\n",
       "Name: TOTAL IPC CRIMES, dtype: int64"
      ]
     },
     "execution_count": 43,
     "metadata": {},
     "output_type": "execute_result"
    }
   ],
   "source": [
    "gujarat_crime = gujarat_crime['TOTAL IPC CRIMES']\n",
    "gujarat_crime"
   ]
  },
  {
   "cell_type": "code",
   "execution_count": null,
   "id": "b90b2807",
   "metadata": {},
   "outputs": [],
   "source": []
  },
  {
   "cell_type": "code",
   "execution_count": 44,
   "id": "80488f72",
   "metadata": {},
   "outputs": [],
   "source": [
    "# population for Gujarat"
   ]
  },
  {
   "cell_type": "code",
   "execution_count": 45,
   "id": "d51bbf97",
   "metadata": {},
   "outputs": [
    {
     "data": {
      "text/html": [
       "<div>\n",
       "<style scoped>\n",
       "    .dataframe tbody tr th:only-of-type {\n",
       "        vertical-align: middle;\n",
       "    }\n",
       "\n",
       "    .dataframe tbody tr th {\n",
       "        vertical-align: top;\n",
       "    }\n",
       "\n",
       "    .dataframe thead th {\n",
       "        text-align: right;\n",
       "    }\n",
       "</style>\n",
       "<table border=\"1\" class=\"dataframe\">\n",
       "  <thead>\n",
       "    <tr style=\"text-align: right;\">\n",
       "      <th></th>\n",
       "      <th>S.No</th>\n",
       "      <th>State</th>\n",
       "      <th>total_population</th>\n",
       "      <th>population_male</th>\n",
       "      <th>population_female</th>\n",
       "    </tr>\n",
       "  </thead>\n",
       "  <tbody>\n",
       "    <tr>\n",
       "      <th>4</th>\n",
       "      <td>5</td>\n",
       "      <td>GUJARAT</td>\n",
       "      <td>17835049</td>\n",
       "      <td>9541688</td>\n",
       "      <td>8293361</td>\n",
       "    </tr>\n",
       "  </tbody>\n",
       "</table>\n",
       "</div>"
      ],
      "text/plain": [
       "   S.No    State  total_population  population_male  population_female\n",
       "4     5  GUJARAT          17835049          9541688            8293361"
      ]
     },
     "execution_count": 45,
     "metadata": {},
     "output_type": "execute_result"
    }
   ],
   "source": [
    "gujarat_popu = state_popu[4:5]\n",
    "gujarat_popu"
   ]
  },
  {
   "cell_type": "code",
   "execution_count": 46,
   "id": "85cbc00e",
   "metadata": {},
   "outputs": [
    {
     "data": {
      "text/plain": [
       "4    17835049\n",
       "Name: total_population, dtype: int64"
      ]
     },
     "execution_count": 46,
     "metadata": {},
     "output_type": "execute_result"
    }
   ],
   "source": [
    "gujarat_popu = gujarat_popu['total_population']\n",
    "gujarat_popu"
   ]
  },
  {
   "cell_type": "code",
   "execution_count": null,
   "id": "ee053a5f",
   "metadata": {},
   "outputs": [],
   "source": []
  },
  {
   "cell_type": "code",
   "execution_count": null,
   "id": "5ffb0a47",
   "metadata": {},
   "outputs": [],
   "source": []
  },
  {
   "cell_type": "code",
   "execution_count": null,
   "id": "04e46d40",
   "metadata": {},
   "outputs": [],
   "source": []
  },
  {
   "cell_type": "code",
   "execution_count": 47,
   "id": "455ae4ef",
   "metadata": {},
   "outputs": [],
   "source": [
    "# crime data for Gujarat"
   ]
  },
  {
   "cell_type": "code",
   "execution_count": 48,
   "id": "bb11451f",
   "metadata": {},
   "outputs": [
    {
     "data": {
      "text/html": [
       "<div>\n",
       "<style scoped>\n",
       "    .dataframe tbody tr th:only-of-type {\n",
       "        vertical-align: middle;\n",
       "    }\n",
       "\n",
       "    .dataframe tbody tr th {\n",
       "        vertical-align: top;\n",
       "    }\n",
       "\n",
       "    .dataframe thead th {\n",
       "        text-align: right;\n",
       "    }\n",
       "</style>\n",
       "<table border=\"1\" class=\"dataframe\">\n",
       "  <thead>\n",
       "    <tr style=\"text-align: right;\">\n",
       "      <th></th>\n",
       "      <th>STATE/UT</th>\n",
       "      <th>DISTRICT</th>\n",
       "      <th>YEAR</th>\n",
       "      <th>MURDER</th>\n",
       "      <th>ATTEMPT TO MURDER</th>\n",
       "      <th>CULPABLE HOMICIDE NOT AMOUNTING TO MURDER</th>\n",
       "      <th>RAPE</th>\n",
       "      <th>CUSTODIAL RAPE</th>\n",
       "      <th>OTHER RAPE</th>\n",
       "      <th>KIDNAPPING &amp; ABDUCTION</th>\n",
       "      <th>...</th>\n",
       "      <th>ARSON</th>\n",
       "      <th>HURT/GREVIOUS HURT</th>\n",
       "      <th>DOWRY DEATHS</th>\n",
       "      <th>ASSAULT ON WOMEN WITH INTENT TO OUTRAGE HER MODESTY</th>\n",
       "      <th>INSULT TO MODESTY OF WOMEN</th>\n",
       "      <th>CRUELTY BY HUSBAND OR HIS RELATIVES</th>\n",
       "      <th>IMPORTATION OF GIRLS FROM FOREIGN COUNTRIES</th>\n",
       "      <th>CAUSING DEATH BY NEGLIGENCE</th>\n",
       "      <th>OTHER IPC CRIMES</th>\n",
       "      <th>TOTAL IPC CRIMES</th>\n",
       "    </tr>\n",
       "  </thead>\n",
       "  <tbody>\n",
       "    <tr>\n",
       "      <th>8426</th>\n",
       "      <td>HARYANA</td>\n",
       "      <td>TOTAL</td>\n",
       "      <td>2012</td>\n",
       "      <td>991</td>\n",
       "      <td>910</td>\n",
       "      <td>68</td>\n",
       "      <td>668</td>\n",
       "      <td>0</td>\n",
       "      <td>668</td>\n",
       "      <td>1349</td>\n",
       "      <td>...</td>\n",
       "      <td>191</td>\n",
       "      <td>3277</td>\n",
       "      <td>258</td>\n",
       "      <td>525</td>\n",
       "      <td>434</td>\n",
       "      <td>3137</td>\n",
       "      <td>0</td>\n",
       "      <td>1484</td>\n",
       "      <td>21396</td>\n",
       "      <td>62480</td>\n",
       "    </tr>\n",
       "  </tbody>\n",
       "</table>\n",
       "<p>1 rows × 33 columns</p>\n",
       "</div>"
      ],
      "text/plain": [
       "     STATE/UT DISTRICT  YEAR  MURDER  ATTEMPT TO MURDER  \\\n",
       "8426  HARYANA    TOTAL  2012     991                910   \n",
       "\n",
       "      CULPABLE HOMICIDE NOT AMOUNTING TO MURDER  RAPE  CUSTODIAL RAPE  \\\n",
       "8426                                         68   668               0   \n",
       "\n",
       "      OTHER RAPE  KIDNAPPING & ABDUCTION  ...  ARSON  HURT/GREVIOUS HURT  \\\n",
       "8426         668                    1349  ...    191                3277   \n",
       "\n",
       "      DOWRY DEATHS  ASSAULT ON WOMEN WITH INTENT TO OUTRAGE HER MODESTY  \\\n",
       "8426           258                                                525     \n",
       "\n",
       "      INSULT TO MODESTY OF WOMEN  CRUELTY BY HUSBAND OR HIS RELATIVES  \\\n",
       "8426                         434                                 3137   \n",
       "\n",
       "      IMPORTATION OF GIRLS FROM FOREIGN COUNTRIES  \\\n",
       "8426                                            0   \n",
       "\n",
       "      CAUSING DEATH BY NEGLIGENCE  OTHER IPC CRIMES  TOTAL IPC CRIMES  \n",
       "8426                         1484             21396             62480  \n",
       "\n",
       "[1 rows x 33 columns]"
      ]
     },
     "execution_count": 48,
     "metadata": {},
     "output_type": "execute_result"
    }
   ],
   "source": [
    "haryana_crime = crime_type[8426:8427]\n",
    "haryana_crime"
   ]
  },
  {
   "cell_type": "code",
   "execution_count": 49,
   "id": "061d9b4c",
   "metadata": {},
   "outputs": [
    {
     "data": {
      "text/plain": [
       "8426    62480\n",
       "Name: TOTAL IPC CRIMES, dtype: int64"
      ]
     },
     "execution_count": 49,
     "metadata": {},
     "output_type": "execute_result"
    }
   ],
   "source": [
    "haryana_crime = haryana_crime['TOTAL IPC CRIMES']\n",
    "haryana_crime"
   ]
  },
  {
   "cell_type": "code",
   "execution_count": null,
   "id": "1379e1f1",
   "metadata": {},
   "outputs": [],
   "source": []
  },
  {
   "cell_type": "code",
   "execution_count": 50,
   "id": "6a5a15fa",
   "metadata": {},
   "outputs": [],
   "source": [
    "# population data for Haryana"
   ]
  },
  {
   "cell_type": "code",
   "execution_count": 51,
   "id": "2ee8b1a8",
   "metadata": {},
   "outputs": [
    {
     "data": {
      "text/html": [
       "<div>\n",
       "<style scoped>\n",
       "    .dataframe tbody tr th:only-of-type {\n",
       "        vertical-align: middle;\n",
       "    }\n",
       "\n",
       "    .dataframe tbody tr th {\n",
       "        vertical-align: top;\n",
       "    }\n",
       "\n",
       "    .dataframe thead th {\n",
       "        text-align: right;\n",
       "    }\n",
       "</style>\n",
       "<table border=\"1\" class=\"dataframe\">\n",
       "  <thead>\n",
       "    <tr style=\"text-align: right;\">\n",
       "      <th></th>\n",
       "      <th>S.No</th>\n",
       "      <th>State</th>\n",
       "      <th>total_population</th>\n",
       "      <th>population_male</th>\n",
       "      <th>population_female</th>\n",
       "    </tr>\n",
       "  </thead>\n",
       "  <tbody>\n",
       "    <tr>\n",
       "      <th>11</th>\n",
       "      <td>12</td>\n",
       "      <td>HARYANA</td>\n",
       "      <td>5952223</td>\n",
       "      <td>3181968</td>\n",
       "      <td>2770255</td>\n",
       "    </tr>\n",
       "  </tbody>\n",
       "</table>\n",
       "</div>"
      ],
      "text/plain": [
       "    S.No    State  total_population  population_male  population_female\n",
       "11    12  HARYANA           5952223          3181968            2770255"
      ]
     },
     "execution_count": 51,
     "metadata": {},
     "output_type": "execute_result"
    }
   ],
   "source": [
    "haryana_popu = state_popu[11:12]\n",
    "haryana_popu"
   ]
  },
  {
   "cell_type": "code",
   "execution_count": 52,
   "id": "a3b4fead",
   "metadata": {},
   "outputs": [
    {
     "data": {
      "text/plain": [
       "11    5952223\n",
       "Name: total_population, dtype: int64"
      ]
     },
     "execution_count": 52,
     "metadata": {},
     "output_type": "execute_result"
    }
   ],
   "source": [
    "haryana_popu = haryana_popu['total_population']\n",
    "haryana_popu"
   ]
  },
  {
   "cell_type": "code",
   "execution_count": null,
   "id": "354ea5c9",
   "metadata": {},
   "outputs": [],
   "source": []
  },
  {
   "cell_type": "code",
   "execution_count": null,
   "id": "67d127f2",
   "metadata": {},
   "outputs": [],
   "source": []
  },
  {
   "cell_type": "code",
   "execution_count": 53,
   "id": "9cf35a58",
   "metadata": {},
   "outputs": [],
   "source": [
    "# crime data for Himachal Pradesh"
   ]
  },
  {
   "cell_type": "code",
   "execution_count": 54,
   "id": "296426b0",
   "metadata": {},
   "outputs": [
    {
     "data": {
      "text/html": [
       "<div>\n",
       "<style scoped>\n",
       "    .dataframe tbody tr th:only-of-type {\n",
       "        vertical-align: middle;\n",
       "    }\n",
       "\n",
       "    .dataframe tbody tr th {\n",
       "        vertical-align: top;\n",
       "    }\n",
       "\n",
       "    .dataframe thead th {\n",
       "        text-align: right;\n",
       "    }\n",
       "</style>\n",
       "<table border=\"1\" class=\"dataframe\">\n",
       "  <thead>\n",
       "    <tr style=\"text-align: right;\">\n",
       "      <th></th>\n",
       "      <th>STATE/UT</th>\n",
       "      <th>DISTRICT</th>\n",
       "      <th>YEAR</th>\n",
       "      <th>MURDER</th>\n",
       "      <th>ATTEMPT TO MURDER</th>\n",
       "      <th>CULPABLE HOMICIDE NOT AMOUNTING TO MURDER</th>\n",
       "      <th>RAPE</th>\n",
       "      <th>CUSTODIAL RAPE</th>\n",
       "      <th>OTHER RAPE</th>\n",
       "      <th>KIDNAPPING &amp; ABDUCTION</th>\n",
       "      <th>...</th>\n",
       "      <th>ARSON</th>\n",
       "      <th>HURT/GREVIOUS HURT</th>\n",
       "      <th>DOWRY DEATHS</th>\n",
       "      <th>ASSAULT ON WOMEN WITH INTENT TO OUTRAGE HER MODESTY</th>\n",
       "      <th>INSULT TO MODESTY OF WOMEN</th>\n",
       "      <th>CRUELTY BY HUSBAND OR HIS RELATIVES</th>\n",
       "      <th>IMPORTATION OF GIRLS FROM FOREIGN COUNTRIES</th>\n",
       "      <th>CAUSING DEATH BY NEGLIGENCE</th>\n",
       "      <th>OTHER IPC CRIMES</th>\n",
       "      <th>TOTAL IPC CRIMES</th>\n",
       "    </tr>\n",
       "  </thead>\n",
       "  <tbody>\n",
       "    <tr>\n",
       "      <th>8442</th>\n",
       "      <td>HIMACHAL PRADESH</td>\n",
       "      <td>TOTAL</td>\n",
       "      <td>2012</td>\n",
       "      <td>113</td>\n",
       "      <td>53</td>\n",
       "      <td>9</td>\n",
       "      <td>183</td>\n",
       "      <td>0</td>\n",
       "      <td>183</td>\n",
       "      <td>172</td>\n",
       "      <td>...</td>\n",
       "      <td>131</td>\n",
       "      <td>1173</td>\n",
       "      <td>2</td>\n",
       "      <td>250</td>\n",
       "      <td>68</td>\n",
       "      <td>251</td>\n",
       "      <td>0</td>\n",
       "      <td>562</td>\n",
       "      <td>6877</td>\n",
       "      <td>12557</td>\n",
       "    </tr>\n",
       "  </tbody>\n",
       "</table>\n",
       "<p>1 rows × 33 columns</p>\n",
       "</div>"
      ],
      "text/plain": [
       "              STATE/UT DISTRICT  YEAR  MURDER  ATTEMPT TO MURDER  \\\n",
       "8442  HIMACHAL PRADESH    TOTAL  2012     113                 53   \n",
       "\n",
       "      CULPABLE HOMICIDE NOT AMOUNTING TO MURDER  RAPE  CUSTODIAL RAPE  \\\n",
       "8442                                          9   183               0   \n",
       "\n",
       "      OTHER RAPE  KIDNAPPING & ABDUCTION  ...  ARSON  HURT/GREVIOUS HURT  \\\n",
       "8442         183                     172  ...    131                1173   \n",
       "\n",
       "      DOWRY DEATHS  ASSAULT ON WOMEN WITH INTENT TO OUTRAGE HER MODESTY  \\\n",
       "8442             2                                                250     \n",
       "\n",
       "      INSULT TO MODESTY OF WOMEN  CRUELTY BY HUSBAND OR HIS RELATIVES  \\\n",
       "8442                          68                                  251   \n",
       "\n",
       "      IMPORTATION OF GIRLS FROM FOREIGN COUNTRIES  \\\n",
       "8442                                            0   \n",
       "\n",
       "      CAUSING DEATH BY NEGLIGENCE  OTHER IPC CRIMES  TOTAL IPC CRIMES  \n",
       "8442                          562              6877             12557  \n",
       "\n",
       "[1 rows x 33 columns]"
      ]
     },
     "execution_count": 54,
     "metadata": {},
     "output_type": "execute_result"
    }
   ],
   "source": [
    "himachal_crime = crime_type[8442:8443]\n",
    "himachal_crime"
   ]
  },
  {
   "cell_type": "code",
   "execution_count": 55,
   "id": "7557868d",
   "metadata": {},
   "outputs": [
    {
     "data": {
      "text/plain": [
       "8442    12557\n",
       "Name: TOTAL IPC CRIMES, dtype: int64"
      ]
     },
     "execution_count": 55,
     "metadata": {},
     "output_type": "execute_result"
    }
   ],
   "source": [
    "himachal_crime = himachal_crime['TOTAL IPC CRIMES']\n",
    "himachal_crime"
   ]
  },
  {
   "cell_type": "code",
   "execution_count": null,
   "id": "95a6f7d5",
   "metadata": {},
   "outputs": [],
   "source": []
  },
  {
   "cell_type": "code",
   "execution_count": 56,
   "id": "cfc4f8d0",
   "metadata": {},
   "outputs": [],
   "source": [
    "# population data for Himachal pradesh"
   ]
  },
  {
   "cell_type": "code",
   "execution_count": 57,
   "id": "4cec14f7",
   "metadata": {},
   "outputs": [
    {
     "data": {
      "text/html": [
       "<div>\n",
       "<style scoped>\n",
       "    .dataframe tbody tr th:only-of-type {\n",
       "        vertical-align: middle;\n",
       "    }\n",
       "\n",
       "    .dataframe tbody tr th {\n",
       "        vertical-align: top;\n",
       "    }\n",
       "\n",
       "    .dataframe thead th {\n",
       "        text-align: right;\n",
       "    }\n",
       "</style>\n",
       "<table border=\"1\" class=\"dataframe\">\n",
       "  <thead>\n",
       "    <tr style=\"text-align: right;\">\n",
       "      <th></th>\n",
       "      <th>S.No</th>\n",
       "      <th>State</th>\n",
       "      <th>total_population</th>\n",
       "      <th>population_male</th>\n",
       "      <th>population_female</th>\n",
       "    </tr>\n",
       "  </thead>\n",
       "  <tbody>\n",
       "    <tr>\n",
       "      <th>25</th>\n",
       "      <td>26</td>\n",
       "      <td>HIMACHAL PRADESH</td>\n",
       "      <td>169758</td>\n",
       "      <td>93364</td>\n",
       "      <td>76394</td>\n",
       "    </tr>\n",
       "  </tbody>\n",
       "</table>\n",
       "</div>"
      ],
      "text/plain": [
       "    S.No             State  total_population  population_male  \\\n",
       "25    26  HIMACHAL PRADESH            169758            93364   \n",
       "\n",
       "    population_female  \n",
       "25              76394  "
      ]
     },
     "execution_count": 57,
     "metadata": {},
     "output_type": "execute_result"
    }
   ],
   "source": [
    "himachal_popu = state_popu[25:26]\n",
    "himachal_popu"
   ]
  },
  {
   "cell_type": "code",
   "execution_count": 58,
   "id": "bc97a52c",
   "metadata": {},
   "outputs": [
    {
     "data": {
      "text/plain": [
       "25    169758\n",
       "Name: total_population, dtype: int64"
      ]
     },
     "execution_count": 58,
     "metadata": {},
     "output_type": "execute_result"
    }
   ],
   "source": [
    "himachal_popu = himachal_popu['total_population']\n",
    "himachal_popu"
   ]
  },
  {
   "cell_type": "code",
   "execution_count": null,
   "id": "79c86384",
   "metadata": {},
   "outputs": [],
   "source": []
  },
  {
   "cell_type": "code",
   "execution_count": null,
   "id": "d288e1f4",
   "metadata": {},
   "outputs": [],
   "source": []
  },
  {
   "cell_type": "code",
   "execution_count": 59,
   "id": "55cc9dd4",
   "metadata": {},
   "outputs": [],
   "source": [
    "# crime data for Jammu & Kashmir"
   ]
  },
  {
   "cell_type": "code",
   "execution_count": 60,
   "id": "94dbfc11",
   "metadata": {},
   "outputs": [
    {
     "data": {
      "text/html": [
       "<div>\n",
       "<style scoped>\n",
       "    .dataframe tbody tr th:only-of-type {\n",
       "        vertical-align: middle;\n",
       "    }\n",
       "\n",
       "    .dataframe tbody tr th {\n",
       "        vertical-align: top;\n",
       "    }\n",
       "\n",
       "    .dataframe thead th {\n",
       "        text-align: right;\n",
       "    }\n",
       "</style>\n",
       "<table border=\"1\" class=\"dataframe\">\n",
       "  <thead>\n",
       "    <tr style=\"text-align: right;\">\n",
       "      <th></th>\n",
       "      <th>STATE/UT</th>\n",
       "      <th>DISTRICT</th>\n",
       "      <th>YEAR</th>\n",
       "      <th>MURDER</th>\n",
       "      <th>ATTEMPT TO MURDER</th>\n",
       "      <th>CULPABLE HOMICIDE NOT AMOUNTING TO MURDER</th>\n",
       "      <th>RAPE</th>\n",
       "      <th>CUSTODIAL RAPE</th>\n",
       "      <th>OTHER RAPE</th>\n",
       "      <th>KIDNAPPING &amp; ABDUCTION</th>\n",
       "      <th>...</th>\n",
       "      <th>ARSON</th>\n",
       "      <th>HURT/GREVIOUS HURT</th>\n",
       "      <th>DOWRY DEATHS</th>\n",
       "      <th>ASSAULT ON WOMEN WITH INTENT TO OUTRAGE HER MODESTY</th>\n",
       "      <th>INSULT TO MODESTY OF WOMEN</th>\n",
       "      <th>CRUELTY BY HUSBAND OR HIS RELATIVES</th>\n",
       "      <th>IMPORTATION OF GIRLS FROM FOREIGN COUNTRIES</th>\n",
       "      <th>CAUSING DEATH BY NEGLIGENCE</th>\n",
       "      <th>OTHER IPC CRIMES</th>\n",
       "      <th>TOTAL IPC CRIMES</th>\n",
       "    </tr>\n",
       "  </thead>\n",
       "  <tbody>\n",
       "    <tr>\n",
       "      <th>8473</th>\n",
       "      <td>JAMMU &amp; KASHMIR</td>\n",
       "      <td>TOTAL</td>\n",
       "      <td>2012</td>\n",
       "      <td>124</td>\n",
       "      <td>511</td>\n",
       "      <td>16</td>\n",
       "      <td>303</td>\n",
       "      <td>0</td>\n",
       "      <td>303</td>\n",
       "      <td>1093</td>\n",
       "      <td>...</td>\n",
       "      <td>190</td>\n",
       "      <td>322</td>\n",
       "      <td>8</td>\n",
       "      <td>1322</td>\n",
       "      <td>347</td>\n",
       "      <td>301</td>\n",
       "      <td>0</td>\n",
       "      <td>371</td>\n",
       "      <td>14004</td>\n",
       "      <td>24608</td>\n",
       "    </tr>\n",
       "  </tbody>\n",
       "</table>\n",
       "<p>1 rows × 33 columns</p>\n",
       "</div>"
      ],
      "text/plain": [
       "             STATE/UT DISTRICT  YEAR  MURDER  ATTEMPT TO MURDER  \\\n",
       "8473  JAMMU & KASHMIR    TOTAL  2012     124                511   \n",
       "\n",
       "      CULPABLE HOMICIDE NOT AMOUNTING TO MURDER  RAPE  CUSTODIAL RAPE  \\\n",
       "8473                                         16   303               0   \n",
       "\n",
       "      OTHER RAPE  KIDNAPPING & ABDUCTION  ...  ARSON  HURT/GREVIOUS HURT  \\\n",
       "8473         303                    1093  ...    190                 322   \n",
       "\n",
       "      DOWRY DEATHS  ASSAULT ON WOMEN WITH INTENT TO OUTRAGE HER MODESTY  \\\n",
       "8473             8                                               1322     \n",
       "\n",
       "      INSULT TO MODESTY OF WOMEN  CRUELTY BY HUSBAND OR HIS RELATIVES  \\\n",
       "8473                         347                                  301   \n",
       "\n",
       "      IMPORTATION OF GIRLS FROM FOREIGN COUNTRIES  \\\n",
       "8473                                            0   \n",
       "\n",
       "      CAUSING DEATH BY NEGLIGENCE  OTHER IPC CRIMES  TOTAL IPC CRIMES  \n",
       "8473                          371             14004             24608  \n",
       "\n",
       "[1 rows x 33 columns]"
      ]
     },
     "execution_count": 60,
     "metadata": {},
     "output_type": "execute_result"
    }
   ],
   "source": [
    "jammu_crime = crime_type[8473:8474]\n",
    "jammu_crime"
   ]
  },
  {
   "cell_type": "code",
   "execution_count": 61,
   "id": "0a462f19",
   "metadata": {},
   "outputs": [
    {
     "data": {
      "text/plain": [
       "8473    24608\n",
       "Name: TOTAL IPC CRIMES, dtype: int64"
      ]
     },
     "execution_count": 61,
     "metadata": {},
     "output_type": "execute_result"
    }
   ],
   "source": [
    "jammu_crime = jammu_crime['TOTAL IPC CRIMES']\n",
    "jammu_crime"
   ]
  },
  {
   "cell_type": "code",
   "execution_count": null,
   "id": "bf4aeb6f",
   "metadata": {},
   "outputs": [],
   "source": []
  },
  {
   "cell_type": "code",
   "execution_count": 62,
   "id": "03777985",
   "metadata": {},
   "outputs": [],
   "source": [
    "# population data for Jammu & Kashmir"
   ]
  },
  {
   "cell_type": "code",
   "execution_count": 63,
   "id": "1859dcd8",
   "metadata": {},
   "outputs": [
    {
     "data": {
      "text/html": [
       "<div>\n",
       "<style scoped>\n",
       "    .dataframe tbody tr th:only-of-type {\n",
       "        vertical-align: middle;\n",
       "    }\n",
       "\n",
       "    .dataframe tbody tr th {\n",
       "        vertical-align: top;\n",
       "    }\n",
       "\n",
       "    .dataframe thead th {\n",
       "        text-align: right;\n",
       "    }\n",
       "</style>\n",
       "<table border=\"1\" class=\"dataframe\">\n",
       "  <thead>\n",
       "    <tr style=\"text-align: right;\">\n",
       "      <th></th>\n",
       "      <th>S.No</th>\n",
       "      <th>State</th>\n",
       "      <th>total_population</th>\n",
       "      <th>population_male</th>\n",
       "      <th>population_female</th>\n",
       "    </tr>\n",
       "  </thead>\n",
       "  <tbody>\n",
       "    <tr>\n",
       "      <th>17</th>\n",
       "      <td>18</td>\n",
       "      <td>J&amp;K</td>\n",
       "      <td>1804987</td>\n",
       "      <td>953292</td>\n",
       "      <td>851695</td>\n",
       "    </tr>\n",
       "  </tbody>\n",
       "</table>\n",
       "</div>"
      ],
      "text/plain": [
       "    S.No State  total_population  population_male  population_female\n",
       "17    18   J&K           1804987           953292             851695"
      ]
     },
     "execution_count": 63,
     "metadata": {},
     "output_type": "execute_result"
    }
   ],
   "source": [
    "jammu_popu = state_popu[17:18]\n",
    "jammu_popu"
   ]
  },
  {
   "cell_type": "code",
   "execution_count": 64,
   "id": "9960b44a",
   "metadata": {},
   "outputs": [
    {
     "data": {
      "text/plain": [
       "17    1804987\n",
       "Name: total_population, dtype: int64"
      ]
     },
     "execution_count": 64,
     "metadata": {},
     "output_type": "execute_result"
    }
   ],
   "source": [
    "jammu_popu = jammu_popu['total_population']\n",
    "jammu_popu"
   ]
  },
  {
   "cell_type": "code",
   "execution_count": null,
   "id": "67b34833",
   "metadata": {},
   "outputs": [],
   "source": []
  },
  {
   "cell_type": "code",
   "execution_count": null,
   "id": "4070e19b",
   "metadata": {},
   "outputs": [],
   "source": []
  },
  {
   "cell_type": "code",
   "execution_count": null,
   "id": "0a1914e8",
   "metadata": {},
   "outputs": [],
   "source": []
  },
  {
   "cell_type": "code",
   "execution_count": 65,
   "id": "647446bb",
   "metadata": {},
   "outputs": [],
   "source": [
    "# crime data for Jharkhand"
   ]
  },
  {
   "cell_type": "code",
   "execution_count": 66,
   "id": "15c7d0fa",
   "metadata": {},
   "outputs": [
    {
     "data": {
      "text/html": [
       "<div>\n",
       "<style scoped>\n",
       "    .dataframe tbody tr th:only-of-type {\n",
       "        vertical-align: middle;\n",
       "    }\n",
       "\n",
       "    .dataframe tbody tr th {\n",
       "        vertical-align: top;\n",
       "    }\n",
       "\n",
       "    .dataframe thead th {\n",
       "        text-align: right;\n",
       "    }\n",
       "</style>\n",
       "<table border=\"1\" class=\"dataframe\">\n",
       "  <thead>\n",
       "    <tr style=\"text-align: right;\">\n",
       "      <th></th>\n",
       "      <th>STATE/UT</th>\n",
       "      <th>DISTRICT</th>\n",
       "      <th>YEAR</th>\n",
       "      <th>MURDER</th>\n",
       "      <th>ATTEMPT TO MURDER</th>\n",
       "      <th>CULPABLE HOMICIDE NOT AMOUNTING TO MURDER</th>\n",
       "      <th>RAPE</th>\n",
       "      <th>CUSTODIAL RAPE</th>\n",
       "      <th>OTHER RAPE</th>\n",
       "      <th>KIDNAPPING &amp; ABDUCTION</th>\n",
       "      <th>...</th>\n",
       "      <th>ARSON</th>\n",
       "      <th>HURT/GREVIOUS HURT</th>\n",
       "      <th>DOWRY DEATHS</th>\n",
       "      <th>ASSAULT ON WOMEN WITH INTENT TO OUTRAGE HER MODESTY</th>\n",
       "      <th>INSULT TO MODESTY OF WOMEN</th>\n",
       "      <th>CRUELTY BY HUSBAND OR HIS RELATIVES</th>\n",
       "      <th>IMPORTATION OF GIRLS FROM FOREIGN COUNTRIES</th>\n",
       "      <th>CAUSING DEATH BY NEGLIGENCE</th>\n",
       "      <th>OTHER IPC CRIMES</th>\n",
       "      <th>TOTAL IPC CRIMES</th>\n",
       "    </tr>\n",
       "  </thead>\n",
       "  <tbody>\n",
       "    <tr>\n",
       "      <th>8500</th>\n",
       "      <td>JHARKHAND</td>\n",
       "      <td>TOTAL</td>\n",
       "      <td>2012</td>\n",
       "      <td>1694</td>\n",
       "      <td>842</td>\n",
       "      <td>92</td>\n",
       "      <td>812</td>\n",
       "      <td>0</td>\n",
       "      <td>812</td>\n",
       "      <td>1056</td>\n",
       "      <td>...</td>\n",
       "      <td>136</td>\n",
       "      <td>4785</td>\n",
       "      <td>302</td>\n",
       "      <td>284</td>\n",
       "      <td>10</td>\n",
       "      <td>1261</td>\n",
       "      <td>3</td>\n",
       "      <td>1594</td>\n",
       "      <td>14818</td>\n",
       "      <td>40946</td>\n",
       "    </tr>\n",
       "  </tbody>\n",
       "</table>\n",
       "<p>1 rows × 33 columns</p>\n",
       "</div>"
      ],
      "text/plain": [
       "       STATE/UT DISTRICT  YEAR  MURDER  ATTEMPT TO MURDER  \\\n",
       "8500  JHARKHAND    TOTAL  2012    1694                842   \n",
       "\n",
       "      CULPABLE HOMICIDE NOT AMOUNTING TO MURDER  RAPE  CUSTODIAL RAPE  \\\n",
       "8500                                         92   812               0   \n",
       "\n",
       "      OTHER RAPE  KIDNAPPING & ABDUCTION  ...  ARSON  HURT/GREVIOUS HURT  \\\n",
       "8500         812                    1056  ...    136                4785   \n",
       "\n",
       "      DOWRY DEATHS  ASSAULT ON WOMEN WITH INTENT TO OUTRAGE HER MODESTY  \\\n",
       "8500           302                                                284     \n",
       "\n",
       "      INSULT TO MODESTY OF WOMEN  CRUELTY BY HUSBAND OR HIS RELATIVES  \\\n",
       "8500                          10                                 1261   \n",
       "\n",
       "      IMPORTATION OF GIRLS FROM FOREIGN COUNTRIES  \\\n",
       "8500                                            3   \n",
       "\n",
       "      CAUSING DEATH BY NEGLIGENCE  OTHER IPC CRIMES  TOTAL IPC CRIMES  \n",
       "8500                         1594             14818             40946  \n",
       "\n",
       "[1 rows x 33 columns]"
      ]
     },
     "execution_count": 66,
     "metadata": {},
     "output_type": "execute_result"
    }
   ],
   "source": [
    "jharkhand_crime = crime_type[8500:8501]\n",
    "jharkhand_crime"
   ]
  },
  {
   "cell_type": "code",
   "execution_count": 67,
   "id": "42c3edc7",
   "metadata": {},
   "outputs": [
    {
     "data": {
      "text/plain": [
       "8500    40946\n",
       "Name: TOTAL IPC CRIMES, dtype: int64"
      ]
     },
     "execution_count": 67,
     "metadata": {},
     "output_type": "execute_result"
    }
   ],
   "source": [
    "jharkhand_crime = jharkhand_crime['TOTAL IPC CRIMES']\n",
    "jharkhand_crime"
   ]
  },
  {
   "cell_type": "code",
   "execution_count": null,
   "id": "e7cd51f2",
   "metadata": {},
   "outputs": [],
   "source": []
  },
  {
   "cell_type": "code",
   "execution_count": 68,
   "id": "a46750d2",
   "metadata": {},
   "outputs": [],
   "source": [
    "# population data for Jharkhand"
   ]
  },
  {
   "cell_type": "code",
   "execution_count": 69,
   "id": "d8be6d46",
   "metadata": {},
   "outputs": [
    {
     "data": {
      "text/html": [
       "<div>\n",
       "<style scoped>\n",
       "    .dataframe tbody tr th:only-of-type {\n",
       "        vertical-align: middle;\n",
       "    }\n",
       "\n",
       "    .dataframe tbody tr th {\n",
       "        vertical-align: top;\n",
       "    }\n",
       "\n",
       "    .dataframe thead th {\n",
       "        text-align: right;\n",
       "    }\n",
       "</style>\n",
       "<table border=\"1\" class=\"dataframe\">\n",
       "  <thead>\n",
       "    <tr style=\"text-align: right;\">\n",
       "      <th></th>\n",
       "      <th>S.No</th>\n",
       "      <th>State</th>\n",
       "      <th>total_population</th>\n",
       "      <th>population_male</th>\n",
       "      <th>population_female</th>\n",
       "    </tr>\n",
       "  </thead>\n",
       "  <tbody>\n",
       "    <tr>\n",
       "      <th>13</th>\n",
       "      <td>14</td>\n",
       "      <td>JHARKHAND</td>\n",
       "      <td>4278259</td>\n",
       "      <td>2247819</td>\n",
       "      <td>2030440</td>\n",
       "    </tr>\n",
       "  </tbody>\n",
       "</table>\n",
       "</div>"
      ],
      "text/plain": [
       "    S.No      State  total_population  population_male  population_female\n",
       "13    14  JHARKHAND           4278259          2247819            2030440"
      ]
     },
     "execution_count": 69,
     "metadata": {},
     "output_type": "execute_result"
    }
   ],
   "source": [
    "jharkhand_popu = state_popu[13:14]\n",
    "jharkhand_popu"
   ]
  },
  {
   "cell_type": "code",
   "execution_count": 70,
   "id": "11a4cbbe",
   "metadata": {},
   "outputs": [
    {
     "data": {
      "text/plain": [
       "13    4278259\n",
       "Name: total_population, dtype: int64"
      ]
     },
     "execution_count": 70,
     "metadata": {},
     "output_type": "execute_result"
    }
   ],
   "source": [
    "jharkhand_popu = jharkhand_popu['total_population']\n",
    "jharkhand_popu"
   ]
  },
  {
   "cell_type": "code",
   "execution_count": null,
   "id": "b146f22b",
   "metadata": {},
   "outputs": [],
   "source": []
  },
  {
   "cell_type": "code",
   "execution_count": null,
   "id": "5141682c",
   "metadata": {},
   "outputs": [],
   "source": []
  },
  {
   "cell_type": "code",
   "execution_count": null,
   "id": "125e98d1",
   "metadata": {},
   "outputs": [],
   "source": []
  },
  {
   "cell_type": "code",
   "execution_count": 71,
   "id": "6d46b80a",
   "metadata": {},
   "outputs": [],
   "source": [
    "# crime data for Karnataka"
   ]
  },
  {
   "cell_type": "code",
   "execution_count": 72,
   "id": "ba1b9138",
   "metadata": {},
   "outputs": [
    {
     "data": {
      "text/html": [
       "<div>\n",
       "<style scoped>\n",
       "    .dataframe tbody tr th:only-of-type {\n",
       "        vertical-align: middle;\n",
       "    }\n",
       "\n",
       "    .dataframe tbody tr th {\n",
       "        vertical-align: top;\n",
       "    }\n",
       "\n",
       "    .dataframe thead th {\n",
       "        text-align: right;\n",
       "    }\n",
       "</style>\n",
       "<table border=\"1\" class=\"dataframe\">\n",
       "  <thead>\n",
       "    <tr style=\"text-align: right;\">\n",
       "      <th></th>\n",
       "      <th>STATE/UT</th>\n",
       "      <th>DISTRICT</th>\n",
       "      <th>YEAR</th>\n",
       "      <th>MURDER</th>\n",
       "      <th>ATTEMPT TO MURDER</th>\n",
       "      <th>CULPABLE HOMICIDE NOT AMOUNTING TO MURDER</th>\n",
       "      <th>RAPE</th>\n",
       "      <th>CUSTODIAL RAPE</th>\n",
       "      <th>OTHER RAPE</th>\n",
       "      <th>KIDNAPPING &amp; ABDUCTION</th>\n",
       "      <th>...</th>\n",
       "      <th>ARSON</th>\n",
       "      <th>HURT/GREVIOUS HURT</th>\n",
       "      <th>DOWRY DEATHS</th>\n",
       "      <th>ASSAULT ON WOMEN WITH INTENT TO OUTRAGE HER MODESTY</th>\n",
       "      <th>INSULT TO MODESTY OF WOMEN</th>\n",
       "      <th>CRUELTY BY HUSBAND OR HIS RELATIVES</th>\n",
       "      <th>IMPORTATION OF GIRLS FROM FOREIGN COUNTRIES</th>\n",
       "      <th>CAUSING DEATH BY NEGLIGENCE</th>\n",
       "      <th>OTHER IPC CRIMES</th>\n",
       "      <th>TOTAL IPC CRIMES</th>\n",
       "    </tr>\n",
       "  </thead>\n",
       "  <tbody>\n",
       "    <tr>\n",
       "      <th>8536</th>\n",
       "      <td>KARNATAKA</td>\n",
       "      <td>TOTAL</td>\n",
       "      <td>2012</td>\n",
       "      <td>1860</td>\n",
       "      <td>1923</td>\n",
       "      <td>71</td>\n",
       "      <td>621</td>\n",
       "      <td>0</td>\n",
       "      <td>621</td>\n",
       "      <td>1451</td>\n",
       "      <td>...</td>\n",
       "      <td>416</td>\n",
       "      <td>20350</td>\n",
       "      <td>218</td>\n",
       "      <td>2978</td>\n",
       "      <td>100</td>\n",
       "      <td>3684</td>\n",
       "      <td>32</td>\n",
       "      <td>876</td>\n",
       "      <td>58468</td>\n",
       "      <td>134021</td>\n",
       "    </tr>\n",
       "  </tbody>\n",
       "</table>\n",
       "<p>1 rows × 33 columns</p>\n",
       "</div>"
      ],
      "text/plain": [
       "       STATE/UT DISTRICT  YEAR  MURDER  ATTEMPT TO MURDER  \\\n",
       "8536  KARNATAKA    TOTAL  2012    1860               1923   \n",
       "\n",
       "      CULPABLE HOMICIDE NOT AMOUNTING TO MURDER  RAPE  CUSTODIAL RAPE  \\\n",
       "8536                                         71   621               0   \n",
       "\n",
       "      OTHER RAPE  KIDNAPPING & ABDUCTION  ...  ARSON  HURT/GREVIOUS HURT  \\\n",
       "8536         621                    1451  ...    416               20350   \n",
       "\n",
       "      DOWRY DEATHS  ASSAULT ON WOMEN WITH INTENT TO OUTRAGE HER MODESTY  \\\n",
       "8536           218                                               2978     \n",
       "\n",
       "      INSULT TO MODESTY OF WOMEN  CRUELTY BY HUSBAND OR HIS RELATIVES  \\\n",
       "8536                         100                                 3684   \n",
       "\n",
       "      IMPORTATION OF GIRLS FROM FOREIGN COUNTRIES  \\\n",
       "8536                                           32   \n",
       "\n",
       "      CAUSING DEATH BY NEGLIGENCE  OTHER IPC CRIMES  TOTAL IPC CRIMES  \n",
       "8536                          876             58468            134021  \n",
       "\n",
       "[1 rows x 33 columns]"
      ]
     },
     "execution_count": 72,
     "metadata": {},
     "output_type": "execute_result"
    }
   ],
   "source": [
    "karna_crime = crime_type[8536:8537]\n",
    "karna_crime"
   ]
  },
  {
   "cell_type": "code",
   "execution_count": 73,
   "id": "a7f0280d",
   "metadata": {},
   "outputs": [
    {
     "data": {
      "text/plain": [
       "8536    134021\n",
       "Name: TOTAL IPC CRIMES, dtype: int64"
      ]
     },
     "execution_count": 73,
     "metadata": {},
     "output_type": "execute_result"
    }
   ],
   "source": [
    "karna_crime = karna_crime['TOTAL IPC CRIMES']\n",
    "karna_crime"
   ]
  },
  {
   "cell_type": "code",
   "execution_count": null,
   "id": "5a1352e8",
   "metadata": {},
   "outputs": [],
   "source": []
  },
  {
   "cell_type": "code",
   "execution_count": 74,
   "id": "7b9ecb83",
   "metadata": {},
   "outputs": [],
   "source": [
    "# population data for Karnataka"
   ]
  },
  {
   "cell_type": "code",
   "execution_count": 75,
   "id": "717f869d",
   "metadata": {},
   "outputs": [
    {
     "data": {
      "text/html": [
       "<div>\n",
       "<style scoped>\n",
       "    .dataframe tbody tr th:only-of-type {\n",
       "        vertical-align: middle;\n",
       "    }\n",
       "\n",
       "    .dataframe tbody tr th {\n",
       "        vertical-align: top;\n",
       "    }\n",
       "\n",
       "    .dataframe thead th {\n",
       "        text-align: right;\n",
       "    }\n",
       "</style>\n",
       "<table border=\"1\" class=\"dataframe\">\n",
       "  <thead>\n",
       "    <tr style=\"text-align: right;\">\n",
       "      <th></th>\n",
       "      <th>S.No</th>\n",
       "      <th>State</th>\n",
       "      <th>total_population</th>\n",
       "      <th>population_male</th>\n",
       "      <th>population_female</th>\n",
       "    </tr>\n",
       "  </thead>\n",
       "  <tbody>\n",
       "    <tr>\n",
       "      <th>5</th>\n",
       "      <td>6</td>\n",
       "      <td>KARNATAKA</td>\n",
       "      <td>15799896</td>\n",
       "      <td>8112840</td>\n",
       "      <td>7687056</td>\n",
       "    </tr>\n",
       "  </tbody>\n",
       "</table>\n",
       "</div>"
      ],
      "text/plain": [
       "   S.No      State  total_population  population_male  population_female\n",
       "5     6  KARNATAKA          15799896          8112840            7687056"
      ]
     },
     "execution_count": 75,
     "metadata": {},
     "output_type": "execute_result"
    }
   ],
   "source": [
    "karna_popu = state_popu[5:6]\n",
    "karna_popu"
   ]
  },
  {
   "cell_type": "code",
   "execution_count": 76,
   "id": "9c227863",
   "metadata": {},
   "outputs": [
    {
     "data": {
      "text/plain": [
       "5    15799896\n",
       "Name: total_population, dtype: int64"
      ]
     },
     "execution_count": 76,
     "metadata": {},
     "output_type": "execute_result"
    }
   ],
   "source": [
    "karna_popu = karna_popu['total_population']\n",
    "karna_popu"
   ]
  },
  {
   "cell_type": "code",
   "execution_count": null,
   "id": "a2eb5c1e",
   "metadata": {},
   "outputs": [],
   "source": []
  },
  {
   "cell_type": "code",
   "execution_count": null,
   "id": "73957b3d",
   "metadata": {},
   "outputs": [],
   "source": []
  },
  {
   "cell_type": "code",
   "execution_count": null,
   "id": "ad2960ff",
   "metadata": {},
   "outputs": [],
   "source": []
  },
  {
   "cell_type": "code",
   "execution_count": 77,
   "id": "8c6cabf2",
   "metadata": {},
   "outputs": [],
   "source": [
    "# crime data for Kerala"
   ]
  },
  {
   "cell_type": "code",
   "execution_count": 78,
   "id": "41ad4c3a",
   "metadata": {},
   "outputs": [
    {
     "data": {
      "text/html": [
       "<div>\n",
       "<style scoped>\n",
       "    .dataframe tbody tr th:only-of-type {\n",
       "        vertical-align: middle;\n",
       "    }\n",
       "\n",
       "    .dataframe tbody tr th {\n",
       "        vertical-align: top;\n",
       "    }\n",
       "\n",
       "    .dataframe thead th {\n",
       "        text-align: right;\n",
       "    }\n",
       "</style>\n",
       "<table border=\"1\" class=\"dataframe\">\n",
       "  <thead>\n",
       "    <tr style=\"text-align: right;\">\n",
       "      <th></th>\n",
       "      <th>STATE/UT</th>\n",
       "      <th>DISTRICT</th>\n",
       "      <th>YEAR</th>\n",
       "      <th>MURDER</th>\n",
       "      <th>ATTEMPT TO MURDER</th>\n",
       "      <th>CULPABLE HOMICIDE NOT AMOUNTING TO MURDER</th>\n",
       "      <th>RAPE</th>\n",
       "      <th>CUSTODIAL RAPE</th>\n",
       "      <th>OTHER RAPE</th>\n",
       "      <th>KIDNAPPING &amp; ABDUCTION</th>\n",
       "      <th>...</th>\n",
       "      <th>ARSON</th>\n",
       "      <th>HURT/GREVIOUS HURT</th>\n",
       "      <th>DOWRY DEATHS</th>\n",
       "      <th>ASSAULT ON WOMEN WITH INTENT TO OUTRAGE HER MODESTY</th>\n",
       "      <th>INSULT TO MODESTY OF WOMEN</th>\n",
       "      <th>CRUELTY BY HUSBAND OR HIS RELATIVES</th>\n",
       "      <th>IMPORTATION OF GIRLS FROM FOREIGN COUNTRIES</th>\n",
       "      <th>CAUSING DEATH BY NEGLIGENCE</th>\n",
       "      <th>OTHER IPC CRIMES</th>\n",
       "      <th>TOTAL IPC CRIMES</th>\n",
       "    </tr>\n",
       "  </thead>\n",
       "  <tbody>\n",
       "    <tr>\n",
       "      <th>8557</th>\n",
       "      <td>KERALA</td>\n",
       "      <td>TOTAL</td>\n",
       "      <td>2012</td>\n",
       "      <td>374</td>\n",
       "      <td>497</td>\n",
       "      <td>107</td>\n",
       "      <td>1019</td>\n",
       "      <td>0</td>\n",
       "      <td>1019</td>\n",
       "      <td>281</td>\n",
       "      <td>...</td>\n",
       "      <td>568</td>\n",
       "      <td>21170</td>\n",
       "      <td>32</td>\n",
       "      <td>3735</td>\n",
       "      <td>498</td>\n",
       "      <td>5216</td>\n",
       "      <td>0</td>\n",
       "      <td>48</td>\n",
       "      <td>101582</td>\n",
       "      <td>158989</td>\n",
       "    </tr>\n",
       "  </tbody>\n",
       "</table>\n",
       "<p>1 rows × 33 columns</p>\n",
       "</div>"
      ],
      "text/plain": [
       "     STATE/UT DISTRICT  YEAR  MURDER  ATTEMPT TO MURDER  \\\n",
       "8557   KERALA    TOTAL  2012     374                497   \n",
       "\n",
       "      CULPABLE HOMICIDE NOT AMOUNTING TO MURDER  RAPE  CUSTODIAL RAPE  \\\n",
       "8557                                        107  1019               0   \n",
       "\n",
       "      OTHER RAPE  KIDNAPPING & ABDUCTION  ...  ARSON  HURT/GREVIOUS HURT  \\\n",
       "8557        1019                     281  ...    568               21170   \n",
       "\n",
       "      DOWRY DEATHS  ASSAULT ON WOMEN WITH INTENT TO OUTRAGE HER MODESTY  \\\n",
       "8557            32                                               3735     \n",
       "\n",
       "      INSULT TO MODESTY OF WOMEN  CRUELTY BY HUSBAND OR HIS RELATIVES  \\\n",
       "8557                         498                                 5216   \n",
       "\n",
       "      IMPORTATION OF GIRLS FROM FOREIGN COUNTRIES  \\\n",
       "8557                                            0   \n",
       "\n",
       "      CAUSING DEATH BY NEGLIGENCE  OTHER IPC CRIMES  TOTAL IPC CRIMES  \n",
       "8557                           48            101582            158989  \n",
       "\n",
       "[1 rows x 33 columns]"
      ]
     },
     "execution_count": 78,
     "metadata": {},
     "output_type": "execute_result"
    }
   ],
   "source": [
    "kerala_crime = crime_type[8557:8558]\n",
    "kerala_crime"
   ]
  },
  {
   "cell_type": "code",
   "execution_count": 79,
   "id": "6d4f4bf0",
   "metadata": {},
   "outputs": [
    {
     "data": {
      "text/plain": [
       "8557    158989\n",
       "Name: TOTAL IPC CRIMES, dtype: int64"
      ]
     },
     "execution_count": 79,
     "metadata": {},
     "output_type": "execute_result"
    }
   ],
   "source": [
    "kerala_crime = kerala_crime['TOTAL IPC CRIMES']\n",
    "kerala_crime"
   ]
  },
  {
   "cell_type": "code",
   "execution_count": null,
   "id": "7bf70f21",
   "metadata": {},
   "outputs": [],
   "source": []
  },
  {
   "cell_type": "code",
   "execution_count": 80,
   "id": "0dbfef04",
   "metadata": {},
   "outputs": [],
   "source": [
    "# population data for Kerala"
   ]
  },
  {
   "cell_type": "code",
   "execution_count": 81,
   "id": "2db89ab4",
   "metadata": {},
   "outputs": [
    {
     "data": {
      "text/html": [
       "<div>\n",
       "<style scoped>\n",
       "    .dataframe tbody tr th:only-of-type {\n",
       "        vertical-align: middle;\n",
       "    }\n",
       "\n",
       "    .dataframe tbody tr th {\n",
       "        vertical-align: top;\n",
       "    }\n",
       "\n",
       "    .dataframe thead th {\n",
       "        text-align: right;\n",
       "    }\n",
       "</style>\n",
       "<table border=\"1\" class=\"dataframe\">\n",
       "  <thead>\n",
       "    <tr style=\"text-align: right;\">\n",
       "      <th></th>\n",
       "      <th>S.No</th>\n",
       "      <th>State</th>\n",
       "      <th>total_population</th>\n",
       "      <th>population_male</th>\n",
       "      <th>population_female</th>\n",
       "    </tr>\n",
       "  </thead>\n",
       "  <tbody>\n",
       "    <tr>\n",
       "      <th>16</th>\n",
       "      <td>17</td>\n",
       "      <td>KERALA</td>\n",
       "      <td>2755973</td>\n",
       "      <td>1335615</td>\n",
       "      <td>1420358</td>\n",
       "    </tr>\n",
       "  </tbody>\n",
       "</table>\n",
       "</div>"
      ],
      "text/plain": [
       "    S.No   State  total_population  population_male  population_female\n",
       "16    17  KERALA           2755973          1335615            1420358"
      ]
     },
     "execution_count": 81,
     "metadata": {},
     "output_type": "execute_result"
    }
   ],
   "source": [
    "kerala_popu = state_popu[16:17]\n",
    "kerala_popu"
   ]
  },
  {
   "cell_type": "code",
   "execution_count": 82,
   "id": "05793e7b",
   "metadata": {},
   "outputs": [
    {
     "data": {
      "text/plain": [
       "16    2755973\n",
       "Name: total_population, dtype: int64"
      ]
     },
     "execution_count": 82,
     "metadata": {},
     "output_type": "execute_result"
    }
   ],
   "source": [
    "kerala_popu = kerala_popu['total_population']\n",
    "kerala_popu"
   ]
  },
  {
   "cell_type": "code",
   "execution_count": null,
   "id": "28ee6f3f",
   "metadata": {},
   "outputs": [],
   "source": []
  },
  {
   "cell_type": "code",
   "execution_count": null,
   "id": "7f131cf2",
   "metadata": {},
   "outputs": [],
   "source": []
  },
  {
   "cell_type": "code",
   "execution_count": null,
   "id": "86f82e37",
   "metadata": {},
   "outputs": [],
   "source": []
  },
  {
   "cell_type": "code",
   "execution_count": 83,
   "id": "aec786c4",
   "metadata": {},
   "outputs": [],
   "source": [
    "# crime data for Madhya Pradesh"
   ]
  },
  {
   "cell_type": "code",
   "execution_count": 84,
   "id": "b1766cc9",
   "metadata": {},
   "outputs": [
    {
     "data": {
      "text/html": [
       "<div>\n",
       "<style scoped>\n",
       "    .dataframe tbody tr th:only-of-type {\n",
       "        vertical-align: middle;\n",
       "    }\n",
       "\n",
       "    .dataframe tbody tr th {\n",
       "        vertical-align: top;\n",
       "    }\n",
       "\n",
       "    .dataframe thead th {\n",
       "        text-align: right;\n",
       "    }\n",
       "</style>\n",
       "<table border=\"1\" class=\"dataframe\">\n",
       "  <thead>\n",
       "    <tr style=\"text-align: right;\">\n",
       "      <th></th>\n",
       "      <th>STATE/UT</th>\n",
       "      <th>DISTRICT</th>\n",
       "      <th>YEAR</th>\n",
       "      <th>MURDER</th>\n",
       "      <th>ATTEMPT TO MURDER</th>\n",
       "      <th>CULPABLE HOMICIDE NOT AMOUNTING TO MURDER</th>\n",
       "      <th>RAPE</th>\n",
       "      <th>CUSTODIAL RAPE</th>\n",
       "      <th>OTHER RAPE</th>\n",
       "      <th>KIDNAPPING &amp; ABDUCTION</th>\n",
       "      <th>...</th>\n",
       "      <th>ARSON</th>\n",
       "      <th>HURT/GREVIOUS HURT</th>\n",
       "      <th>DOWRY DEATHS</th>\n",
       "      <th>ASSAULT ON WOMEN WITH INTENT TO OUTRAGE HER MODESTY</th>\n",
       "      <th>INSULT TO MODESTY OF WOMEN</th>\n",
       "      <th>CRUELTY BY HUSBAND OR HIS RELATIVES</th>\n",
       "      <th>IMPORTATION OF GIRLS FROM FOREIGN COUNTRIES</th>\n",
       "      <th>CAUSING DEATH BY NEGLIGENCE</th>\n",
       "      <th>OTHER IPC CRIMES</th>\n",
       "      <th>TOTAL IPC CRIMES</th>\n",
       "    </tr>\n",
       "  </thead>\n",
       "  <tbody>\n",
       "    <tr>\n",
       "      <th>8611</th>\n",
       "      <td>MADHYA PRADESH</td>\n",
       "      <td>TOTAL</td>\n",
       "      <td>2012</td>\n",
       "      <td>2373</td>\n",
       "      <td>2332</td>\n",
       "      <td>114</td>\n",
       "      <td>3425</td>\n",
       "      <td>0</td>\n",
       "      <td>3425</td>\n",
       "      <td>1302</td>\n",
       "      <td>...</td>\n",
       "      <td>814</td>\n",
       "      <td>35549</td>\n",
       "      <td>743</td>\n",
       "      <td>6655</td>\n",
       "      <td>774</td>\n",
       "      <td>3988</td>\n",
       "      <td>6</td>\n",
       "      <td>7721</td>\n",
       "      <td>114585</td>\n",
       "      <td>220335</td>\n",
       "    </tr>\n",
       "  </tbody>\n",
       "</table>\n",
       "<p>1 rows × 33 columns</p>\n",
       "</div>"
      ],
      "text/plain": [
       "            STATE/UT DISTRICT  YEAR  MURDER  ATTEMPT TO MURDER  \\\n",
       "8611  MADHYA PRADESH    TOTAL  2012    2373               2332   \n",
       "\n",
       "      CULPABLE HOMICIDE NOT AMOUNTING TO MURDER  RAPE  CUSTODIAL RAPE  \\\n",
       "8611                                        114  3425               0   \n",
       "\n",
       "      OTHER RAPE  KIDNAPPING & ABDUCTION  ...  ARSON  HURT/GREVIOUS HURT  \\\n",
       "8611        3425                    1302  ...    814               35549   \n",
       "\n",
       "      DOWRY DEATHS  ASSAULT ON WOMEN WITH INTENT TO OUTRAGE HER MODESTY  \\\n",
       "8611           743                                               6655     \n",
       "\n",
       "      INSULT TO MODESTY OF WOMEN  CRUELTY BY HUSBAND OR HIS RELATIVES  \\\n",
       "8611                         774                                 3988   \n",
       "\n",
       "      IMPORTATION OF GIRLS FROM FOREIGN COUNTRIES  \\\n",
       "8611                                            6   \n",
       "\n",
       "      CAUSING DEATH BY NEGLIGENCE  OTHER IPC CRIMES  TOTAL IPC CRIMES  \n",
       "8611                         7721            114585            220335  \n",
       "\n",
       "[1 rows x 33 columns]"
      ]
     },
     "execution_count": 84,
     "metadata": {},
     "output_type": "execute_result"
    }
   ],
   "source": [
    "mp_crime = crime_type[8611:8612]\n",
    "mp_crime"
   ]
  },
  {
   "cell_type": "code",
   "execution_count": 85,
   "id": "aa26d270",
   "metadata": {},
   "outputs": [
    {
     "data": {
      "text/plain": [
       "8611    220335\n",
       "Name: TOTAL IPC CRIMES, dtype: int64"
      ]
     },
     "execution_count": 85,
     "metadata": {},
     "output_type": "execute_result"
    }
   ],
   "source": [
    "mp_crime = mp_crime['TOTAL IPC CRIMES']\n",
    "mp_crime"
   ]
  },
  {
   "cell_type": "code",
   "execution_count": null,
   "id": "015342c8",
   "metadata": {},
   "outputs": [],
   "source": []
  },
  {
   "cell_type": "code",
   "execution_count": 86,
   "id": "21bf609b",
   "metadata": {},
   "outputs": [],
   "source": [
    "# population data for Madhya Pradesh"
   ]
  },
  {
   "cell_type": "code",
   "execution_count": 87,
   "id": "6258c99a",
   "metadata": {},
   "outputs": [
    {
     "data": {
      "text/html": [
       "<div>\n",
       "<style scoped>\n",
       "    .dataframe tbody tr th:only-of-type {\n",
       "        vertical-align: middle;\n",
       "    }\n",
       "\n",
       "    .dataframe tbody tr th {\n",
       "        vertical-align: top;\n",
       "    }\n",
       "\n",
       "    .dataframe thead th {\n",
       "        text-align: right;\n",
       "    }\n",
       "</style>\n",
       "<table border=\"1\" class=\"dataframe\">\n",
       "  <thead>\n",
       "    <tr style=\"text-align: right;\">\n",
       "      <th></th>\n",
       "      <th>S.No</th>\n",
       "      <th>State</th>\n",
       "      <th>total_population</th>\n",
       "      <th>population_male</th>\n",
       "      <th>population_female</th>\n",
       "    </tr>\n",
       "  </thead>\n",
       "  <tbody>\n",
       "    <tr>\n",
       "      <th>8</th>\n",
       "      <td>9</td>\n",
       "      <td>MADHYA PRADESH</td>\n",
       "      <td>11023091</td>\n",
       "      <td>5761143</td>\n",
       "      <td>5261948</td>\n",
       "    </tr>\n",
       "  </tbody>\n",
       "</table>\n",
       "</div>"
      ],
      "text/plain": [
       "   S.No           State  total_population  population_male  population_female\n",
       "8     9  MADHYA PRADESH          11023091          5761143            5261948"
      ]
     },
     "execution_count": 87,
     "metadata": {},
     "output_type": "execute_result"
    }
   ],
   "source": [
    "mp_popu = state_popu[8:9]\n",
    "mp_popu"
   ]
  },
  {
   "cell_type": "code",
   "execution_count": 88,
   "id": "f43760e9",
   "metadata": {},
   "outputs": [
    {
     "data": {
      "text/plain": [
       "8    11023091\n",
       "Name: total_population, dtype: int64"
      ]
     },
     "execution_count": 88,
     "metadata": {},
     "output_type": "execute_result"
    }
   ],
   "source": [
    "mp_popu = mp_popu['total_population']\n",
    "mp_popu"
   ]
  },
  {
   "cell_type": "code",
   "execution_count": null,
   "id": "f6ab53e6",
   "metadata": {},
   "outputs": [],
   "source": []
  },
  {
   "cell_type": "code",
   "execution_count": null,
   "id": "84cc8e26",
   "metadata": {},
   "outputs": [],
   "source": []
  },
  {
   "cell_type": "code",
   "execution_count": null,
   "id": "b0668fa8",
   "metadata": {},
   "outputs": [],
   "source": []
  },
  {
   "cell_type": "code",
   "execution_count": 89,
   "id": "5d5197a4",
   "metadata": {},
   "outputs": [],
   "source": [
    "# crime data for Maharashtra"
   ]
  },
  {
   "cell_type": "code",
   "execution_count": 90,
   "id": "fc806aa8",
   "metadata": {},
   "outputs": [
    {
     "data": {
      "text/html": [
       "<div>\n",
       "<style scoped>\n",
       "    .dataframe tbody tr th:only-of-type {\n",
       "        vertical-align: middle;\n",
       "    }\n",
       "\n",
       "    .dataframe tbody tr th {\n",
       "        vertical-align: top;\n",
       "    }\n",
       "\n",
       "    .dataframe thead th {\n",
       "        text-align: right;\n",
       "    }\n",
       "</style>\n",
       "<table border=\"1\" class=\"dataframe\">\n",
       "  <thead>\n",
       "    <tr style=\"text-align: right;\">\n",
       "      <th></th>\n",
       "      <th>STATE/UT</th>\n",
       "      <th>DISTRICT</th>\n",
       "      <th>YEAR</th>\n",
       "      <th>MURDER</th>\n",
       "      <th>ATTEMPT TO MURDER</th>\n",
       "      <th>CULPABLE HOMICIDE NOT AMOUNTING TO MURDER</th>\n",
       "      <th>RAPE</th>\n",
       "      <th>CUSTODIAL RAPE</th>\n",
       "      <th>OTHER RAPE</th>\n",
       "      <th>KIDNAPPING &amp; ABDUCTION</th>\n",
       "      <th>...</th>\n",
       "      <th>ARSON</th>\n",
       "      <th>HURT/GREVIOUS HURT</th>\n",
       "      <th>DOWRY DEATHS</th>\n",
       "      <th>ASSAULT ON WOMEN WITH INTENT TO OUTRAGE HER MODESTY</th>\n",
       "      <th>INSULT TO MODESTY OF WOMEN</th>\n",
       "      <th>CRUELTY BY HUSBAND OR HIS RELATIVES</th>\n",
       "      <th>IMPORTATION OF GIRLS FROM FOREIGN COUNTRIES</th>\n",
       "      <th>CAUSING DEATH BY NEGLIGENCE</th>\n",
       "      <th>OTHER IPC CRIMES</th>\n",
       "      <th>TOTAL IPC CRIMES</th>\n",
       "    </tr>\n",
       "  </thead>\n",
       "  <tbody>\n",
       "    <tr>\n",
       "      <th>8657</th>\n",
       "      <td>MAHARASHTRA</td>\n",
       "      <td>TOTAL</td>\n",
       "      <td>2012</td>\n",
       "      <td>2712</td>\n",
       "      <td>2168</td>\n",
       "      <td>171</td>\n",
       "      <td>1839</td>\n",
       "      <td>0</td>\n",
       "      <td>1839</td>\n",
       "      <td>1583</td>\n",
       "      <td>...</td>\n",
       "      <td>1246</td>\n",
       "      <td>28392</td>\n",
       "      <td>329</td>\n",
       "      <td>3935</td>\n",
       "      <td>1294</td>\n",
       "      <td>7415</td>\n",
       "      <td>0</td>\n",
       "      <td>13311</td>\n",
       "      <td>46668</td>\n",
       "      <td>202700</td>\n",
       "    </tr>\n",
       "  </tbody>\n",
       "</table>\n",
       "<p>1 rows × 33 columns</p>\n",
       "</div>"
      ],
      "text/plain": [
       "         STATE/UT DISTRICT  YEAR  MURDER  ATTEMPT TO MURDER  \\\n",
       "8657  MAHARASHTRA    TOTAL  2012    2712               2168   \n",
       "\n",
       "      CULPABLE HOMICIDE NOT AMOUNTING TO MURDER  RAPE  CUSTODIAL RAPE  \\\n",
       "8657                                        171  1839               0   \n",
       "\n",
       "      OTHER RAPE  KIDNAPPING & ABDUCTION  ...  ARSON  HURT/GREVIOUS HURT  \\\n",
       "8657        1839                    1583  ...   1246               28392   \n",
       "\n",
       "      DOWRY DEATHS  ASSAULT ON WOMEN WITH INTENT TO OUTRAGE HER MODESTY  \\\n",
       "8657           329                                               3935     \n",
       "\n",
       "      INSULT TO MODESTY OF WOMEN  CRUELTY BY HUSBAND OR HIS RELATIVES  \\\n",
       "8657                        1294                                 7415   \n",
       "\n",
       "      IMPORTATION OF GIRLS FROM FOREIGN COUNTRIES  \\\n",
       "8657                                            0   \n",
       "\n",
       "      CAUSING DEATH BY NEGLIGENCE  OTHER IPC CRIMES  TOTAL IPC CRIMES  \n",
       "8657                        13311             46668            202700  \n",
       "\n",
       "[1 rows x 33 columns]"
      ]
     },
     "execution_count": 90,
     "metadata": {},
     "output_type": "execute_result"
    }
   ],
   "source": [
    "mh_crime = crime_type[8657:8658]\n",
    "mh_crime"
   ]
  },
  {
   "cell_type": "code",
   "execution_count": 91,
   "id": "1416ab10",
   "metadata": {},
   "outputs": [
    {
     "data": {
      "text/plain": [
       "8657    202700\n",
       "Name: TOTAL IPC CRIMES, dtype: int64"
      ]
     },
     "execution_count": 91,
     "metadata": {},
     "output_type": "execute_result"
    }
   ],
   "source": [
    "mh_crime = mh_crime['TOTAL IPC CRIMES']\n",
    "mh_crime"
   ]
  },
  {
   "cell_type": "code",
   "execution_count": null,
   "id": "b897c0d3",
   "metadata": {},
   "outputs": [],
   "source": []
  },
  {
   "cell_type": "code",
   "execution_count": 92,
   "id": "d1b6f2c5",
   "metadata": {},
   "outputs": [],
   "source": [
    "# population  data for  Maharashtra"
   ]
  },
  {
   "cell_type": "code",
   "execution_count": 93,
   "id": "94c4e6b8",
   "metadata": {},
   "outputs": [
    {
     "data": {
      "text/html": [
       "<div>\n",
       "<style scoped>\n",
       "    .dataframe tbody tr th:only-of-type {\n",
       "        vertical-align: middle;\n",
       "    }\n",
       "\n",
       "    .dataframe tbody tr th {\n",
       "        vertical-align: top;\n",
       "    }\n",
       "\n",
       "    .dataframe thead th {\n",
       "        text-align: right;\n",
       "    }\n",
       "</style>\n",
       "<table border=\"1\" class=\"dataframe\">\n",
       "  <thead>\n",
       "    <tr style=\"text-align: right;\">\n",
       "      <th></th>\n",
       "      <th>S.No</th>\n",
       "      <th>State</th>\n",
       "      <th>total_population</th>\n",
       "      <th>population_male</th>\n",
       "      <th>population_female</th>\n",
       "    </tr>\n",
       "  </thead>\n",
       "  <tbody>\n",
       "    <tr>\n",
       "      <th>0</th>\n",
       "      <td>1</td>\n",
       "      <td>MAHARASHTRA</td>\n",
       "      <td>37722136</td>\n",
       "      <td>19961736</td>\n",
       "      <td>17760400</td>\n",
       "    </tr>\n",
       "  </tbody>\n",
       "</table>\n",
       "</div>"
      ],
      "text/plain": [
       "   S.No        State  total_population  population_male  population_female\n",
       "0     1  MAHARASHTRA          37722136         19961736           17760400"
      ]
     },
     "execution_count": 93,
     "metadata": {},
     "output_type": "execute_result"
    }
   ],
   "source": [
    "mh_popu = state_popu[0:1]\n",
    "mh_popu"
   ]
  },
  {
   "cell_type": "code",
   "execution_count": 94,
   "id": "1ea91484",
   "metadata": {},
   "outputs": [
    {
     "data": {
      "text/plain": [
       "0    37722136\n",
       "Name: total_population, dtype: int64"
      ]
     },
     "execution_count": 94,
     "metadata": {},
     "output_type": "execute_result"
    }
   ],
   "source": [
    "mh_popu = mh_popu['total_population']\n",
    "mh_popu"
   ]
  },
  {
   "cell_type": "code",
   "execution_count": null,
   "id": "745c06a2",
   "metadata": {},
   "outputs": [],
   "source": []
  },
  {
   "cell_type": "code",
   "execution_count": null,
   "id": "a80abd96",
   "metadata": {},
   "outputs": [],
   "source": []
  },
  {
   "cell_type": "code",
   "execution_count": null,
   "id": "50349ddc",
   "metadata": {},
   "outputs": [],
   "source": []
  },
  {
   "cell_type": "code",
   "execution_count": 95,
   "id": "6708fd5a",
   "metadata": {},
   "outputs": [],
   "source": [
    "# crime data for Manipur"
   ]
  },
  {
   "cell_type": "code",
   "execution_count": 96,
   "id": "e1a5a9a3",
   "metadata": {},
   "outputs": [
    {
     "data": {
      "text/html": [
       "<div>\n",
       "<style scoped>\n",
       "    .dataframe tbody tr th:only-of-type {\n",
       "        vertical-align: middle;\n",
       "    }\n",
       "\n",
       "    .dataframe tbody tr th {\n",
       "        vertical-align: top;\n",
       "    }\n",
       "\n",
       "    .dataframe thead th {\n",
       "        text-align: right;\n",
       "    }\n",
       "</style>\n",
       "<table border=\"1\" class=\"dataframe\">\n",
       "  <thead>\n",
       "    <tr style=\"text-align: right;\">\n",
       "      <th></th>\n",
       "      <th>STATE/UT</th>\n",
       "      <th>DISTRICT</th>\n",
       "      <th>YEAR</th>\n",
       "      <th>MURDER</th>\n",
       "      <th>ATTEMPT TO MURDER</th>\n",
       "      <th>CULPABLE HOMICIDE NOT AMOUNTING TO MURDER</th>\n",
       "      <th>RAPE</th>\n",
       "      <th>CUSTODIAL RAPE</th>\n",
       "      <th>OTHER RAPE</th>\n",
       "      <th>KIDNAPPING &amp; ABDUCTION</th>\n",
       "      <th>...</th>\n",
       "      <th>ARSON</th>\n",
       "      <th>HURT/GREVIOUS HURT</th>\n",
       "      <th>DOWRY DEATHS</th>\n",
       "      <th>ASSAULT ON WOMEN WITH INTENT TO OUTRAGE HER MODESTY</th>\n",
       "      <th>INSULT TO MODESTY OF WOMEN</th>\n",
       "      <th>CRUELTY BY HUSBAND OR HIS RELATIVES</th>\n",
       "      <th>IMPORTATION OF GIRLS FROM FOREIGN COUNTRIES</th>\n",
       "      <th>CAUSING DEATH BY NEGLIGENCE</th>\n",
       "      <th>OTHER IPC CRIMES</th>\n",
       "      <th>TOTAL IPC CRIMES</th>\n",
       "    </tr>\n",
       "  </thead>\n",
       "  <tbody>\n",
       "    <tr>\n",
       "      <th>8668</th>\n",
       "      <td>MANIPUR</td>\n",
       "      <td>TOTAL</td>\n",
       "      <td>2012</td>\n",
       "      <td>83</td>\n",
       "      <td>409</td>\n",
       "      <td>4</td>\n",
       "      <td>63</td>\n",
       "      <td>0</td>\n",
       "      <td>63</td>\n",
       "      <td>223</td>\n",
       "      <td>...</td>\n",
       "      <td>74</td>\n",
       "      <td>285</td>\n",
       "      <td>0</td>\n",
       "      <td>49</td>\n",
       "      <td>1</td>\n",
       "      <td>43</td>\n",
       "      <td>0</td>\n",
       "      <td>2</td>\n",
       "      <td>1086</td>\n",
       "      <td>3737</td>\n",
       "    </tr>\n",
       "  </tbody>\n",
       "</table>\n",
       "<p>1 rows × 33 columns</p>\n",
       "</div>"
      ],
      "text/plain": [
       "     STATE/UT DISTRICT  YEAR  MURDER  ATTEMPT TO MURDER  \\\n",
       "8668  MANIPUR    TOTAL  2012      83                409   \n",
       "\n",
       "      CULPABLE HOMICIDE NOT AMOUNTING TO MURDER  RAPE  CUSTODIAL RAPE  \\\n",
       "8668                                          4    63               0   \n",
       "\n",
       "      OTHER RAPE  KIDNAPPING & ABDUCTION  ...  ARSON  HURT/GREVIOUS HURT  \\\n",
       "8668          63                     223  ...     74                 285   \n",
       "\n",
       "      DOWRY DEATHS  ASSAULT ON WOMEN WITH INTENT TO OUTRAGE HER MODESTY  \\\n",
       "8668             0                                                 49     \n",
       "\n",
       "      INSULT TO MODESTY OF WOMEN  CRUELTY BY HUSBAND OR HIS RELATIVES  \\\n",
       "8668                           1                                   43   \n",
       "\n",
       "      IMPORTATION OF GIRLS FROM FOREIGN COUNTRIES  \\\n",
       "8668                                            0   \n",
       "\n",
       "      CAUSING DEATH BY NEGLIGENCE  OTHER IPC CRIMES  TOTAL IPC CRIMES  \n",
       "8668                            2              1086              3737  \n",
       "\n",
       "[1 rows x 33 columns]"
      ]
     },
     "execution_count": 96,
     "metadata": {},
     "output_type": "execute_result"
    }
   ],
   "source": [
    "manipur_crime = crime_type[8668:8669]\n",
    "manipur_crime"
   ]
  },
  {
   "cell_type": "code",
   "execution_count": 97,
   "id": "465a050c",
   "metadata": {},
   "outputs": [
    {
     "data": {
      "text/plain": [
       "8668    3737\n",
       "Name: TOTAL IPC CRIMES, dtype: int64"
      ]
     },
     "execution_count": 97,
     "metadata": {},
     "output_type": "execute_result"
    }
   ],
   "source": [
    "manipur_crime = manipur_crime['TOTAL IPC CRIMES']\n",
    "manipur_crime"
   ]
  },
  {
   "cell_type": "code",
   "execution_count": null,
   "id": "27cfecd1",
   "metadata": {},
   "outputs": [],
   "source": []
  },
  {
   "cell_type": "code",
   "execution_count": 98,
   "id": "6445c719",
   "metadata": {},
   "outputs": [],
   "source": [
    "# population data for Manipur"
   ]
  },
  {
   "cell_type": "code",
   "execution_count": 99,
   "id": "51d81ed0",
   "metadata": {},
   "outputs": [
    {
     "data": {
      "text/html": [
       "<div>\n",
       "<style scoped>\n",
       "    .dataframe tbody tr th:only-of-type {\n",
       "        vertical-align: middle;\n",
       "    }\n",
       "\n",
       "    .dataframe tbody tr th {\n",
       "        vertical-align: top;\n",
       "    }\n",
       "\n",
       "    .dataframe thead th {\n",
       "        text-align: right;\n",
       "    }\n",
       "</style>\n",
       "<table border=\"1\" class=\"dataframe\">\n",
       "  <thead>\n",
       "    <tr style=\"text-align: right;\">\n",
       "      <th></th>\n",
       "      <th>S.No</th>\n",
       "      <th>State</th>\n",
       "      <th>total_population</th>\n",
       "      <th>population_male</th>\n",
       "      <th>population_female</th>\n",
       "    </tr>\n",
       "  </thead>\n",
       "  <tbody>\n",
       "    <tr>\n",
       "      <th>24</th>\n",
       "      <td>25</td>\n",
       "      <td>MANIPUR</td>\n",
       "      <td>264986</td>\n",
       "      <td>128931</td>\n",
       "      <td>136055</td>\n",
       "    </tr>\n",
       "  </tbody>\n",
       "</table>\n",
       "</div>"
      ],
      "text/plain": [
       "    S.No    State  total_population  population_male  population_female\n",
       "24    25  MANIPUR            264986           128931             136055"
      ]
     },
     "execution_count": 99,
     "metadata": {},
     "output_type": "execute_result"
    }
   ],
   "source": [
    "manipur_popu = state_popu[24:25]\n",
    "manipur_popu"
   ]
  },
  {
   "cell_type": "code",
   "execution_count": 100,
   "id": "084e55a8",
   "metadata": {},
   "outputs": [
    {
     "data": {
      "text/plain": [
       "24    264986\n",
       "Name: total_population, dtype: int64"
      ]
     },
     "execution_count": 100,
     "metadata": {},
     "output_type": "execute_result"
    }
   ],
   "source": [
    "manipur_popu = manipur_popu['total_population']\n",
    "manipur_popu"
   ]
  },
  {
   "cell_type": "code",
   "execution_count": null,
   "id": "23738983",
   "metadata": {},
   "outputs": [],
   "source": []
  },
  {
   "cell_type": "code",
   "execution_count": null,
   "id": "a0337c04",
   "metadata": {},
   "outputs": [],
   "source": []
  },
  {
   "cell_type": "code",
   "execution_count": null,
   "id": "5d843d26",
   "metadata": {},
   "outputs": [],
   "source": []
  },
  {
   "cell_type": "code",
   "execution_count": 101,
   "id": "02047a88",
   "metadata": {},
   "outputs": [],
   "source": [
    "# crime data for Meghalaya"
   ]
  },
  {
   "cell_type": "code",
   "execution_count": 102,
   "id": "3dc7d40f",
   "metadata": {},
   "outputs": [
    {
     "data": {
      "text/html": [
       "<div>\n",
       "<style scoped>\n",
       "    .dataframe tbody tr th:only-of-type {\n",
       "        vertical-align: middle;\n",
       "    }\n",
       "\n",
       "    .dataframe tbody tr th {\n",
       "        vertical-align: top;\n",
       "    }\n",
       "\n",
       "    .dataframe thead th {\n",
       "        text-align: right;\n",
       "    }\n",
       "</style>\n",
       "<table border=\"1\" class=\"dataframe\">\n",
       "  <thead>\n",
       "    <tr style=\"text-align: right;\">\n",
       "      <th></th>\n",
       "      <th>STATE/UT</th>\n",
       "      <th>DISTRICT</th>\n",
       "      <th>YEAR</th>\n",
       "      <th>MURDER</th>\n",
       "      <th>ATTEMPT TO MURDER</th>\n",
       "      <th>CULPABLE HOMICIDE NOT AMOUNTING TO MURDER</th>\n",
       "      <th>RAPE</th>\n",
       "      <th>CUSTODIAL RAPE</th>\n",
       "      <th>OTHER RAPE</th>\n",
       "      <th>KIDNAPPING &amp; ABDUCTION</th>\n",
       "      <th>...</th>\n",
       "      <th>ARSON</th>\n",
       "      <th>HURT/GREVIOUS HURT</th>\n",
       "      <th>DOWRY DEATHS</th>\n",
       "      <th>ASSAULT ON WOMEN WITH INTENT TO OUTRAGE HER MODESTY</th>\n",
       "      <th>INSULT TO MODESTY OF WOMEN</th>\n",
       "      <th>CRUELTY BY HUSBAND OR HIS RELATIVES</th>\n",
       "      <th>IMPORTATION OF GIRLS FROM FOREIGN COUNTRIES</th>\n",
       "      <th>CAUSING DEATH BY NEGLIGENCE</th>\n",
       "      <th>OTHER IPC CRIMES</th>\n",
       "      <th>TOTAL IPC CRIMES</th>\n",
       "    </tr>\n",
       "  </thead>\n",
       "  <tbody>\n",
       "    <tr>\n",
       "      <th>8676</th>\n",
       "      <td>MEGHALAYA</td>\n",
       "      <td>TOTAL</td>\n",
       "      <td>2012</td>\n",
       "      <td>137</td>\n",
       "      <td>63</td>\n",
       "      <td>8</td>\n",
       "      <td>164</td>\n",
       "      <td>0</td>\n",
       "      <td>164</td>\n",
       "      <td>92</td>\n",
       "      <td>...</td>\n",
       "      <td>61</td>\n",
       "      <td>157</td>\n",
       "      <td>1</td>\n",
       "      <td>43</td>\n",
       "      <td>0</td>\n",
       "      <td>16</td>\n",
       "      <td>0</td>\n",
       "      <td>102</td>\n",
       "      <td>761</td>\n",
       "      <td>2557</td>\n",
       "    </tr>\n",
       "  </tbody>\n",
       "</table>\n",
       "<p>1 rows × 33 columns</p>\n",
       "</div>"
      ],
      "text/plain": [
       "       STATE/UT DISTRICT  YEAR  MURDER  ATTEMPT TO MURDER  \\\n",
       "8676  MEGHALAYA    TOTAL  2012     137                 63   \n",
       "\n",
       "      CULPABLE HOMICIDE NOT AMOUNTING TO MURDER  RAPE  CUSTODIAL RAPE  \\\n",
       "8676                                          8   164               0   \n",
       "\n",
       "      OTHER RAPE  KIDNAPPING & ABDUCTION  ...  ARSON  HURT/GREVIOUS HURT  \\\n",
       "8676         164                      92  ...     61                 157   \n",
       "\n",
       "      DOWRY DEATHS  ASSAULT ON WOMEN WITH INTENT TO OUTRAGE HER MODESTY  \\\n",
       "8676             1                                                 43     \n",
       "\n",
       "      INSULT TO MODESTY OF WOMEN  CRUELTY BY HUSBAND OR HIS RELATIVES  \\\n",
       "8676                           0                                   16   \n",
       "\n",
       "      IMPORTATION OF GIRLS FROM FOREIGN COUNTRIES  \\\n",
       "8676                                            0   \n",
       "\n",
       "      CAUSING DEATH BY NEGLIGENCE  OTHER IPC CRIMES  TOTAL IPC CRIMES  \n",
       "8676                          102               761              2557  \n",
       "\n",
       "[1 rows x 33 columns]"
      ]
     },
     "execution_count": 102,
     "metadata": {},
     "output_type": "execute_result"
    }
   ],
   "source": [
    "meghalya_crime = crime_type[8676:8677]\n",
    "meghalya_crime"
   ]
  },
  {
   "cell_type": "code",
   "execution_count": 103,
   "id": "10ee3ae7",
   "metadata": {},
   "outputs": [
    {
     "data": {
      "text/plain": [
       "8676    2557\n",
       "Name: TOTAL IPC CRIMES, dtype: int64"
      ]
     },
     "execution_count": 103,
     "metadata": {},
     "output_type": "execute_result"
    }
   ],
   "source": [
    "meghalya_crime = meghalya_crime['TOTAL IPC CRIMES']\n",
    "meghalya_crime"
   ]
  },
  {
   "cell_type": "code",
   "execution_count": null,
   "id": "58ef8f3b",
   "metadata": {},
   "outputs": [],
   "source": []
  },
  {
   "cell_type": "code",
   "execution_count": 104,
   "id": "eb858b71",
   "metadata": {},
   "outputs": [],
   "source": [
    "# population data for Meghalaya"
   ]
  },
  {
   "cell_type": "code",
   "execution_count": 105,
   "id": "fa16942b",
   "metadata": {},
   "outputs": [
    {
     "data": {
      "text/html": [
       "<div>\n",
       "<style scoped>\n",
       "    .dataframe tbody tr th:only-of-type {\n",
       "        vertical-align: middle;\n",
       "    }\n",
       "\n",
       "    .dataframe tbody tr th {\n",
       "        vertical-align: top;\n",
       "    }\n",
       "\n",
       "    .dataframe thead th {\n",
       "        text-align: right;\n",
       "    }\n",
       "</style>\n",
       "<table border=\"1\" class=\"dataframe\">\n",
       "  <thead>\n",
       "    <tr style=\"text-align: right;\">\n",
       "      <th></th>\n",
       "      <th>S.No</th>\n",
       "      <th>State</th>\n",
       "      <th>total_population</th>\n",
       "      <th>population_male</th>\n",
       "      <th>population_female</th>\n",
       "    </tr>\n",
       "  </thead>\n",
       "  <tbody>\n",
       "    <tr>\n",
       "      <th>26</th>\n",
       "      <td>27</td>\n",
       "      <td>MEGHALAYA</td>\n",
       "      <td>143007</td>\n",
       "      <td>70028</td>\n",
       "      <td>72979</td>\n",
       "    </tr>\n",
       "  </tbody>\n",
       "</table>\n",
       "</div>"
      ],
      "text/plain": [
       "    S.No      State  total_population  population_male  population_female\n",
       "26    27  MEGHALAYA            143007            70028              72979"
      ]
     },
     "execution_count": 105,
     "metadata": {},
     "output_type": "execute_result"
    }
   ],
   "source": [
    "meghalya_popu = state_popu[26:27]\n",
    "meghalya_popu"
   ]
  },
  {
   "cell_type": "code",
   "execution_count": 106,
   "id": "50c71a1d",
   "metadata": {},
   "outputs": [
    {
     "data": {
      "text/plain": [
       "26    143007\n",
       "Name: total_population, dtype: int64"
      ]
     },
     "execution_count": 106,
     "metadata": {},
     "output_type": "execute_result"
    }
   ],
   "source": [
    "meghalya_popu = meghalya_popu['total_population']\n",
    "meghalya_popu"
   ]
  },
  {
   "cell_type": "code",
   "execution_count": null,
   "id": "fc2fa161",
   "metadata": {},
   "outputs": [],
   "source": []
  },
  {
   "cell_type": "code",
   "execution_count": null,
   "id": "c686005a",
   "metadata": {},
   "outputs": [],
   "source": []
  },
  {
   "cell_type": "code",
   "execution_count": null,
   "id": "6532340b",
   "metadata": {},
   "outputs": [],
   "source": []
  },
  {
   "cell_type": "code",
   "execution_count": 107,
   "id": "26a0b7d5",
   "metadata": {},
   "outputs": [],
   "source": [
    "# crime data for Mizoram"
   ]
  },
  {
   "cell_type": "code",
   "execution_count": 108,
   "id": "fc9321e9",
   "metadata": {},
   "outputs": [
    {
     "data": {
      "text/html": [
       "<div>\n",
       "<style scoped>\n",
       "    .dataframe tbody tr th:only-of-type {\n",
       "        vertical-align: middle;\n",
       "    }\n",
       "\n",
       "    .dataframe tbody tr th {\n",
       "        vertical-align: top;\n",
       "    }\n",
       "\n",
       "    .dataframe thead th {\n",
       "        text-align: right;\n",
       "    }\n",
       "</style>\n",
       "<table border=\"1\" class=\"dataframe\">\n",
       "  <thead>\n",
       "    <tr style=\"text-align: right;\">\n",
       "      <th></th>\n",
       "      <th>STATE/UT</th>\n",
       "      <th>DISTRICT</th>\n",
       "      <th>YEAR</th>\n",
       "      <th>MURDER</th>\n",
       "      <th>ATTEMPT TO MURDER</th>\n",
       "      <th>CULPABLE HOMICIDE NOT AMOUNTING TO MURDER</th>\n",
       "      <th>RAPE</th>\n",
       "      <th>CUSTODIAL RAPE</th>\n",
       "      <th>OTHER RAPE</th>\n",
       "      <th>KIDNAPPING &amp; ABDUCTION</th>\n",
       "      <th>...</th>\n",
       "      <th>ARSON</th>\n",
       "      <th>HURT/GREVIOUS HURT</th>\n",
       "      <th>DOWRY DEATHS</th>\n",
       "      <th>ASSAULT ON WOMEN WITH INTENT TO OUTRAGE HER MODESTY</th>\n",
       "      <th>INSULT TO MODESTY OF WOMEN</th>\n",
       "      <th>CRUELTY BY HUSBAND OR HIS RELATIVES</th>\n",
       "      <th>IMPORTATION OF GIRLS FROM FOREIGN COUNTRIES</th>\n",
       "      <th>CAUSING DEATH BY NEGLIGENCE</th>\n",
       "      <th>OTHER IPC CRIMES</th>\n",
       "      <th>TOTAL IPC CRIMES</th>\n",
       "    </tr>\n",
       "  </thead>\n",
       "  <tbody>\n",
       "    <tr>\n",
       "      <th>8685</th>\n",
       "      <td>MIZORAM</td>\n",
       "      <td>TOTAL</td>\n",
       "      <td>2012</td>\n",
       "      <td>30</td>\n",
       "      <td>21</td>\n",
       "      <td>7</td>\n",
       "      <td>103</td>\n",
       "      <td>0</td>\n",
       "      <td>103</td>\n",
       "      <td>8</td>\n",
       "      <td>...</td>\n",
       "      <td>12</td>\n",
       "      <td>103</td>\n",
       "      <td>0</td>\n",
       "      <td>85</td>\n",
       "      <td>0</td>\n",
       "      <td>8</td>\n",
       "      <td>0</td>\n",
       "      <td>34</td>\n",
       "      <td>336</td>\n",
       "      <td>1766</td>\n",
       "    </tr>\n",
       "  </tbody>\n",
       "</table>\n",
       "<p>1 rows × 33 columns</p>\n",
       "</div>"
      ],
      "text/plain": [
       "     STATE/UT DISTRICT  YEAR  MURDER  ATTEMPT TO MURDER  \\\n",
       "8685  MIZORAM    TOTAL  2012      30                 21   \n",
       "\n",
       "      CULPABLE HOMICIDE NOT AMOUNTING TO MURDER  RAPE  CUSTODIAL RAPE  \\\n",
       "8685                                          7   103               0   \n",
       "\n",
       "      OTHER RAPE  KIDNAPPING & ABDUCTION  ...  ARSON  HURT/GREVIOUS HURT  \\\n",
       "8685         103                       8  ...     12                 103   \n",
       "\n",
       "      DOWRY DEATHS  ASSAULT ON WOMEN WITH INTENT TO OUTRAGE HER MODESTY  \\\n",
       "8685             0                                                 85     \n",
       "\n",
       "      INSULT TO MODESTY OF WOMEN  CRUELTY BY HUSBAND OR HIS RELATIVES  \\\n",
       "8685                           0                                    8   \n",
       "\n",
       "      IMPORTATION OF GIRLS FROM FOREIGN COUNTRIES  \\\n",
       "8685                                            0   \n",
       "\n",
       "      CAUSING DEATH BY NEGLIGENCE  OTHER IPC CRIMES  TOTAL IPC CRIMES  \n",
       "8685                           34               336              1766  \n",
       "\n",
       "[1 rows x 33 columns]"
      ]
     },
     "execution_count": 108,
     "metadata": {},
     "output_type": "execute_result"
    }
   ],
   "source": [
    "mizoram_crime = crime_type[8685:8686]\n",
    "mizoram_crime"
   ]
  },
  {
   "cell_type": "code",
   "execution_count": 109,
   "id": "171410a3",
   "metadata": {},
   "outputs": [
    {
     "data": {
      "text/plain": [
       "8685    1766\n",
       "Name: TOTAL IPC CRIMES, dtype: int64"
      ]
     },
     "execution_count": 109,
     "metadata": {},
     "output_type": "execute_result"
    }
   ],
   "source": [
    "mizoram_crime = mizoram_crime['TOTAL IPC CRIMES']\n",
    "mizoram_crime"
   ]
  },
  {
   "cell_type": "code",
   "execution_count": null,
   "id": "9589b945",
   "metadata": {},
   "outputs": [],
   "source": []
  },
  {
   "cell_type": "code",
   "execution_count": 110,
   "id": "d4de911d",
   "metadata": {},
   "outputs": [],
   "source": [
    "# population data for Mizoram "
   ]
  },
  {
   "cell_type": "code",
   "execution_count": 111,
   "id": "d926b8bf",
   "metadata": {},
   "outputs": [
    {
     "data": {
      "text/html": [
       "<div>\n",
       "<style scoped>\n",
       "    .dataframe tbody tr th:only-of-type {\n",
       "        vertical-align: middle;\n",
       "    }\n",
       "\n",
       "    .dataframe tbody tr th {\n",
       "        vertical-align: top;\n",
       "    }\n",
       "\n",
       "    .dataframe thead th {\n",
       "        text-align: right;\n",
       "    }\n",
       "</style>\n",
       "<table border=\"1\" class=\"dataframe\">\n",
       "  <thead>\n",
       "    <tr style=\"text-align: right;\">\n",
       "      <th></th>\n",
       "      <th>S.No</th>\n",
       "      <th>State</th>\n",
       "      <th>total_population</th>\n",
       "      <th>population_male</th>\n",
       "      <th>population_female</th>\n",
       "    </tr>\n",
       "  </thead>\n",
       "  <tbody>\n",
       "    <tr>\n",
       "      <th>23</th>\n",
       "      <td>24</td>\n",
       "      <td>MIZORAM</td>\n",
       "      <td>291822</td>\n",
       "      <td>143803</td>\n",
       "      <td>148019</td>\n",
       "    </tr>\n",
       "  </tbody>\n",
       "</table>\n",
       "</div>"
      ],
      "text/plain": [
       "    S.No    State  total_population  population_male  population_female\n",
       "23    24  MIZORAM            291822           143803             148019"
      ]
     },
     "execution_count": 111,
     "metadata": {},
     "output_type": "execute_result"
    }
   ],
   "source": [
    "mizoram_popu = state_popu[23:24]\n",
    "mizoram_popu"
   ]
  },
  {
   "cell_type": "code",
   "execution_count": 112,
   "id": "71affa57",
   "metadata": {},
   "outputs": [
    {
     "data": {
      "text/plain": [
       "23    291822\n",
       "Name: total_population, dtype: int64"
      ]
     },
     "execution_count": 112,
     "metadata": {},
     "output_type": "execute_result"
    }
   ],
   "source": [
    "mizoram_popu = mizoram_popu['total_population']\n",
    "mizoram_popu"
   ]
  },
  {
   "cell_type": "code",
   "execution_count": null,
   "id": "e4ef74b5",
   "metadata": {},
   "outputs": [],
   "source": []
  },
  {
   "cell_type": "code",
   "execution_count": null,
   "id": "0ecf0629",
   "metadata": {},
   "outputs": [],
   "source": []
  },
  {
   "cell_type": "code",
   "execution_count": null,
   "id": "8abf156f",
   "metadata": {},
   "outputs": [],
   "source": []
  },
  {
   "cell_type": "code",
   "execution_count": 113,
   "id": "712353ec",
   "metadata": {},
   "outputs": [],
   "source": [
    "# crime data for Nagaland"
   ]
  },
  {
   "cell_type": "code",
   "execution_count": 114,
   "id": "7eb7d03f",
   "metadata": {},
   "outputs": [
    {
     "data": {
      "text/html": [
       "<div>\n",
       "<style scoped>\n",
       "    .dataframe tbody tr th:only-of-type {\n",
       "        vertical-align: middle;\n",
       "    }\n",
       "\n",
       "    .dataframe tbody tr th {\n",
       "        vertical-align: top;\n",
       "    }\n",
       "\n",
       "    .dataframe thead th {\n",
       "        text-align: right;\n",
       "    }\n",
       "</style>\n",
       "<table border=\"1\" class=\"dataframe\">\n",
       "  <thead>\n",
       "    <tr style=\"text-align: right;\">\n",
       "      <th></th>\n",
       "      <th>STATE/UT</th>\n",
       "      <th>DISTRICT</th>\n",
       "      <th>YEAR</th>\n",
       "      <th>MURDER</th>\n",
       "      <th>ATTEMPT TO MURDER</th>\n",
       "      <th>CULPABLE HOMICIDE NOT AMOUNTING TO MURDER</th>\n",
       "      <th>RAPE</th>\n",
       "      <th>CUSTODIAL RAPE</th>\n",
       "      <th>OTHER RAPE</th>\n",
       "      <th>KIDNAPPING &amp; ABDUCTION</th>\n",
       "      <th>...</th>\n",
       "      <th>ARSON</th>\n",
       "      <th>HURT/GREVIOUS HURT</th>\n",
       "      <th>DOWRY DEATHS</th>\n",
       "      <th>ASSAULT ON WOMEN WITH INTENT TO OUTRAGE HER MODESTY</th>\n",
       "      <th>INSULT TO MODESTY OF WOMEN</th>\n",
       "      <th>CRUELTY BY HUSBAND OR HIS RELATIVES</th>\n",
       "      <th>IMPORTATION OF GIRLS FROM FOREIGN COUNTRIES</th>\n",
       "      <th>CAUSING DEATH BY NEGLIGENCE</th>\n",
       "      <th>OTHER IPC CRIMES</th>\n",
       "      <th>TOTAL IPC CRIMES</th>\n",
       "    </tr>\n",
       "  </thead>\n",
       "  <tbody>\n",
       "    <tr>\n",
       "      <th>8697</th>\n",
       "      <td>NAGALAND</td>\n",
       "      <td>TOTAL</td>\n",
       "      <td>2012</td>\n",
       "      <td>75</td>\n",
       "      <td>42</td>\n",
       "      <td>6</td>\n",
       "      <td>21</td>\n",
       "      <td>0</td>\n",
       "      <td>21</td>\n",
       "      <td>27</td>\n",
       "      <td>...</td>\n",
       "      <td>7</td>\n",
       "      <td>30</td>\n",
       "      <td>0</td>\n",
       "      <td>16</td>\n",
       "      <td>0</td>\n",
       "      <td>0</td>\n",
       "      <td>0</td>\n",
       "      <td>31</td>\n",
       "      <td>266</td>\n",
       "      <td>1090</td>\n",
       "    </tr>\n",
       "  </tbody>\n",
       "</table>\n",
       "<p>1 rows × 33 columns</p>\n",
       "</div>"
      ],
      "text/plain": [
       "      STATE/UT DISTRICT  YEAR  MURDER  ATTEMPT TO MURDER  \\\n",
       "8697  NAGALAND    TOTAL  2012      75                 42   \n",
       "\n",
       "      CULPABLE HOMICIDE NOT AMOUNTING TO MURDER  RAPE  CUSTODIAL RAPE  \\\n",
       "8697                                          6    21               0   \n",
       "\n",
       "      OTHER RAPE  KIDNAPPING & ABDUCTION  ...  ARSON  HURT/GREVIOUS HURT  \\\n",
       "8697          21                      27  ...      7                  30   \n",
       "\n",
       "      DOWRY DEATHS  ASSAULT ON WOMEN WITH INTENT TO OUTRAGE HER MODESTY  \\\n",
       "8697             0                                                 16     \n",
       "\n",
       "      INSULT TO MODESTY OF WOMEN  CRUELTY BY HUSBAND OR HIS RELATIVES  \\\n",
       "8697                           0                                    0   \n",
       "\n",
       "      IMPORTATION OF GIRLS FROM FOREIGN COUNTRIES  \\\n",
       "8697                                            0   \n",
       "\n",
       "      CAUSING DEATH BY NEGLIGENCE  OTHER IPC CRIMES  TOTAL IPC CRIMES  \n",
       "8697                           31               266              1090  \n",
       "\n",
       "[1 rows x 33 columns]"
      ]
     },
     "execution_count": 114,
     "metadata": {},
     "output_type": "execute_result"
    }
   ],
   "source": [
    "nagaland_crime = crime_type[8697:8698]\n",
    "nagaland_crime"
   ]
  },
  {
   "cell_type": "code",
   "execution_count": 115,
   "id": "75f1ebe4",
   "metadata": {},
   "outputs": [
    {
     "data": {
      "text/plain": [
       "8697    1090\n",
       "Name: TOTAL IPC CRIMES, dtype: int64"
      ]
     },
     "execution_count": 115,
     "metadata": {},
     "output_type": "execute_result"
    }
   ],
   "source": [
    "nagaland_crime = nagaland_crime['TOTAL IPC CRIMES']\n",
    "nagaland_crime"
   ]
  },
  {
   "cell_type": "code",
   "execution_count": null,
   "id": "287cb7cc",
   "metadata": {},
   "outputs": [],
   "source": []
  },
  {
   "cell_type": "code",
   "execution_count": 116,
   "id": "049f5b73",
   "metadata": {},
   "outputs": [],
   "source": [
    "# population data for Nagaland "
   ]
  },
  {
   "cell_type": "code",
   "execution_count": 117,
   "id": "56182fdf",
   "metadata": {},
   "outputs": [
    {
     "data": {
      "text/html": [
       "<div>\n",
       "<style scoped>\n",
       "    .dataframe tbody tr th:only-of-type {\n",
       "        vertical-align: middle;\n",
       "    }\n",
       "\n",
       "    .dataframe tbody tr th {\n",
       "        vertical-align: top;\n",
       "    }\n",
       "\n",
       "    .dataframe thead th {\n",
       "        text-align: right;\n",
       "    }\n",
       "</style>\n",
       "<table border=\"1\" class=\"dataframe\">\n",
       "  <thead>\n",
       "    <tr style=\"text-align: right;\">\n",
       "      <th></th>\n",
       "      <th>S.No</th>\n",
       "      <th>State</th>\n",
       "      <th>total_population</th>\n",
       "      <th>population_male</th>\n",
       "      <th>population_female</th>\n",
       "    </tr>\n",
       "  </thead>\n",
       "  <tbody>\n",
       "    <tr>\n",
       "      <th>27</th>\n",
       "      <td>28</td>\n",
       "      <td>NAGALAND</td>\n",
       "      <td>123777</td>\n",
       "      <td>65017</td>\n",
       "      <td>58760</td>\n",
       "    </tr>\n",
       "  </tbody>\n",
       "</table>\n",
       "</div>"
      ],
      "text/plain": [
       "    S.No     State  total_population  population_male  population_female\n",
       "27    28  NAGALAND            123777            65017              58760"
      ]
     },
     "execution_count": 117,
     "metadata": {},
     "output_type": "execute_result"
    }
   ],
   "source": [
    "nagaland_popu = state_popu[27:28]\n",
    "nagaland_popu"
   ]
  },
  {
   "cell_type": "code",
   "execution_count": 118,
   "id": "68d30d2f",
   "metadata": {},
   "outputs": [
    {
     "data": {
      "text/plain": [
       "27    123777\n",
       "Name: total_population, dtype: int64"
      ]
     },
     "execution_count": 118,
     "metadata": {},
     "output_type": "execute_result"
    }
   ],
   "source": [
    "nagaland_popu = nagaland_popu['total_population']\n",
    "nagaland_popu"
   ]
  },
  {
   "cell_type": "code",
   "execution_count": null,
   "id": "f5593aec",
   "metadata": {},
   "outputs": [],
   "source": []
  },
  {
   "cell_type": "code",
   "execution_count": null,
   "id": "b6926140",
   "metadata": {},
   "outputs": [],
   "source": []
  },
  {
   "cell_type": "code",
   "execution_count": null,
   "id": "c8cc3df2",
   "metadata": {},
   "outputs": [],
   "source": []
  },
  {
   "cell_type": "code",
   "execution_count": 119,
   "id": "4a48465f",
   "metadata": {},
   "outputs": [],
   "source": [
    "# crime data for Odisha"
   ]
  },
  {
   "cell_type": "code",
   "execution_count": 120,
   "id": "61fde1de",
   "metadata": {},
   "outputs": [
    {
     "data": {
      "text/html": [
       "<div>\n",
       "<style scoped>\n",
       "    .dataframe tbody tr th:only-of-type {\n",
       "        vertical-align: middle;\n",
       "    }\n",
       "\n",
       "    .dataframe tbody tr th {\n",
       "        vertical-align: top;\n",
       "    }\n",
       "\n",
       "    .dataframe thead th {\n",
       "        text-align: right;\n",
       "    }\n",
       "</style>\n",
       "<table border=\"1\" class=\"dataframe\">\n",
       "  <thead>\n",
       "    <tr style=\"text-align: right;\">\n",
       "      <th></th>\n",
       "      <th>STATE/UT</th>\n",
       "      <th>DISTRICT</th>\n",
       "      <th>YEAR</th>\n",
       "      <th>MURDER</th>\n",
       "      <th>ATTEMPT TO MURDER</th>\n",
       "      <th>CULPABLE HOMICIDE NOT AMOUNTING TO MURDER</th>\n",
       "      <th>RAPE</th>\n",
       "      <th>CUSTODIAL RAPE</th>\n",
       "      <th>OTHER RAPE</th>\n",
       "      <th>KIDNAPPING &amp; ABDUCTION</th>\n",
       "      <th>...</th>\n",
       "      <th>ARSON</th>\n",
       "      <th>HURT/GREVIOUS HURT</th>\n",
       "      <th>DOWRY DEATHS</th>\n",
       "      <th>ASSAULT ON WOMEN WITH INTENT TO OUTRAGE HER MODESTY</th>\n",
       "      <th>INSULT TO MODESTY OF WOMEN</th>\n",
       "      <th>CRUELTY BY HUSBAND OR HIS RELATIVES</th>\n",
       "      <th>IMPORTATION OF GIRLS FROM FOREIGN COUNTRIES</th>\n",
       "      <th>CAUSING DEATH BY NEGLIGENCE</th>\n",
       "      <th>OTHER IPC CRIMES</th>\n",
       "      <th>TOTAL IPC CRIMES</th>\n",
       "    </tr>\n",
       "  </thead>\n",
       "  <tbody>\n",
       "    <tr>\n",
       "      <th>8734</th>\n",
       "      <td>ODISHA</td>\n",
       "      <td>TOTAL</td>\n",
       "      <td>2012</td>\n",
       "      <td>1548</td>\n",
       "      <td>1879</td>\n",
       "      <td>54</td>\n",
       "      <td>1458</td>\n",
       "      <td>0</td>\n",
       "      <td>1458</td>\n",
       "      <td>1542</td>\n",
       "      <td>...</td>\n",
       "      <td>469</td>\n",
       "      <td>8223</td>\n",
       "      <td>525</td>\n",
       "      <td>4187</td>\n",
       "      <td>304</td>\n",
       "      <td>2638</td>\n",
       "      <td>0</td>\n",
       "      <td>3605</td>\n",
       "      <td>22203</td>\n",
       "      <td>67957</td>\n",
       "    </tr>\n",
       "  </tbody>\n",
       "</table>\n",
       "<p>1 rows × 33 columns</p>\n",
       "</div>"
      ],
      "text/plain": [
       "     STATE/UT DISTRICT  YEAR  MURDER  ATTEMPT TO MURDER  \\\n",
       "8734   ODISHA    TOTAL  2012    1548               1879   \n",
       "\n",
       "      CULPABLE HOMICIDE NOT AMOUNTING TO MURDER  RAPE  CUSTODIAL RAPE  \\\n",
       "8734                                         54  1458               0   \n",
       "\n",
       "      OTHER RAPE  KIDNAPPING & ABDUCTION  ...  ARSON  HURT/GREVIOUS HURT  \\\n",
       "8734        1458                    1542  ...    469                8223   \n",
       "\n",
       "      DOWRY DEATHS  ASSAULT ON WOMEN WITH INTENT TO OUTRAGE HER MODESTY  \\\n",
       "8734           525                                               4187     \n",
       "\n",
       "      INSULT TO MODESTY OF WOMEN  CRUELTY BY HUSBAND OR HIS RELATIVES  \\\n",
       "8734                         304                                 2638   \n",
       "\n",
       "      IMPORTATION OF GIRLS FROM FOREIGN COUNTRIES  \\\n",
       "8734                                            0   \n",
       "\n",
       "      CAUSING DEATH BY NEGLIGENCE  OTHER IPC CRIMES  TOTAL IPC CRIMES  \n",
       "8734                         3605             22203             67957  \n",
       "\n",
       "[1 rows x 33 columns]"
      ]
     },
     "execution_count": 120,
     "metadata": {},
     "output_type": "execute_result"
    }
   ],
   "source": [
    "odisha_crime = crime_type[8734:8735]\n",
    "odisha_crime"
   ]
  },
  {
   "cell_type": "code",
   "execution_count": 121,
   "id": "7068116e",
   "metadata": {},
   "outputs": [
    {
     "data": {
      "text/plain": [
       "8734    67957\n",
       "Name: TOTAL IPC CRIMES, dtype: int64"
      ]
     },
     "execution_count": 121,
     "metadata": {},
     "output_type": "execute_result"
    }
   ],
   "source": [
    "odisha_crime = odisha_crime['TOTAL IPC CRIMES']\n",
    "odisha_crime"
   ]
  },
  {
   "cell_type": "code",
   "execution_count": null,
   "id": "60099446",
   "metadata": {},
   "outputs": [],
   "source": []
  },
  {
   "cell_type": "code",
   "execution_count": 122,
   "id": "04806778",
   "metadata": {},
   "outputs": [],
   "source": [
    "# population data for Odisha"
   ]
  },
  {
   "cell_type": "code",
   "execution_count": 123,
   "id": "dd5fa654",
   "metadata": {},
   "outputs": [
    {
     "data": {
      "text/html": [
       "<div>\n",
       "<style scoped>\n",
       "    .dataframe tbody tr th:only-of-type {\n",
       "        vertical-align: middle;\n",
       "    }\n",
       "\n",
       "    .dataframe tbody tr th {\n",
       "        vertical-align: top;\n",
       "    }\n",
       "\n",
       "    .dataframe thead th {\n",
       "        text-align: right;\n",
       "    }\n",
       "</style>\n",
       "<table border=\"1\" class=\"dataframe\">\n",
       "  <thead>\n",
       "    <tr style=\"text-align: right;\">\n",
       "      <th></th>\n",
       "      <th>S.No</th>\n",
       "      <th>State</th>\n",
       "      <th>total_population</th>\n",
       "      <th>population_male</th>\n",
       "      <th>population_female</th>\n",
       "    </tr>\n",
       "  </thead>\n",
       "  <tbody>\n",
       "    <tr>\n",
       "      <th>15</th>\n",
       "      <td>16</td>\n",
       "      <td>ORISSA</td>\n",
       "      <td>3003234</td>\n",
       "      <td>1560423</td>\n",
       "      <td>1442811</td>\n",
       "    </tr>\n",
       "  </tbody>\n",
       "</table>\n",
       "</div>"
      ],
      "text/plain": [
       "    S.No   State  total_population  population_male  population_female\n",
       "15    16  ORISSA           3003234          1560423            1442811"
      ]
     },
     "execution_count": 123,
     "metadata": {},
     "output_type": "execute_result"
    }
   ],
   "source": [
    "odisha_popu = state_popu[15:16]\n",
    "odisha_popu"
   ]
  },
  {
   "cell_type": "code",
   "execution_count": 124,
   "id": "6033fb61",
   "metadata": {},
   "outputs": [
    {
     "data": {
      "text/plain": [
       "15    3003234\n",
       "Name: total_population, dtype: int64"
      ]
     },
     "execution_count": 124,
     "metadata": {},
     "output_type": "execute_result"
    }
   ],
   "source": [
    "odisha_popu = odisha_popu['total_population']\n",
    "odisha_popu"
   ]
  },
  {
   "cell_type": "code",
   "execution_count": null,
   "id": "8ba37df9",
   "metadata": {},
   "outputs": [],
   "source": []
  },
  {
   "cell_type": "code",
   "execution_count": null,
   "id": "d703d7ad",
   "metadata": {},
   "outputs": [],
   "source": []
  },
  {
   "cell_type": "code",
   "execution_count": 125,
   "id": "ae9e50fb",
   "metadata": {},
   "outputs": [],
   "source": [
    "# crime data for Punjab"
   ]
  },
  {
   "cell_type": "code",
   "execution_count": 126,
   "id": "fa5b2a8a",
   "metadata": {},
   "outputs": [
    {
     "data": {
      "text/html": [
       "<div>\n",
       "<style scoped>\n",
       "    .dataframe tbody tr th:only-of-type {\n",
       "        vertical-align: middle;\n",
       "    }\n",
       "\n",
       "    .dataframe tbody tr th {\n",
       "        vertical-align: top;\n",
       "    }\n",
       "\n",
       "    .dataframe thead th {\n",
       "        text-align: right;\n",
       "    }\n",
       "</style>\n",
       "<table border=\"1\" class=\"dataframe\">\n",
       "  <thead>\n",
       "    <tr style=\"text-align: right;\">\n",
       "      <th></th>\n",
       "      <th>STATE/UT</th>\n",
       "      <th>DISTRICT</th>\n",
       "      <th>YEAR</th>\n",
       "      <th>MURDER</th>\n",
       "      <th>ATTEMPT TO MURDER</th>\n",
       "      <th>CULPABLE HOMICIDE NOT AMOUNTING TO MURDER</th>\n",
       "      <th>RAPE</th>\n",
       "      <th>CUSTODIAL RAPE</th>\n",
       "      <th>OTHER RAPE</th>\n",
       "      <th>KIDNAPPING &amp; ABDUCTION</th>\n",
       "      <th>...</th>\n",
       "      <th>ARSON</th>\n",
       "      <th>HURT/GREVIOUS HURT</th>\n",
       "      <th>DOWRY DEATHS</th>\n",
       "      <th>ASSAULT ON WOMEN WITH INTENT TO OUTRAGE HER MODESTY</th>\n",
       "      <th>INSULT TO MODESTY OF WOMEN</th>\n",
       "      <th>CRUELTY BY HUSBAND OR HIS RELATIVES</th>\n",
       "      <th>IMPORTATION OF GIRLS FROM FOREIGN COUNTRIES</th>\n",
       "      <th>CAUSING DEATH BY NEGLIGENCE</th>\n",
       "      <th>OTHER IPC CRIMES</th>\n",
       "      <th>TOTAL IPC CRIMES</th>\n",
       "    </tr>\n",
       "  </thead>\n",
       "  <tbody>\n",
       "    <tr>\n",
       "      <th>8763</th>\n",
       "      <td>PUNJAB</td>\n",
       "      <td>TOTAL</td>\n",
       "      <td>2012</td>\n",
       "      <td>855</td>\n",
       "      <td>1045</td>\n",
       "      <td>104</td>\n",
       "      <td>680</td>\n",
       "      <td>1</td>\n",
       "      <td>679</td>\n",
       "      <td>919</td>\n",
       "      <td>...</td>\n",
       "      <td>74</td>\n",
       "      <td>4186</td>\n",
       "      <td>118</td>\n",
       "      <td>340</td>\n",
       "      <td>31</td>\n",
       "      <td>1293</td>\n",
       "      <td>0</td>\n",
       "      <td>3405</td>\n",
       "      <td>10405</td>\n",
       "      <td>35790</td>\n",
       "    </tr>\n",
       "  </tbody>\n",
       "</table>\n",
       "<p>1 rows × 33 columns</p>\n",
       "</div>"
      ],
      "text/plain": [
       "     STATE/UT DISTRICT  YEAR  MURDER  ATTEMPT TO MURDER  \\\n",
       "8763   PUNJAB    TOTAL  2012     855               1045   \n",
       "\n",
       "      CULPABLE HOMICIDE NOT AMOUNTING TO MURDER  RAPE  CUSTODIAL RAPE  \\\n",
       "8763                                        104   680               1   \n",
       "\n",
       "      OTHER RAPE  KIDNAPPING & ABDUCTION  ...  ARSON  HURT/GREVIOUS HURT  \\\n",
       "8763         679                     919  ...     74                4186   \n",
       "\n",
       "      DOWRY DEATHS  ASSAULT ON WOMEN WITH INTENT TO OUTRAGE HER MODESTY  \\\n",
       "8763           118                                                340     \n",
       "\n",
       "      INSULT TO MODESTY OF WOMEN  CRUELTY BY HUSBAND OR HIS RELATIVES  \\\n",
       "8763                          31                                 1293   \n",
       "\n",
       "      IMPORTATION OF GIRLS FROM FOREIGN COUNTRIES  \\\n",
       "8763                                            0   \n",
       "\n",
       "      CAUSING DEATH BY NEGLIGENCE  OTHER IPC CRIMES  TOTAL IPC CRIMES  \n",
       "8763                         3405             10405             35790  \n",
       "\n",
       "[1 rows x 33 columns]"
      ]
     },
     "execution_count": 126,
     "metadata": {},
     "output_type": "execute_result"
    }
   ],
   "source": [
    "punjab_crime = crime_type[8763:8764]\n",
    "punjab_crime"
   ]
  },
  {
   "cell_type": "code",
   "execution_count": 127,
   "id": "f76a7d26",
   "metadata": {},
   "outputs": [
    {
     "data": {
      "text/plain": [
       "8763    35790\n",
       "Name: TOTAL IPC CRIMES, dtype: int64"
      ]
     },
     "execution_count": 127,
     "metadata": {},
     "output_type": "execute_result"
    }
   ],
   "source": [
    "punjab_crime = punjab_crime['TOTAL IPC CRIMES']\n",
    "punjab_crime"
   ]
  },
  {
   "cell_type": "code",
   "execution_count": null,
   "id": "e81f0298",
   "metadata": {},
   "outputs": [],
   "source": []
  },
  {
   "cell_type": "code",
   "execution_count": 128,
   "id": "eafd5c51",
   "metadata": {},
   "outputs": [],
   "source": [
    "# population data for Punjab"
   ]
  },
  {
   "cell_type": "code",
   "execution_count": 129,
   "id": "0160a684",
   "metadata": {},
   "outputs": [
    {
     "data": {
      "text/html": [
       "<div>\n",
       "<style scoped>\n",
       "    .dataframe tbody tr th:only-of-type {\n",
       "        vertical-align: middle;\n",
       "    }\n",
       "\n",
       "    .dataframe tbody tr th {\n",
       "        vertical-align: top;\n",
       "    }\n",
       "\n",
       "    .dataframe thead th {\n",
       "        text-align: right;\n",
       "    }\n",
       "</style>\n",
       "<table border=\"1\" class=\"dataframe\">\n",
       "  <thead>\n",
       "    <tr style=\"text-align: right;\">\n",
       "      <th></th>\n",
       "      <th>S.No</th>\n",
       "      <th>State</th>\n",
       "      <th>total_population</th>\n",
       "      <th>population_male</th>\n",
       "      <th>population_female</th>\n",
       "    </tr>\n",
       "  </thead>\n",
       "  <tbody>\n",
       "    <tr>\n",
       "      <th>12</th>\n",
       "      <td>13</td>\n",
       "      <td>PUNJAB</td>\n",
       "      <td>5821876</td>\n",
       "      <td>3106473</td>\n",
       "      <td>2715403</td>\n",
       "    </tr>\n",
       "  </tbody>\n",
       "</table>\n",
       "</div>"
      ],
      "text/plain": [
       "    S.No   State  total_population  population_male  population_female\n",
       "12    13  PUNJAB           5821876          3106473            2715403"
      ]
     },
     "execution_count": 129,
     "metadata": {},
     "output_type": "execute_result"
    }
   ],
   "source": [
    "punjab_popu = state_popu[12:13]\n",
    "punjab_popu"
   ]
  },
  {
   "cell_type": "code",
   "execution_count": 130,
   "id": "2ce549bc",
   "metadata": {},
   "outputs": [
    {
     "data": {
      "text/plain": [
       "12    5821876\n",
       "Name: total_population, dtype: int64"
      ]
     },
     "execution_count": 130,
     "metadata": {},
     "output_type": "execute_result"
    }
   ],
   "source": [
    "punjab_popu = punjab_popu['total_population']\n",
    "punjab_popu"
   ]
  },
  {
   "cell_type": "code",
   "execution_count": null,
   "id": "1b88eeca",
   "metadata": {},
   "outputs": [],
   "source": []
  },
  {
   "cell_type": "code",
   "execution_count": null,
   "id": "860fedeb",
   "metadata": {},
   "outputs": [],
   "source": []
  },
  {
   "cell_type": "code",
   "execution_count": 131,
   "id": "1ee2dda7",
   "metadata": {},
   "outputs": [],
   "source": [
    "# crime data for Rajasthan"
   ]
  },
  {
   "cell_type": "code",
   "execution_count": 132,
   "id": "aaf2726a",
   "metadata": {},
   "outputs": [
    {
     "data": {
      "text/html": [
       "<div>\n",
       "<style scoped>\n",
       "    .dataframe tbody tr th:only-of-type {\n",
       "        vertical-align: middle;\n",
       "    }\n",
       "\n",
       "    .dataframe tbody tr th {\n",
       "        vertical-align: top;\n",
       "    }\n",
       "\n",
       "    .dataframe thead th {\n",
       "        text-align: right;\n",
       "    }\n",
       "</style>\n",
       "<table border=\"1\" class=\"dataframe\">\n",
       "  <thead>\n",
       "    <tr style=\"text-align: right;\">\n",
       "      <th></th>\n",
       "      <th>STATE/UT</th>\n",
       "      <th>DISTRICT</th>\n",
       "      <th>YEAR</th>\n",
       "      <th>MURDER</th>\n",
       "      <th>ATTEMPT TO MURDER</th>\n",
       "      <th>CULPABLE HOMICIDE NOT AMOUNTING TO MURDER</th>\n",
       "      <th>RAPE</th>\n",
       "      <th>CUSTODIAL RAPE</th>\n",
       "      <th>OTHER RAPE</th>\n",
       "      <th>KIDNAPPING &amp; ABDUCTION</th>\n",
       "      <th>...</th>\n",
       "      <th>ARSON</th>\n",
       "      <th>HURT/GREVIOUS HURT</th>\n",
       "      <th>DOWRY DEATHS</th>\n",
       "      <th>ASSAULT ON WOMEN WITH INTENT TO OUTRAGE HER MODESTY</th>\n",
       "      <th>INSULT TO MODESTY OF WOMEN</th>\n",
       "      <th>CRUELTY BY HUSBAND OR HIS RELATIVES</th>\n",
       "      <th>IMPORTATION OF GIRLS FROM FOREIGN COUNTRIES</th>\n",
       "      <th>CAUSING DEATH BY NEGLIGENCE</th>\n",
       "      <th>OTHER IPC CRIMES</th>\n",
       "      <th>TOTAL IPC CRIMES</th>\n",
       "    </tr>\n",
       "  </thead>\n",
       "  <tbody>\n",
       "    <tr>\n",
       "      <th>8806</th>\n",
       "      <td>RAJASTHAN</td>\n",
       "      <td>TOTAL</td>\n",
       "      <td>2012</td>\n",
       "      <td>1461</td>\n",
       "      <td>1538</td>\n",
       "      <td>98</td>\n",
       "      <td>2049</td>\n",
       "      <td>0</td>\n",
       "      <td>2049</td>\n",
       "      <td>3243</td>\n",
       "      <td>...</td>\n",
       "      <td>475</td>\n",
       "      <td>17614</td>\n",
       "      <td>478</td>\n",
       "      <td>2352</td>\n",
       "      <td>18</td>\n",
       "      <td>13312</td>\n",
       "      <td>0</td>\n",
       "      <td>8284</td>\n",
       "      <td>70240</td>\n",
       "      <td>170948</td>\n",
       "    </tr>\n",
       "  </tbody>\n",
       "</table>\n",
       "<p>1 rows × 33 columns</p>\n",
       "</div>"
      ],
      "text/plain": [
       "       STATE/UT DISTRICT  YEAR  MURDER  ATTEMPT TO MURDER  \\\n",
       "8806  RAJASTHAN    TOTAL  2012    1461               1538   \n",
       "\n",
       "      CULPABLE HOMICIDE NOT AMOUNTING TO MURDER  RAPE  CUSTODIAL RAPE  \\\n",
       "8806                                         98  2049               0   \n",
       "\n",
       "      OTHER RAPE  KIDNAPPING & ABDUCTION  ...  ARSON  HURT/GREVIOUS HURT  \\\n",
       "8806        2049                    3243  ...    475               17614   \n",
       "\n",
       "      DOWRY DEATHS  ASSAULT ON WOMEN WITH INTENT TO OUTRAGE HER MODESTY  \\\n",
       "8806           478                                               2352     \n",
       "\n",
       "      INSULT TO MODESTY OF WOMEN  CRUELTY BY HUSBAND OR HIS RELATIVES  \\\n",
       "8806                          18                                13312   \n",
       "\n",
       "      IMPORTATION OF GIRLS FROM FOREIGN COUNTRIES  \\\n",
       "8806                                            0   \n",
       "\n",
       "      CAUSING DEATH BY NEGLIGENCE  OTHER IPC CRIMES  TOTAL IPC CRIMES  \n",
       "8806                         8284             70240            170948  \n",
       "\n",
       "[1 rows x 33 columns]"
      ]
     },
     "execution_count": 132,
     "metadata": {},
     "output_type": "execute_result"
    }
   ],
   "source": [
    "raja_crime = crime_type[8806:8807]\n",
    "raja_crime"
   ]
  },
  {
   "cell_type": "code",
   "execution_count": 133,
   "id": "399e809e",
   "metadata": {},
   "outputs": [
    {
     "data": {
      "text/plain": [
       "8806    170948\n",
       "Name: TOTAL IPC CRIMES, dtype: int64"
      ]
     },
     "execution_count": 133,
     "metadata": {},
     "output_type": "execute_result"
    }
   ],
   "source": [
    "raja_crime = raja_crime['TOTAL IPC CRIMES']\n",
    "raja_crime"
   ]
  },
  {
   "cell_type": "code",
   "execution_count": null,
   "id": "741fac66",
   "metadata": {},
   "outputs": [],
   "source": []
  },
  {
   "cell_type": "code",
   "execution_count": 134,
   "id": "ec03d1c6",
   "metadata": {},
   "outputs": [],
   "source": [
    "# population data for Rajasthan"
   ]
  },
  {
   "cell_type": "code",
   "execution_count": 135,
   "id": "5b3931db",
   "metadata": {},
   "outputs": [
    {
     "data": {
      "text/html": [
       "<div>\n",
       "<style scoped>\n",
       "    .dataframe tbody tr th:only-of-type {\n",
       "        vertical-align: middle;\n",
       "    }\n",
       "\n",
       "    .dataframe tbody tr th {\n",
       "        vertical-align: top;\n",
       "    }\n",
       "\n",
       "    .dataframe thead th {\n",
       "        text-align: right;\n",
       "    }\n",
       "</style>\n",
       "<table border=\"1\" class=\"dataframe\">\n",
       "  <thead>\n",
       "    <tr style=\"text-align: right;\">\n",
       "      <th></th>\n",
       "      <th>S.No</th>\n",
       "      <th>State</th>\n",
       "      <th>total_population</th>\n",
       "      <th>population_male</th>\n",
       "      <th>population_female</th>\n",
       "    </tr>\n",
       "  </thead>\n",
       "  <tbody>\n",
       "    <tr>\n",
       "      <th>9</th>\n",
       "      <td>10</td>\n",
       "      <td>RAJASTHAN</td>\n",
       "      <td>10443016</td>\n",
       "      <td>5484470</td>\n",
       "      <td>4958546</td>\n",
       "    </tr>\n",
       "  </tbody>\n",
       "</table>\n",
       "</div>"
      ],
      "text/plain": [
       "   S.No      State  total_population  population_male  population_female\n",
       "9    10  RAJASTHAN          10443016          5484470            4958546"
      ]
     },
     "execution_count": 135,
     "metadata": {},
     "output_type": "execute_result"
    }
   ],
   "source": [
    "raja_popu = state_popu[9:10]\n",
    "raja_popu"
   ]
  },
  {
   "cell_type": "code",
   "execution_count": 136,
   "id": "0ebdb4e5",
   "metadata": {},
   "outputs": [
    {
     "data": {
      "text/plain": [
       "9    10443016\n",
       "Name: total_population, dtype: int64"
      ]
     },
     "execution_count": 136,
     "metadata": {},
     "output_type": "execute_result"
    }
   ],
   "source": [
    "raja_popu = raja_popu['total_population']\n",
    "raja_popu"
   ]
  },
  {
   "cell_type": "code",
   "execution_count": null,
   "id": "fc690cc8",
   "metadata": {},
   "outputs": [],
   "source": []
  },
  {
   "cell_type": "code",
   "execution_count": null,
   "id": "43c4eed6",
   "metadata": {},
   "outputs": [],
   "source": []
  },
  {
   "cell_type": "code",
   "execution_count": null,
   "id": "e5969916",
   "metadata": {},
   "outputs": [],
   "source": []
  },
  {
   "cell_type": "code",
   "execution_count": 137,
   "id": "fef1a4bf",
   "metadata": {},
   "outputs": [],
   "source": [
    "# crime data for Sikkim"
   ]
  },
  {
   "cell_type": "code",
   "execution_count": 138,
   "id": "4987dcaf",
   "metadata": {},
   "outputs": [
    {
     "data": {
      "text/html": [
       "<div>\n",
       "<style scoped>\n",
       "    .dataframe tbody tr th:only-of-type {\n",
       "        vertical-align: middle;\n",
       "    }\n",
       "\n",
       "    .dataframe tbody tr th {\n",
       "        vertical-align: top;\n",
       "    }\n",
       "\n",
       "    .dataframe thead th {\n",
       "        text-align: right;\n",
       "    }\n",
       "</style>\n",
       "<table border=\"1\" class=\"dataframe\">\n",
       "  <thead>\n",
       "    <tr style=\"text-align: right;\">\n",
       "      <th></th>\n",
       "      <th>STATE/UT</th>\n",
       "      <th>DISTRICT</th>\n",
       "      <th>YEAR</th>\n",
       "      <th>MURDER</th>\n",
       "      <th>ATTEMPT TO MURDER</th>\n",
       "      <th>CULPABLE HOMICIDE NOT AMOUNTING TO MURDER</th>\n",
       "      <th>RAPE</th>\n",
       "      <th>CUSTODIAL RAPE</th>\n",
       "      <th>OTHER RAPE</th>\n",
       "      <th>KIDNAPPING &amp; ABDUCTION</th>\n",
       "      <th>...</th>\n",
       "      <th>ARSON</th>\n",
       "      <th>HURT/GREVIOUS HURT</th>\n",
       "      <th>DOWRY DEATHS</th>\n",
       "      <th>ASSAULT ON WOMEN WITH INTENT TO OUTRAGE HER MODESTY</th>\n",
       "      <th>INSULT TO MODESTY OF WOMEN</th>\n",
       "      <th>CRUELTY BY HUSBAND OR HIS RELATIVES</th>\n",
       "      <th>IMPORTATION OF GIRLS FROM FOREIGN COUNTRIES</th>\n",
       "      <th>CAUSING DEATH BY NEGLIGENCE</th>\n",
       "      <th>OTHER IPC CRIMES</th>\n",
       "      <th>TOTAL IPC CRIMES</th>\n",
       "    </tr>\n",
       "  </thead>\n",
       "  <tbody>\n",
       "    <tr>\n",
       "      <th>8811</th>\n",
       "      <td>SIKKIM</td>\n",
       "      <td>TOTAL</td>\n",
       "      <td>2012</td>\n",
       "      <td>7</td>\n",
       "      <td>7</td>\n",
       "      <td>0</td>\n",
       "      <td>34</td>\n",
       "      <td>0</td>\n",
       "      <td>34</td>\n",
       "      <td>10</td>\n",
       "      <td>...</td>\n",
       "      <td>20</td>\n",
       "      <td>91</td>\n",
       "      <td>1</td>\n",
       "      <td>19</td>\n",
       "      <td>0</td>\n",
       "      <td>4</td>\n",
       "      <td>0</td>\n",
       "      <td>32</td>\n",
       "      <td>58</td>\n",
       "      <td>528</td>\n",
       "    </tr>\n",
       "  </tbody>\n",
       "</table>\n",
       "<p>1 rows × 33 columns</p>\n",
       "</div>"
      ],
      "text/plain": [
       "     STATE/UT DISTRICT  YEAR  MURDER  ATTEMPT TO MURDER  \\\n",
       "8811   SIKKIM    TOTAL  2012       7                  7   \n",
       "\n",
       "      CULPABLE HOMICIDE NOT AMOUNTING TO MURDER  RAPE  CUSTODIAL RAPE  \\\n",
       "8811                                          0    34               0   \n",
       "\n",
       "      OTHER RAPE  KIDNAPPING & ABDUCTION  ...  ARSON  HURT/GREVIOUS HURT  \\\n",
       "8811          34                      10  ...     20                  91   \n",
       "\n",
       "      DOWRY DEATHS  ASSAULT ON WOMEN WITH INTENT TO OUTRAGE HER MODESTY  \\\n",
       "8811             1                                                 19     \n",
       "\n",
       "      INSULT TO MODESTY OF WOMEN  CRUELTY BY HUSBAND OR HIS RELATIVES  \\\n",
       "8811                           0                                    4   \n",
       "\n",
       "      IMPORTATION OF GIRLS FROM FOREIGN COUNTRIES  \\\n",
       "8811                                            0   \n",
       "\n",
       "      CAUSING DEATH BY NEGLIGENCE  OTHER IPC CRIMES  TOTAL IPC CRIMES  \n",
       "8811                           32                58               528  \n",
       "\n",
       "[1 rows x 33 columns]"
      ]
     },
     "execution_count": 138,
     "metadata": {},
     "output_type": "execute_result"
    }
   ],
   "source": [
    "sikkim_crime = crime_type[8811:8812]\n",
    "sikkim_crime"
   ]
  },
  {
   "cell_type": "code",
   "execution_count": 139,
   "id": "4c3e857a",
   "metadata": {},
   "outputs": [
    {
     "data": {
      "text/plain": [
       "8811    528\n",
       "Name: TOTAL IPC CRIMES, dtype: int64"
      ]
     },
     "execution_count": 139,
     "metadata": {},
     "output_type": "execute_result"
    }
   ],
   "source": [
    "sikkim_crime = sikkim_crime['TOTAL IPC CRIMES']\n",
    "sikkim_crime"
   ]
  },
  {
   "cell_type": "code",
   "execution_count": null,
   "id": "783d605f",
   "metadata": {},
   "outputs": [],
   "source": []
  },
  {
   "cell_type": "code",
   "execution_count": 140,
   "id": "5ae4d81a",
   "metadata": {},
   "outputs": [],
   "source": [
    "# population data for Sikkim"
   ]
  },
  {
   "cell_type": "code",
   "execution_count": 141,
   "id": "2e973fbc",
   "metadata": {},
   "outputs": [
    {
     "data": {
      "text/html": [
       "<div>\n",
       "<style scoped>\n",
       "    .dataframe tbody tr th:only-of-type {\n",
       "        vertical-align: middle;\n",
       "    }\n",
       "\n",
       "    .dataframe tbody tr th {\n",
       "        vertical-align: top;\n",
       "    }\n",
       "\n",
       "    .dataframe thead th {\n",
       "        text-align: right;\n",
       "    }\n",
       "</style>\n",
       "<table border=\"1\" class=\"dataframe\">\n",
       "  <thead>\n",
       "    <tr style=\"text-align: right;\">\n",
       "      <th></th>\n",
       "      <th>S.No</th>\n",
       "      <th>State</th>\n",
       "      <th>total_population</th>\n",
       "      <th>population_male</th>\n",
       "      <th>population_female</th>\n",
       "    </tr>\n",
       "  </thead>\n",
       "  <tbody>\n",
       "    <tr>\n",
       "      <th>29</th>\n",
       "      <td>30</td>\n",
       "      <td>SIKKIM</td>\n",
       "      <td>610577</td>\n",
       "      <td>323070</td>\n",
       "      <td>287507</td>\n",
       "    </tr>\n",
       "  </tbody>\n",
       "</table>\n",
       "</div>"
      ],
      "text/plain": [
       "    S.No   State  total_population  population_male  population_female\n",
       "29    30  SIKKIM            610577           323070             287507"
      ]
     },
     "execution_count": 141,
     "metadata": {},
     "output_type": "execute_result"
    }
   ],
   "source": [
    "sikkim_popu = state_popu[29:30]\n",
    "sikkim_popu"
   ]
  },
  {
   "cell_type": "code",
   "execution_count": 142,
   "id": "8e1bcb5d",
   "metadata": {},
   "outputs": [
    {
     "data": {
      "text/plain": [
       "29    610577\n",
       "Name: total_population, dtype: int64"
      ]
     },
     "execution_count": 142,
     "metadata": {},
     "output_type": "execute_result"
    }
   ],
   "source": [
    "sikkim_popu = sikkim_popu['total_population']\n",
    "sikkim_popu"
   ]
  },
  {
   "cell_type": "code",
   "execution_count": null,
   "id": "90da4eaa",
   "metadata": {},
   "outputs": [],
   "source": []
  },
  {
   "cell_type": "code",
   "execution_count": null,
   "id": "6b60e54d",
   "metadata": {},
   "outputs": [],
   "source": []
  },
  {
   "cell_type": "code",
   "execution_count": null,
   "id": "b0928a1c",
   "metadata": {},
   "outputs": [],
   "source": []
  },
  {
   "cell_type": "code",
   "execution_count": 143,
   "id": "67e58860",
   "metadata": {},
   "outputs": [],
   "source": [
    "# crime data for Tamil Nadu"
   ]
  },
  {
   "cell_type": "code",
   "execution_count": 144,
   "id": "c75f4991",
   "metadata": {},
   "outputs": [
    {
     "data": {
      "text/html": [
       "<div>\n",
       "<style scoped>\n",
       "    .dataframe tbody tr th:only-of-type {\n",
       "        vertical-align: middle;\n",
       "    }\n",
       "\n",
       "    .dataframe tbody tr th {\n",
       "        vertical-align: top;\n",
       "    }\n",
       "\n",
       "    .dataframe thead th {\n",
       "        text-align: right;\n",
       "    }\n",
       "</style>\n",
       "<table border=\"1\" class=\"dataframe\">\n",
       "  <thead>\n",
       "    <tr style=\"text-align: right;\">\n",
       "      <th></th>\n",
       "      <th>STATE/UT</th>\n",
       "      <th>DISTRICT</th>\n",
       "      <th>YEAR</th>\n",
       "      <th>MURDER</th>\n",
       "      <th>ATTEMPT TO MURDER</th>\n",
       "      <th>CULPABLE HOMICIDE NOT AMOUNTING TO MURDER</th>\n",
       "      <th>RAPE</th>\n",
       "      <th>CUSTODIAL RAPE</th>\n",
       "      <th>OTHER RAPE</th>\n",
       "      <th>KIDNAPPING &amp; ABDUCTION</th>\n",
       "      <th>...</th>\n",
       "      <th>ARSON</th>\n",
       "      <th>HURT/GREVIOUS HURT</th>\n",
       "      <th>DOWRY DEATHS</th>\n",
       "      <th>ASSAULT ON WOMEN WITH INTENT TO OUTRAGE HER MODESTY</th>\n",
       "      <th>INSULT TO MODESTY OF WOMEN</th>\n",
       "      <th>CRUELTY BY HUSBAND OR HIS RELATIVES</th>\n",
       "      <th>IMPORTATION OF GIRLS FROM FOREIGN COUNTRIES</th>\n",
       "      <th>CAUSING DEATH BY NEGLIGENCE</th>\n",
       "      <th>OTHER IPC CRIMES</th>\n",
       "      <th>TOTAL IPC CRIMES</th>\n",
       "    </tr>\n",
       "  </thead>\n",
       "  <tbody>\n",
       "    <tr>\n",
       "      <th>8851</th>\n",
       "      <td>TAMIL NADU</td>\n",
       "      <td>TOTAL</td>\n",
       "      <td>2012</td>\n",
       "      <td>1949</td>\n",
       "      <td>2954</td>\n",
       "      <td>44</td>\n",
       "      <td>737</td>\n",
       "      <td>0</td>\n",
       "      <td>737</td>\n",
       "      <td>1945</td>\n",
       "      <td>...</td>\n",
       "      <td>726</td>\n",
       "      <td>22100</td>\n",
       "      <td>110</td>\n",
       "      <td>1494</td>\n",
       "      <td>382</td>\n",
       "      <td>1965</td>\n",
       "      <td>0</td>\n",
       "      <td>15499</td>\n",
       "      <td>124176</td>\n",
       "      <td>200474</td>\n",
       "    </tr>\n",
       "  </tbody>\n",
       "</table>\n",
       "<p>1 rows × 33 columns</p>\n",
       "</div>"
      ],
      "text/plain": [
       "        STATE/UT DISTRICT  YEAR  MURDER  ATTEMPT TO MURDER  \\\n",
       "8851  TAMIL NADU    TOTAL  2012    1949               2954   \n",
       "\n",
       "      CULPABLE HOMICIDE NOT AMOUNTING TO MURDER  RAPE  CUSTODIAL RAPE  \\\n",
       "8851                                         44   737               0   \n",
       "\n",
       "      OTHER RAPE  KIDNAPPING & ABDUCTION  ...  ARSON  HURT/GREVIOUS HURT  \\\n",
       "8851         737                    1945  ...    726               22100   \n",
       "\n",
       "      DOWRY DEATHS  ASSAULT ON WOMEN WITH INTENT TO OUTRAGE HER MODESTY  \\\n",
       "8851           110                                               1494     \n",
       "\n",
       "      INSULT TO MODESTY OF WOMEN  CRUELTY BY HUSBAND OR HIS RELATIVES  \\\n",
       "8851                         382                                 1965   \n",
       "\n",
       "      IMPORTATION OF GIRLS FROM FOREIGN COUNTRIES  \\\n",
       "8851                                            0   \n",
       "\n",
       "      CAUSING DEATH BY NEGLIGENCE  OTHER IPC CRIMES  TOTAL IPC CRIMES  \n",
       "8851                        15499            124176            200474  \n",
       "\n",
       "[1 rows x 33 columns]"
      ]
     },
     "execution_count": 144,
     "metadata": {},
     "output_type": "execute_result"
    }
   ],
   "source": [
    "tn_crime = crime_type[8851:8852]\n",
    "tn_crime"
   ]
  },
  {
   "cell_type": "code",
   "execution_count": 145,
   "id": "356a37b3",
   "metadata": {},
   "outputs": [
    {
     "data": {
      "text/plain": [
       "8851    200474\n",
       "Name: TOTAL IPC CRIMES, dtype: int64"
      ]
     },
     "execution_count": 145,
     "metadata": {},
     "output_type": "execute_result"
    }
   ],
   "source": [
    "tn_crime = tn_crime['TOTAL IPC CRIMES']\n",
    "tn_crime"
   ]
  },
  {
   "cell_type": "code",
   "execution_count": null,
   "id": "56008530",
   "metadata": {},
   "outputs": [],
   "source": []
  },
  {
   "cell_type": "code",
   "execution_count": 146,
   "id": "b400ebf9",
   "metadata": {},
   "outputs": [],
   "source": [
    "# population data for Tamil Nadu"
   ]
  },
  {
   "cell_type": "code",
   "execution_count": 147,
   "id": "80e021df",
   "metadata": {},
   "outputs": [
    {
     "data": {
      "text/html": [
       "<div>\n",
       "<style scoped>\n",
       "    .dataframe tbody tr th:only-of-type {\n",
       "        vertical-align: middle;\n",
       "    }\n",
       "\n",
       "    .dataframe tbody tr th {\n",
       "        vertical-align: top;\n",
       "    }\n",
       "\n",
       "    .dataframe thead th {\n",
       "        text-align: right;\n",
       "    }\n",
       "</style>\n",
       "<table border=\"1\" class=\"dataframe\">\n",
       "  <thead>\n",
       "    <tr style=\"text-align: right;\">\n",
       "      <th></th>\n",
       "      <th>S.No</th>\n",
       "      <th>State</th>\n",
       "      <th>total_population</th>\n",
       "      <th>population_male</th>\n",
       "      <th>population_female</th>\n",
       "    </tr>\n",
       "  </thead>\n",
       "  <tbody>\n",
       "    <tr>\n",
       "      <th>6</th>\n",
       "      <td>7</td>\n",
       "      <td>TAMIL NADU</td>\n",
       "      <td>13879395</td>\n",
       "      <td>6957261</td>\n",
       "      <td>6922134</td>\n",
       "    </tr>\n",
       "  </tbody>\n",
       "</table>\n",
       "</div>"
      ],
      "text/plain": [
       "   S.No       State  total_population  population_male  population_female\n",
       "6     7  TAMIL NADU          13879395          6957261            6922134"
      ]
     },
     "execution_count": 147,
     "metadata": {},
     "output_type": "execute_result"
    }
   ],
   "source": [
    "tn_popu = state_popu[6:7]\n",
    "tn_popu"
   ]
  },
  {
   "cell_type": "code",
   "execution_count": 148,
   "id": "d0dd65e1",
   "metadata": {},
   "outputs": [
    {
     "data": {
      "text/plain": [
       "6    13879395\n",
       "Name: total_population, dtype: int64"
      ]
     },
     "execution_count": 148,
     "metadata": {},
     "output_type": "execute_result"
    }
   ],
   "source": [
    "tn_popu = tn_popu['total_population']\n",
    "tn_popu"
   ]
  },
  {
   "cell_type": "code",
   "execution_count": null,
   "id": "1ae16496",
   "metadata": {},
   "outputs": [],
   "source": []
  },
  {
   "cell_type": "code",
   "execution_count": null,
   "id": "261b85c0",
   "metadata": {},
   "outputs": [],
   "source": []
  },
  {
   "cell_type": "code",
   "execution_count": null,
   "id": "3e5da3f0",
   "metadata": {},
   "outputs": [],
   "source": []
  },
  {
   "cell_type": "code",
   "execution_count": 149,
   "id": "617e875e",
   "metadata": {},
   "outputs": [],
   "source": [
    "# crime data for Tripura"
   ]
  },
  {
   "cell_type": "code",
   "execution_count": 150,
   "id": "cb3a3304",
   "metadata": {},
   "outputs": [
    {
     "data": {
      "text/html": [
       "<div>\n",
       "<style scoped>\n",
       "    .dataframe tbody tr th:only-of-type {\n",
       "        vertical-align: middle;\n",
       "    }\n",
       "\n",
       "    .dataframe tbody tr th {\n",
       "        vertical-align: top;\n",
       "    }\n",
       "\n",
       "    .dataframe thead th {\n",
       "        text-align: right;\n",
       "    }\n",
       "</style>\n",
       "<table border=\"1\" class=\"dataframe\">\n",
       "  <thead>\n",
       "    <tr style=\"text-align: right;\">\n",
       "      <th></th>\n",
       "      <th>STATE/UT</th>\n",
       "      <th>DISTRICT</th>\n",
       "      <th>YEAR</th>\n",
       "      <th>MURDER</th>\n",
       "      <th>ATTEMPT TO MURDER</th>\n",
       "      <th>CULPABLE HOMICIDE NOT AMOUNTING TO MURDER</th>\n",
       "      <th>RAPE</th>\n",
       "      <th>CUSTODIAL RAPE</th>\n",
       "      <th>OTHER RAPE</th>\n",
       "      <th>KIDNAPPING &amp; ABDUCTION</th>\n",
       "      <th>...</th>\n",
       "      <th>ARSON</th>\n",
       "      <th>HURT/GREVIOUS HURT</th>\n",
       "      <th>DOWRY DEATHS</th>\n",
       "      <th>ASSAULT ON WOMEN WITH INTENT TO OUTRAGE HER MODESTY</th>\n",
       "      <th>INSULT TO MODESTY OF WOMEN</th>\n",
       "      <th>CRUELTY BY HUSBAND OR HIS RELATIVES</th>\n",
       "      <th>IMPORTATION OF GIRLS FROM FOREIGN COUNTRIES</th>\n",
       "      <th>CAUSING DEATH BY NEGLIGENCE</th>\n",
       "      <th>OTHER IPC CRIMES</th>\n",
       "      <th>TOTAL IPC CRIMES</th>\n",
       "    </tr>\n",
       "  </thead>\n",
       "  <tbody>\n",
       "    <tr>\n",
       "      <th>8861</th>\n",
       "      <td>TRIPURA</td>\n",
       "      <td>TOTAL</td>\n",
       "      <td>2012</td>\n",
       "      <td>124</td>\n",
       "      <td>79</td>\n",
       "      <td>2</td>\n",
       "      <td>229</td>\n",
       "      <td>0</td>\n",
       "      <td>229</td>\n",
       "      <td>139</td>\n",
       "      <td>...</td>\n",
       "      <td>59</td>\n",
       "      <td>1504</td>\n",
       "      <td>37</td>\n",
       "      <td>314</td>\n",
       "      <td>7</td>\n",
       "      <td>858</td>\n",
       "      <td>0</td>\n",
       "      <td>10</td>\n",
       "      <td>1742</td>\n",
       "      <td>6264</td>\n",
       "    </tr>\n",
       "  </tbody>\n",
       "</table>\n",
       "<p>1 rows × 33 columns</p>\n",
       "</div>"
      ],
      "text/plain": [
       "     STATE/UT DISTRICT  YEAR  MURDER  ATTEMPT TO MURDER  \\\n",
       "8861  TRIPURA    TOTAL  2012     124                 79   \n",
       "\n",
       "      CULPABLE HOMICIDE NOT AMOUNTING TO MURDER  RAPE  CUSTODIAL RAPE  \\\n",
       "8861                                          2   229               0   \n",
       "\n",
       "      OTHER RAPE  KIDNAPPING & ABDUCTION  ...  ARSON  HURT/GREVIOUS HURT  \\\n",
       "8861         229                     139  ...     59                1504   \n",
       "\n",
       "      DOWRY DEATHS  ASSAULT ON WOMEN WITH INTENT TO OUTRAGE HER MODESTY  \\\n",
       "8861            37                                                314     \n",
       "\n",
       "      INSULT TO MODESTY OF WOMEN  CRUELTY BY HUSBAND OR HIS RELATIVES  \\\n",
       "8861                           7                                  858   \n",
       "\n",
       "      IMPORTATION OF GIRLS FROM FOREIGN COUNTRIES  \\\n",
       "8861                                            0   \n",
       "\n",
       "      CAUSING DEATH BY NEGLIGENCE  OTHER IPC CRIMES  TOTAL IPC CRIMES  \n",
       "8861                           10              1742              6264  \n",
       "\n",
       "[1 rows x 33 columns]"
      ]
     },
     "execution_count": 150,
     "metadata": {},
     "output_type": "execute_result"
    }
   ],
   "source": [
    "tripura_crime = crime_type[8861:8862]\n",
    "tripura_crime"
   ]
  },
  {
   "cell_type": "code",
   "execution_count": 151,
   "id": "b04e4b0f",
   "metadata": {},
   "outputs": [
    {
     "data": {
      "text/plain": [
       "8861    6264\n",
       "Name: TOTAL IPC CRIMES, dtype: int64"
      ]
     },
     "execution_count": 151,
     "metadata": {},
     "output_type": "execute_result"
    }
   ],
   "source": [
    "tripura_crime = tripura_crime['TOTAL IPC CRIMES']\n",
    "tripura_crime"
   ]
  },
  {
   "cell_type": "code",
   "execution_count": null,
   "id": "a5b5e666",
   "metadata": {},
   "outputs": [],
   "source": []
  },
  {
   "cell_type": "code",
   "execution_count": 152,
   "id": "1aa6f0f6",
   "metadata": {},
   "outputs": [],
   "source": [
    "# population data for Tripura"
   ]
  },
  {
   "cell_type": "code",
   "execution_count": 153,
   "id": "fd027383",
   "metadata": {},
   "outputs": [
    {
     "data": {
      "text/html": [
       "<div>\n",
       "<style scoped>\n",
       "    .dataframe tbody tr th:only-of-type {\n",
       "        vertical-align: middle;\n",
       "    }\n",
       "\n",
       "    .dataframe tbody tr th {\n",
       "        vertical-align: top;\n",
       "    }\n",
       "\n",
       "    .dataframe thead th {\n",
       "        text-align: right;\n",
       "    }\n",
       "</style>\n",
       "<table border=\"1\" class=\"dataframe\">\n",
       "  <thead>\n",
       "    <tr style=\"text-align: right;\">\n",
       "      <th></th>\n",
       "      <th>S.No</th>\n",
       "      <th>State</th>\n",
       "      <th>total_population</th>\n",
       "      <th>population_male</th>\n",
       "      <th>population_female</th>\n",
       "    </tr>\n",
       "  </thead>\n",
       "  <tbody>\n",
       "    <tr>\n",
       "      <th>22</th>\n",
       "      <td>23</td>\n",
       "      <td>TRIPURA</td>\n",
       "      <td>399688</td>\n",
       "      <td>199616</td>\n",
       "      <td>200072</td>\n",
       "    </tr>\n",
       "  </tbody>\n",
       "</table>\n",
       "</div>"
      ],
      "text/plain": [
       "    S.No    State  total_population  population_male  population_female\n",
       "22    23  TRIPURA            399688           199616             200072"
      ]
     },
     "execution_count": 153,
     "metadata": {},
     "output_type": "execute_result"
    }
   ],
   "source": [
    "tripura_popu = state_popu[22:23]\n",
    "tripura_popu"
   ]
  },
  {
   "cell_type": "code",
   "execution_count": 154,
   "id": "b0b01bc4",
   "metadata": {},
   "outputs": [
    {
     "data": {
      "text/plain": [
       "22    399688\n",
       "Name: total_population, dtype: int64"
      ]
     },
     "execution_count": 154,
     "metadata": {},
     "output_type": "execute_result"
    }
   ],
   "source": [
    "tripura_popu = tripura_popu['total_population']\n",
    "tripura_popu"
   ]
  },
  {
   "cell_type": "code",
   "execution_count": null,
   "id": "f00444da",
   "metadata": {},
   "outputs": [],
   "source": []
  },
  {
   "cell_type": "code",
   "execution_count": null,
   "id": "a41329f3",
   "metadata": {},
   "outputs": [],
   "source": []
  },
  {
   "cell_type": "code",
   "execution_count": null,
   "id": "d76536ec",
   "metadata": {},
   "outputs": [],
   "source": []
  },
  {
   "cell_type": "code",
   "execution_count": 155,
   "id": "7bab76c4",
   "metadata": {},
   "outputs": [],
   "source": [
    "# crime data for Uttar Pradesh"
   ]
  },
  {
   "cell_type": "code",
   "execution_count": 156,
   "id": "30dd3f6e",
   "metadata": {},
   "outputs": [
    {
     "data": {
      "text/html": [
       "<div>\n",
       "<style scoped>\n",
       "    .dataframe tbody tr th:only-of-type {\n",
       "        vertical-align: middle;\n",
       "    }\n",
       "\n",
       "    .dataframe tbody tr th {\n",
       "        vertical-align: top;\n",
       "    }\n",
       "\n",
       "    .dataframe thead th {\n",
       "        text-align: right;\n",
       "    }\n",
       "</style>\n",
       "<table border=\"1\" class=\"dataframe\">\n",
       "  <thead>\n",
       "    <tr style=\"text-align: right;\">\n",
       "      <th></th>\n",
       "      <th>STATE/UT</th>\n",
       "      <th>DISTRICT</th>\n",
       "      <th>YEAR</th>\n",
       "      <th>MURDER</th>\n",
       "      <th>ATTEMPT TO MURDER</th>\n",
       "      <th>CULPABLE HOMICIDE NOT AMOUNTING TO MURDER</th>\n",
       "      <th>RAPE</th>\n",
       "      <th>CUSTODIAL RAPE</th>\n",
       "      <th>OTHER RAPE</th>\n",
       "      <th>KIDNAPPING &amp; ABDUCTION</th>\n",
       "      <th>...</th>\n",
       "      <th>ARSON</th>\n",
       "      <th>HURT/GREVIOUS HURT</th>\n",
       "      <th>DOWRY DEATHS</th>\n",
       "      <th>ASSAULT ON WOMEN WITH INTENT TO OUTRAGE HER MODESTY</th>\n",
       "      <th>INSULT TO MODESTY OF WOMEN</th>\n",
       "      <th>CRUELTY BY HUSBAND OR HIS RELATIVES</th>\n",
       "      <th>IMPORTATION OF GIRLS FROM FOREIGN COUNTRIES</th>\n",
       "      <th>CAUSING DEATH BY NEGLIGENCE</th>\n",
       "      <th>OTHER IPC CRIMES</th>\n",
       "      <th>TOTAL IPC CRIMES</th>\n",
       "    </tr>\n",
       "  </thead>\n",
       "  <tbody>\n",
       "    <tr>\n",
       "      <th>8938</th>\n",
       "      <td>UTTAR PRADESH</td>\n",
       "      <td>TOTAL</td>\n",
       "      <td>2012</td>\n",
       "      <td>4966</td>\n",
       "      <td>4811</td>\n",
       "      <td>1410</td>\n",
       "      <td>1963</td>\n",
       "      <td>0</td>\n",
       "      <td>1963</td>\n",
       "      <td>8878</td>\n",
       "      <td>...</td>\n",
       "      <td>327</td>\n",
       "      <td>12290</td>\n",
       "      <td>2244</td>\n",
       "      <td>3247</td>\n",
       "      <td>8</td>\n",
       "      <td>7661</td>\n",
       "      <td>0</td>\n",
       "      <td>14406</td>\n",
       "      <td>68538</td>\n",
       "      <td>198093</td>\n",
       "    </tr>\n",
       "  </tbody>\n",
       "</table>\n",
       "<p>1 rows × 33 columns</p>\n",
       "</div>"
      ],
      "text/plain": [
       "           STATE/UT DISTRICT  YEAR  MURDER  ATTEMPT TO MURDER  \\\n",
       "8938  UTTAR PRADESH    TOTAL  2012    4966               4811   \n",
       "\n",
       "      CULPABLE HOMICIDE NOT AMOUNTING TO MURDER  RAPE  CUSTODIAL RAPE  \\\n",
       "8938                                       1410  1963               0   \n",
       "\n",
       "      OTHER RAPE  KIDNAPPING & ABDUCTION  ...  ARSON  HURT/GREVIOUS HURT  \\\n",
       "8938        1963                    8878  ...    327               12290   \n",
       "\n",
       "      DOWRY DEATHS  ASSAULT ON WOMEN WITH INTENT TO OUTRAGE HER MODESTY  \\\n",
       "8938          2244                                               3247     \n",
       "\n",
       "      INSULT TO MODESTY OF WOMEN  CRUELTY BY HUSBAND OR HIS RELATIVES  \\\n",
       "8938                           8                                 7661   \n",
       "\n",
       "      IMPORTATION OF GIRLS FROM FOREIGN COUNTRIES  \\\n",
       "8938                                            0   \n",
       "\n",
       "      CAUSING DEATH BY NEGLIGENCE  OTHER IPC CRIMES  TOTAL IPC CRIMES  \n",
       "8938                        14406             68538            198093  \n",
       "\n",
       "[1 rows x 33 columns]"
      ]
     },
     "execution_count": 156,
     "metadata": {},
     "output_type": "execute_result"
    }
   ],
   "source": [
    "up_crime = crime_type[8938:8939]\n",
    "up_crime"
   ]
  },
  {
   "cell_type": "code",
   "execution_count": 157,
   "id": "c095c474",
   "metadata": {},
   "outputs": [
    {
     "data": {
      "text/plain": [
       "8938    198093\n",
       "Name: TOTAL IPC CRIMES, dtype: int64"
      ]
     },
     "execution_count": 157,
     "metadata": {},
     "output_type": "execute_result"
    }
   ],
   "source": [
    "up_crime = up_crime['TOTAL IPC CRIMES']\n",
    "up_crime"
   ]
  },
  {
   "cell_type": "code",
   "execution_count": null,
   "id": "6cda5078",
   "metadata": {},
   "outputs": [],
   "source": []
  },
  {
   "cell_type": "code",
   "execution_count": 158,
   "id": "d6ecc11f",
   "metadata": {},
   "outputs": [],
   "source": [
    "# population data for uttar Pradesh"
   ]
  },
  {
   "cell_type": "code",
   "execution_count": 159,
   "id": "648583ce",
   "metadata": {},
   "outputs": [
    {
     "data": {
      "text/html": [
       "<div>\n",
       "<style scoped>\n",
       "    .dataframe tbody tr th:only-of-type {\n",
       "        vertical-align: middle;\n",
       "    }\n",
       "\n",
       "    .dataframe tbody tr th {\n",
       "        vertical-align: top;\n",
       "    }\n",
       "\n",
       "    .dataframe thead th {\n",
       "        text-align: right;\n",
       "    }\n",
       "</style>\n",
       "<table border=\"1\" class=\"dataframe\">\n",
       "  <thead>\n",
       "    <tr style=\"text-align: right;\">\n",
       "      <th></th>\n",
       "      <th>S.No</th>\n",
       "      <th>State</th>\n",
       "      <th>total_population</th>\n",
       "      <th>population_male</th>\n",
       "      <th>population_female</th>\n",
       "    </tr>\n",
       "  </thead>\n",
       "  <tbody>\n",
       "    <tr>\n",
       "      <th>1</th>\n",
       "      <td>2</td>\n",
       "      <td>UTTAR PRADESH</td>\n",
       "      <td>25302925</td>\n",
       "      <td>13433369</td>\n",
       "      <td>11869556</td>\n",
       "    </tr>\n",
       "  </tbody>\n",
       "</table>\n",
       "</div>"
      ],
      "text/plain": [
       "   S.No          State  total_population  population_male  population_female\n",
       "1     2  UTTAR PRADESH          25302925         13433369           11869556"
      ]
     },
     "execution_count": 159,
     "metadata": {},
     "output_type": "execute_result"
    }
   ],
   "source": [
    "up_popu = state_popu[1:2]\n",
    "up_popu"
   ]
  },
  {
   "cell_type": "code",
   "execution_count": 160,
   "id": "82744cc4",
   "metadata": {},
   "outputs": [
    {
     "data": {
      "text/plain": [
       "1    25302925\n",
       "Name: total_population, dtype: int64"
      ]
     },
     "execution_count": 160,
     "metadata": {},
     "output_type": "execute_result"
    }
   ],
   "source": [
    "up_popu = up_popu['total_population']\n",
    "up_popu"
   ]
  },
  {
   "cell_type": "code",
   "execution_count": null,
   "id": "3a9ba522",
   "metadata": {},
   "outputs": [],
   "source": []
  },
  {
   "cell_type": "code",
   "execution_count": null,
   "id": "1b2b419b",
   "metadata": {},
   "outputs": [],
   "source": []
  },
  {
   "cell_type": "code",
   "execution_count": 161,
   "id": "944d7e17",
   "metadata": {},
   "outputs": [],
   "source": [
    "# crime data for Uttrakhand"
   ]
  },
  {
   "cell_type": "code",
   "execution_count": 162,
   "id": "c66e5137",
   "metadata": {},
   "outputs": [
    {
     "data": {
      "text/html": [
       "<div>\n",
       "<style scoped>\n",
       "    .dataframe tbody tr th:only-of-type {\n",
       "        vertical-align: middle;\n",
       "    }\n",
       "\n",
       "    .dataframe tbody tr th {\n",
       "        vertical-align: top;\n",
       "    }\n",
       "\n",
       "    .dataframe thead th {\n",
       "        text-align: right;\n",
       "    }\n",
       "</style>\n",
       "<table border=\"1\" class=\"dataframe\">\n",
       "  <thead>\n",
       "    <tr style=\"text-align: right;\">\n",
       "      <th></th>\n",
       "      <th>STATE/UT</th>\n",
       "      <th>DISTRICT</th>\n",
       "      <th>YEAR</th>\n",
       "      <th>MURDER</th>\n",
       "      <th>ATTEMPT TO MURDER</th>\n",
       "      <th>CULPABLE HOMICIDE NOT AMOUNTING TO MURDER</th>\n",
       "      <th>RAPE</th>\n",
       "      <th>CUSTODIAL RAPE</th>\n",
       "      <th>OTHER RAPE</th>\n",
       "      <th>KIDNAPPING &amp; ABDUCTION</th>\n",
       "      <th>...</th>\n",
       "      <th>ARSON</th>\n",
       "      <th>HURT/GREVIOUS HURT</th>\n",
       "      <th>DOWRY DEATHS</th>\n",
       "      <th>ASSAULT ON WOMEN WITH INTENT TO OUTRAGE HER MODESTY</th>\n",
       "      <th>INSULT TO MODESTY OF WOMEN</th>\n",
       "      <th>CRUELTY BY HUSBAND OR HIS RELATIVES</th>\n",
       "      <th>IMPORTATION OF GIRLS FROM FOREIGN COUNTRIES</th>\n",
       "      <th>CAUSING DEATH BY NEGLIGENCE</th>\n",
       "      <th>OTHER IPC CRIMES</th>\n",
       "      <th>TOTAL IPC CRIMES</th>\n",
       "    </tr>\n",
       "  </thead>\n",
       "  <tbody>\n",
       "    <tr>\n",
       "      <th>8952</th>\n",
       "      <td>UTTARAKHAND</td>\n",
       "      <td>TOTAL</td>\n",
       "      <td>2012</td>\n",
       "      <td>217</td>\n",
       "      <td>161</td>\n",
       "      <td>44</td>\n",
       "      <td>148</td>\n",
       "      <td>0</td>\n",
       "      <td>148</td>\n",
       "      <td>297</td>\n",
       "      <td>...</td>\n",
       "      <td>17</td>\n",
       "      <td>1022</td>\n",
       "      <td>71</td>\n",
       "      <td>139</td>\n",
       "      <td>73</td>\n",
       "      <td>368</td>\n",
       "      <td>0</td>\n",
       "      <td>670</td>\n",
       "      <td>2118</td>\n",
       "      <td>8882</td>\n",
       "    </tr>\n",
       "  </tbody>\n",
       "</table>\n",
       "<p>1 rows × 33 columns</p>\n",
       "</div>"
      ],
      "text/plain": [
       "         STATE/UT DISTRICT  YEAR  MURDER  ATTEMPT TO MURDER  \\\n",
       "8952  UTTARAKHAND    TOTAL  2012     217                161   \n",
       "\n",
       "      CULPABLE HOMICIDE NOT AMOUNTING TO MURDER  RAPE  CUSTODIAL RAPE  \\\n",
       "8952                                         44   148               0   \n",
       "\n",
       "      OTHER RAPE  KIDNAPPING & ABDUCTION  ...  ARSON  HURT/GREVIOUS HURT  \\\n",
       "8952         148                     297  ...     17                1022   \n",
       "\n",
       "      DOWRY DEATHS  ASSAULT ON WOMEN WITH INTENT TO OUTRAGE HER MODESTY  \\\n",
       "8952            71                                                139     \n",
       "\n",
       "      INSULT TO MODESTY OF WOMEN  CRUELTY BY HUSBAND OR HIS RELATIVES  \\\n",
       "8952                          73                                  368   \n",
       "\n",
       "      IMPORTATION OF GIRLS FROM FOREIGN COUNTRIES  \\\n",
       "8952                                            0   \n",
       "\n",
       "      CAUSING DEATH BY NEGLIGENCE  OTHER IPC CRIMES  TOTAL IPC CRIMES  \n",
       "8952                          670              2118              8882  \n",
       "\n",
       "[1 rows x 33 columns]"
      ]
     },
     "execution_count": 162,
     "metadata": {},
     "output_type": "execute_result"
    }
   ],
   "source": [
    "uk_crime = crime_type[8952:8953]\n",
    "uk_crime"
   ]
  },
  {
   "cell_type": "code",
   "execution_count": 163,
   "id": "ad6adfed",
   "metadata": {},
   "outputs": [
    {
     "data": {
      "text/plain": [
       "8952    8882\n",
       "Name: TOTAL IPC CRIMES, dtype: int64"
      ]
     },
     "execution_count": 163,
     "metadata": {},
     "output_type": "execute_result"
    }
   ],
   "source": [
    "uk_crime = uk_crime['TOTAL IPC CRIMES']\n",
    "uk_crime"
   ]
  },
  {
   "cell_type": "code",
   "execution_count": null,
   "id": "07c72b77",
   "metadata": {},
   "outputs": [],
   "source": []
  },
  {
   "cell_type": "code",
   "execution_count": 164,
   "id": "c46d1a7f",
   "metadata": {},
   "outputs": [],
   "source": [
    "# population data for Uttrakhand"
   ]
  },
  {
   "cell_type": "code",
   "execution_count": 165,
   "id": "a4323bec",
   "metadata": {},
   "outputs": [
    {
     "data": {
      "text/html": [
       "<div>\n",
       "<style scoped>\n",
       "    .dataframe tbody tr th:only-of-type {\n",
       "        vertical-align: middle;\n",
       "    }\n",
       "\n",
       "    .dataframe tbody tr th {\n",
       "        vertical-align: top;\n",
       "    }\n",
       "\n",
       "    .dataframe thead th {\n",
       "        text-align: right;\n",
       "    }\n",
       "</style>\n",
       "<table border=\"1\" class=\"dataframe\">\n",
       "  <thead>\n",
       "    <tr style=\"text-align: right;\">\n",
       "      <th></th>\n",
       "      <th>S.No</th>\n",
       "      <th>State</th>\n",
       "      <th>total_population</th>\n",
       "      <th>population_male</th>\n",
       "      <th>population_female</th>\n",
       "    </tr>\n",
       "  </thead>\n",
       "  <tbody>\n",
       "    <tr>\n",
       "      <th>19</th>\n",
       "      <td>20</td>\n",
       "      <td>UTTARAKHAND</td>\n",
       "      <td>1340397</td>\n",
       "      <td>706939</td>\n",
       "      <td>633458</td>\n",
       "    </tr>\n",
       "  </tbody>\n",
       "</table>\n",
       "</div>"
      ],
      "text/plain": [
       "    S.No        State  total_population  population_male  population_female\n",
       "19    20  UTTARAKHAND           1340397           706939             633458"
      ]
     },
     "execution_count": 165,
     "metadata": {},
     "output_type": "execute_result"
    }
   ],
   "source": [
    "uk_popu = state_popu[19:20]\n",
    "uk_popu"
   ]
  },
  {
   "cell_type": "code",
   "execution_count": 166,
   "id": "ca38f2b2",
   "metadata": {},
   "outputs": [
    {
     "data": {
      "text/plain": [
       "19    1340397\n",
       "Name: total_population, dtype: int64"
      ]
     },
     "execution_count": 166,
     "metadata": {},
     "output_type": "execute_result"
    }
   ],
   "source": [
    "uk_popu = uk_popu['total_population']\n",
    "uk_popu"
   ]
  },
  {
   "cell_type": "code",
   "execution_count": null,
   "id": "43ab4337",
   "metadata": {},
   "outputs": [],
   "source": []
  },
  {
   "cell_type": "code",
   "execution_count": null,
   "id": "34517fb7",
   "metadata": {},
   "outputs": [],
   "source": []
  },
  {
   "cell_type": "code",
   "execution_count": 167,
   "id": "12b77575",
   "metadata": {},
   "outputs": [],
   "source": [
    "# crime data for West Bengal"
   ]
  },
  {
   "cell_type": "code",
   "execution_count": 168,
   "id": "762b9090",
   "metadata": {},
   "outputs": [
    {
     "data": {
      "text/html": [
       "<div>\n",
       "<style scoped>\n",
       "    .dataframe tbody tr th:only-of-type {\n",
       "        vertical-align: middle;\n",
       "    }\n",
       "\n",
       "    .dataframe tbody tr th {\n",
       "        vertical-align: top;\n",
       "    }\n",
       "\n",
       "    .dataframe thead th {\n",
       "        text-align: right;\n",
       "    }\n",
       "</style>\n",
       "<table border=\"1\" class=\"dataframe\">\n",
       "  <thead>\n",
       "    <tr style=\"text-align: right;\">\n",
       "      <th></th>\n",
       "      <th>STATE/UT</th>\n",
       "      <th>DISTRICT</th>\n",
       "      <th>YEAR</th>\n",
       "      <th>MURDER</th>\n",
       "      <th>ATTEMPT TO MURDER</th>\n",
       "      <th>CULPABLE HOMICIDE NOT AMOUNTING TO MURDER</th>\n",
       "      <th>RAPE</th>\n",
       "      <th>CUSTODIAL RAPE</th>\n",
       "      <th>OTHER RAPE</th>\n",
       "      <th>KIDNAPPING &amp; ABDUCTION</th>\n",
       "      <th>...</th>\n",
       "      <th>ARSON</th>\n",
       "      <th>HURT/GREVIOUS HURT</th>\n",
       "      <th>DOWRY DEATHS</th>\n",
       "      <th>ASSAULT ON WOMEN WITH INTENT TO OUTRAGE HER MODESTY</th>\n",
       "      <th>INSULT TO MODESTY OF WOMEN</th>\n",
       "      <th>CRUELTY BY HUSBAND OR HIS RELATIVES</th>\n",
       "      <th>IMPORTATION OF GIRLS FROM FOREIGN COUNTRIES</th>\n",
       "      <th>CAUSING DEATH BY NEGLIGENCE</th>\n",
       "      <th>OTHER IPC CRIMES</th>\n",
       "      <th>TOTAL IPC CRIMES</th>\n",
       "    </tr>\n",
       "  </thead>\n",
       "  <tbody>\n",
       "    <tr>\n",
       "      <th>8982</th>\n",
       "      <td>WEST BENGAL</td>\n",
       "      <td>TOTAL</td>\n",
       "      <td>2012</td>\n",
       "      <td>2252</td>\n",
       "      <td>2854</td>\n",
       "      <td>522</td>\n",
       "      <td>2046</td>\n",
       "      <td>0</td>\n",
       "      <td>2046</td>\n",
       "      <td>5117</td>\n",
       "      <td>...</td>\n",
       "      <td>396</td>\n",
       "      <td>15923</td>\n",
       "      <td>593</td>\n",
       "      <td>3345</td>\n",
       "      <td>556</td>\n",
       "      <td>19865</td>\n",
       "      <td>12</td>\n",
       "      <td>4385</td>\n",
       "      <td>64482</td>\n",
       "      <td>161427</td>\n",
       "    </tr>\n",
       "  </tbody>\n",
       "</table>\n",
       "<p>1 rows × 33 columns</p>\n",
       "</div>"
      ],
      "text/plain": [
       "         STATE/UT DISTRICT  YEAR  MURDER  ATTEMPT TO MURDER  \\\n",
       "8982  WEST BENGAL    TOTAL  2012    2252               2854   \n",
       "\n",
       "      CULPABLE HOMICIDE NOT AMOUNTING TO MURDER  RAPE  CUSTODIAL RAPE  \\\n",
       "8982                                        522  2046               0   \n",
       "\n",
       "      OTHER RAPE  KIDNAPPING & ABDUCTION  ...  ARSON  HURT/GREVIOUS HURT  \\\n",
       "8982        2046                    5117  ...    396               15923   \n",
       "\n",
       "      DOWRY DEATHS  ASSAULT ON WOMEN WITH INTENT TO OUTRAGE HER MODESTY  \\\n",
       "8982           593                                               3345     \n",
       "\n",
       "      INSULT TO MODESTY OF WOMEN  CRUELTY BY HUSBAND OR HIS RELATIVES  \\\n",
       "8982                         556                                19865   \n",
       "\n",
       "      IMPORTATION OF GIRLS FROM FOREIGN COUNTRIES  \\\n",
       "8982                                           12   \n",
       "\n",
       "      CAUSING DEATH BY NEGLIGENCE  OTHER IPC CRIMES  TOTAL IPC CRIMES  \n",
       "8982                         4385             64482            161427  \n",
       "\n",
       "[1 rows x 33 columns]"
      ]
     },
     "execution_count": 168,
     "metadata": {},
     "output_type": "execute_result"
    }
   ],
   "source": [
    "wb_crime = crime_type[8982:8983]\n",
    "wb_crime"
   ]
  },
  {
   "cell_type": "code",
   "execution_count": 169,
   "id": "d75bcd6e",
   "metadata": {},
   "outputs": [
    {
     "data": {
      "text/plain": [
       "8982    161427\n",
       "Name: TOTAL IPC CRIMES, dtype: int64"
      ]
     },
     "execution_count": 169,
     "metadata": {},
     "output_type": "execute_result"
    }
   ],
   "source": [
    "wb_crime = wb_crime['TOTAL IPC CRIMES']\n",
    "wb_crime"
   ]
  },
  {
   "cell_type": "code",
   "execution_count": null,
   "id": "f87d58d0",
   "metadata": {},
   "outputs": [],
   "source": []
  },
  {
   "cell_type": "code",
   "execution_count": 170,
   "id": "5d11f364",
   "metadata": {},
   "outputs": [],
   "source": [
    "# population data for West Bengal"
   ]
  },
  {
   "cell_type": "code",
   "execution_count": 171,
   "id": "bbb3d73a",
   "metadata": {},
   "outputs": [
    {
     "data": {
      "text/html": [
       "<div>\n",
       "<style scoped>\n",
       "    .dataframe tbody tr th:only-of-type {\n",
       "        vertical-align: middle;\n",
       "    }\n",
       "\n",
       "    .dataframe tbody tr th {\n",
       "        vertical-align: top;\n",
       "    }\n",
       "\n",
       "    .dataframe thead th {\n",
       "        text-align: right;\n",
       "    }\n",
       "</style>\n",
       "<table border=\"1\" class=\"dataframe\">\n",
       "  <thead>\n",
       "    <tr style=\"text-align: right;\">\n",
       "      <th></th>\n",
       "      <th>S.No</th>\n",
       "      <th>State</th>\n",
       "      <th>total_population</th>\n",
       "      <th>population_male</th>\n",
       "      <th>population_female</th>\n",
       "    </tr>\n",
       "  </thead>\n",
       "  <tbody>\n",
       "    <tr>\n",
       "      <th>3</th>\n",
       "      <td>4</td>\n",
       "      <td>WEST BENGAL</td>\n",
       "      <td>18063509</td>\n",
       "      <td>9357777</td>\n",
       "      <td>8705732</td>\n",
       "    </tr>\n",
       "  </tbody>\n",
       "</table>\n",
       "</div>"
      ],
      "text/plain": [
       "   S.No        State  total_population  population_male  population_female\n",
       "3     4  WEST BENGAL          18063509          9357777            8705732"
      ]
     },
     "execution_count": 171,
     "metadata": {},
     "output_type": "execute_result"
    }
   ],
   "source": [
    "wb_popu = state_popu[3:4]\n",
    "wb_popu"
   ]
  },
  {
   "cell_type": "code",
   "execution_count": 172,
   "id": "d5fa9587",
   "metadata": {},
   "outputs": [
    {
     "data": {
      "text/plain": [
       "3    18063509\n",
       "Name: total_population, dtype: int64"
      ]
     },
     "execution_count": 172,
     "metadata": {},
     "output_type": "execute_result"
    }
   ],
   "source": [
    "wb_popu = wb_popu['total_population']\n",
    "wb_popu"
   ]
  },
  {
   "cell_type": "code",
   "execution_count": null,
   "id": "fd7ec690",
   "metadata": {},
   "outputs": [],
   "source": []
  },
  {
   "cell_type": "code",
   "execution_count": null,
   "id": "f67665da",
   "metadata": {},
   "outputs": [],
   "source": []
  },
  {
   "cell_type": "code",
   "execution_count": 173,
   "id": "652028e3",
   "metadata": {},
   "outputs": [],
   "source": [
    "# crime data for Andman & Nicobar"
   ]
  },
  {
   "cell_type": "code",
   "execution_count": 174,
   "id": "f6e94b61",
   "metadata": {},
   "outputs": [
    {
     "data": {
      "text/html": [
       "<div>\n",
       "<style scoped>\n",
       "    .dataframe tbody tr th:only-of-type {\n",
       "        vertical-align: middle;\n",
       "    }\n",
       "\n",
       "    .dataframe tbody tr th {\n",
       "        vertical-align: top;\n",
       "    }\n",
       "\n",
       "    .dataframe thead th {\n",
       "        text-align: right;\n",
       "    }\n",
       "</style>\n",
       "<table border=\"1\" class=\"dataframe\">\n",
       "  <thead>\n",
       "    <tr style=\"text-align: right;\">\n",
       "      <th></th>\n",
       "      <th>STATE/UT</th>\n",
       "      <th>DISTRICT</th>\n",
       "      <th>YEAR</th>\n",
       "      <th>MURDER</th>\n",
       "      <th>ATTEMPT TO MURDER</th>\n",
       "      <th>CULPABLE HOMICIDE NOT AMOUNTING TO MURDER</th>\n",
       "      <th>RAPE</th>\n",
       "      <th>CUSTODIAL RAPE</th>\n",
       "      <th>OTHER RAPE</th>\n",
       "      <th>KIDNAPPING &amp; ABDUCTION</th>\n",
       "      <th>...</th>\n",
       "      <th>ARSON</th>\n",
       "      <th>HURT/GREVIOUS HURT</th>\n",
       "      <th>DOWRY DEATHS</th>\n",
       "      <th>ASSAULT ON WOMEN WITH INTENT TO OUTRAGE HER MODESTY</th>\n",
       "      <th>INSULT TO MODESTY OF WOMEN</th>\n",
       "      <th>CRUELTY BY HUSBAND OR HIS RELATIVES</th>\n",
       "      <th>IMPORTATION OF GIRLS FROM FOREIGN COUNTRIES</th>\n",
       "      <th>CAUSING DEATH BY NEGLIGENCE</th>\n",
       "      <th>OTHER IPC CRIMES</th>\n",
       "      <th>TOTAL IPC CRIMES</th>\n",
       "    </tr>\n",
       "  </thead>\n",
       "  <tbody>\n",
       "    <tr>\n",
       "      <th>8986</th>\n",
       "      <td>A &amp; N ISLANDS</td>\n",
       "      <td>TOTAL</td>\n",
       "      <td>2012</td>\n",
       "      <td>15</td>\n",
       "      <td>3</td>\n",
       "      <td>0</td>\n",
       "      <td>12</td>\n",
       "      <td>0</td>\n",
       "      <td>12</td>\n",
       "      <td>8</td>\n",
       "      <td>...</td>\n",
       "      <td>4</td>\n",
       "      <td>62</td>\n",
       "      <td>2</td>\n",
       "      <td>17</td>\n",
       "      <td>4</td>\n",
       "      <td>5</td>\n",
       "      <td>0</td>\n",
       "      <td>6</td>\n",
       "      <td>351</td>\n",
       "      <td>683</td>\n",
       "    </tr>\n",
       "  </tbody>\n",
       "</table>\n",
       "<p>1 rows × 33 columns</p>\n",
       "</div>"
      ],
      "text/plain": [
       "           STATE/UT DISTRICT  YEAR  MURDER  ATTEMPT TO MURDER  \\\n",
       "8986  A & N ISLANDS    TOTAL  2012      15                  3   \n",
       "\n",
       "      CULPABLE HOMICIDE NOT AMOUNTING TO MURDER  RAPE  CUSTODIAL RAPE  \\\n",
       "8986                                          0    12               0   \n",
       "\n",
       "      OTHER RAPE  KIDNAPPING & ABDUCTION  ...  ARSON  HURT/GREVIOUS HURT  \\\n",
       "8986          12                       8  ...      4                  62   \n",
       "\n",
       "      DOWRY DEATHS  ASSAULT ON WOMEN WITH INTENT TO OUTRAGE HER MODESTY  \\\n",
       "8986             2                                                 17     \n",
       "\n",
       "      INSULT TO MODESTY OF WOMEN  CRUELTY BY HUSBAND OR HIS RELATIVES  \\\n",
       "8986                           4                                    5   \n",
       "\n",
       "      IMPORTATION OF GIRLS FROM FOREIGN COUNTRIES  \\\n",
       "8986                                            0   \n",
       "\n",
       "      CAUSING DEATH BY NEGLIGENCE  OTHER IPC CRIMES  TOTAL IPC CRIMES  \n",
       "8986                            6               351               683  \n",
       "\n",
       "[1 rows x 33 columns]"
      ]
     },
     "execution_count": 174,
     "metadata": {},
     "output_type": "execute_result"
    }
   ],
   "source": [
    "and_crime = crime_type[8986:8987]\n",
    "and_crime"
   ]
  },
  {
   "cell_type": "code",
   "execution_count": 175,
   "id": "c07e8ea0",
   "metadata": {},
   "outputs": [
    {
     "data": {
      "text/plain": [
       "8986    683\n",
       "Name: TOTAL IPC CRIMES, dtype: int64"
      ]
     },
     "execution_count": 175,
     "metadata": {},
     "output_type": "execute_result"
    }
   ],
   "source": [
    "and_crime = and_crime['TOTAL IPC CRIMES']\n",
    "and_crime"
   ]
  },
  {
   "cell_type": "code",
   "execution_count": null,
   "id": "60dfb76a",
   "metadata": {},
   "outputs": [],
   "source": []
  },
  {
   "cell_type": "code",
   "execution_count": 176,
   "id": "e1b365fa",
   "metadata": {},
   "outputs": [],
   "source": [
    "# population data for Andman & Nicobar"
   ]
  },
  {
   "cell_type": "code",
   "execution_count": 177,
   "id": "3e892860",
   "metadata": {},
   "outputs": [
    {
     "data": {
      "text/html": [
       "<div>\n",
       "<style scoped>\n",
       "    .dataframe tbody tr th:only-of-type {\n",
       "        vertical-align: middle;\n",
       "    }\n",
       "\n",
       "    .dataframe tbody tr th {\n",
       "        vertical-align: top;\n",
       "    }\n",
       "\n",
       "    .dataframe thead th {\n",
       "        text-align: right;\n",
       "    }\n",
       "</style>\n",
       "<table border=\"1\" class=\"dataframe\">\n",
       "  <thead>\n",
       "    <tr style=\"text-align: right;\">\n",
       "      <th></th>\n",
       "      <th>S.No</th>\n",
       "      <th>State</th>\n",
       "      <th>total_population</th>\n",
       "      <th>population_male</th>\n",
       "      <th>population_female</th>\n",
       "    </tr>\n",
       "  </thead>\n",
       "  <tbody>\n",
       "    <tr>\n",
       "      <th>28</th>\n",
       "      <td>29</td>\n",
       "      <td>ANDAMAN &amp; NICOBAR ISLANDS</td>\n",
       "      <td>100608</td>\n",
       "      <td>53247</td>\n",
       "      <td>47361</td>\n",
       "    </tr>\n",
       "  </tbody>\n",
       "</table>\n",
       "</div>"
      ],
      "text/plain": [
       "    S.No                      State  total_population  population_male  \\\n",
       "28    29  ANDAMAN & NICOBAR ISLANDS            100608            53247   \n",
       "\n",
       "    population_female  \n",
       "28              47361  "
      ]
     },
     "execution_count": 177,
     "metadata": {},
     "output_type": "execute_result"
    }
   ],
   "source": [
    "and_popu = state_popu[28:29]\n",
    "and_popu"
   ]
  },
  {
   "cell_type": "code",
   "execution_count": 178,
   "id": "ce11e18c",
   "metadata": {},
   "outputs": [
    {
     "data": {
      "text/plain": [
       "28    100608\n",
       "Name: total_population, dtype: int64"
      ]
     },
     "execution_count": 178,
     "metadata": {},
     "output_type": "execute_result"
    }
   ],
   "source": [
    "and_popu = and_popu['total_population']\n",
    "and_popu"
   ]
  },
  {
   "cell_type": "code",
   "execution_count": null,
   "id": "79bb21dd",
   "metadata": {},
   "outputs": [],
   "source": []
  },
  {
   "cell_type": "code",
   "execution_count": null,
   "id": "fe17a51f",
   "metadata": {},
   "outputs": [],
   "source": []
  },
  {
   "cell_type": "code",
   "execution_count": 179,
   "id": "0000da76",
   "metadata": {},
   "outputs": [],
   "source": [
    "# crime data for Chandigarh"
   ]
  },
  {
   "cell_type": "code",
   "execution_count": 180,
   "id": "386c158e",
   "metadata": {},
   "outputs": [
    {
     "data": {
      "text/html": [
       "<div>\n",
       "<style scoped>\n",
       "    .dataframe tbody tr th:only-of-type {\n",
       "        vertical-align: middle;\n",
       "    }\n",
       "\n",
       "    .dataframe tbody tr th {\n",
       "        vertical-align: top;\n",
       "    }\n",
       "\n",
       "    .dataframe thead th {\n",
       "        text-align: right;\n",
       "    }\n",
       "</style>\n",
       "<table border=\"1\" class=\"dataframe\">\n",
       "  <thead>\n",
       "    <tr style=\"text-align: right;\">\n",
       "      <th></th>\n",
       "      <th>STATE/UT</th>\n",
       "      <th>DISTRICT</th>\n",
       "      <th>YEAR</th>\n",
       "      <th>MURDER</th>\n",
       "      <th>ATTEMPT TO MURDER</th>\n",
       "      <th>CULPABLE HOMICIDE NOT AMOUNTING TO MURDER</th>\n",
       "      <th>RAPE</th>\n",
       "      <th>CUSTODIAL RAPE</th>\n",
       "      <th>OTHER RAPE</th>\n",
       "      <th>KIDNAPPING &amp; ABDUCTION</th>\n",
       "      <th>...</th>\n",
       "      <th>ARSON</th>\n",
       "      <th>HURT/GREVIOUS HURT</th>\n",
       "      <th>DOWRY DEATHS</th>\n",
       "      <th>ASSAULT ON WOMEN WITH INTENT TO OUTRAGE HER MODESTY</th>\n",
       "      <th>INSULT TO MODESTY OF WOMEN</th>\n",
       "      <th>CRUELTY BY HUSBAND OR HIS RELATIVES</th>\n",
       "      <th>IMPORTATION OF GIRLS FROM FOREIGN COUNTRIES</th>\n",
       "      <th>CAUSING DEATH BY NEGLIGENCE</th>\n",
       "      <th>OTHER IPC CRIMES</th>\n",
       "      <th>TOTAL IPC CRIMES</th>\n",
       "    </tr>\n",
       "  </thead>\n",
       "  <tbody>\n",
       "    <tr>\n",
       "      <th>8988</th>\n",
       "      <td>CHANDIGARH</td>\n",
       "      <td>TOTAL</td>\n",
       "      <td>2012</td>\n",
       "      <td>21</td>\n",
       "      <td>44</td>\n",
       "      <td>5</td>\n",
       "      <td>27</td>\n",
       "      <td>0</td>\n",
       "      <td>27</td>\n",
       "      <td>87</td>\n",
       "      <td>...</td>\n",
       "      <td>9</td>\n",
       "      <td>42</td>\n",
       "      <td>5</td>\n",
       "      <td>45</td>\n",
       "      <td>25</td>\n",
       "      <td>73</td>\n",
       "      <td>0</td>\n",
       "      <td>3</td>\n",
       "      <td>1042</td>\n",
       "      <td>3606</td>\n",
       "    </tr>\n",
       "  </tbody>\n",
       "</table>\n",
       "<p>1 rows × 33 columns</p>\n",
       "</div>"
      ],
      "text/plain": [
       "        STATE/UT DISTRICT  YEAR  MURDER  ATTEMPT TO MURDER  \\\n",
       "8988  CHANDIGARH    TOTAL  2012      21                 44   \n",
       "\n",
       "      CULPABLE HOMICIDE NOT AMOUNTING TO MURDER  RAPE  CUSTODIAL RAPE  \\\n",
       "8988                                          5    27               0   \n",
       "\n",
       "      OTHER RAPE  KIDNAPPING & ABDUCTION  ...  ARSON  HURT/GREVIOUS HURT  \\\n",
       "8988          27                      87  ...      9                  42   \n",
       "\n",
       "      DOWRY DEATHS  ASSAULT ON WOMEN WITH INTENT TO OUTRAGE HER MODESTY  \\\n",
       "8988             5                                                 45     \n",
       "\n",
       "      INSULT TO MODESTY OF WOMEN  CRUELTY BY HUSBAND OR HIS RELATIVES  \\\n",
       "8988                          25                                   73   \n",
       "\n",
       "      IMPORTATION OF GIRLS FROM FOREIGN COUNTRIES  \\\n",
       "8988                                            0   \n",
       "\n",
       "      CAUSING DEATH BY NEGLIGENCE  OTHER IPC CRIMES  TOTAL IPC CRIMES  \n",
       "8988                            3              1042              3606  \n",
       "\n",
       "[1 rows x 33 columns]"
      ]
     },
     "execution_count": 180,
     "metadata": {},
     "output_type": "execute_result"
    }
   ],
   "source": [
    "chandigarh_crime = crime_type[8988:8989]\n",
    "chandigarh_crime"
   ]
  },
  {
   "cell_type": "code",
   "execution_count": 181,
   "id": "7d8a14af",
   "metadata": {},
   "outputs": [
    {
     "data": {
      "text/plain": [
       "8988    3606\n",
       "Name: TOTAL IPC CRIMES, dtype: int64"
      ]
     },
     "execution_count": 181,
     "metadata": {},
     "output_type": "execute_result"
    }
   ],
   "source": [
    "chandigarh_crime = chandigarh_crime['TOTAL IPC CRIMES']\n",
    "chandigarh_crime"
   ]
  },
  {
   "cell_type": "code",
   "execution_count": null,
   "id": "01ac7600",
   "metadata": {},
   "outputs": [],
   "source": []
  },
  {
   "cell_type": "code",
   "execution_count": 182,
   "id": "71a42072",
   "metadata": {},
   "outputs": [],
   "source": [
    "# population data for Chandigarh"
   ]
  },
  {
   "cell_type": "code",
   "execution_count": 183,
   "id": "2c78f574",
   "metadata": {},
   "outputs": [
    {
     "data": {
      "text/html": [
       "<div>\n",
       "<style scoped>\n",
       "    .dataframe tbody tr th:only-of-type {\n",
       "        vertical-align: middle;\n",
       "    }\n",
       "\n",
       "    .dataframe tbody tr th {\n",
       "        vertical-align: top;\n",
       "    }\n",
       "\n",
       "    .dataframe thead th {\n",
       "        text-align: right;\n",
       "    }\n",
       "</style>\n",
       "<table border=\"1\" class=\"dataframe\">\n",
       "  <thead>\n",
       "    <tr style=\"text-align: right;\">\n",
       "      <th></th>\n",
       "      <th>S.No</th>\n",
       "      <th>State</th>\n",
       "      <th>total_population</th>\n",
       "      <th>population_male</th>\n",
       "      <th>population_female</th>\n",
       "    </tr>\n",
       "  </thead>\n",
       "  <tbody>\n",
       "    <tr>\n",
       "      <th>20</th>\n",
       "      <td>21</td>\n",
       "      <td>CHANDIGARH</td>\n",
       "      <td>960787</td>\n",
       "      <td>525226</td>\n",
       "      <td>435561</td>\n",
       "    </tr>\n",
       "  </tbody>\n",
       "</table>\n",
       "</div>"
      ],
      "text/plain": [
       "    S.No       State  total_population  population_male  population_female\n",
       "20    21  CHANDIGARH            960787           525226             435561"
      ]
     },
     "execution_count": 183,
     "metadata": {},
     "output_type": "execute_result"
    }
   ],
   "source": [
    "chandigarh_popu = state_popu[20:21]\n",
    "chandigarh_popu"
   ]
  },
  {
   "cell_type": "code",
   "execution_count": 184,
   "id": "8e7bd66d",
   "metadata": {},
   "outputs": [
    {
     "data": {
      "text/plain": [
       "20    960787\n",
       "Name: total_population, dtype: int64"
      ]
     },
     "execution_count": 184,
     "metadata": {},
     "output_type": "execute_result"
    }
   ],
   "source": [
    "chandigarh_popu = chandigarh_popu['total_population']\n",
    "chandigarh_popu"
   ]
  },
  {
   "cell_type": "code",
   "execution_count": null,
   "id": "504ac693",
   "metadata": {},
   "outputs": [],
   "source": []
  },
  {
   "cell_type": "code",
   "execution_count": null,
   "id": "379568ac",
   "metadata": {},
   "outputs": [],
   "source": []
  },
  {
   "cell_type": "code",
   "execution_count": null,
   "id": "edbd6edc",
   "metadata": {},
   "outputs": [],
   "source": []
  },
  {
   "cell_type": "code",
   "execution_count": 185,
   "id": "9493ce8e",
   "metadata": {},
   "outputs": [],
   "source": [
    "# crime data for Dadra & Nagar haveli"
   ]
  },
  {
   "cell_type": "code",
   "execution_count": 186,
   "id": "1633af59",
   "metadata": {},
   "outputs": [
    {
     "data": {
      "text/html": [
       "<div>\n",
       "<style scoped>\n",
       "    .dataframe tbody tr th:only-of-type {\n",
       "        vertical-align: middle;\n",
       "    }\n",
       "\n",
       "    .dataframe tbody tr th {\n",
       "        vertical-align: top;\n",
       "    }\n",
       "\n",
       "    .dataframe thead th {\n",
       "        text-align: right;\n",
       "    }\n",
       "</style>\n",
       "<table border=\"1\" class=\"dataframe\">\n",
       "  <thead>\n",
       "    <tr style=\"text-align: right;\">\n",
       "      <th></th>\n",
       "      <th>STATE/UT</th>\n",
       "      <th>DISTRICT</th>\n",
       "      <th>YEAR</th>\n",
       "      <th>MURDER</th>\n",
       "      <th>ATTEMPT TO MURDER</th>\n",
       "      <th>CULPABLE HOMICIDE NOT AMOUNTING TO MURDER</th>\n",
       "      <th>RAPE</th>\n",
       "      <th>CUSTODIAL RAPE</th>\n",
       "      <th>OTHER RAPE</th>\n",
       "      <th>KIDNAPPING &amp; ABDUCTION</th>\n",
       "      <th>...</th>\n",
       "      <th>ARSON</th>\n",
       "      <th>HURT/GREVIOUS HURT</th>\n",
       "      <th>DOWRY DEATHS</th>\n",
       "      <th>ASSAULT ON WOMEN WITH INTENT TO OUTRAGE HER MODESTY</th>\n",
       "      <th>INSULT TO MODESTY OF WOMEN</th>\n",
       "      <th>CRUELTY BY HUSBAND OR HIS RELATIVES</th>\n",
       "      <th>IMPORTATION OF GIRLS FROM FOREIGN COUNTRIES</th>\n",
       "      <th>CAUSING DEATH BY NEGLIGENCE</th>\n",
       "      <th>OTHER IPC CRIMES</th>\n",
       "      <th>TOTAL IPC CRIMES</th>\n",
       "    </tr>\n",
       "  </thead>\n",
       "  <tbody>\n",
       "    <tr>\n",
       "      <th>8990</th>\n",
       "      <td>D &amp; N HAVELI</td>\n",
       "      <td>TOTAL</td>\n",
       "      <td>2012</td>\n",
       "      <td>7</td>\n",
       "      <td>2</td>\n",
       "      <td>0</td>\n",
       "      <td>3</td>\n",
       "      <td>0</td>\n",
       "      <td>3</td>\n",
       "      <td>13</td>\n",
       "      <td>...</td>\n",
       "      <td>12</td>\n",
       "      <td>25</td>\n",
       "      <td>0</td>\n",
       "      <td>2</td>\n",
       "      <td>0</td>\n",
       "      <td>0</td>\n",
       "      <td>0</td>\n",
       "      <td>23</td>\n",
       "      <td>112</td>\n",
       "      <td>318</td>\n",
       "    </tr>\n",
       "  </tbody>\n",
       "</table>\n",
       "<p>1 rows × 33 columns</p>\n",
       "</div>"
      ],
      "text/plain": [
       "          STATE/UT DISTRICT  YEAR  MURDER  ATTEMPT TO MURDER  \\\n",
       "8990  D & N HAVELI    TOTAL  2012       7                  2   \n",
       "\n",
       "      CULPABLE HOMICIDE NOT AMOUNTING TO MURDER  RAPE  CUSTODIAL RAPE  \\\n",
       "8990                                          0     3               0   \n",
       "\n",
       "      OTHER RAPE  KIDNAPPING & ABDUCTION  ...  ARSON  HURT/GREVIOUS HURT  \\\n",
       "8990           3                      13  ...     12                  25   \n",
       "\n",
       "      DOWRY DEATHS  ASSAULT ON WOMEN WITH INTENT TO OUTRAGE HER MODESTY  \\\n",
       "8990             0                                                  2     \n",
       "\n",
       "      INSULT TO MODESTY OF WOMEN  CRUELTY BY HUSBAND OR HIS RELATIVES  \\\n",
       "8990                           0                                    0   \n",
       "\n",
       "      IMPORTATION OF GIRLS FROM FOREIGN COUNTRIES  \\\n",
       "8990                                            0   \n",
       "\n",
       "      CAUSING DEATH BY NEGLIGENCE  OTHER IPC CRIMES  TOTAL IPC CRIMES  \n",
       "8990                           23               112               318  \n",
       "\n",
       "[1 rows x 33 columns]"
      ]
     },
     "execution_count": 186,
     "metadata": {},
     "output_type": "execute_result"
    }
   ],
   "source": [
    "dadra_crime = crime_type[8990:8991]\n",
    "dadra_crime"
   ]
  },
  {
   "cell_type": "code",
   "execution_count": 187,
   "id": "eb15db3f",
   "metadata": {},
   "outputs": [
    {
     "data": {
      "text/plain": [
       "8990    318\n",
       "Name: TOTAL IPC CRIMES, dtype: int64"
      ]
     },
     "execution_count": 187,
     "metadata": {},
     "output_type": "execute_result"
    }
   ],
   "source": [
    "dadra_crime = dadra_crime['TOTAL IPC CRIMES']\n",
    "dadra_crime"
   ]
  },
  {
   "cell_type": "code",
   "execution_count": null,
   "id": "8e9c4ca5",
   "metadata": {},
   "outputs": [],
   "source": []
  },
  {
   "cell_type": "code",
   "execution_count": 188,
   "id": "c6692ad9",
   "metadata": {},
   "outputs": [],
   "source": [
    "# population data for Dadra & Nagar Haveli"
   ]
  },
  {
   "cell_type": "code",
   "execution_count": 189,
   "id": "15d3e98d",
   "metadata": {},
   "outputs": [
    {
     "data": {
      "text/html": [
       "<div>\n",
       "<style scoped>\n",
       "    .dataframe tbody tr th:only-of-type {\n",
       "        vertical-align: middle;\n",
       "    }\n",
       "\n",
       "    .dataframe tbody tr th {\n",
       "        vertical-align: top;\n",
       "    }\n",
       "\n",
       "    .dataframe thead th {\n",
       "        text-align: right;\n",
       "    }\n",
       "</style>\n",
       "<table border=\"1\" class=\"dataframe\">\n",
       "  <thead>\n",
       "    <tr style=\"text-align: right;\">\n",
       "      <th></th>\n",
       "      <th>S.No</th>\n",
       "      <th>State</th>\n",
       "      <th>total_population</th>\n",
       "      <th>population_male</th>\n",
       "      <th>population_female</th>\n",
       "    </tr>\n",
       "  </thead>\n",
       "  <tbody>\n",
       "    <tr>\n",
       "      <th>30</th>\n",
       "      <td>31</td>\n",
       "      <td>DNH</td>\n",
       "      <td>13039</td>\n",
       "      <td>8193</td>\n",
       "      <td>4846</td>\n",
       "    </tr>\n",
       "  </tbody>\n",
       "</table>\n",
       "</div>"
      ],
      "text/plain": [
       "    S.No State  total_population  population_male  population_female\n",
       "30    31   DNH             13039             8193               4846"
      ]
     },
     "execution_count": 189,
     "metadata": {},
     "output_type": "execute_result"
    }
   ],
   "source": [
    "dadra_popu = state_popu[30:31]\n",
    "dadra_popu"
   ]
  },
  {
   "cell_type": "code",
   "execution_count": 190,
   "id": "643f91b3",
   "metadata": {},
   "outputs": [
    {
     "data": {
      "text/plain": [
       "30    13039\n",
       "Name: total_population, dtype: int64"
      ]
     },
     "execution_count": 190,
     "metadata": {},
     "output_type": "execute_result"
    }
   ],
   "source": [
    "dadra_popu = dadra_popu['total_population']\n",
    "dadra_popu"
   ]
  },
  {
   "cell_type": "code",
   "execution_count": null,
   "id": "4d4ff626",
   "metadata": {},
   "outputs": [],
   "source": []
  },
  {
   "cell_type": "code",
   "execution_count": null,
   "id": "6da588fd",
   "metadata": {},
   "outputs": [],
   "source": []
  },
  {
   "cell_type": "code",
   "execution_count": 191,
   "id": "7474626e",
   "metadata": {},
   "outputs": [],
   "source": [
    "# crime data for Daman & Diu"
   ]
  },
  {
   "cell_type": "code",
   "execution_count": 192,
   "id": "bb2f9f6a",
   "metadata": {},
   "outputs": [
    {
     "data": {
      "text/html": [
       "<div>\n",
       "<style scoped>\n",
       "    .dataframe tbody tr th:only-of-type {\n",
       "        vertical-align: middle;\n",
       "    }\n",
       "\n",
       "    .dataframe tbody tr th {\n",
       "        vertical-align: top;\n",
       "    }\n",
       "\n",
       "    .dataframe thead th {\n",
       "        text-align: right;\n",
       "    }\n",
       "</style>\n",
       "<table border=\"1\" class=\"dataframe\">\n",
       "  <thead>\n",
       "    <tr style=\"text-align: right;\">\n",
       "      <th></th>\n",
       "      <th>STATE/UT</th>\n",
       "      <th>DISTRICT</th>\n",
       "      <th>YEAR</th>\n",
       "      <th>MURDER</th>\n",
       "      <th>ATTEMPT TO MURDER</th>\n",
       "      <th>CULPABLE HOMICIDE NOT AMOUNTING TO MURDER</th>\n",
       "      <th>RAPE</th>\n",
       "      <th>CUSTODIAL RAPE</th>\n",
       "      <th>OTHER RAPE</th>\n",
       "      <th>KIDNAPPING &amp; ABDUCTION</th>\n",
       "      <th>...</th>\n",
       "      <th>ARSON</th>\n",
       "      <th>HURT/GREVIOUS HURT</th>\n",
       "      <th>DOWRY DEATHS</th>\n",
       "      <th>ASSAULT ON WOMEN WITH INTENT TO OUTRAGE HER MODESTY</th>\n",
       "      <th>INSULT TO MODESTY OF WOMEN</th>\n",
       "      <th>CRUELTY BY HUSBAND OR HIS RELATIVES</th>\n",
       "      <th>IMPORTATION OF GIRLS FROM FOREIGN COUNTRIES</th>\n",
       "      <th>CAUSING DEATH BY NEGLIGENCE</th>\n",
       "      <th>OTHER IPC CRIMES</th>\n",
       "      <th>TOTAL IPC CRIMES</th>\n",
       "    </tr>\n",
       "  </thead>\n",
       "  <tbody>\n",
       "    <tr>\n",
       "      <th>8993</th>\n",
       "      <td>DAMAN &amp; DIU</td>\n",
       "      <td>TOTAL</td>\n",
       "      <td>2012</td>\n",
       "      <td>3</td>\n",
       "      <td>5</td>\n",
       "      <td>0</td>\n",
       "      <td>5</td>\n",
       "      <td>0</td>\n",
       "      <td>5</td>\n",
       "      <td>3</td>\n",
       "      <td>...</td>\n",
       "      <td>11</td>\n",
       "      <td>17</td>\n",
       "      <td>0</td>\n",
       "      <td>0</td>\n",
       "      <td>0</td>\n",
       "      <td>3</td>\n",
       "      <td>0</td>\n",
       "      <td>38</td>\n",
       "      <td>46</td>\n",
       "      <td>239</td>\n",
       "    </tr>\n",
       "  </tbody>\n",
       "</table>\n",
       "<p>1 rows × 33 columns</p>\n",
       "</div>"
      ],
      "text/plain": [
       "         STATE/UT DISTRICT  YEAR  MURDER  ATTEMPT TO MURDER  \\\n",
       "8993  DAMAN & DIU    TOTAL  2012       3                  5   \n",
       "\n",
       "      CULPABLE HOMICIDE NOT AMOUNTING TO MURDER  RAPE  CUSTODIAL RAPE  \\\n",
       "8993                                          0     5               0   \n",
       "\n",
       "      OTHER RAPE  KIDNAPPING & ABDUCTION  ...  ARSON  HURT/GREVIOUS HURT  \\\n",
       "8993           5                       3  ...     11                  17   \n",
       "\n",
       "      DOWRY DEATHS  ASSAULT ON WOMEN WITH INTENT TO OUTRAGE HER MODESTY  \\\n",
       "8993             0                                                  0     \n",
       "\n",
       "      INSULT TO MODESTY OF WOMEN  CRUELTY BY HUSBAND OR HIS RELATIVES  \\\n",
       "8993                           0                                    3   \n",
       "\n",
       "      IMPORTATION OF GIRLS FROM FOREIGN COUNTRIES  \\\n",
       "8993                                            0   \n",
       "\n",
       "      CAUSING DEATH BY NEGLIGENCE  OTHER IPC CRIMES  TOTAL IPC CRIMES  \n",
       "8993                           38                46               239  \n",
       "\n",
       "[1 rows x 33 columns]"
      ]
     },
     "execution_count": 192,
     "metadata": {},
     "output_type": "execute_result"
    }
   ],
   "source": [
    "dd_crime = crime_type[8993:8994]\n",
    "dd_crime"
   ]
  },
  {
   "cell_type": "code",
   "execution_count": 193,
   "id": "309f57f7",
   "metadata": {},
   "outputs": [
    {
     "data": {
      "text/plain": [
       "8993    239\n",
       "Name: TOTAL IPC CRIMES, dtype: int64"
      ]
     },
     "execution_count": 193,
     "metadata": {},
     "output_type": "execute_result"
    }
   ],
   "source": [
    "dd_crime = dd_crime['TOTAL IPC CRIMES']\n",
    "dd_crime"
   ]
  },
  {
   "cell_type": "code",
   "execution_count": 194,
   "id": "9a51e7af",
   "metadata": {},
   "outputs": [],
   "source": [
    "# popultion data for Daman  & Diu is not available in dataset"
   ]
  },
  {
   "cell_type": "code",
   "execution_count": null,
   "id": "63fc9101",
   "metadata": {},
   "outputs": [],
   "source": []
  },
  {
   "cell_type": "code",
   "execution_count": null,
   "id": "6646fa51",
   "metadata": {},
   "outputs": [],
   "source": []
  },
  {
   "cell_type": "code",
   "execution_count": 195,
   "id": "92525409",
   "metadata": {},
   "outputs": [],
   "source": [
    "# crime data for Delhi"
   ]
  },
  {
   "cell_type": "code",
   "execution_count": 196,
   "id": "b09635d6",
   "metadata": {},
   "outputs": [
    {
     "data": {
      "text/html": [
       "<div>\n",
       "<style scoped>\n",
       "    .dataframe tbody tr th:only-of-type {\n",
       "        vertical-align: middle;\n",
       "    }\n",
       "\n",
       "    .dataframe tbody tr th {\n",
       "        vertical-align: top;\n",
       "    }\n",
       "\n",
       "    .dataframe thead th {\n",
       "        text-align: right;\n",
       "    }\n",
       "</style>\n",
       "<table border=\"1\" class=\"dataframe\">\n",
       "  <thead>\n",
       "    <tr style=\"text-align: right;\">\n",
       "      <th></th>\n",
       "      <th>STATE/UT</th>\n",
       "      <th>DISTRICT</th>\n",
       "      <th>YEAR</th>\n",
       "      <th>MURDER</th>\n",
       "      <th>ATTEMPT TO MURDER</th>\n",
       "      <th>CULPABLE HOMICIDE NOT AMOUNTING TO MURDER</th>\n",
       "      <th>RAPE</th>\n",
       "      <th>CUSTODIAL RAPE</th>\n",
       "      <th>OTHER RAPE</th>\n",
       "      <th>KIDNAPPING &amp; ABDUCTION</th>\n",
       "      <th>...</th>\n",
       "      <th>ARSON</th>\n",
       "      <th>HURT/GREVIOUS HURT</th>\n",
       "      <th>DOWRY DEATHS</th>\n",
       "      <th>ASSAULT ON WOMEN WITH INTENT TO OUTRAGE HER MODESTY</th>\n",
       "      <th>INSULT TO MODESTY OF WOMEN</th>\n",
       "      <th>CRUELTY BY HUSBAND OR HIS RELATIVES</th>\n",
       "      <th>IMPORTATION OF GIRLS FROM FOREIGN COUNTRIES</th>\n",
       "      <th>CAUSING DEATH BY NEGLIGENCE</th>\n",
       "      <th>OTHER IPC CRIMES</th>\n",
       "      <th>TOTAL IPC CRIMES</th>\n",
       "    </tr>\n",
       "  </thead>\n",
       "  <tbody>\n",
       "    <tr>\n",
       "      <th>9011</th>\n",
       "      <td>DELHI UT</td>\n",
       "      <td>WEST</td>\n",
       "      <td>2012</td>\n",
       "      <td>52</td>\n",
       "      <td>37</td>\n",
       "      <td>10</td>\n",
       "      <td>79</td>\n",
       "      <td>0</td>\n",
       "      <td>79</td>\n",
       "      <td>454</td>\n",
       "      <td>...</td>\n",
       "      <td>18</td>\n",
       "      <td>227</td>\n",
       "      <td>18</td>\n",
       "      <td>53</td>\n",
       "      <td>6</td>\n",
       "      <td>327</td>\n",
       "      <td>0</td>\n",
       "      <td>292</td>\n",
       "      <td>1144</td>\n",
       "      <td>5558</td>\n",
       "    </tr>\n",
       "  </tbody>\n",
       "</table>\n",
       "<p>1 rows × 33 columns</p>\n",
       "</div>"
      ],
      "text/plain": [
       "      STATE/UT DISTRICT  YEAR  MURDER  ATTEMPT TO MURDER  \\\n",
       "9011  DELHI UT     WEST  2012      52                 37   \n",
       "\n",
       "      CULPABLE HOMICIDE NOT AMOUNTING TO MURDER  RAPE  CUSTODIAL RAPE  \\\n",
       "9011                                         10    79               0   \n",
       "\n",
       "      OTHER RAPE  KIDNAPPING & ABDUCTION  ...  ARSON  HURT/GREVIOUS HURT  \\\n",
       "9011          79                     454  ...     18                 227   \n",
       "\n",
       "      DOWRY DEATHS  ASSAULT ON WOMEN WITH INTENT TO OUTRAGE HER MODESTY  \\\n",
       "9011            18                                                 53     \n",
       "\n",
       "      INSULT TO MODESTY OF WOMEN  CRUELTY BY HUSBAND OR HIS RELATIVES  \\\n",
       "9011                           6                                  327   \n",
       "\n",
       "      IMPORTATION OF GIRLS FROM FOREIGN COUNTRIES  \\\n",
       "9011                                            0   \n",
       "\n",
       "      CAUSING DEATH BY NEGLIGENCE  OTHER IPC CRIMES  TOTAL IPC CRIMES  \n",
       "9011                          292              1144              5558  \n",
       "\n",
       "[1 rows x 33 columns]"
      ]
     },
     "execution_count": 196,
     "metadata": {},
     "output_type": "execute_result"
    }
   ],
   "source": [
    "delhi_crime = crime_type[9011:9012]\n",
    "delhi_crime"
   ]
  },
  {
   "cell_type": "code",
   "execution_count": 197,
   "id": "322c7977",
   "metadata": {},
   "outputs": [
    {
     "data": {
      "text/plain": [
       "9011    5558\n",
       "Name: TOTAL IPC CRIMES, dtype: int64"
      ]
     },
     "execution_count": 197,
     "metadata": {},
     "output_type": "execute_result"
    }
   ],
   "source": [
    "delhi_crime = delhi_crime['TOTAL IPC CRIMES']\n",
    "delhi_crime"
   ]
  },
  {
   "cell_type": "code",
   "execution_count": null,
   "id": "86287263",
   "metadata": {},
   "outputs": [],
   "source": []
  },
  {
   "cell_type": "code",
   "execution_count": 198,
   "id": "b07796e1",
   "metadata": {},
   "outputs": [],
   "source": [
    "# population data for Delhi"
   ]
  },
  {
   "cell_type": "code",
   "execution_count": 199,
   "id": "eb7ccb82",
   "metadata": {},
   "outputs": [
    {
     "data": {
      "text/html": [
       "<div>\n",
       "<style scoped>\n",
       "    .dataframe tbody tr th:only-of-type {\n",
       "        vertical-align: middle;\n",
       "    }\n",
       "\n",
       "    .dataframe tbody tr th {\n",
       "        vertical-align: top;\n",
       "    }\n",
       "\n",
       "    .dataframe thead th {\n",
       "        text-align: right;\n",
       "    }\n",
       "</style>\n",
       "<table border=\"1\" class=\"dataframe\">\n",
       "  <thead>\n",
       "    <tr style=\"text-align: right;\">\n",
       "      <th></th>\n",
       "      <th>S.No</th>\n",
       "      <th>State</th>\n",
       "      <th>total_population</th>\n",
       "      <th>population_male</th>\n",
       "      <th>population_female</th>\n",
       "    </tr>\n",
       "  </thead>\n",
       "  <tbody>\n",
       "    <tr>\n",
       "      <th>7</th>\n",
       "      <td>8</td>\n",
       "      <td>DELHI</td>\n",
       "      <td>13481997</td>\n",
       "      <td>7201322</td>\n",
       "      <td>6280675</td>\n",
       "    </tr>\n",
       "  </tbody>\n",
       "</table>\n",
       "</div>"
      ],
      "text/plain": [
       "   S.No  State  total_population  population_male  population_female\n",
       "7     8  DELHI          13481997          7201322            6280675"
      ]
     },
     "execution_count": 199,
     "metadata": {},
     "output_type": "execute_result"
    }
   ],
   "source": [
    "delhi_popu = state_popu[7:8]\n",
    "delhi_popu"
   ]
  },
  {
   "cell_type": "code",
   "execution_count": 200,
   "id": "8cb2ed4a",
   "metadata": {},
   "outputs": [
    {
     "data": {
      "text/plain": [
       "7    13481997\n",
       "Name: total_population, dtype: int64"
      ]
     },
     "execution_count": 200,
     "metadata": {},
     "output_type": "execute_result"
    }
   ],
   "source": [
    "delhi_popu = delhi_popu['total_population']\n",
    "delhi_popu"
   ]
  },
  {
   "cell_type": "code",
   "execution_count": null,
   "id": "85219466",
   "metadata": {},
   "outputs": [],
   "source": []
  },
  {
   "cell_type": "code",
   "execution_count": null,
   "id": "eddcc1a5",
   "metadata": {},
   "outputs": [],
   "source": []
  },
  {
   "cell_type": "code",
   "execution_count": null,
   "id": "beb6d3be",
   "metadata": {},
   "outputs": [],
   "source": []
  },
  {
   "cell_type": "code",
   "execution_count": 201,
   "id": "936a3536",
   "metadata": {},
   "outputs": [],
   "source": [
    "# crime data for Lakshadweep"
   ]
  },
  {
   "cell_type": "code",
   "execution_count": 202,
   "id": "2bcd5fc1",
   "metadata": {},
   "outputs": [
    {
     "data": {
      "text/html": [
       "<div>\n",
       "<style scoped>\n",
       "    .dataframe tbody tr th:only-of-type {\n",
       "        vertical-align: middle;\n",
       "    }\n",
       "\n",
       "    .dataframe tbody tr th {\n",
       "        vertical-align: top;\n",
       "    }\n",
       "\n",
       "    .dataframe thead th {\n",
       "        text-align: right;\n",
       "    }\n",
       "</style>\n",
       "<table border=\"1\" class=\"dataframe\">\n",
       "  <thead>\n",
       "    <tr style=\"text-align: right;\">\n",
       "      <th></th>\n",
       "      <th>STATE/UT</th>\n",
       "      <th>DISTRICT</th>\n",
       "      <th>YEAR</th>\n",
       "      <th>MURDER</th>\n",
       "      <th>ATTEMPT TO MURDER</th>\n",
       "      <th>CULPABLE HOMICIDE NOT AMOUNTING TO MURDER</th>\n",
       "      <th>RAPE</th>\n",
       "      <th>CUSTODIAL RAPE</th>\n",
       "      <th>OTHER RAPE</th>\n",
       "      <th>KIDNAPPING &amp; ABDUCTION</th>\n",
       "      <th>...</th>\n",
       "      <th>ARSON</th>\n",
       "      <th>HURT/GREVIOUS HURT</th>\n",
       "      <th>DOWRY DEATHS</th>\n",
       "      <th>ASSAULT ON WOMEN WITH INTENT TO OUTRAGE HER MODESTY</th>\n",
       "      <th>INSULT TO MODESTY OF WOMEN</th>\n",
       "      <th>CRUELTY BY HUSBAND OR HIS RELATIVES</th>\n",
       "      <th>IMPORTATION OF GIRLS FROM FOREIGN COUNTRIES</th>\n",
       "      <th>CAUSING DEATH BY NEGLIGENCE</th>\n",
       "      <th>OTHER IPC CRIMES</th>\n",
       "      <th>TOTAL IPC CRIMES</th>\n",
       "    </tr>\n",
       "  </thead>\n",
       "  <tbody>\n",
       "    <tr>\n",
       "      <th>9013</th>\n",
       "      <td>LAKSHADWEEP</td>\n",
       "      <td>TOTAL</td>\n",
       "      <td>2012</td>\n",
       "      <td>0</td>\n",
       "      <td>0</td>\n",
       "      <td>0</td>\n",
       "      <td>0</td>\n",
       "      <td>0</td>\n",
       "      <td>0</td>\n",
       "      <td>0</td>\n",
       "      <td>...</td>\n",
       "      <td>3</td>\n",
       "      <td>3</td>\n",
       "      <td>0</td>\n",
       "      <td>1</td>\n",
       "      <td>0</td>\n",
       "      <td>1</td>\n",
       "      <td>0</td>\n",
       "      <td>0</td>\n",
       "      <td>32</td>\n",
       "      <td>60</td>\n",
       "    </tr>\n",
       "  </tbody>\n",
       "</table>\n",
       "<p>1 rows × 33 columns</p>\n",
       "</div>"
      ],
      "text/plain": [
       "         STATE/UT DISTRICT  YEAR  MURDER  ATTEMPT TO MURDER  \\\n",
       "9013  LAKSHADWEEP    TOTAL  2012       0                  0   \n",
       "\n",
       "      CULPABLE HOMICIDE NOT AMOUNTING TO MURDER  RAPE  CUSTODIAL RAPE  \\\n",
       "9013                                          0     0               0   \n",
       "\n",
       "      OTHER RAPE  KIDNAPPING & ABDUCTION  ...  ARSON  HURT/GREVIOUS HURT  \\\n",
       "9013           0                       0  ...      3                   3   \n",
       "\n",
       "      DOWRY DEATHS  ASSAULT ON WOMEN WITH INTENT TO OUTRAGE HER MODESTY  \\\n",
       "9013             0                                                  1     \n",
       "\n",
       "      INSULT TO MODESTY OF WOMEN  CRUELTY BY HUSBAND OR HIS RELATIVES  \\\n",
       "9013                           0                                    1   \n",
       "\n",
       "      IMPORTATION OF GIRLS FROM FOREIGN COUNTRIES  \\\n",
       "9013                                            0   \n",
       "\n",
       "      CAUSING DEATH BY NEGLIGENCE  OTHER IPC CRIMES  TOTAL IPC CRIMES  \n",
       "9013                            0                32                60  \n",
       "\n",
       "[1 rows x 33 columns]"
      ]
     },
     "execution_count": 202,
     "metadata": {},
     "output_type": "execute_result"
    }
   ],
   "source": [
    "lak_crime = crime_type[9013:9014]\n",
    "lak_crime"
   ]
  },
  {
   "cell_type": "code",
   "execution_count": 203,
   "id": "b4cc1ece",
   "metadata": {},
   "outputs": [
    {
     "data": {
      "text/plain": [
       "9013    60\n",
       "Name: TOTAL IPC CRIMES, dtype: int64"
      ]
     },
     "execution_count": 203,
     "metadata": {},
     "output_type": "execute_result"
    }
   ],
   "source": [
    "lak_crime = lak_crime['TOTAL IPC CRIMES']\n",
    "lak_crime"
   ]
  },
  {
   "cell_type": "code",
   "execution_count": 204,
   "id": "4651b02c",
   "metadata": {},
   "outputs": [],
   "source": [
    "# population data for Lakshadweep is not available in dataset."
   ]
  },
  {
   "cell_type": "code",
   "execution_count": null,
   "id": "22e707c9",
   "metadata": {},
   "outputs": [],
   "source": []
  },
  {
   "cell_type": "code",
   "execution_count": 205,
   "id": "5422e8db",
   "metadata": {},
   "outputs": [],
   "source": [
    "# criime data for Puducherry"
   ]
  },
  {
   "cell_type": "code",
   "execution_count": 206,
   "id": "d1d31864",
   "metadata": {},
   "outputs": [
    {
     "data": {
      "text/html": [
       "<div>\n",
       "<style scoped>\n",
       "    .dataframe tbody tr th:only-of-type {\n",
       "        vertical-align: middle;\n",
       "    }\n",
       "\n",
       "    .dataframe tbody tr th {\n",
       "        vertical-align: top;\n",
       "    }\n",
       "\n",
       "    .dataframe thead th {\n",
       "        text-align: right;\n",
       "    }\n",
       "</style>\n",
       "<table border=\"1\" class=\"dataframe\">\n",
       "  <thead>\n",
       "    <tr style=\"text-align: right;\">\n",
       "      <th></th>\n",
       "      <th>STATE/UT</th>\n",
       "      <th>DISTRICT</th>\n",
       "      <th>YEAR</th>\n",
       "      <th>MURDER</th>\n",
       "      <th>ATTEMPT TO MURDER</th>\n",
       "      <th>CULPABLE HOMICIDE NOT AMOUNTING TO MURDER</th>\n",
       "      <th>RAPE</th>\n",
       "      <th>CUSTODIAL RAPE</th>\n",
       "      <th>OTHER RAPE</th>\n",
       "      <th>KIDNAPPING &amp; ABDUCTION</th>\n",
       "      <th>...</th>\n",
       "      <th>ARSON</th>\n",
       "      <th>HURT/GREVIOUS HURT</th>\n",
       "      <th>DOWRY DEATHS</th>\n",
       "      <th>ASSAULT ON WOMEN WITH INTENT TO OUTRAGE HER MODESTY</th>\n",
       "      <th>INSULT TO MODESTY OF WOMEN</th>\n",
       "      <th>CRUELTY BY HUSBAND OR HIS RELATIVES</th>\n",
       "      <th>IMPORTATION OF GIRLS FROM FOREIGN COUNTRIES</th>\n",
       "      <th>CAUSING DEATH BY NEGLIGENCE</th>\n",
       "      <th>OTHER IPC CRIMES</th>\n",
       "      <th>TOTAL IPC CRIMES</th>\n",
       "    </tr>\n",
       "  </thead>\n",
       "  <tbody>\n",
       "    <tr>\n",
       "      <th>9016</th>\n",
       "      <td>PUDUCHERRY</td>\n",
       "      <td>TOTAL</td>\n",
       "      <td>2012</td>\n",
       "      <td>29</td>\n",
       "      <td>27</td>\n",
       "      <td>12</td>\n",
       "      <td>13</td>\n",
       "      <td>0</td>\n",
       "      <td>13</td>\n",
       "      <td>19</td>\n",
       "      <td>...</td>\n",
       "      <td>21</td>\n",
       "      <td>818</td>\n",
       "      <td>0</td>\n",
       "      <td>9</td>\n",
       "      <td>2</td>\n",
       "      <td>6</td>\n",
       "      <td>0</td>\n",
       "      <td>263</td>\n",
       "      <td>2060</td>\n",
       "      <td>4281</td>\n",
       "    </tr>\n",
       "  </tbody>\n",
       "</table>\n",
       "<p>1 rows × 33 columns</p>\n",
       "</div>"
      ],
      "text/plain": [
       "        STATE/UT DISTRICT  YEAR  MURDER  ATTEMPT TO MURDER  \\\n",
       "9016  PUDUCHERRY    TOTAL  2012      29                 27   \n",
       "\n",
       "      CULPABLE HOMICIDE NOT AMOUNTING TO MURDER  RAPE  CUSTODIAL RAPE  \\\n",
       "9016                                         12    13               0   \n",
       "\n",
       "      OTHER RAPE  KIDNAPPING & ABDUCTION  ...  ARSON  HURT/GREVIOUS HURT  \\\n",
       "9016          13                      19  ...     21                 818   \n",
       "\n",
       "      DOWRY DEATHS  ASSAULT ON WOMEN WITH INTENT TO OUTRAGE HER MODESTY  \\\n",
       "9016             0                                                  9     \n",
       "\n",
       "      INSULT TO MODESTY OF WOMEN  CRUELTY BY HUSBAND OR HIS RELATIVES  \\\n",
       "9016                           2                                    6   \n",
       "\n",
       "      IMPORTATION OF GIRLS FROM FOREIGN COUNTRIES  \\\n",
       "9016                                            0   \n",
       "\n",
       "      CAUSING DEATH BY NEGLIGENCE  OTHER IPC CRIMES  TOTAL IPC CRIMES  \n",
       "9016                          263              2060              4281  \n",
       "\n",
       "[1 rows x 33 columns]"
      ]
     },
     "execution_count": 206,
     "metadata": {},
     "output_type": "execute_result"
    }
   ],
   "source": [
    "pudu_crime = crime_type[9016:9017]\n",
    "pudu_crime"
   ]
  },
  {
   "cell_type": "code",
   "execution_count": 207,
   "id": "8bc00601",
   "metadata": {},
   "outputs": [
    {
     "data": {
      "text/plain": [
       "9016    4281\n",
       "Name: TOTAL IPC CRIMES, dtype: int64"
      ]
     },
     "execution_count": 207,
     "metadata": {},
     "output_type": "execute_result"
    }
   ],
   "source": [
    "pudu_crime = pudu_crime['TOTAL IPC CRIMES']\n",
    "pudu_crime"
   ]
  },
  {
   "cell_type": "code",
   "execution_count": null,
   "id": "b19b57fa",
   "metadata": {},
   "outputs": [],
   "source": []
  },
  {
   "cell_type": "code",
   "execution_count": 208,
   "id": "6860cb1e",
   "metadata": {},
   "outputs": [],
   "source": [
    "# population data for Puducherry"
   ]
  },
  {
   "cell_type": "code",
   "execution_count": 209,
   "id": "f0b19218",
   "metadata": {},
   "outputs": [
    {
     "data": {
      "text/html": [
       "<div>\n",
       "<style scoped>\n",
       "    .dataframe tbody tr th:only-of-type {\n",
       "        vertical-align: middle;\n",
       "    }\n",
       "\n",
       "    .dataframe tbody tr th {\n",
       "        vertical-align: top;\n",
       "    }\n",
       "\n",
       "    .dataframe thead th {\n",
       "        text-align: right;\n",
       "    }\n",
       "</style>\n",
       "<table border=\"1\" class=\"dataframe\">\n",
       "  <thead>\n",
       "    <tr style=\"text-align: right;\">\n",
       "      <th></th>\n",
       "      <th>S.No</th>\n",
       "      <th>State</th>\n",
       "      <th>total_population</th>\n",
       "      <th>population_male</th>\n",
       "      <th>population_female</th>\n",
       "    </tr>\n",
       "  </thead>\n",
       "  <tbody>\n",
       "    <tr>\n",
       "      <th>21</th>\n",
       "      <td>22</td>\n",
       "      <td>PONDY</td>\n",
       "      <td>541801</td>\n",
       "      <td>266359</td>\n",
       "      <td>275442</td>\n",
       "    </tr>\n",
       "  </tbody>\n",
       "</table>\n",
       "</div>"
      ],
      "text/plain": [
       "    S.No  State  total_population  population_male  population_female\n",
       "21    22  PONDY            541801           266359             275442"
      ]
     },
     "execution_count": 209,
     "metadata": {},
     "output_type": "execute_result"
    }
   ],
   "source": [
    "pudu_popu = state_popu[21:22]\n",
    "pudu_popu"
   ]
  },
  {
   "cell_type": "code",
   "execution_count": 210,
   "id": "a271c355",
   "metadata": {},
   "outputs": [
    {
     "data": {
      "text/plain": [
       "21    541801\n",
       "Name: total_population, dtype: int64"
      ]
     },
     "execution_count": 210,
     "metadata": {},
     "output_type": "execute_result"
    }
   ],
   "source": [
    "pudu_popu = pudu_popu['total_population']\n",
    "pudu_popu"
   ]
  },
  {
   "cell_type": "code",
   "execution_count": null,
   "id": "aa1fe5bd",
   "metadata": {},
   "outputs": [],
   "source": []
  },
  {
   "cell_type": "code",
   "execution_count": null,
   "id": "774b5090",
   "metadata": {},
   "outputs": [],
   "source": []
  },
  {
   "cell_type": "code",
   "execution_count": null,
   "id": "c20fedd2",
   "metadata": {},
   "outputs": [],
   "source": []
  },
  {
   "cell_type": "code",
   "execution_count": null,
   "id": "f2b58fcf",
   "metadata": {},
   "outputs": [],
   "source": []
  },
  {
   "cell_type": "code",
   "execution_count": null,
   "id": "7212b53b",
   "metadata": {},
   "outputs": [],
   "source": []
  }
 ],
 "metadata": {
  "kernelspec": {
   "display_name": "Python 3 (ipykernel)",
   "language": "python",
   "name": "python3"
  },
  "language_info": {
   "codemirror_mode": {
    "name": "ipython",
    "version": 3
   },
   "file_extension": ".py",
   "mimetype": "text/x-python",
   "name": "python",
   "nbconvert_exporter": "python",
   "pygments_lexer": "ipython3",
   "version": "3.9.12"
  }
 },
 "nbformat": 4,
 "nbformat_minor": 5
}
