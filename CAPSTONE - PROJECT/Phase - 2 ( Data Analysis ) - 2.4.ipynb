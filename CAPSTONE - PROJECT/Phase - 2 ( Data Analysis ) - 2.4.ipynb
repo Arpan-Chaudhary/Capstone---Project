{
 "cells": [
  {
   "cell_type": "code",
   "execution_count": null,
   "id": "bb25bdc0",
   "metadata": {},
   "outputs": [],
   "source": []
  },
  {
   "cell_type": "code",
   "execution_count": 1,
   "id": "6a8abc10",
   "metadata": {},
   "outputs": [],
   "source": [
    "import pandas as pd\n",
    "import numpy as np\n",
    "\n",
    "import warnings\n",
    "warnings.filterwarnings('ignore')"
   ]
  },
  {
   "cell_type": "code",
   "execution_count": 2,
   "id": "172396de",
   "metadata": {},
   "outputs": [],
   "source": [
    "import matplotlib.pyplot as plt\n",
    "import seaborn as sns\n",
    "\n",
    "import warnings\n",
    "warnings.filterwarnings('ignore')"
   ]
  },
  {
   "cell_type": "code",
   "execution_count": null,
   "id": "ee63da9f",
   "metadata": {},
   "outputs": [],
   "source": []
  },
  {
   "cell_type": "code",
   "execution_count": 3,
   "id": "b300486e",
   "metadata": {},
   "outputs": [],
   "source": [
    "#  2.4  Analysis of area vs overall crime"
   ]
  },
  {
   "cell_type": "code",
   "execution_count": null,
   "id": "a93e1e9c",
   "metadata": {},
   "outputs": [],
   "source": []
  },
  {
   "cell_type": "code",
   "execution_count": 4,
   "id": "52f1f72f",
   "metadata": {},
   "outputs": [],
   "source": [
    "# importing dataset of crime"
   ]
  },
  {
   "cell_type": "code",
   "execution_count": 5,
   "id": "c86ba9fe",
   "metadata": {},
   "outputs": [
    {
     "data": {
      "text/html": [
       "<div>\n",
       "<style scoped>\n",
       "    .dataframe tbody tr th:only-of-type {\n",
       "        vertical-align: middle;\n",
       "    }\n",
       "\n",
       "    .dataframe tbody tr th {\n",
       "        vertical-align: top;\n",
       "    }\n",
       "\n",
       "    .dataframe thead th {\n",
       "        text-align: right;\n",
       "    }\n",
       "</style>\n",
       "<table border=\"1\" class=\"dataframe\">\n",
       "  <thead>\n",
       "    <tr style=\"text-align: right;\">\n",
       "      <th></th>\n",
       "      <th>STATE/UT</th>\n",
       "      <th>DISTRICT</th>\n",
       "      <th>YEAR</th>\n",
       "      <th>MURDER</th>\n",
       "      <th>ATTEMPT TO MURDER</th>\n",
       "      <th>CULPABLE HOMICIDE NOT AMOUNTING TO MURDER</th>\n",
       "      <th>RAPE</th>\n",
       "      <th>CUSTODIAL RAPE</th>\n",
       "      <th>OTHER RAPE</th>\n",
       "      <th>KIDNAPPING &amp; ABDUCTION</th>\n",
       "      <th>...</th>\n",
       "      <th>ARSON</th>\n",
       "      <th>HURT/GREVIOUS HURT</th>\n",
       "      <th>DOWRY DEATHS</th>\n",
       "      <th>ASSAULT ON WOMEN WITH INTENT TO OUTRAGE HER MODESTY</th>\n",
       "      <th>INSULT TO MODESTY OF WOMEN</th>\n",
       "      <th>CRUELTY BY HUSBAND OR HIS RELATIVES</th>\n",
       "      <th>IMPORTATION OF GIRLS FROM FOREIGN COUNTRIES</th>\n",
       "      <th>CAUSING DEATH BY NEGLIGENCE</th>\n",
       "      <th>OTHER IPC CRIMES</th>\n",
       "      <th>TOTAL IPC CRIMES</th>\n",
       "    </tr>\n",
       "  </thead>\n",
       "  <tbody>\n",
       "    <tr>\n",
       "      <th>0</th>\n",
       "      <td>ANDHRA PRADESH</td>\n",
       "      <td>ADILABAD</td>\n",
       "      <td>2001</td>\n",
       "      <td>101</td>\n",
       "      <td>60</td>\n",
       "      <td>17</td>\n",
       "      <td>50</td>\n",
       "      <td>0</td>\n",
       "      <td>50</td>\n",
       "      <td>46</td>\n",
       "      <td>...</td>\n",
       "      <td>30</td>\n",
       "      <td>1131</td>\n",
       "      <td>16</td>\n",
       "      <td>149</td>\n",
       "      <td>34</td>\n",
       "      <td>175</td>\n",
       "      <td>0</td>\n",
       "      <td>181</td>\n",
       "      <td>1518</td>\n",
       "      <td>4154</td>\n",
       "    </tr>\n",
       "    <tr>\n",
       "      <th>1</th>\n",
       "      <td>ANDHRA PRADESH</td>\n",
       "      <td>ANANTAPUR</td>\n",
       "      <td>2001</td>\n",
       "      <td>151</td>\n",
       "      <td>125</td>\n",
       "      <td>1</td>\n",
       "      <td>23</td>\n",
       "      <td>0</td>\n",
       "      <td>23</td>\n",
       "      <td>53</td>\n",
       "      <td>...</td>\n",
       "      <td>69</td>\n",
       "      <td>1543</td>\n",
       "      <td>7</td>\n",
       "      <td>118</td>\n",
       "      <td>24</td>\n",
       "      <td>154</td>\n",
       "      <td>0</td>\n",
       "      <td>270</td>\n",
       "      <td>754</td>\n",
       "      <td>4125</td>\n",
       "    </tr>\n",
       "    <tr>\n",
       "      <th>2</th>\n",
       "      <td>ANDHRA PRADESH</td>\n",
       "      <td>CHITTOOR</td>\n",
       "      <td>2001</td>\n",
       "      <td>101</td>\n",
       "      <td>57</td>\n",
       "      <td>2</td>\n",
       "      <td>27</td>\n",
       "      <td>0</td>\n",
       "      <td>27</td>\n",
       "      <td>59</td>\n",
       "      <td>...</td>\n",
       "      <td>38</td>\n",
       "      <td>2088</td>\n",
       "      <td>14</td>\n",
       "      <td>112</td>\n",
       "      <td>83</td>\n",
       "      <td>186</td>\n",
       "      <td>0</td>\n",
       "      <td>404</td>\n",
       "      <td>1262</td>\n",
       "      <td>5818</td>\n",
       "    </tr>\n",
       "    <tr>\n",
       "      <th>3</th>\n",
       "      <td>ANDHRA PRADESH</td>\n",
       "      <td>CUDDAPAH</td>\n",
       "      <td>2001</td>\n",
       "      <td>80</td>\n",
       "      <td>53</td>\n",
       "      <td>1</td>\n",
       "      <td>20</td>\n",
       "      <td>0</td>\n",
       "      <td>20</td>\n",
       "      <td>25</td>\n",
       "      <td>...</td>\n",
       "      <td>23</td>\n",
       "      <td>795</td>\n",
       "      <td>17</td>\n",
       "      <td>126</td>\n",
       "      <td>38</td>\n",
       "      <td>57</td>\n",
       "      <td>0</td>\n",
       "      <td>233</td>\n",
       "      <td>1181</td>\n",
       "      <td>3140</td>\n",
       "    </tr>\n",
       "    <tr>\n",
       "      <th>4</th>\n",
       "      <td>ANDHRA PRADESH</td>\n",
       "      <td>EAST GODAVARI</td>\n",
       "      <td>2001</td>\n",
       "      <td>82</td>\n",
       "      <td>67</td>\n",
       "      <td>1</td>\n",
       "      <td>23</td>\n",
       "      <td>0</td>\n",
       "      <td>23</td>\n",
       "      <td>49</td>\n",
       "      <td>...</td>\n",
       "      <td>41</td>\n",
       "      <td>1244</td>\n",
       "      <td>12</td>\n",
       "      <td>109</td>\n",
       "      <td>58</td>\n",
       "      <td>247</td>\n",
       "      <td>0</td>\n",
       "      <td>431</td>\n",
       "      <td>2313</td>\n",
       "      <td>6507</td>\n",
       "    </tr>\n",
       "    <tr>\n",
       "      <th>...</th>\n",
       "      <td>...</td>\n",
       "      <td>...</td>\n",
       "      <td>...</td>\n",
       "      <td>...</td>\n",
       "      <td>...</td>\n",
       "      <td>...</td>\n",
       "      <td>...</td>\n",
       "      <td>...</td>\n",
       "      <td>...</td>\n",
       "      <td>...</td>\n",
       "      <td>...</td>\n",
       "      <td>...</td>\n",
       "      <td>...</td>\n",
       "      <td>...</td>\n",
       "      <td>...</td>\n",
       "      <td>...</td>\n",
       "      <td>...</td>\n",
       "      <td>...</td>\n",
       "      <td>...</td>\n",
       "      <td>...</td>\n",
       "      <td>...</td>\n",
       "    </tr>\n",
       "    <tr>\n",
       "      <th>9012</th>\n",
       "      <td>LAKSHADWEEP</td>\n",
       "      <td>LAKSHADWEEP</td>\n",
       "      <td>2012</td>\n",
       "      <td>0</td>\n",
       "      <td>0</td>\n",
       "      <td>0</td>\n",
       "      <td>0</td>\n",
       "      <td>0</td>\n",
       "      <td>0</td>\n",
       "      <td>0</td>\n",
       "      <td>...</td>\n",
       "      <td>3</td>\n",
       "      <td>3</td>\n",
       "      <td>0</td>\n",
       "      <td>1</td>\n",
       "      <td>0</td>\n",
       "      <td>1</td>\n",
       "      <td>0</td>\n",
       "      <td>0</td>\n",
       "      <td>32</td>\n",
       "      <td>60</td>\n",
       "    </tr>\n",
       "    <tr>\n",
       "      <th>9013</th>\n",
       "      <td>LAKSHADWEEP</td>\n",
       "      <td>TOTAL</td>\n",
       "      <td>2012</td>\n",
       "      <td>0</td>\n",
       "      <td>0</td>\n",
       "      <td>0</td>\n",
       "      <td>0</td>\n",
       "      <td>0</td>\n",
       "      <td>0</td>\n",
       "      <td>0</td>\n",
       "      <td>...</td>\n",
       "      <td>3</td>\n",
       "      <td>3</td>\n",
       "      <td>0</td>\n",
       "      <td>1</td>\n",
       "      <td>0</td>\n",
       "      <td>1</td>\n",
       "      <td>0</td>\n",
       "      <td>0</td>\n",
       "      <td>32</td>\n",
       "      <td>60</td>\n",
       "    </tr>\n",
       "    <tr>\n",
       "      <th>9014</th>\n",
       "      <td>PUDUCHERRY</td>\n",
       "      <td>KARAIKAL</td>\n",
       "      <td>2012</td>\n",
       "      <td>5</td>\n",
       "      <td>6</td>\n",
       "      <td>2</td>\n",
       "      <td>6</td>\n",
       "      <td>0</td>\n",
       "      <td>6</td>\n",
       "      <td>2</td>\n",
       "      <td>...</td>\n",
       "      <td>1</td>\n",
       "      <td>186</td>\n",
       "      <td>0</td>\n",
       "      <td>2</td>\n",
       "      <td>0</td>\n",
       "      <td>1</td>\n",
       "      <td>0</td>\n",
       "      <td>44</td>\n",
       "      <td>392</td>\n",
       "      <td>787</td>\n",
       "    </tr>\n",
       "    <tr>\n",
       "      <th>9015</th>\n",
       "      <td>PUDUCHERRY</td>\n",
       "      <td>PUDUCHERRY</td>\n",
       "      <td>2012</td>\n",
       "      <td>24</td>\n",
       "      <td>21</td>\n",
       "      <td>10</td>\n",
       "      <td>7</td>\n",
       "      <td>0</td>\n",
       "      <td>7</td>\n",
       "      <td>17</td>\n",
       "      <td>...</td>\n",
       "      <td>20</td>\n",
       "      <td>632</td>\n",
       "      <td>0</td>\n",
       "      <td>7</td>\n",
       "      <td>2</td>\n",
       "      <td>5</td>\n",
       "      <td>0</td>\n",
       "      <td>219</td>\n",
       "      <td>1668</td>\n",
       "      <td>3494</td>\n",
       "    </tr>\n",
       "    <tr>\n",
       "      <th>9016</th>\n",
       "      <td>PUDUCHERRY</td>\n",
       "      <td>TOTAL</td>\n",
       "      <td>2012</td>\n",
       "      <td>29</td>\n",
       "      <td>27</td>\n",
       "      <td>12</td>\n",
       "      <td>13</td>\n",
       "      <td>0</td>\n",
       "      <td>13</td>\n",
       "      <td>19</td>\n",
       "      <td>...</td>\n",
       "      <td>21</td>\n",
       "      <td>818</td>\n",
       "      <td>0</td>\n",
       "      <td>9</td>\n",
       "      <td>2</td>\n",
       "      <td>6</td>\n",
       "      <td>0</td>\n",
       "      <td>263</td>\n",
       "      <td>2060</td>\n",
       "      <td>4281</td>\n",
       "    </tr>\n",
       "  </tbody>\n",
       "</table>\n",
       "<p>9017 rows × 33 columns</p>\n",
       "</div>"
      ],
      "text/plain": [
       "            STATE/UT       DISTRICT  YEAR  MURDER  ATTEMPT TO MURDER  \\\n",
       "0     ANDHRA PRADESH       ADILABAD  2001     101                 60   \n",
       "1     ANDHRA PRADESH      ANANTAPUR  2001     151                125   \n",
       "2     ANDHRA PRADESH       CHITTOOR  2001     101                 57   \n",
       "3     ANDHRA PRADESH       CUDDAPAH  2001      80                 53   \n",
       "4     ANDHRA PRADESH  EAST GODAVARI  2001      82                 67   \n",
       "...              ...            ...   ...     ...                ...   \n",
       "9012     LAKSHADWEEP    LAKSHADWEEP  2012       0                  0   \n",
       "9013     LAKSHADWEEP          TOTAL  2012       0                  0   \n",
       "9014      PUDUCHERRY       KARAIKAL  2012       5                  6   \n",
       "9015      PUDUCHERRY     PUDUCHERRY  2012      24                 21   \n",
       "9016      PUDUCHERRY          TOTAL  2012      29                 27   \n",
       "\n",
       "      CULPABLE HOMICIDE NOT AMOUNTING TO MURDER  RAPE  CUSTODIAL RAPE  \\\n",
       "0                                            17    50               0   \n",
       "1                                             1    23               0   \n",
       "2                                             2    27               0   \n",
       "3                                             1    20               0   \n",
       "4                                             1    23               0   \n",
       "...                                         ...   ...             ...   \n",
       "9012                                          0     0               0   \n",
       "9013                                          0     0               0   \n",
       "9014                                          2     6               0   \n",
       "9015                                         10     7               0   \n",
       "9016                                         12    13               0   \n",
       "\n",
       "      OTHER RAPE  KIDNAPPING & ABDUCTION  ...  ARSON  HURT/GREVIOUS HURT  \\\n",
       "0             50                      46  ...     30                1131   \n",
       "1             23                      53  ...     69                1543   \n",
       "2             27                      59  ...     38                2088   \n",
       "3             20                      25  ...     23                 795   \n",
       "4             23                      49  ...     41                1244   \n",
       "...          ...                     ...  ...    ...                 ...   \n",
       "9012           0                       0  ...      3                   3   \n",
       "9013           0                       0  ...      3                   3   \n",
       "9014           6                       2  ...      1                 186   \n",
       "9015           7                      17  ...     20                 632   \n",
       "9016          13                      19  ...     21                 818   \n",
       "\n",
       "      DOWRY DEATHS  ASSAULT ON WOMEN WITH INTENT TO OUTRAGE HER MODESTY  \\\n",
       "0               16                                                149     \n",
       "1                7                                                118     \n",
       "2               14                                                112     \n",
       "3               17                                                126     \n",
       "4               12                                                109     \n",
       "...            ...                                                ...     \n",
       "9012             0                                                  1     \n",
       "9013             0                                                  1     \n",
       "9014             0                                                  2     \n",
       "9015             0                                                  7     \n",
       "9016             0                                                  9     \n",
       "\n",
       "      INSULT TO MODESTY OF WOMEN  CRUELTY BY HUSBAND OR HIS RELATIVES  \\\n",
       "0                             34                                  175   \n",
       "1                             24                                  154   \n",
       "2                             83                                  186   \n",
       "3                             38                                   57   \n",
       "4                             58                                  247   \n",
       "...                          ...                                  ...   \n",
       "9012                           0                                    1   \n",
       "9013                           0                                    1   \n",
       "9014                           0                                    1   \n",
       "9015                           2                                    5   \n",
       "9016                           2                                    6   \n",
       "\n",
       "      IMPORTATION OF GIRLS FROM FOREIGN COUNTRIES  \\\n",
       "0                                               0   \n",
       "1                                               0   \n",
       "2                                               0   \n",
       "3                                               0   \n",
       "4                                               0   \n",
       "...                                           ...   \n",
       "9012                                            0   \n",
       "9013                                            0   \n",
       "9014                                            0   \n",
       "9015                                            0   \n",
       "9016                                            0   \n",
       "\n",
       "      CAUSING DEATH BY NEGLIGENCE  OTHER IPC CRIMES  TOTAL IPC CRIMES  \n",
       "0                             181              1518              4154  \n",
       "1                             270               754              4125  \n",
       "2                             404              1262              5818  \n",
       "3                             233              1181              3140  \n",
       "4                             431              2313              6507  \n",
       "...                           ...               ...               ...  \n",
       "9012                            0                32                60  \n",
       "9013                            0                32                60  \n",
       "9014                           44               392               787  \n",
       "9015                          219              1668              3494  \n",
       "9016                          263              2060              4281  \n",
       "\n",
       "[9017 rows x 33 columns]"
      ]
     },
     "execution_count": 5,
     "metadata": {},
     "output_type": "execute_result"
    }
   ],
   "source": [
    "crime_type = pd.read_csv('01_District_wise_crimes_committed_IPC_2001_2012.csv')\n",
    "\n",
    "crime_type"
   ]
  },
  {
   "cell_type": "code",
   "execution_count": null,
   "id": "43b9134f",
   "metadata": {},
   "outputs": [],
   "source": []
  },
  {
   "cell_type": "code",
   "execution_count": 6,
   "id": "f172165a",
   "metadata": {},
   "outputs": [],
   "source": [
    "# importing dataset for area of India"
   ]
  },
  {
   "cell_type": "code",
   "execution_count": 7,
   "id": "7b546548",
   "metadata": {},
   "outputs": [
    {
     "data": {
      "text/html": [
       "<div>\n",
       "<style scoped>\n",
       "    .dataframe tbody tr th:only-of-type {\n",
       "        vertical-align: middle;\n",
       "    }\n",
       "\n",
       "    .dataframe tbody tr th {\n",
       "        vertical-align: top;\n",
       "    }\n",
       "\n",
       "    .dataframe thead th {\n",
       "        text-align: right;\n",
       "    }\n",
       "</style>\n",
       "<table border=\"1\" class=\"dataframe\">\n",
       "  <thead>\n",
       "    <tr style=\"text-align: right;\">\n",
       "      <th></th>\n",
       "      <th>Rank</th>\n",
       "      <th>State (S) / Union territory (UT)</th>\n",
       "      <th>Area (km2)</th>\n",
       "      <th>Region</th>\n",
       "      <th>National Share (%)</th>\n",
       "      <th>Country of comparable size (land mass)</th>\n",
       "    </tr>\n",
       "  </thead>\n",
       "  <tbody>\n",
       "    <tr>\n",
       "      <th>0</th>\n",
       "      <td>1 (S1)</td>\n",
       "      <td>Rajasthan</td>\n",
       "      <td>342,239</td>\n",
       "      <td>Northern</td>\n",
       "      <td>10.420</td>\n",
       "      <td>Germany</td>\n",
       "    </tr>\n",
       "    <tr>\n",
       "      <th>1</th>\n",
       "      <td>2 (S2)</td>\n",
       "      <td>Madhya Pradesh</td>\n",
       "      <td>308,252</td>\n",
       "      <td>Central</td>\n",
       "      <td>9.370</td>\n",
       "      <td>Oman</td>\n",
       "    </tr>\n",
       "    <tr>\n",
       "      <th>2</th>\n",
       "      <td>3 (S3)</td>\n",
       "      <td>Maharashtra</td>\n",
       "      <td>307,713</td>\n",
       "      <td>Western</td>\n",
       "      <td>9.360</td>\n",
       "      <td>Italy</td>\n",
       "    </tr>\n",
       "    <tr>\n",
       "      <th>3</th>\n",
       "      <td>4 (S4)</td>\n",
       "      <td>Uttar Pradesh</td>\n",
       "      <td>240,928</td>\n",
       "      <td>Northern</td>\n",
       "      <td>7.330</td>\n",
       "      <td>United Kingdom</td>\n",
       "    </tr>\n",
       "    <tr>\n",
       "      <th>4</th>\n",
       "      <td>5 (S5)</td>\n",
       "      <td>Gujarat</td>\n",
       "      <td>196,024</td>\n",
       "      <td>Western</td>\n",
       "      <td>5.960</td>\n",
       "      <td>Senegal</td>\n",
       "    </tr>\n",
       "    <tr>\n",
       "      <th>5</th>\n",
       "      <td>6 (S6)</td>\n",
       "      <td>Karnataka</td>\n",
       "      <td>191,791</td>\n",
       "      <td>Southern</td>\n",
       "      <td>5.830</td>\n",
       "      <td>Syria</td>\n",
       "    </tr>\n",
       "    <tr>\n",
       "      <th>6</th>\n",
       "      <td>8 (S7)</td>\n",
       "      <td>Andhra Pradesh</td>\n",
       "      <td>160,205</td>\n",
       "      <td>Southern</td>\n",
       "      <td>4.870</td>\n",
       "      <td>Tunisia</td>\n",
       "    </tr>\n",
       "    <tr>\n",
       "      <th>7</th>\n",
       "      <td>9 (S8)</td>\n",
       "      <td>Odisha</td>\n",
       "      <td>155,707</td>\n",
       "      <td>Eastern</td>\n",
       "      <td>4.730</td>\n",
       "      <td>Bangladesh</td>\n",
       "    </tr>\n",
       "    <tr>\n",
       "      <th>8</th>\n",
       "      <td>10 (S9)</td>\n",
       "      <td>Chhattisgarh</td>\n",
       "      <td>135,191</td>\n",
       "      <td>Central</td>\n",
       "      <td>4.110</td>\n",
       "      <td>Greece</td>\n",
       "    </tr>\n",
       "    <tr>\n",
       "      <th>9</th>\n",
       "      <td>11 (S10)</td>\n",
       "      <td>Tamil Nadu</td>\n",
       "      <td>130,058</td>\n",
       "      <td>Southern</td>\n",
       "      <td>3.950</td>\n",
       "      <td>Greece</td>\n",
       "    </tr>\n",
       "    <tr>\n",
       "      <th>10</th>\n",
       "      <td>12 (S11)</td>\n",
       "      <td>Telangana</td>\n",
       "      <td>112,077</td>\n",
       "      <td>Southern</td>\n",
       "      <td>3.490</td>\n",
       "      <td>Honduras</td>\n",
       "    </tr>\n",
       "    <tr>\n",
       "      <th>11</th>\n",
       "      <td>7 (UT1)</td>\n",
       "      <td>Ladakh</td>\n",
       "      <td>96,702</td>\n",
       "      <td>Northern</td>\n",
       "      <td>1.800</td>\n",
       "      <td>Cambodia</td>\n",
       "    </tr>\n",
       "    <tr>\n",
       "      <th>12</th>\n",
       "      <td>13 (S12)</td>\n",
       "      <td>Bihar</td>\n",
       "      <td>94,163</td>\n",
       "      <td>Eastern</td>\n",
       "      <td>2.860</td>\n",
       "      <td>Hungary</td>\n",
       "    </tr>\n",
       "    <tr>\n",
       "      <th>13</th>\n",
       "      <td>14 (S13)</td>\n",
       "      <td>West Bengal</td>\n",
       "      <td>88,752</td>\n",
       "      <td>Eastern</td>\n",
       "      <td>2.700</td>\n",
       "      <td>Serbia</td>\n",
       "    </tr>\n",
       "    <tr>\n",
       "      <th>14</th>\n",
       "      <td>15 (S14)</td>\n",
       "      <td>Arunachal Pradesh</td>\n",
       "      <td>83,743</td>\n",
       "      <td>Northeastern</td>\n",
       "      <td>2.540</td>\n",
       "      <td>Austria</td>\n",
       "    </tr>\n",
       "    <tr>\n",
       "      <th>15</th>\n",
       "      <td>16 (S15)</td>\n",
       "      <td>Jharkhand</td>\n",
       "      <td>79,714</td>\n",
       "      <td>Eastern</td>\n",
       "      <td>2.420</td>\n",
       "      <td>Czech Republic</td>\n",
       "    </tr>\n",
       "    <tr>\n",
       "      <th>16</th>\n",
       "      <td>17 (S16)</td>\n",
       "      <td>Assam</td>\n",
       "      <td>78,438</td>\n",
       "      <td>Northeastern</td>\n",
       "      <td>2.380</td>\n",
       "      <td>Scotland</td>\n",
       "    </tr>\n",
       "    <tr>\n",
       "      <th>17</th>\n",
       "      <td>18 (S17)</td>\n",
       "      <td>Himachal Pradesh</td>\n",
       "      <td>55,673</td>\n",
       "      <td>Northern</td>\n",
       "      <td>1.700</td>\n",
       "      <td>Croatia</td>\n",
       "    </tr>\n",
       "    <tr>\n",
       "      <th>18</th>\n",
       "      <td>20 (S18)</td>\n",
       "      <td>Uttarakhand</td>\n",
       "      <td>53,483</td>\n",
       "      <td>Northern</td>\n",
       "      <td>1.620</td>\n",
       "      <td>Bosnia and Herzegovina</td>\n",
       "    </tr>\n",
       "    <tr>\n",
       "      <th>19</th>\n",
       "      <td>21 (S19)</td>\n",
       "      <td>Punjab</td>\n",
       "      <td>50,362</td>\n",
       "      <td>Northern</td>\n",
       "      <td>1.530</td>\n",
       "      <td>Slovakia</td>\n",
       "    </tr>\n",
       "    <tr>\n",
       "      <th>20</th>\n",
       "      <td>22 (S20)</td>\n",
       "      <td>Haryana</td>\n",
       "      <td>44,212</td>\n",
       "      <td>Northern</td>\n",
       "      <td>1.340</td>\n",
       "      <td>Denmark</td>\n",
       "    </tr>\n",
       "    <tr>\n",
       "      <th>21</th>\n",
       "      <td>19 (UT2)</td>\n",
       "      <td>Jammu and Kashmir</td>\n",
       "      <td>42,241</td>\n",
       "      <td>Northern</td>\n",
       "      <td>1.700</td>\n",
       "      <td>Croatia</td>\n",
       "    </tr>\n",
       "    <tr>\n",
       "      <th>22</th>\n",
       "      <td>23 (S21)</td>\n",
       "      <td>Kerala</td>\n",
       "      <td>38,863</td>\n",
       "      <td>Southern</td>\n",
       "      <td>1.180</td>\n",
       "      <td>Bhutan</td>\n",
       "    </tr>\n",
       "    <tr>\n",
       "      <th>23</th>\n",
       "      <td>24 (S22)</td>\n",
       "      <td>Meghalaya</td>\n",
       "      <td>22,429</td>\n",
       "      <td>Northeastern</td>\n",
       "      <td>0.680</td>\n",
       "      <td>Belize</td>\n",
       "    </tr>\n",
       "    <tr>\n",
       "      <th>24</th>\n",
       "      <td>25 (S23)</td>\n",
       "      <td>Manipur</td>\n",
       "      <td>22,327</td>\n",
       "      <td>Northeastern</td>\n",
       "      <td>0.680</td>\n",
       "      <td>Slovenia</td>\n",
       "    </tr>\n",
       "    <tr>\n",
       "      <th>25</th>\n",
       "      <td>26 (S24)</td>\n",
       "      <td>Mizoram</td>\n",
       "      <td>21,081</td>\n",
       "      <td>Northeastern</td>\n",
       "      <td>0.640</td>\n",
       "      <td>El Salvador</td>\n",
       "    </tr>\n",
       "    <tr>\n",
       "      <th>26</th>\n",
       "      <td>27 (S25)</td>\n",
       "      <td>Nagaland</td>\n",
       "      <td>16,579</td>\n",
       "      <td>Northeastern</td>\n",
       "      <td>0.500</td>\n",
       "      <td>Eswatini</td>\n",
       "    </tr>\n",
       "    <tr>\n",
       "      <th>27</th>\n",
       "      <td>28 (S26)</td>\n",
       "      <td>Tripura</td>\n",
       "      <td>10,486</td>\n",
       "      <td>Northeastern</td>\n",
       "      <td>0.310</td>\n",
       "      <td>Lebanon</td>\n",
       "    </tr>\n",
       "    <tr>\n",
       "      <th>28</th>\n",
       "      <td>29 (UT3)</td>\n",
       "      <td>Andaman and Nicobar Islands</td>\n",
       "      <td>8,249</td>\n",
       "      <td>Bay of Bengal</td>\n",
       "      <td>0.250</td>\n",
       "      <td>Puerto Rico</td>\n",
       "    </tr>\n",
       "    <tr>\n",
       "      <th>29</th>\n",
       "      <td>30 (S27)</td>\n",
       "      <td>Sikkim</td>\n",
       "      <td>7,096</td>\n",
       "      <td>Northeastern</td>\n",
       "      <td>0.210</td>\n",
       "      <td>Cyprus</td>\n",
       "    </tr>\n",
       "    <tr>\n",
       "      <th>30</th>\n",
       "      <td>31 (S28)</td>\n",
       "      <td>Goa</td>\n",
       "      <td>3,702</td>\n",
       "      <td>Western</td>\n",
       "      <td>0.110</td>\n",
       "      <td>French Polynesia</td>\n",
       "    </tr>\n",
       "    <tr>\n",
       "      <th>31</th>\n",
       "      <td>32 (UT4)</td>\n",
       "      <td>NCT Delhi</td>\n",
       "      <td>1,483</td>\n",
       "      <td>Northern</td>\n",
       "      <td>0.040</td>\n",
       "      <td>Faroe Islands</td>\n",
       "    </tr>\n",
       "    <tr>\n",
       "      <th>32</th>\n",
       "      <td>33 (UT5)</td>\n",
       "      <td>Dadra and Nagar Haveli and Daman and Diu</td>\n",
       "      <td>603</td>\n",
       "      <td>Western</td>\n",
       "      <td>0.010</td>\n",
       "      <td>Saint Lucia</td>\n",
       "    </tr>\n",
       "    <tr>\n",
       "      <th>33</th>\n",
       "      <td>34 (UT6)</td>\n",
       "      <td>Puducherry</td>\n",
       "      <td>479</td>\n",
       "      <td>Southern</td>\n",
       "      <td>0.010</td>\n",
       "      <td>Andorra</td>\n",
       "    </tr>\n",
       "    <tr>\n",
       "      <th>34</th>\n",
       "      <td>35 (UT7)</td>\n",
       "      <td>Chandigarh</td>\n",
       "      <td>114</td>\n",
       "      <td>Northern</td>\n",
       "      <td>0.003</td>\n",
       "      <td>Wallis and Futuna</td>\n",
       "    </tr>\n",
       "    <tr>\n",
       "      <th>35</th>\n",
       "      <td>36 (UT8)</td>\n",
       "      <td>Lakshadweep</td>\n",
       "      <td>32</td>\n",
       "      <td>Arabian Sea</td>\n",
       "      <td>0.001</td>\n",
       "      <td>Macau</td>\n",
       "    </tr>\n",
       "    <tr>\n",
       "      <th>36</th>\n",
       "      <td>Total</td>\n",
       "      <td>India</td>\n",
       "      <td>3,287,263[a]</td>\n",
       "      <td>NaN</td>\n",
       "      <td>100.000</td>\n",
       "      <td>NaN</td>\n",
       "    </tr>\n",
       "  </tbody>\n",
       "</table>\n",
       "</div>"
      ],
      "text/plain": [
       "        Rank          State (S) / Union territory (UT)    Area (km2)  \\\n",
       "0     1 (S1)                                 Rajasthan       342,239   \n",
       "1     2 (S2)                            Madhya Pradesh       308,252   \n",
       "2     3 (S3)                               Maharashtra       307,713   \n",
       "3     4 (S4)                             Uttar Pradesh       240,928   \n",
       "4     5 (S5)                                   Gujarat       196,024   \n",
       "5     6 (S6)                                 Karnataka       191,791   \n",
       "6     8 (S7)                            Andhra Pradesh       160,205   \n",
       "7     9 (S8)                                    Odisha       155,707   \n",
       "8    10 (S9)                              Chhattisgarh       135,191   \n",
       "9   11 (S10)                                Tamil Nadu       130,058   \n",
       "10  12 (S11)                                 Telangana       112,077   \n",
       "11   7 (UT1)                                    Ladakh        96,702   \n",
       "12  13 (S12)                                     Bihar        94,163   \n",
       "13  14 (S13)                               West Bengal        88,752   \n",
       "14  15 (S14)                         Arunachal Pradesh        83,743   \n",
       "15  16 (S15)                                 Jharkhand        79,714   \n",
       "16  17 (S16)                                     Assam        78,438   \n",
       "17  18 (S17)                          Himachal Pradesh        55,673   \n",
       "18  20 (S18)                               Uttarakhand        53,483   \n",
       "19  21 (S19)                                    Punjab        50,362   \n",
       "20  22 (S20)                                   Haryana        44,212   \n",
       "21  19 (UT2)                         Jammu and Kashmir        42,241   \n",
       "22  23 (S21)                                    Kerala        38,863   \n",
       "23  24 (S22)                                 Meghalaya        22,429   \n",
       "24  25 (S23)                                   Manipur        22,327   \n",
       "25  26 (S24)                                   Mizoram        21,081   \n",
       "26  27 (S25)                                  Nagaland        16,579   \n",
       "27  28 (S26)                                   Tripura        10,486   \n",
       "28  29 (UT3)               Andaman and Nicobar Islands         8,249   \n",
       "29  30 (S27)                                    Sikkim         7,096   \n",
       "30  31 (S28)                                       Goa         3,702   \n",
       "31  32 (UT4)                                 NCT Delhi         1,483   \n",
       "32  33 (UT5)  Dadra and Nagar Haveli and Daman and Diu           603   \n",
       "33  34 (UT6)                                Puducherry           479   \n",
       "34  35 (UT7)                                Chandigarh           114   \n",
       "35  36 (UT8)                               Lakshadweep            32   \n",
       "36     Total                                     India  3,287,263[a]   \n",
       "\n",
       "           Region  National Share (%) Country of comparable size (land mass)  \n",
       "0        Northern              10.420                                Germany  \n",
       "1         Central               9.370                                   Oman  \n",
       "2         Western               9.360                                  Italy  \n",
       "3        Northern               7.330                         United Kingdom  \n",
       "4         Western               5.960                                Senegal  \n",
       "5        Southern               5.830                                  Syria  \n",
       "6        Southern               4.870                                Tunisia  \n",
       "7         Eastern               4.730                             Bangladesh  \n",
       "8         Central               4.110                                 Greece  \n",
       "9        Southern               3.950                                 Greece  \n",
       "10       Southern               3.490                               Honduras  \n",
       "11       Northern               1.800                               Cambodia  \n",
       "12        Eastern               2.860                                Hungary  \n",
       "13        Eastern               2.700                                 Serbia  \n",
       "14   Northeastern               2.540                                Austria  \n",
       "15        Eastern               2.420                         Czech Republic  \n",
       "16   Northeastern               2.380                               Scotland  \n",
       "17       Northern               1.700                                Croatia  \n",
       "18       Northern               1.620                 Bosnia and Herzegovina  \n",
       "19       Northern               1.530                               Slovakia  \n",
       "20       Northern               1.340                                Denmark  \n",
       "21       Northern               1.700                                Croatia  \n",
       "22       Southern               1.180                                 Bhutan  \n",
       "23   Northeastern               0.680                                 Belize  \n",
       "24   Northeastern               0.680                               Slovenia  \n",
       "25   Northeastern               0.640                            El Salvador  \n",
       "26   Northeastern               0.500                               Eswatini  \n",
       "27   Northeastern               0.310                                Lebanon  \n",
       "28  Bay of Bengal               0.250                            Puerto Rico  \n",
       "29   Northeastern               0.210                                 Cyprus  \n",
       "30        Western               0.110                       French Polynesia  \n",
       "31       Northern               0.040                          Faroe Islands  \n",
       "32        Western               0.010                            Saint Lucia  \n",
       "33       Southern               0.010                                Andorra  \n",
       "34       Northern               0.003                      Wallis and Futuna  \n",
       "35    Arabian Sea               0.001                                  Macau  \n",
       "36            NaN             100.000                                    NaN  "
      ]
     },
     "execution_count": 7,
     "metadata": {},
     "output_type": "execute_result"
    }
   ],
   "source": [
    "area = pd.read_csv(\"List_of_states_and_union_territories_of_India_by_area.csv\")\n",
    "\n",
    "area"
   ]
  },
  {
   "cell_type": "code",
   "execution_count": null,
   "id": "871488db",
   "metadata": {},
   "outputs": [],
   "source": []
  },
  {
   "cell_type": "code",
   "execution_count": null,
   "id": "721289a8",
   "metadata": {},
   "outputs": [],
   "source": []
  },
  {
   "cell_type": "code",
   "execution_count": null,
   "id": "55e5ea3d",
   "metadata": {},
   "outputs": [],
   "source": []
  },
  {
   "cell_type": "code",
   "execution_count": 8,
   "id": "1960e63b",
   "metadata": {},
   "outputs": [],
   "source": [
    "# extracting crime data for all states according to year - 2012"
   ]
  },
  {
   "cell_type": "code",
   "execution_count": null,
   "id": "418b3484",
   "metadata": {},
   "outputs": [],
   "source": []
  },
  {
   "cell_type": "code",
   "execution_count": 9,
   "id": "2c5fb3dc",
   "metadata": {},
   "outputs": [],
   "source": [
    "# for Andhra Pradesh"
   ]
  },
  {
   "cell_type": "code",
   "execution_count": 10,
   "id": "566e8703",
   "metadata": {},
   "outputs": [
    {
     "data": {
      "text/html": [
       "<div>\n",
       "<style scoped>\n",
       "    .dataframe tbody tr th:only-of-type {\n",
       "        vertical-align: middle;\n",
       "    }\n",
       "\n",
       "    .dataframe tbody tr th {\n",
       "        vertical-align: top;\n",
       "    }\n",
       "\n",
       "    .dataframe thead th {\n",
       "        text-align: right;\n",
       "    }\n",
       "</style>\n",
       "<table border=\"1\" class=\"dataframe\">\n",
       "  <thead>\n",
       "    <tr style=\"text-align: right;\">\n",
       "      <th></th>\n",
       "      <th>STATE/UT</th>\n",
       "      <th>DISTRICT</th>\n",
       "      <th>YEAR</th>\n",
       "      <th>MURDER</th>\n",
       "      <th>ATTEMPT TO MURDER</th>\n",
       "      <th>CULPABLE HOMICIDE NOT AMOUNTING TO MURDER</th>\n",
       "      <th>RAPE</th>\n",
       "      <th>CUSTODIAL RAPE</th>\n",
       "      <th>OTHER RAPE</th>\n",
       "      <th>KIDNAPPING &amp; ABDUCTION</th>\n",
       "      <th>...</th>\n",
       "      <th>ARSON</th>\n",
       "      <th>HURT/GREVIOUS HURT</th>\n",
       "      <th>DOWRY DEATHS</th>\n",
       "      <th>ASSAULT ON WOMEN WITH INTENT TO OUTRAGE HER MODESTY</th>\n",
       "      <th>INSULT TO MODESTY OF WOMEN</th>\n",
       "      <th>CRUELTY BY HUSBAND OR HIS RELATIVES</th>\n",
       "      <th>IMPORTATION OF GIRLS FROM FOREIGN COUNTRIES</th>\n",
       "      <th>CAUSING DEATH BY NEGLIGENCE</th>\n",
       "      <th>OTHER IPC CRIMES</th>\n",
       "      <th>TOTAL IPC CRIMES</th>\n",
       "    </tr>\n",
       "  </thead>\n",
       "  <tbody>\n",
       "    <tr>\n",
       "      <th>8239</th>\n",
       "      <td>ANDHRA PRADESH</td>\n",
       "      <td>TOTAL</td>\n",
       "      <td>2012</td>\n",
       "      <td>2717</td>\n",
       "      <td>2183</td>\n",
       "      <td>158</td>\n",
       "      <td>1341</td>\n",
       "      <td>0</td>\n",
       "      <td>1341</td>\n",
       "      <td>1870</td>\n",
       "      <td>...</td>\n",
       "      <td>980</td>\n",
       "      <td>56768</td>\n",
       "      <td>504</td>\n",
       "      <td>4816</td>\n",
       "      <td>3714</td>\n",
       "      <td>13389</td>\n",
       "      <td>0</td>\n",
       "      <td>13929</td>\n",
       "      <td>39025</td>\n",
       "      <td>192522</td>\n",
       "    </tr>\n",
       "  </tbody>\n",
       "</table>\n",
       "<p>1 rows × 33 columns</p>\n",
       "</div>"
      ],
      "text/plain": [
       "            STATE/UT DISTRICT  YEAR  MURDER  ATTEMPT TO MURDER  \\\n",
       "8239  ANDHRA PRADESH    TOTAL  2012    2717               2183   \n",
       "\n",
       "      CULPABLE HOMICIDE NOT AMOUNTING TO MURDER  RAPE  CUSTODIAL RAPE  \\\n",
       "8239                                        158  1341               0   \n",
       "\n",
       "      OTHER RAPE  KIDNAPPING & ABDUCTION  ...  ARSON  HURT/GREVIOUS HURT  \\\n",
       "8239        1341                    1870  ...    980               56768   \n",
       "\n",
       "      DOWRY DEATHS  ASSAULT ON WOMEN WITH INTENT TO OUTRAGE HER MODESTY  \\\n",
       "8239           504                                               4816     \n",
       "\n",
       "      INSULT TO MODESTY OF WOMEN  CRUELTY BY HUSBAND OR HIS RELATIVES  \\\n",
       "8239                        3714                                13389   \n",
       "\n",
       "      IMPORTATION OF GIRLS FROM FOREIGN COUNTRIES  \\\n",
       "8239                                            0   \n",
       "\n",
       "      CAUSING DEATH BY NEGLIGENCE  OTHER IPC CRIMES  TOTAL IPC CRIMES  \n",
       "8239                        13929             39025            192522  \n",
       "\n",
       "[1 rows x 33 columns]"
      ]
     },
     "execution_count": 10,
     "metadata": {},
     "output_type": "execute_result"
    }
   ],
   "source": [
    "andhra_crime = crime_type[8239:8240]\n",
    "andhra_crime"
   ]
  },
  {
   "cell_type": "code",
   "execution_count": 11,
   "id": "6c9711c9",
   "metadata": {},
   "outputs": [
    {
     "data": {
      "text/plain": [
       "8239    192522\n",
       "Name: TOTAL IPC CRIMES, dtype: int64"
      ]
     },
     "execution_count": 11,
     "metadata": {},
     "output_type": "execute_result"
    }
   ],
   "source": [
    "andhra_crime = andhra_crime['TOTAL IPC CRIMES']\n",
    "andhra_crime"
   ]
  },
  {
   "cell_type": "code",
   "execution_count": 12,
   "id": "2581fc35",
   "metadata": {},
   "outputs": [
    {
     "data": {
      "text/html": [
       "<div>\n",
       "<style scoped>\n",
       "    .dataframe tbody tr th:only-of-type {\n",
       "        vertical-align: middle;\n",
       "    }\n",
       "\n",
       "    .dataframe tbody tr th {\n",
       "        vertical-align: top;\n",
       "    }\n",
       "\n",
       "    .dataframe thead th {\n",
       "        text-align: right;\n",
       "    }\n",
       "</style>\n",
       "<table border=\"1\" class=\"dataframe\">\n",
       "  <thead>\n",
       "    <tr style=\"text-align: right;\">\n",
       "      <th></th>\n",
       "      <th>Rank</th>\n",
       "      <th>State (S) / Union territory (UT)</th>\n",
       "      <th>Area (km2)</th>\n",
       "      <th>Region</th>\n",
       "      <th>National Share (%)</th>\n",
       "      <th>Country of comparable size (land mass)</th>\n",
       "    </tr>\n",
       "  </thead>\n",
       "  <tbody>\n",
       "    <tr>\n",
       "      <th>6</th>\n",
       "      <td>8 (S7)</td>\n",
       "      <td>Andhra Pradesh</td>\n",
       "      <td>160,205</td>\n",
       "      <td>Southern</td>\n",
       "      <td>4.87</td>\n",
       "      <td>Tunisia</td>\n",
       "    </tr>\n",
       "  </tbody>\n",
       "</table>\n",
       "</div>"
      ],
      "text/plain": [
       "     Rank State (S) / Union territory (UT) Area (km2)    Region  \\\n",
       "6  8 (S7)                   Andhra Pradesh    160,205  Southern   \n",
       "\n",
       "   National Share (%) Country of comparable size (land mass)  \n",
       "6                4.87                                Tunisia  "
      ]
     },
     "execution_count": 12,
     "metadata": {},
     "output_type": "execute_result"
    }
   ],
   "source": [
    "andhra_area = area[6:7]\n",
    "andhra_area"
   ]
  },
  {
   "cell_type": "code",
   "execution_count": 13,
   "id": "6d7737a1",
   "metadata": {},
   "outputs": [
    {
     "data": {
      "text/plain": [
       "6    160,205\n",
       "Name: Area (km2), dtype: object"
      ]
     },
     "execution_count": 13,
     "metadata": {},
     "output_type": "execute_result"
    }
   ],
   "source": [
    "andhra_area = andhra_area['Area (km2)']\n",
    "andhra_area"
   ]
  },
  {
   "cell_type": "code",
   "execution_count": 14,
   "id": "689b147f",
   "metadata": {},
   "outputs": [
    {
     "data": {
      "image/png": "[encoded data removed]",
      "text/plain": [
       "<Figure size 432x288 with 1 Axes>"
      ]
     },
     "metadata": {
      "needs_background": "light"
     },
     "output_type": "display_data"
    }
   ],
   "source": [
    "plt.scatter(andhra_crime,andhra_area)\n",
    "\n",
    "plt.xlabel('crime')\n",
    "plt.ylabel('area')\n",
    "\n",
    "plt.show()"
   ]
  },
  {
   "cell_type": "code",
   "execution_count": null,
   "id": "21f42ecf",
   "metadata": {},
   "outputs": [],
   "source": []
  },
  {
   "cell_type": "code",
   "execution_count": null,
   "id": "f867869d",
   "metadata": {},
   "outputs": [],
   "source": []
  },
  {
   "cell_type": "code",
   "execution_count": 15,
   "id": "dac0181f",
   "metadata": {},
   "outputs": [],
   "source": [
    "# for Arunachal Pradesh"
   ]
  },
  {
   "cell_type": "code",
   "execution_count": 16,
   "id": "296531ff",
   "metadata": {},
   "outputs": [
    {
     "data": {
      "text/html": [
       "<div>\n",
       "<style scoped>\n",
       "    .dataframe tbody tr th:only-of-type {\n",
       "        vertical-align: middle;\n",
       "    }\n",
       "\n",
       "    .dataframe tbody tr th {\n",
       "        vertical-align: top;\n",
       "    }\n",
       "\n",
       "    .dataframe thead th {\n",
       "        text-align: right;\n",
       "    }\n",
       "</style>\n",
       "<table border=\"1\" class=\"dataframe\">\n",
       "  <thead>\n",
       "    <tr style=\"text-align: right;\">\n",
       "      <th></th>\n",
       "      <th>STATE/UT</th>\n",
       "      <th>DISTRICT</th>\n",
       "      <th>YEAR</th>\n",
       "      <th>MURDER</th>\n",
       "      <th>ATTEMPT TO MURDER</th>\n",
       "      <th>CULPABLE HOMICIDE NOT AMOUNTING TO MURDER</th>\n",
       "      <th>RAPE</th>\n",
       "      <th>CUSTODIAL RAPE</th>\n",
       "      <th>OTHER RAPE</th>\n",
       "      <th>KIDNAPPING &amp; ABDUCTION</th>\n",
       "      <th>...</th>\n",
       "      <th>ARSON</th>\n",
       "      <th>HURT/GREVIOUS HURT</th>\n",
       "      <th>DOWRY DEATHS</th>\n",
       "      <th>ASSAULT ON WOMEN WITH INTENT TO OUTRAGE HER MODESTY</th>\n",
       "      <th>INSULT TO MODESTY OF WOMEN</th>\n",
       "      <th>CRUELTY BY HUSBAND OR HIS RELATIVES</th>\n",
       "      <th>IMPORTATION OF GIRLS FROM FOREIGN COUNTRIES</th>\n",
       "      <th>CAUSING DEATH BY NEGLIGENCE</th>\n",
       "      <th>OTHER IPC CRIMES</th>\n",
       "      <th>TOTAL IPC CRIMES</th>\n",
       "    </tr>\n",
       "  </thead>\n",
       "  <tbody>\n",
       "    <tr>\n",
       "      <th>8257</th>\n",
       "      <td>ARUNACHAL PRADESH</td>\n",
       "      <td>TOTAL</td>\n",
       "      <td>2012</td>\n",
       "      <td>73</td>\n",
       "      <td>29</td>\n",
       "      <td>1</td>\n",
       "      <td>46</td>\n",
       "      <td>0</td>\n",
       "      <td>46</td>\n",
       "      <td>82</td>\n",
       "      <td>...</td>\n",
       "      <td>33</td>\n",
       "      <td>438</td>\n",
       "      <td>1</td>\n",
       "      <td>67</td>\n",
       "      <td>2</td>\n",
       "      <td>26</td>\n",
       "      <td>0</td>\n",
       "      <td>94</td>\n",
       "      <td>657</td>\n",
       "      <td>2420</td>\n",
       "    </tr>\n",
       "  </tbody>\n",
       "</table>\n",
       "<p>1 rows × 33 columns</p>\n",
       "</div>"
      ],
      "text/plain": [
       "               STATE/UT DISTRICT  YEAR  MURDER  ATTEMPT TO MURDER  \\\n",
       "8257  ARUNACHAL PRADESH    TOTAL  2012      73                 29   \n",
       "\n",
       "      CULPABLE HOMICIDE NOT AMOUNTING TO MURDER  RAPE  CUSTODIAL RAPE  \\\n",
       "8257                                          1    46               0   \n",
       "\n",
       "      OTHER RAPE  KIDNAPPING & ABDUCTION  ...  ARSON  HURT/GREVIOUS HURT  \\\n",
       "8257          46                      82  ...     33                 438   \n",
       "\n",
       "      DOWRY DEATHS  ASSAULT ON WOMEN WITH INTENT TO OUTRAGE HER MODESTY  \\\n",
       "8257             1                                                 67     \n",
       "\n",
       "      INSULT TO MODESTY OF WOMEN  CRUELTY BY HUSBAND OR HIS RELATIVES  \\\n",
       "8257                           2                                   26   \n",
       "\n",
       "      IMPORTATION OF GIRLS FROM FOREIGN COUNTRIES  \\\n",
       "8257                                            0   \n",
       "\n",
       "      CAUSING DEATH BY NEGLIGENCE  OTHER IPC CRIMES  TOTAL IPC CRIMES  \n",
       "8257                           94               657              2420  \n",
       "\n",
       "[1 rows x 33 columns]"
      ]
     },
     "execution_count": 16,
     "metadata": {},
     "output_type": "execute_result"
    }
   ],
   "source": [
    "arunachal_crime = crime_type[8257:8258]\n",
    "arunachal_crime"
   ]
  },
  {
   "cell_type": "code",
   "execution_count": 17,
   "id": "62c5ea7a",
   "metadata": {},
   "outputs": [
    {
     "data": {
      "text/plain": [
       "8257    2420\n",
       "Name: TOTAL IPC CRIMES, dtype: int64"
      ]
     },
     "execution_count": 17,
     "metadata": {},
     "output_type": "execute_result"
    }
   ],
   "source": [
    "arunachal_crime = arunachal_crime['TOTAL IPC CRIMES']\n",
    "arunachal_crime"
   ]
  },
  {
   "cell_type": "code",
   "execution_count": 18,
   "id": "a89b040d",
   "metadata": {},
   "outputs": [
    {
     "data": {
      "text/html": [
       "<div>\n",
       "<style scoped>\n",
       "    .dataframe tbody tr th:only-of-type {\n",
       "        vertical-align: middle;\n",
       "    }\n",
       "\n",
       "    .dataframe tbody tr th {\n",
       "        vertical-align: top;\n",
       "    }\n",
       "\n",
       "    .dataframe thead th {\n",
       "        text-align: right;\n",
       "    }\n",
       "</style>\n",
       "<table border=\"1\" class=\"dataframe\">\n",
       "  <thead>\n",
       "    <tr style=\"text-align: right;\">\n",
       "      <th></th>\n",
       "      <th>Rank</th>\n",
       "      <th>State (S) / Union territory (UT)</th>\n",
       "      <th>Area (km2)</th>\n",
       "      <th>Region</th>\n",
       "      <th>National Share (%)</th>\n",
       "      <th>Country of comparable size (land mass)</th>\n",
       "    </tr>\n",
       "  </thead>\n",
       "  <tbody>\n",
       "    <tr>\n",
       "      <th>14</th>\n",
       "      <td>15 (S14)</td>\n",
       "      <td>Arunachal Pradesh</td>\n",
       "      <td>83,743</td>\n",
       "      <td>Northeastern</td>\n",
       "      <td>2.54</td>\n",
       "      <td>Austria</td>\n",
       "    </tr>\n",
       "  </tbody>\n",
       "</table>\n",
       "</div>"
      ],
      "text/plain": [
       "        Rank State (S) / Union territory (UT) Area (km2)        Region  \\\n",
       "14  15 (S14)                Arunachal Pradesh     83,743  Northeastern   \n",
       "\n",
       "    National Share (%) Country of comparable size (land mass)  \n",
       "14                2.54                                Austria  "
      ]
     },
     "execution_count": 18,
     "metadata": {},
     "output_type": "execute_result"
    }
   ],
   "source": [
    "arunachal_area = area[14:15]\n",
    "arunachal_area"
   ]
  },
  {
   "cell_type": "code",
   "execution_count": 19,
   "id": "0388dddb",
   "metadata": {},
   "outputs": [
    {
     "data": {
      "text/plain": [
       "14    83,743\n",
       "Name: Area (km2), dtype: object"
      ]
     },
     "execution_count": 19,
     "metadata": {},
     "output_type": "execute_result"
    }
   ],
   "source": [
    "arunachal_area = arunachal_area['Area (km2)']\n",
    "arunachal_area"
   ]
  },
  {
   "cell_type": "code",
   "execution_count": 20,
   "id": "7904acab",
   "metadata": {},
   "outputs": [
    {
     "data": {
      "image/png": "[encoded data removed]",
      "text/plain": [
       "<Figure size 432x288 with 1 Axes>"
      ]
     },
     "metadata": {
      "needs_background": "light"
     },
     "output_type": "display_data"
    }
   ],
   "source": [
    "plt.scatter(arunachal_crime,arunachal_area)\n",
    "\n",
    "plt.xlabel('crime')\n",
    "plt.ylabel('area')\n",
    "\n",
    "plt.show()"
   ]
  },
  {
   "cell_type": "code",
   "execution_count": null,
   "id": "8b7471d9",
   "metadata": {},
   "outputs": [],
   "source": []
  },
  {
   "cell_type": "code",
   "execution_count": null,
   "id": "70b1e20a",
   "metadata": {},
   "outputs": [],
   "source": []
  },
  {
   "cell_type": "code",
   "execution_count": 21,
   "id": "519fce4b",
   "metadata": {},
   "outputs": [],
   "source": [
    "# for Assam "
   ]
  },
  {
   "cell_type": "code",
   "execution_count": 22,
   "id": "e1b0fb2c",
   "metadata": {},
   "outputs": [
    {
     "data": {
      "text/html": [
       "<div>\n",
       "<style scoped>\n",
       "    .dataframe tbody tr th:only-of-type {\n",
       "        vertical-align: middle;\n",
       "    }\n",
       "\n",
       "    .dataframe tbody tr th {\n",
       "        vertical-align: top;\n",
       "    }\n",
       "\n",
       "    .dataframe thead th {\n",
       "        text-align: right;\n",
       "    }\n",
       "</style>\n",
       "<table border=\"1\" class=\"dataframe\">\n",
       "  <thead>\n",
       "    <tr style=\"text-align: right;\">\n",
       "      <th></th>\n",
       "      <th>STATE/UT</th>\n",
       "      <th>DISTRICT</th>\n",
       "      <th>YEAR</th>\n",
       "      <th>MURDER</th>\n",
       "      <th>ATTEMPT TO MURDER</th>\n",
       "      <th>CULPABLE HOMICIDE NOT AMOUNTING TO MURDER</th>\n",
       "      <th>RAPE</th>\n",
       "      <th>CUSTODIAL RAPE</th>\n",
       "      <th>OTHER RAPE</th>\n",
       "      <th>KIDNAPPING &amp; ABDUCTION</th>\n",
       "      <th>...</th>\n",
       "      <th>ARSON</th>\n",
       "      <th>HURT/GREVIOUS HURT</th>\n",
       "      <th>DOWRY DEATHS</th>\n",
       "      <th>ASSAULT ON WOMEN WITH INTENT TO OUTRAGE HER MODESTY</th>\n",
       "      <th>INSULT TO MODESTY OF WOMEN</th>\n",
       "      <th>CRUELTY BY HUSBAND OR HIS RELATIVES</th>\n",
       "      <th>IMPORTATION OF GIRLS FROM FOREIGN COUNTRIES</th>\n",
       "      <th>CAUSING DEATH BY NEGLIGENCE</th>\n",
       "      <th>OTHER IPC CRIMES</th>\n",
       "      <th>TOTAL IPC CRIMES</th>\n",
       "    </tr>\n",
       "  </thead>\n",
       "  <tbody>\n",
       "    <tr>\n",
       "      <th>8290</th>\n",
       "      <td>ASSAM</td>\n",
       "      <td>TOTAL</td>\n",
       "      <td>2012</td>\n",
       "      <td>1368</td>\n",
       "      <td>670</td>\n",
       "      <td>54</td>\n",
       "      <td>1716</td>\n",
       "      <td>0</td>\n",
       "      <td>1716</td>\n",
       "      <td>3812</td>\n",
       "      <td>...</td>\n",
       "      <td>2830</td>\n",
       "      <td>6676</td>\n",
       "      <td>140</td>\n",
       "      <td>1840</td>\n",
       "      <td>5</td>\n",
       "      <td>6407</td>\n",
       "      <td>2</td>\n",
       "      <td>2565</td>\n",
       "      <td>27077</td>\n",
       "      <td>77682</td>\n",
       "    </tr>\n",
       "  </tbody>\n",
       "</table>\n",
       "<p>1 rows × 33 columns</p>\n",
       "</div>"
      ],
      "text/plain": [
       "     STATE/UT DISTRICT  YEAR  MURDER  ATTEMPT TO MURDER  \\\n",
       "8290    ASSAM    TOTAL  2012    1368                670   \n",
       "\n",
       "      CULPABLE HOMICIDE NOT AMOUNTING TO MURDER  RAPE  CUSTODIAL RAPE  \\\n",
       "8290                                         54  1716               0   \n",
       "\n",
       "      OTHER RAPE  KIDNAPPING & ABDUCTION  ...  ARSON  HURT/GREVIOUS HURT  \\\n",
       "8290        1716                    3812  ...   2830                6676   \n",
       "\n",
       "      DOWRY DEATHS  ASSAULT ON WOMEN WITH INTENT TO OUTRAGE HER MODESTY  \\\n",
       "8290           140                                               1840     \n",
       "\n",
       "      INSULT TO MODESTY OF WOMEN  CRUELTY BY HUSBAND OR HIS RELATIVES  \\\n",
       "8290                           5                                 6407   \n",
       "\n",
       "      IMPORTATION OF GIRLS FROM FOREIGN COUNTRIES  \\\n",
       "8290                                            2   \n",
       "\n",
       "      CAUSING DEATH BY NEGLIGENCE  OTHER IPC CRIMES  TOTAL IPC CRIMES  \n",
       "8290                         2565             27077             77682  \n",
       "\n",
       "[1 rows x 33 columns]"
      ]
     },
     "execution_count": 22,
     "metadata": {},
     "output_type": "execute_result"
    }
   ],
   "source": [
    "assam_crime = crime_type[8290:8291]\n",
    "assam_crime"
   ]
  },
  {
   "cell_type": "code",
   "execution_count": 23,
   "id": "3489137d",
   "metadata": {},
   "outputs": [
    {
     "data": {
      "text/plain": [
       "8290    77682\n",
       "Name: TOTAL IPC CRIMES, dtype: int64"
      ]
     },
     "execution_count": 23,
     "metadata": {},
     "output_type": "execute_result"
    }
   ],
   "source": [
    "assam_crime = assam_crime['TOTAL IPC CRIMES']\n",
    "assam_crime"
   ]
  },
  {
   "cell_type": "code",
   "execution_count": 24,
   "id": "59b5917e",
   "metadata": {},
   "outputs": [
    {
     "data": {
      "text/html": [
       "<div>\n",
       "<style scoped>\n",
       "    .dataframe tbody tr th:only-of-type {\n",
       "        vertical-align: middle;\n",
       "    }\n",
       "\n",
       "    .dataframe tbody tr th {\n",
       "        vertical-align: top;\n",
       "    }\n",
       "\n",
       "    .dataframe thead th {\n",
       "        text-align: right;\n",
       "    }\n",
       "</style>\n",
       "<table border=\"1\" class=\"dataframe\">\n",
       "  <thead>\n",
       "    <tr style=\"text-align: right;\">\n",
       "      <th></th>\n",
       "      <th>Rank</th>\n",
       "      <th>State (S) / Union territory (UT)</th>\n",
       "      <th>Area (km2)</th>\n",
       "      <th>Region</th>\n",
       "      <th>National Share (%)</th>\n",
       "      <th>Country of comparable size (land mass)</th>\n",
       "    </tr>\n",
       "  </thead>\n",
       "  <tbody>\n",
       "    <tr>\n",
       "      <th>16</th>\n",
       "      <td>17 (S16)</td>\n",
       "      <td>Assam</td>\n",
       "      <td>78,438</td>\n",
       "      <td>Northeastern</td>\n",
       "      <td>2.38</td>\n",
       "      <td>Scotland</td>\n",
       "    </tr>\n",
       "  </tbody>\n",
       "</table>\n",
       "</div>"
      ],
      "text/plain": [
       "        Rank State (S) / Union territory (UT) Area (km2)        Region  \\\n",
       "16  17 (S16)                            Assam     78,438  Northeastern   \n",
       "\n",
       "    National Share (%) Country of comparable size (land mass)  \n",
       "16                2.38                               Scotland  "
      ]
     },
     "execution_count": 24,
     "metadata": {},
     "output_type": "execute_result"
    }
   ],
   "source": [
    "assam_area = area[16:17]\n",
    "assam_area"
   ]
  },
  {
   "cell_type": "code",
   "execution_count": 25,
   "id": "750038c4",
   "metadata": {},
   "outputs": [
    {
     "data": {
      "text/plain": [
       "16    78,438\n",
       "Name: Area (km2), dtype: object"
      ]
     },
     "execution_count": 25,
     "metadata": {},
     "output_type": "execute_result"
    }
   ],
   "source": [
    "assam_area = assam_area['Area (km2)']\n",
    "assam_area"
   ]
  },
  {
   "cell_type": "code",
   "execution_count": 26,
   "id": "59e8d265",
   "metadata": {},
   "outputs": [
    {
     "data": {
      "image/png": "[encoded data removed]",
      "text/plain": [
       "<Figure size 432x288 with 1 Axes>"
      ]
     },
     "metadata": {
      "needs_background": "light"
     },
     "output_type": "display_data"
    }
   ],
   "source": [
    "plt.scatter(assam_crime,assam_area)\n",
    "\n",
    "plt.xlabel('crime')\n",
    "plt.ylabel('area')\n",
    "\n",
    "plt.show()"
   ]
  },
  {
   "cell_type": "code",
   "execution_count": null,
   "id": "fd7aef4f",
   "metadata": {},
   "outputs": [],
   "source": []
  },
  {
   "cell_type": "code",
   "execution_count": null,
   "id": "69b630c8",
   "metadata": {},
   "outputs": [],
   "source": []
  },
  {
   "cell_type": "code",
   "execution_count": 27,
   "id": "f1641180",
   "metadata": {},
   "outputs": [],
   "source": [
    "# for Bihar"
   ]
  },
  {
   "cell_type": "code",
   "execution_count": 28,
   "id": "d57bd4e5",
   "metadata": {},
   "outputs": [
    {
     "data": {
      "text/html": [
       "<div>\n",
       "<style scoped>\n",
       "    .dataframe tbody tr th:only-of-type {\n",
       "        vertical-align: middle;\n",
       "    }\n",
       "\n",
       "    .dataframe tbody tr th {\n",
       "        vertical-align: top;\n",
       "    }\n",
       "\n",
       "    .dataframe thead th {\n",
       "        text-align: right;\n",
       "    }\n",
       "</style>\n",
       "<table border=\"1\" class=\"dataframe\">\n",
       "  <thead>\n",
       "    <tr style=\"text-align: right;\">\n",
       "      <th></th>\n",
       "      <th>STATE/UT</th>\n",
       "      <th>DISTRICT</th>\n",
       "      <th>YEAR</th>\n",
       "      <th>MURDER</th>\n",
       "      <th>ATTEMPT TO MURDER</th>\n",
       "      <th>CULPABLE HOMICIDE NOT AMOUNTING TO MURDER</th>\n",
       "      <th>RAPE</th>\n",
       "      <th>CUSTODIAL RAPE</th>\n",
       "      <th>OTHER RAPE</th>\n",
       "      <th>KIDNAPPING &amp; ABDUCTION</th>\n",
       "      <th>...</th>\n",
       "      <th>ARSON</th>\n",
       "      <th>HURT/GREVIOUS HURT</th>\n",
       "      <th>DOWRY DEATHS</th>\n",
       "      <th>ASSAULT ON WOMEN WITH INTENT TO OUTRAGE HER MODESTY</th>\n",
       "      <th>INSULT TO MODESTY OF WOMEN</th>\n",
       "      <th>CRUELTY BY HUSBAND OR HIS RELATIVES</th>\n",
       "      <th>IMPORTATION OF GIRLS FROM FOREIGN COUNTRIES</th>\n",
       "      <th>CAUSING DEATH BY NEGLIGENCE</th>\n",
       "      <th>OTHER IPC CRIMES</th>\n",
       "      <th>TOTAL IPC CRIMES</th>\n",
       "    </tr>\n",
       "  </thead>\n",
       "  <tbody>\n",
       "    <tr>\n",
       "      <th>8335</th>\n",
       "      <td>BIHAR</td>\n",
       "      <td>TOTAL</td>\n",
       "      <td>2012</td>\n",
       "      <td>3566</td>\n",
       "      <td>5452</td>\n",
       "      <td>285</td>\n",
       "      <td>927</td>\n",
       "      <td>0</td>\n",
       "      <td>927</td>\n",
       "      <td>4807</td>\n",
       "      <td>...</td>\n",
       "      <td>799</td>\n",
       "      <td>45827</td>\n",
       "      <td>1275</td>\n",
       "      <td>118</td>\n",
       "      <td>37</td>\n",
       "      <td>3686</td>\n",
       "      <td>4</td>\n",
       "      <td>4631</td>\n",
       "      <td>35421</td>\n",
       "      <td>146614</td>\n",
       "    </tr>\n",
       "  </tbody>\n",
       "</table>\n",
       "<p>1 rows × 33 columns</p>\n",
       "</div>"
      ],
      "text/plain": [
       "     STATE/UT DISTRICT  YEAR  MURDER  ATTEMPT TO MURDER  \\\n",
       "8335    BIHAR    TOTAL  2012    3566               5452   \n",
       "\n",
       "      CULPABLE HOMICIDE NOT AMOUNTING TO MURDER  RAPE  CUSTODIAL RAPE  \\\n",
       "8335                                        285   927               0   \n",
       "\n",
       "      OTHER RAPE  KIDNAPPING & ABDUCTION  ...  ARSON  HURT/GREVIOUS HURT  \\\n",
       "8335         927                    4807  ...    799               45827   \n",
       "\n",
       "      DOWRY DEATHS  ASSAULT ON WOMEN WITH INTENT TO OUTRAGE HER MODESTY  \\\n",
       "8335          1275                                                118     \n",
       "\n",
       "      INSULT TO MODESTY OF WOMEN  CRUELTY BY HUSBAND OR HIS RELATIVES  \\\n",
       "8335                          37                                 3686   \n",
       "\n",
       "      IMPORTATION OF GIRLS FROM FOREIGN COUNTRIES  \\\n",
       "8335                                            4   \n",
       "\n",
       "      CAUSING DEATH BY NEGLIGENCE  OTHER IPC CRIMES  TOTAL IPC CRIMES  \n",
       "8335                         4631             35421            146614  \n",
       "\n",
       "[1 rows x 33 columns]"
      ]
     },
     "execution_count": 28,
     "metadata": {},
     "output_type": "execute_result"
    }
   ],
   "source": [
    "bihar_crime = crime_type[8335:8336]\n",
    "bihar_crime"
   ]
  },
  {
   "cell_type": "code",
   "execution_count": 29,
   "id": "753e32b2",
   "metadata": {},
   "outputs": [
    {
     "data": {
      "text/plain": [
       "8335    146614\n",
       "Name: TOTAL IPC CRIMES, dtype: int64"
      ]
     },
     "execution_count": 29,
     "metadata": {},
     "output_type": "execute_result"
    }
   ],
   "source": [
    "bihar_crime = bihar_crime['TOTAL IPC CRIMES']\n",
    "bihar_crime"
   ]
  },
  {
   "cell_type": "code",
   "execution_count": 30,
   "id": "9c9cd187",
   "metadata": {},
   "outputs": [
    {
     "data": {
      "text/html": [
       "<div>\n",
       "<style scoped>\n",
       "    .dataframe tbody tr th:only-of-type {\n",
       "        vertical-align: middle;\n",
       "    }\n",
       "\n",
       "    .dataframe tbody tr th {\n",
       "        vertical-align: top;\n",
       "    }\n",
       "\n",
       "    .dataframe thead th {\n",
       "        text-align: right;\n",
       "    }\n",
       "</style>\n",
       "<table border=\"1\" class=\"dataframe\">\n",
       "  <thead>\n",
       "    <tr style=\"text-align: right;\">\n",
       "      <th></th>\n",
       "      <th>Rank</th>\n",
       "      <th>State (S) / Union territory (UT)</th>\n",
       "      <th>Area (km2)</th>\n",
       "      <th>Region</th>\n",
       "      <th>National Share (%)</th>\n",
       "      <th>Country of comparable size (land mass)</th>\n",
       "    </tr>\n",
       "  </thead>\n",
       "  <tbody>\n",
       "    <tr>\n",
       "      <th>12</th>\n",
       "      <td>13 (S12)</td>\n",
       "      <td>Bihar</td>\n",
       "      <td>94,163</td>\n",
       "      <td>Eastern</td>\n",
       "      <td>2.86</td>\n",
       "      <td>Hungary</td>\n",
       "    </tr>\n",
       "  </tbody>\n",
       "</table>\n",
       "</div>"
      ],
      "text/plain": [
       "        Rank State (S) / Union territory (UT) Area (km2)   Region  \\\n",
       "12  13 (S12)                            Bihar     94,163  Eastern   \n",
       "\n",
       "    National Share (%) Country of comparable size (land mass)  \n",
       "12                2.86                                Hungary  "
      ]
     },
     "execution_count": 30,
     "metadata": {},
     "output_type": "execute_result"
    }
   ],
   "source": [
    "bihar_area = area[12:13]\n",
    "bihar_area"
   ]
  },
  {
   "cell_type": "code",
   "execution_count": 31,
   "id": "bd6bd75c",
   "metadata": {},
   "outputs": [
    {
     "data": {
      "text/plain": [
       "12    94,163\n",
       "Name: Area (km2), dtype: object"
      ]
     },
     "execution_count": 31,
     "metadata": {},
     "output_type": "execute_result"
    }
   ],
   "source": [
    "bihar_area = bihar_area['Area (km2)']\n",
    "bihar_area"
   ]
  },
  {
   "cell_type": "code",
   "execution_count": 32,
   "id": "b73306f1",
   "metadata": {},
   "outputs": [
    {
     "data": {
      "image/png": "[encoded data removed]",
      "text/plain": [
       "<Figure size 432x288 with 1 Axes>"
      ]
     },
     "metadata": {
      "needs_background": "light"
     },
     "output_type": "display_data"
    }
   ],
   "source": [
    "plt.scatter(bihar_crime,bihar_area)\n",
    "\n",
    "plt.xlabel('crime')\n",
    "plt.ylabel('area')\n",
    "\n",
    "plt.show()"
   ]
  },
  {
   "cell_type": "code",
   "execution_count": null,
   "id": "c46a3d2a",
   "metadata": {},
   "outputs": [],
   "source": []
  },
  {
   "cell_type": "code",
   "execution_count": null,
   "id": "3da8034b",
   "metadata": {},
   "outputs": [],
   "source": []
  },
  {
   "cell_type": "code",
   "execution_count": 33,
   "id": "e9f08425",
   "metadata": {},
   "outputs": [],
   "source": [
    "# for Chattisgarh"
   ]
  },
  {
   "cell_type": "code",
   "execution_count": 34,
   "id": "c4fa25d4",
   "metadata": {},
   "outputs": [
    {
     "data": {
      "text/html": [
       "<div>\n",
       "<style scoped>\n",
       "    .dataframe tbody tr th:only-of-type {\n",
       "        vertical-align: middle;\n",
       "    }\n",
       "\n",
       "    .dataframe tbody tr th {\n",
       "        vertical-align: top;\n",
       "    }\n",
       "\n",
       "    .dataframe thead th {\n",
       "        text-align: right;\n",
       "    }\n",
       "</style>\n",
       "<table border=\"1\" class=\"dataframe\">\n",
       "  <thead>\n",
       "    <tr style=\"text-align: right;\">\n",
       "      <th></th>\n",
       "      <th>STATE/UT</th>\n",
       "      <th>DISTRICT</th>\n",
       "      <th>YEAR</th>\n",
       "      <th>MURDER</th>\n",
       "      <th>ATTEMPT TO MURDER</th>\n",
       "      <th>CULPABLE HOMICIDE NOT AMOUNTING TO MURDER</th>\n",
       "      <th>RAPE</th>\n",
       "      <th>CUSTODIAL RAPE</th>\n",
       "      <th>OTHER RAPE</th>\n",
       "      <th>KIDNAPPING &amp; ABDUCTION</th>\n",
       "      <th>...</th>\n",
       "      <th>ARSON</th>\n",
       "      <th>HURT/GREVIOUS HURT</th>\n",
       "      <th>DOWRY DEATHS</th>\n",
       "      <th>ASSAULT ON WOMEN WITH INTENT TO OUTRAGE HER MODESTY</th>\n",
       "      <th>INSULT TO MODESTY OF WOMEN</th>\n",
       "      <th>CRUELTY BY HUSBAND OR HIS RELATIVES</th>\n",
       "      <th>IMPORTATION OF GIRLS FROM FOREIGN COUNTRIES</th>\n",
       "      <th>CAUSING DEATH BY NEGLIGENCE</th>\n",
       "      <th>OTHER IPC CRIMES</th>\n",
       "      <th>TOTAL IPC CRIMES</th>\n",
       "    </tr>\n",
       "  </thead>\n",
       "  <tbody>\n",
       "    <tr>\n",
       "      <th>8364</th>\n",
       "      <td>CHHATTISGARH</td>\n",
       "      <td>TOTAL</td>\n",
       "      <td>2012</td>\n",
       "      <td>998</td>\n",
       "      <td>593</td>\n",
       "      <td>26</td>\n",
       "      <td>1034</td>\n",
       "      <td>0</td>\n",
       "      <td>1034</td>\n",
       "      <td>450</td>\n",
       "      <td>...</td>\n",
       "      <td>330</td>\n",
       "      <td>10855</td>\n",
       "      <td>81</td>\n",
       "      <td>1601</td>\n",
       "      <td>162</td>\n",
       "      <td>980</td>\n",
       "      <td>0</td>\n",
       "      <td>2888</td>\n",
       "      <td>23387</td>\n",
       "      <td>54598</td>\n",
       "    </tr>\n",
       "  </tbody>\n",
       "</table>\n",
       "<p>1 rows × 33 columns</p>\n",
       "</div>"
      ],
      "text/plain": [
       "          STATE/UT DISTRICT  YEAR  MURDER  ATTEMPT TO MURDER  \\\n",
       "8364  CHHATTISGARH    TOTAL  2012     998                593   \n",
       "\n",
       "      CULPABLE HOMICIDE NOT AMOUNTING TO MURDER  RAPE  CUSTODIAL RAPE  \\\n",
       "8364                                         26  1034               0   \n",
       "\n",
       "      OTHER RAPE  KIDNAPPING & ABDUCTION  ...  ARSON  HURT/GREVIOUS HURT  \\\n",
       "8364        1034                     450  ...    330               10855   \n",
       "\n",
       "      DOWRY DEATHS  ASSAULT ON WOMEN WITH INTENT TO OUTRAGE HER MODESTY  \\\n",
       "8364            81                                               1601     \n",
       "\n",
       "      INSULT TO MODESTY OF WOMEN  CRUELTY BY HUSBAND OR HIS RELATIVES  \\\n",
       "8364                         162                                  980   \n",
       "\n",
       "      IMPORTATION OF GIRLS FROM FOREIGN COUNTRIES  \\\n",
       "8364                                            0   \n",
       "\n",
       "      CAUSING DEATH BY NEGLIGENCE  OTHER IPC CRIMES  TOTAL IPC CRIMES  \n",
       "8364                         2888             23387             54598  \n",
       "\n",
       "[1 rows x 33 columns]"
      ]
     },
     "execution_count": 34,
     "metadata": {},
     "output_type": "execute_result"
    }
   ],
   "source": [
    "chattisgarh_crime = crime_type[8364:8365]\n",
    "chattisgarh_crime"
   ]
  },
  {
   "cell_type": "code",
   "execution_count": 35,
   "id": "7e6211ca",
   "metadata": {},
   "outputs": [
    {
     "data": {
      "text/plain": [
       "8364    54598\n",
       "Name: TOTAL IPC CRIMES, dtype: int64"
      ]
     },
     "execution_count": 35,
     "metadata": {},
     "output_type": "execute_result"
    }
   ],
   "source": [
    "chattisgarh_crime = chattisgarh_crime['TOTAL IPC CRIMES']\n",
    "chattisgarh_crime"
   ]
  },
  {
   "cell_type": "code",
   "execution_count": 36,
   "id": "cb6cd9c8",
   "metadata": {},
   "outputs": [
    {
     "data": {
      "text/html": [
       "<div>\n",
       "<style scoped>\n",
       "    .dataframe tbody tr th:only-of-type {\n",
       "        vertical-align: middle;\n",
       "    }\n",
       "\n",
       "    .dataframe tbody tr th {\n",
       "        vertical-align: top;\n",
       "    }\n",
       "\n",
       "    .dataframe thead th {\n",
       "        text-align: right;\n",
       "    }\n",
       "</style>\n",
       "<table border=\"1\" class=\"dataframe\">\n",
       "  <thead>\n",
       "    <tr style=\"text-align: right;\">\n",
       "      <th></th>\n",
       "      <th>Rank</th>\n",
       "      <th>State (S) / Union territory (UT)</th>\n",
       "      <th>Area (km2)</th>\n",
       "      <th>Region</th>\n",
       "      <th>National Share (%)</th>\n",
       "      <th>Country of comparable size (land mass)</th>\n",
       "    </tr>\n",
       "  </thead>\n",
       "  <tbody>\n",
       "    <tr>\n",
       "      <th>8</th>\n",
       "      <td>10 (S9)</td>\n",
       "      <td>Chhattisgarh</td>\n",
       "      <td>135,191</td>\n",
       "      <td>Central</td>\n",
       "      <td>4.11</td>\n",
       "      <td>Greece</td>\n",
       "    </tr>\n",
       "  </tbody>\n",
       "</table>\n",
       "</div>"
      ],
      "text/plain": [
       "      Rank State (S) / Union territory (UT) Area (km2)   Region  \\\n",
       "8  10 (S9)                     Chhattisgarh    135,191  Central   \n",
       "\n",
       "   National Share (%) Country of comparable size (land mass)  \n",
       "8                4.11                                 Greece  "
      ]
     },
     "execution_count": 36,
     "metadata": {},
     "output_type": "execute_result"
    }
   ],
   "source": [
    "chattisgarh_area = area[8:9]\n",
    "chattisgarh_area"
   ]
  },
  {
   "cell_type": "code",
   "execution_count": 37,
   "id": "faba1fd7",
   "metadata": {},
   "outputs": [
    {
     "data": {
      "text/plain": [
       "8    135,191\n",
       "Name: Area (km2), dtype: object"
      ]
     },
     "execution_count": 37,
     "metadata": {},
     "output_type": "execute_result"
    }
   ],
   "source": [
    "chattisgarh_area = chattisgarh_area['Area (km2)']\n",
    "chattisgarh_area"
   ]
  },
  {
   "cell_type": "code",
   "execution_count": 38,
   "id": "b0205263",
   "metadata": {},
   "outputs": [
    {
     "data": {
      "image/png": "[encoded data removed]",
      "text/plain": [
       "<Figure size 432x288 with 1 Axes>"
      ]
     },
     "metadata": {
      "needs_background": "light"
     },
     "output_type": "display_data"
    }
   ],
   "source": [
    "plt.scatter(chattisgarh_crime,chattisgarh_area)\n",
    "\n",
    "plt.xlabel('crime')\n",
    "plt.ylabel('area')\n",
    "\n",
    "plt.show()"
   ]
  },
  {
   "cell_type": "code",
   "execution_count": null,
   "id": "aa16e04f",
   "metadata": {},
   "outputs": [],
   "source": []
  },
  {
   "cell_type": "code",
   "execution_count": null,
   "id": "5818889e",
   "metadata": {},
   "outputs": [],
   "source": []
  },
  {
   "cell_type": "code",
   "execution_count": 39,
   "id": "760d8d21",
   "metadata": {},
   "outputs": [],
   "source": [
    "# for Goa"
   ]
  },
  {
   "cell_type": "code",
   "execution_count": 40,
   "id": "aeb413d9",
   "metadata": {},
   "outputs": [
    {
     "data": {
      "text/html": [
       "<div>\n",
       "<style scoped>\n",
       "    .dataframe tbody tr th:only-of-type {\n",
       "        vertical-align: middle;\n",
       "    }\n",
       "\n",
       "    .dataframe tbody tr th {\n",
       "        vertical-align: top;\n",
       "    }\n",
       "\n",
       "    .dataframe thead th {\n",
       "        text-align: right;\n",
       "    }\n",
       "</style>\n",
       "<table border=\"1\" class=\"dataframe\">\n",
       "  <thead>\n",
       "    <tr style=\"text-align: right;\">\n",
       "      <th></th>\n",
       "      <th>STATE/UT</th>\n",
       "      <th>DISTRICT</th>\n",
       "      <th>YEAR</th>\n",
       "      <th>MURDER</th>\n",
       "      <th>ATTEMPT TO MURDER</th>\n",
       "      <th>CULPABLE HOMICIDE NOT AMOUNTING TO MURDER</th>\n",
       "      <th>RAPE</th>\n",
       "      <th>CUSTODIAL RAPE</th>\n",
       "      <th>OTHER RAPE</th>\n",
       "      <th>KIDNAPPING &amp; ABDUCTION</th>\n",
       "      <th>...</th>\n",
       "      <th>ARSON</th>\n",
       "      <th>HURT/GREVIOUS HURT</th>\n",
       "      <th>DOWRY DEATHS</th>\n",
       "      <th>ASSAULT ON WOMEN WITH INTENT TO OUTRAGE HER MODESTY</th>\n",
       "      <th>INSULT TO MODESTY OF WOMEN</th>\n",
       "      <th>CRUELTY BY HUSBAND OR HIS RELATIVES</th>\n",
       "      <th>IMPORTATION OF GIRLS FROM FOREIGN COUNTRIES</th>\n",
       "      <th>CAUSING DEATH BY NEGLIGENCE</th>\n",
       "      <th>OTHER IPC CRIMES</th>\n",
       "      <th>TOTAL IPC CRIMES</th>\n",
       "    </tr>\n",
       "  </thead>\n",
       "  <tbody>\n",
       "    <tr>\n",
       "      <th>8367</th>\n",
       "      <td>GOA</td>\n",
       "      <td>TOTAL</td>\n",
       "      <td>2012</td>\n",
       "      <td>45</td>\n",
       "      <td>35</td>\n",
       "      <td>3</td>\n",
       "      <td>55</td>\n",
       "      <td>0</td>\n",
       "      <td>55</td>\n",
       "      <td>24</td>\n",
       "      <td>...</td>\n",
       "      <td>34</td>\n",
       "      <td>266</td>\n",
       "      <td>0</td>\n",
       "      <td>49</td>\n",
       "      <td>16</td>\n",
       "      <td>24</td>\n",
       "      <td>0</td>\n",
       "      <td>233</td>\n",
       "      <td>1115</td>\n",
       "      <td>3608</td>\n",
       "    </tr>\n",
       "  </tbody>\n",
       "</table>\n",
       "<p>1 rows × 33 columns</p>\n",
       "</div>"
      ],
      "text/plain": [
       "     STATE/UT DISTRICT  YEAR  MURDER  ATTEMPT TO MURDER  \\\n",
       "8367      GOA    TOTAL  2012      45                 35   \n",
       "\n",
       "      CULPABLE HOMICIDE NOT AMOUNTING TO MURDER  RAPE  CUSTODIAL RAPE  \\\n",
       "8367                                          3    55               0   \n",
       "\n",
       "      OTHER RAPE  KIDNAPPING & ABDUCTION  ...  ARSON  HURT/GREVIOUS HURT  \\\n",
       "8367          55                      24  ...     34                 266   \n",
       "\n",
       "      DOWRY DEATHS  ASSAULT ON WOMEN WITH INTENT TO OUTRAGE HER MODESTY  \\\n",
       "8367             0                                                 49     \n",
       "\n",
       "      INSULT TO MODESTY OF WOMEN  CRUELTY BY HUSBAND OR HIS RELATIVES  \\\n",
       "8367                          16                                   24   \n",
       "\n",
       "      IMPORTATION OF GIRLS FROM FOREIGN COUNTRIES  \\\n",
       "8367                                            0   \n",
       "\n",
       "      CAUSING DEATH BY NEGLIGENCE  OTHER IPC CRIMES  TOTAL IPC CRIMES  \n",
       "8367                          233              1115              3608  \n",
       "\n",
       "[1 rows x 33 columns]"
      ]
     },
     "execution_count": 40,
     "metadata": {},
     "output_type": "execute_result"
    }
   ],
   "source": [
    "goa_crime = crime_type[8367:8368]\n",
    "goa_crime"
   ]
  },
  {
   "cell_type": "code",
   "execution_count": 41,
   "id": "846c1718",
   "metadata": {},
   "outputs": [
    {
     "data": {
      "text/plain": [
       "8367    3608\n",
       "Name: TOTAL IPC CRIMES, dtype: int64"
      ]
     },
     "execution_count": 41,
     "metadata": {},
     "output_type": "execute_result"
    }
   ],
   "source": [
    "goa_crime = goa_crime['TOTAL IPC CRIMES']\n",
    "goa_crime"
   ]
  },
  {
   "cell_type": "code",
   "execution_count": 42,
   "id": "b6e33ff0",
   "metadata": {},
   "outputs": [
    {
     "data": {
      "text/html": [
       "<div>\n",
       "<style scoped>\n",
       "    .dataframe tbody tr th:only-of-type {\n",
       "        vertical-align: middle;\n",
       "    }\n",
       "\n",
       "    .dataframe tbody tr th {\n",
       "        vertical-align: top;\n",
       "    }\n",
       "\n",
       "    .dataframe thead th {\n",
       "        text-align: right;\n",
       "    }\n",
       "</style>\n",
       "<table border=\"1\" class=\"dataframe\">\n",
       "  <thead>\n",
       "    <tr style=\"text-align: right;\">\n",
       "      <th></th>\n",
       "      <th>Rank</th>\n",
       "      <th>State (S) / Union territory (UT)</th>\n",
       "      <th>Area (km2)</th>\n",
       "      <th>Region</th>\n",
       "      <th>National Share (%)</th>\n",
       "      <th>Country of comparable size (land mass)</th>\n",
       "    </tr>\n",
       "  </thead>\n",
       "  <tbody>\n",
       "    <tr>\n",
       "      <th>30</th>\n",
       "      <td>31 (S28)</td>\n",
       "      <td>Goa</td>\n",
       "      <td>3,702</td>\n",
       "      <td>Western</td>\n",
       "      <td>0.11</td>\n",
       "      <td>French Polynesia</td>\n",
       "    </tr>\n",
       "  </tbody>\n",
       "</table>\n",
       "</div>"
      ],
      "text/plain": [
       "        Rank State (S) / Union territory (UT) Area (km2)   Region  \\\n",
       "30  31 (S28)                              Goa      3,702  Western   \n",
       "\n",
       "    National Share (%) Country of comparable size (land mass)  \n",
       "30                0.11                       French Polynesia  "
      ]
     },
     "execution_count": 42,
     "metadata": {},
     "output_type": "execute_result"
    }
   ],
   "source": [
    "goa_area = area[30:31]\n",
    "goa_area"
   ]
  },
  {
   "cell_type": "code",
   "execution_count": 43,
   "id": "7d319909",
   "metadata": {},
   "outputs": [
    {
     "data": {
      "text/plain": [
       "30    3,702\n",
       "Name: Area (km2), dtype: object"
      ]
     },
     "execution_count": 43,
     "metadata": {},
     "output_type": "execute_result"
    }
   ],
   "source": [
    "goa_area = goa_area['Area (km2)']\n",
    "goa_area"
   ]
  },
  {
   "cell_type": "code",
   "execution_count": 44,
   "id": "68ef6905",
   "metadata": {},
   "outputs": [
    {
     "data": {
      "image/png": "[encoded data removed]",
      "text/plain": [
       "<Figure size 432x288 with 1 Axes>"
      ]
     },
     "metadata": {
      "needs_background": "light"
     },
     "output_type": "display_data"
    }
   ],
   "source": [
    "plt.scatter(goa_crime,goa_area)\n",
    "\n",
    "plt.xlabel('crime')\n",
    "plt.ylabel('area')\n",
    "\n",
    "plt.show()"
   ]
  },
  {
   "cell_type": "code",
   "execution_count": null,
   "id": "e94912ba",
   "metadata": {},
   "outputs": [],
   "source": []
  },
  {
   "cell_type": "code",
   "execution_count": null,
   "id": "0beb6564",
   "metadata": {},
   "outputs": [],
   "source": []
  },
  {
   "cell_type": "code",
   "execution_count": 45,
   "id": "2d3e775d",
   "metadata": {},
   "outputs": [],
   "source": [
    "# for Gujarat"
   ]
  },
  {
   "cell_type": "code",
   "execution_count": 46,
   "id": "c1b3f0ce",
   "metadata": {},
   "outputs": [
    {
     "data": {
      "text/html": [
       "<div>\n",
       "<style scoped>\n",
       "    .dataframe tbody tr th:only-of-type {\n",
       "        vertical-align: middle;\n",
       "    }\n",
       "\n",
       "    .dataframe tbody tr th {\n",
       "        vertical-align: top;\n",
       "    }\n",
       "\n",
       "    .dataframe thead th {\n",
       "        text-align: right;\n",
       "    }\n",
       "</style>\n",
       "<table border=\"1\" class=\"dataframe\">\n",
       "  <thead>\n",
       "    <tr style=\"text-align: right;\">\n",
       "      <th></th>\n",
       "      <th>STATE/UT</th>\n",
       "      <th>DISTRICT</th>\n",
       "      <th>YEAR</th>\n",
       "      <th>MURDER</th>\n",
       "      <th>ATTEMPT TO MURDER</th>\n",
       "      <th>CULPABLE HOMICIDE NOT AMOUNTING TO MURDER</th>\n",
       "      <th>RAPE</th>\n",
       "      <th>CUSTODIAL RAPE</th>\n",
       "      <th>OTHER RAPE</th>\n",
       "      <th>KIDNAPPING &amp; ABDUCTION</th>\n",
       "      <th>...</th>\n",
       "      <th>ARSON</th>\n",
       "      <th>HURT/GREVIOUS HURT</th>\n",
       "      <th>DOWRY DEATHS</th>\n",
       "      <th>ASSAULT ON WOMEN WITH INTENT TO OUTRAGE HER MODESTY</th>\n",
       "      <th>INSULT TO MODESTY OF WOMEN</th>\n",
       "      <th>CRUELTY BY HUSBAND OR HIS RELATIVES</th>\n",
       "      <th>IMPORTATION OF GIRLS FROM FOREIGN COUNTRIES</th>\n",
       "      <th>CAUSING DEATH BY NEGLIGENCE</th>\n",
       "      <th>OTHER IPC CRIMES</th>\n",
       "      <th>TOTAL IPC CRIMES</th>\n",
       "    </tr>\n",
       "  </thead>\n",
       "  <tbody>\n",
       "    <tr>\n",
       "      <th>8402</th>\n",
       "      <td>GUJARAT</td>\n",
       "      <td>TOTAL</td>\n",
       "      <td>2012</td>\n",
       "      <td>1126</td>\n",
       "      <td>557</td>\n",
       "      <td>43</td>\n",
       "      <td>473</td>\n",
       "      <td>0</td>\n",
       "      <td>473</td>\n",
       "      <td>1720</td>\n",
       "      <td>...</td>\n",
       "      <td>282</td>\n",
       "      <td>10234</td>\n",
       "      <td>21</td>\n",
       "      <td>745</td>\n",
       "      <td>93</td>\n",
       "      <td>6658</td>\n",
       "      <td>0</td>\n",
       "      <td>5573</td>\n",
       "      <td>75702</td>\n",
       "      <td>130121</td>\n",
       "    </tr>\n",
       "  </tbody>\n",
       "</table>\n",
       "<p>1 rows × 33 columns</p>\n",
       "</div>"
      ],
      "text/plain": [
       "     STATE/UT DISTRICT  YEAR  MURDER  ATTEMPT TO MURDER  \\\n",
       "8402  GUJARAT    TOTAL  2012    1126                557   \n",
       "\n",
       "      CULPABLE HOMICIDE NOT AMOUNTING TO MURDER  RAPE  CUSTODIAL RAPE  \\\n",
       "8402                                         43   473               0   \n",
       "\n",
       "      OTHER RAPE  KIDNAPPING & ABDUCTION  ...  ARSON  HURT/GREVIOUS HURT  \\\n",
       "8402         473                    1720  ...    282               10234   \n",
       "\n",
       "      DOWRY DEATHS  ASSAULT ON WOMEN WITH INTENT TO OUTRAGE HER MODESTY  \\\n",
       "8402            21                                                745     \n",
       "\n",
       "      INSULT TO MODESTY OF WOMEN  CRUELTY BY HUSBAND OR HIS RELATIVES  \\\n",
       "8402                          93                                 6658   \n",
       "\n",
       "      IMPORTATION OF GIRLS FROM FOREIGN COUNTRIES  \\\n",
       "8402                                            0   \n",
       "\n",
       "      CAUSING DEATH BY NEGLIGENCE  OTHER IPC CRIMES  TOTAL IPC CRIMES  \n",
       "8402                         5573             75702            130121  \n",
       "\n",
       "[1 rows x 33 columns]"
      ]
     },
     "execution_count": 46,
     "metadata": {},
     "output_type": "execute_result"
    }
   ],
   "source": [
    "gujarat_crime = crime_type[8402:8403]\n",
    "gujarat_crime"
   ]
  },
  {
   "cell_type": "code",
   "execution_count": 47,
   "id": "609832e3",
   "metadata": {},
   "outputs": [
    {
     "data": {
      "text/plain": [
       "8402    130121\n",
       "Name: TOTAL IPC CRIMES, dtype: int64"
      ]
     },
     "execution_count": 47,
     "metadata": {},
     "output_type": "execute_result"
    }
   ],
   "source": [
    "gujarat_crime = gujarat_crime['TOTAL IPC CRIMES']\n",
    "gujarat_crime"
   ]
  },
  {
   "cell_type": "code",
   "execution_count": 48,
   "id": "c8dcae71",
   "metadata": {},
   "outputs": [
    {
     "data": {
      "text/html": [
       "<div>\n",
       "<style scoped>\n",
       "    .dataframe tbody tr th:only-of-type {\n",
       "        vertical-align: middle;\n",
       "    }\n",
       "\n",
       "    .dataframe tbody tr th {\n",
       "        vertical-align: top;\n",
       "    }\n",
       "\n",
       "    .dataframe thead th {\n",
       "        text-align: right;\n",
       "    }\n",
       "</style>\n",
       "<table border=\"1\" class=\"dataframe\">\n",
       "  <thead>\n",
       "    <tr style=\"text-align: right;\">\n",
       "      <th></th>\n",
       "      <th>Rank</th>\n",
       "      <th>State (S) / Union territory (UT)</th>\n",
       "      <th>Area (km2)</th>\n",
       "      <th>Region</th>\n",
       "      <th>National Share (%)</th>\n",
       "      <th>Country of comparable size (land mass)</th>\n",
       "    </tr>\n",
       "  </thead>\n",
       "  <tbody>\n",
       "    <tr>\n",
       "      <th>4</th>\n",
       "      <td>5 (S5)</td>\n",
       "      <td>Gujarat</td>\n",
       "      <td>196,024</td>\n",
       "      <td>Western</td>\n",
       "      <td>5.96</td>\n",
       "      <td>Senegal</td>\n",
       "    </tr>\n",
       "  </tbody>\n",
       "</table>\n",
       "</div>"
      ],
      "text/plain": [
       "     Rank State (S) / Union territory (UT) Area (km2)   Region  \\\n",
       "4  5 (S5)                          Gujarat    196,024  Western   \n",
       "\n",
       "   National Share (%) Country of comparable size (land mass)  \n",
       "4                5.96                                Senegal  "
      ]
     },
     "execution_count": 48,
     "metadata": {},
     "output_type": "execute_result"
    }
   ],
   "source": [
    "gujarat_area = area[4:5]\n",
    "gujarat_area"
   ]
  },
  {
   "cell_type": "code",
   "execution_count": 49,
   "id": "c7c056bd",
   "metadata": {},
   "outputs": [
    {
     "data": {
      "text/plain": [
       "4    196,024\n",
       "Name: Area (km2), dtype: object"
      ]
     },
     "execution_count": 49,
     "metadata": {},
     "output_type": "execute_result"
    }
   ],
   "source": [
    "gujarat_area = gujarat_area['Area (km2)']\n",
    "gujarat_area"
   ]
  },
  {
   "cell_type": "code",
   "execution_count": 50,
   "id": "ab3f7434",
   "metadata": {},
   "outputs": [
    {
     "data": {
      "image/png": "[encoded data removed]",
      "text/plain": [
       "<Figure size 432x288 with 1 Axes>"
      ]
     },
     "metadata": {
      "needs_background": "light"
     },
     "output_type": "display_data"
    }
   ],
   "source": [
    "plt.scatter(gujarat_crime,gujarat_area)\n",
    "\n",
    "plt.xlabel('crime')\n",
    "plt.ylabel('area')\n",
    "\n",
    "plt.show()"
   ]
  },
  {
   "cell_type": "code",
   "execution_count": null,
   "id": "3cfad22d",
   "metadata": {},
   "outputs": [],
   "source": []
  },
  {
   "cell_type": "code",
   "execution_count": null,
   "id": "4dd7f428",
   "metadata": {},
   "outputs": [],
   "source": []
  },
  {
   "cell_type": "code",
   "execution_count": 51,
   "id": "fa6b4c44",
   "metadata": {},
   "outputs": [],
   "source": [
    "# for Haryana"
   ]
  },
  {
   "cell_type": "code",
   "execution_count": 52,
   "id": "7d03475d",
   "metadata": {},
   "outputs": [
    {
     "data": {
      "text/html": [
       "<div>\n",
       "<style scoped>\n",
       "    .dataframe tbody tr th:only-of-type {\n",
       "        vertical-align: middle;\n",
       "    }\n",
       "\n",
       "    .dataframe tbody tr th {\n",
       "        vertical-align: top;\n",
       "    }\n",
       "\n",
       "    .dataframe thead th {\n",
       "        text-align: right;\n",
       "    }\n",
       "</style>\n",
       "<table border=\"1\" class=\"dataframe\">\n",
       "  <thead>\n",
       "    <tr style=\"text-align: right;\">\n",
       "      <th></th>\n",
       "      <th>STATE/UT</th>\n",
       "      <th>DISTRICT</th>\n",
       "      <th>YEAR</th>\n",
       "      <th>MURDER</th>\n",
       "      <th>ATTEMPT TO MURDER</th>\n",
       "      <th>CULPABLE HOMICIDE NOT AMOUNTING TO MURDER</th>\n",
       "      <th>RAPE</th>\n",
       "      <th>CUSTODIAL RAPE</th>\n",
       "      <th>OTHER RAPE</th>\n",
       "      <th>KIDNAPPING &amp; ABDUCTION</th>\n",
       "      <th>...</th>\n",
       "      <th>ARSON</th>\n",
       "      <th>HURT/GREVIOUS HURT</th>\n",
       "      <th>DOWRY DEATHS</th>\n",
       "      <th>ASSAULT ON WOMEN WITH INTENT TO OUTRAGE HER MODESTY</th>\n",
       "      <th>INSULT TO MODESTY OF WOMEN</th>\n",
       "      <th>CRUELTY BY HUSBAND OR HIS RELATIVES</th>\n",
       "      <th>IMPORTATION OF GIRLS FROM FOREIGN COUNTRIES</th>\n",
       "      <th>CAUSING DEATH BY NEGLIGENCE</th>\n",
       "      <th>OTHER IPC CRIMES</th>\n",
       "      <th>TOTAL IPC CRIMES</th>\n",
       "    </tr>\n",
       "  </thead>\n",
       "  <tbody>\n",
       "    <tr>\n",
       "      <th>8426</th>\n",
       "      <td>HARYANA</td>\n",
       "      <td>TOTAL</td>\n",
       "      <td>2012</td>\n",
       "      <td>991</td>\n",
       "      <td>910</td>\n",
       "      <td>68</td>\n",
       "      <td>668</td>\n",
       "      <td>0</td>\n",
       "      <td>668</td>\n",
       "      <td>1349</td>\n",
       "      <td>...</td>\n",
       "      <td>191</td>\n",
       "      <td>3277</td>\n",
       "      <td>258</td>\n",
       "      <td>525</td>\n",
       "      <td>434</td>\n",
       "      <td>3137</td>\n",
       "      <td>0</td>\n",
       "      <td>1484</td>\n",
       "      <td>21396</td>\n",
       "      <td>62480</td>\n",
       "    </tr>\n",
       "  </tbody>\n",
       "</table>\n",
       "<p>1 rows × 33 columns</p>\n",
       "</div>"
      ],
      "text/plain": [
       "     STATE/UT DISTRICT  YEAR  MURDER  ATTEMPT TO MURDER  \\\n",
       "8426  HARYANA    TOTAL  2012     991                910   \n",
       "\n",
       "      CULPABLE HOMICIDE NOT AMOUNTING TO MURDER  RAPE  CUSTODIAL RAPE  \\\n",
       "8426                                         68   668               0   \n",
       "\n",
       "      OTHER RAPE  KIDNAPPING & ABDUCTION  ...  ARSON  HURT/GREVIOUS HURT  \\\n",
       "8426         668                    1349  ...    191                3277   \n",
       "\n",
       "      DOWRY DEATHS  ASSAULT ON WOMEN WITH INTENT TO OUTRAGE HER MODESTY  \\\n",
       "8426           258                                                525     \n",
       "\n",
       "      INSULT TO MODESTY OF WOMEN  CRUELTY BY HUSBAND OR HIS RELATIVES  \\\n",
       "8426                         434                                 3137   \n",
       "\n",
       "      IMPORTATION OF GIRLS FROM FOREIGN COUNTRIES  \\\n",
       "8426                                            0   \n",
       "\n",
       "      CAUSING DEATH BY NEGLIGENCE  OTHER IPC CRIMES  TOTAL IPC CRIMES  \n",
       "8426                         1484             21396             62480  \n",
       "\n",
       "[1 rows x 33 columns]"
      ]
     },
     "execution_count": 52,
     "metadata": {},
     "output_type": "execute_result"
    }
   ],
   "source": [
    "haryana_crime = crime_type[8426:8427]\n",
    "haryana_crime"
   ]
  },
  {
   "cell_type": "code",
   "execution_count": 53,
   "id": "9289ab0f",
   "metadata": {},
   "outputs": [
    {
     "data": {
      "text/plain": [
       "8426    62480\n",
       "Name: TOTAL IPC CRIMES, dtype: int64"
      ]
     },
     "execution_count": 53,
     "metadata": {},
     "output_type": "execute_result"
    }
   ],
   "source": [
    "haryana_crime = haryana_crime['TOTAL IPC CRIMES']\n",
    "haryana_crime"
   ]
  },
  {
   "cell_type": "code",
   "execution_count": 54,
   "id": "5ec31597",
   "metadata": {},
   "outputs": [
    {
     "data": {
      "text/html": [
       "<div>\n",
       "<style scoped>\n",
       "    .dataframe tbody tr th:only-of-type {\n",
       "        vertical-align: middle;\n",
       "    }\n",
       "\n",
       "    .dataframe tbody tr th {\n",
       "        vertical-align: top;\n",
       "    }\n",
       "\n",
       "    .dataframe thead th {\n",
       "        text-align: right;\n",
       "    }\n",
       "</style>\n",
       "<table border=\"1\" class=\"dataframe\">\n",
       "  <thead>\n",
       "    <tr style=\"text-align: right;\">\n",
       "      <th></th>\n",
       "      <th>Rank</th>\n",
       "      <th>State (S) / Union territory (UT)</th>\n",
       "      <th>Area (km2)</th>\n",
       "      <th>Region</th>\n",
       "      <th>National Share (%)</th>\n",
       "      <th>Country of comparable size (land mass)</th>\n",
       "    </tr>\n",
       "  </thead>\n",
       "  <tbody>\n",
       "    <tr>\n",
       "      <th>20</th>\n",
       "      <td>22 (S20)</td>\n",
       "      <td>Haryana</td>\n",
       "      <td>44,212</td>\n",
       "      <td>Northern</td>\n",
       "      <td>1.34</td>\n",
       "      <td>Denmark</td>\n",
       "    </tr>\n",
       "  </tbody>\n",
       "</table>\n",
       "</div>"
      ],
      "text/plain": [
       "        Rank State (S) / Union territory (UT) Area (km2)    Region  \\\n",
       "20  22 (S20)                          Haryana     44,212  Northern   \n",
       "\n",
       "    National Share (%) Country of comparable size (land mass)  \n",
       "20                1.34                                Denmark  "
      ]
     },
     "execution_count": 54,
     "metadata": {},
     "output_type": "execute_result"
    }
   ],
   "source": [
    "haryana_area = area[20:21]\n",
    "haryana_area"
   ]
  },
  {
   "cell_type": "code",
   "execution_count": 55,
   "id": "798e3c9f",
   "metadata": {},
   "outputs": [
    {
     "data": {
      "text/plain": [
       "20    44,212\n",
       "Name: Area (km2), dtype: object"
      ]
     },
     "execution_count": 55,
     "metadata": {},
     "output_type": "execute_result"
    }
   ],
   "source": [
    "haryana_area = haryana_area['Area (km2)']\n",
    "haryana_area"
   ]
  },
  {
   "cell_type": "code",
   "execution_count": 56,
   "id": "f3a505ab",
   "metadata": {},
   "outputs": [
    {
     "data": {
      "image/png": "[encoded data removed]",
      "text/plain": [
       "<Figure size 432x288 with 1 Axes>"
      ]
     },
     "metadata": {
      "needs_background": "light"
     },
     "output_type": "display_data"
    }
   ],
   "source": [
    "plt.scatter(haryana_crime,haryana_area)\n",
    "\n",
    "plt.xlabel('crime')\n",
    "plt.ylabel('area')\n",
    "\n",
    "plt.show()"
   ]
  },
  {
   "cell_type": "code",
   "execution_count": null,
   "id": "d80f99bb",
   "metadata": {},
   "outputs": [],
   "source": []
  },
  {
   "cell_type": "code",
   "execution_count": null,
   "id": "a53bef39",
   "metadata": {},
   "outputs": [],
   "source": []
  },
  {
   "cell_type": "code",
   "execution_count": 57,
   "id": "5debf74f",
   "metadata": {},
   "outputs": [],
   "source": [
    "# for Himachal Pradesh"
   ]
  },
  {
   "cell_type": "code",
   "execution_count": 58,
   "id": "c0d1c684",
   "metadata": {},
   "outputs": [
    {
     "data": {
      "text/html": [
       "<div>\n",
       "<style scoped>\n",
       "    .dataframe tbody tr th:only-of-type {\n",
       "        vertical-align: middle;\n",
       "    }\n",
       "\n",
       "    .dataframe tbody tr th {\n",
       "        vertical-align: top;\n",
       "    }\n",
       "\n",
       "    .dataframe thead th {\n",
       "        text-align: right;\n",
       "    }\n",
       "</style>\n",
       "<table border=\"1\" class=\"dataframe\">\n",
       "  <thead>\n",
       "    <tr style=\"text-align: right;\">\n",
       "      <th></th>\n",
       "      <th>STATE/UT</th>\n",
       "      <th>DISTRICT</th>\n",
       "      <th>YEAR</th>\n",
       "      <th>MURDER</th>\n",
       "      <th>ATTEMPT TO MURDER</th>\n",
       "      <th>CULPABLE HOMICIDE NOT AMOUNTING TO MURDER</th>\n",
       "      <th>RAPE</th>\n",
       "      <th>CUSTODIAL RAPE</th>\n",
       "      <th>OTHER RAPE</th>\n",
       "      <th>KIDNAPPING &amp; ABDUCTION</th>\n",
       "      <th>...</th>\n",
       "      <th>ARSON</th>\n",
       "      <th>HURT/GREVIOUS HURT</th>\n",
       "      <th>DOWRY DEATHS</th>\n",
       "      <th>ASSAULT ON WOMEN WITH INTENT TO OUTRAGE HER MODESTY</th>\n",
       "      <th>INSULT TO MODESTY OF WOMEN</th>\n",
       "      <th>CRUELTY BY HUSBAND OR HIS RELATIVES</th>\n",
       "      <th>IMPORTATION OF GIRLS FROM FOREIGN COUNTRIES</th>\n",
       "      <th>CAUSING DEATH BY NEGLIGENCE</th>\n",
       "      <th>OTHER IPC CRIMES</th>\n",
       "      <th>TOTAL IPC CRIMES</th>\n",
       "    </tr>\n",
       "  </thead>\n",
       "  <tbody>\n",
       "    <tr>\n",
       "      <th>8442</th>\n",
       "      <td>HIMACHAL PRADESH</td>\n",
       "      <td>TOTAL</td>\n",
       "      <td>2012</td>\n",
       "      <td>113</td>\n",
       "      <td>53</td>\n",
       "      <td>9</td>\n",
       "      <td>183</td>\n",
       "      <td>0</td>\n",
       "      <td>183</td>\n",
       "      <td>172</td>\n",
       "      <td>...</td>\n",
       "      <td>131</td>\n",
       "      <td>1173</td>\n",
       "      <td>2</td>\n",
       "      <td>250</td>\n",
       "      <td>68</td>\n",
       "      <td>251</td>\n",
       "      <td>0</td>\n",
       "      <td>562</td>\n",
       "      <td>6877</td>\n",
       "      <td>12557</td>\n",
       "    </tr>\n",
       "  </tbody>\n",
       "</table>\n",
       "<p>1 rows × 33 columns</p>\n",
       "</div>"
      ],
      "text/plain": [
       "              STATE/UT DISTRICT  YEAR  MURDER  ATTEMPT TO MURDER  \\\n",
       "8442  HIMACHAL PRADESH    TOTAL  2012     113                 53   \n",
       "\n",
       "      CULPABLE HOMICIDE NOT AMOUNTING TO MURDER  RAPE  CUSTODIAL RAPE  \\\n",
       "8442                                          9   183               0   \n",
       "\n",
       "      OTHER RAPE  KIDNAPPING & ABDUCTION  ...  ARSON  HURT/GREVIOUS HURT  \\\n",
       "8442         183                     172  ...    131                1173   \n",
       "\n",
       "      DOWRY DEATHS  ASSAULT ON WOMEN WITH INTENT TO OUTRAGE HER MODESTY  \\\n",
       "8442             2                                                250     \n",
       "\n",
       "      INSULT TO MODESTY OF WOMEN  CRUELTY BY HUSBAND OR HIS RELATIVES  \\\n",
       "8442                          68                                  251   \n",
       "\n",
       "      IMPORTATION OF GIRLS FROM FOREIGN COUNTRIES  \\\n",
       "8442                                            0   \n",
       "\n",
       "      CAUSING DEATH BY NEGLIGENCE  OTHER IPC CRIMES  TOTAL IPC CRIMES  \n",
       "8442                          562              6877             12557  \n",
       "\n",
       "[1 rows x 33 columns]"
      ]
     },
     "execution_count": 58,
     "metadata": {},
     "output_type": "execute_result"
    }
   ],
   "source": [
    "himachal_crime = crime_type[8442:8443]\n",
    "himachal_crime"
   ]
  },
  {
   "cell_type": "code",
   "execution_count": 59,
   "id": "290f048c",
   "metadata": {},
   "outputs": [
    {
     "data": {
      "text/plain": [
       "8442    12557\n",
       "Name: TOTAL IPC CRIMES, dtype: int64"
      ]
     },
     "execution_count": 59,
     "metadata": {},
     "output_type": "execute_result"
    }
   ],
   "source": [
    "himachal_crime = himachal_crime['TOTAL IPC CRIMES']\n",
    "himachal_crime"
   ]
  },
  {
   "cell_type": "code",
   "execution_count": 60,
   "id": "5477f1bb",
   "metadata": {},
   "outputs": [
    {
     "data": {
      "text/html": [
       "<div>\n",
       "<style scoped>\n",
       "    .dataframe tbody tr th:only-of-type {\n",
       "        vertical-align: middle;\n",
       "    }\n",
       "\n",
       "    .dataframe tbody tr th {\n",
       "        vertical-align: top;\n",
       "    }\n",
       "\n",
       "    .dataframe thead th {\n",
       "        text-align: right;\n",
       "    }\n",
       "</style>\n",
       "<table border=\"1\" class=\"dataframe\">\n",
       "  <thead>\n",
       "    <tr style=\"text-align: right;\">\n",
       "      <th></th>\n",
       "      <th>Rank</th>\n",
       "      <th>State (S) / Union territory (UT)</th>\n",
       "      <th>Area (km2)</th>\n",
       "      <th>Region</th>\n",
       "      <th>National Share (%)</th>\n",
       "      <th>Country of comparable size (land mass)</th>\n",
       "    </tr>\n",
       "  </thead>\n",
       "  <tbody>\n",
       "    <tr>\n",
       "      <th>17</th>\n",
       "      <td>18 (S17)</td>\n",
       "      <td>Himachal Pradesh</td>\n",
       "      <td>55,673</td>\n",
       "      <td>Northern</td>\n",
       "      <td>1.7</td>\n",
       "      <td>Croatia</td>\n",
       "    </tr>\n",
       "  </tbody>\n",
       "</table>\n",
       "</div>"
      ],
      "text/plain": [
       "        Rank State (S) / Union territory (UT) Area (km2)    Region  \\\n",
       "17  18 (S17)                 Himachal Pradesh     55,673  Northern   \n",
       "\n",
       "    National Share (%) Country of comparable size (land mass)  \n",
       "17                 1.7                                Croatia  "
      ]
     },
     "execution_count": 60,
     "metadata": {},
     "output_type": "execute_result"
    }
   ],
   "source": [
    "himachal_area = area[17:18]\n",
    "himachal_area"
   ]
  },
  {
   "cell_type": "code",
   "execution_count": 61,
   "id": "21f1c2b1",
   "metadata": {},
   "outputs": [
    {
     "data": {
      "text/plain": [
       "17    55,673\n",
       "Name: Area (km2), dtype: object"
      ]
     },
     "execution_count": 61,
     "metadata": {},
     "output_type": "execute_result"
    }
   ],
   "source": [
    "himachal_area = himachal_area['Area (km2)']\n",
    "himachal_area"
   ]
  },
  {
   "cell_type": "code",
   "execution_count": 62,
   "id": "04e7a403",
   "metadata": {},
   "outputs": [
    {
     "data": {
      "image/png": "[encoded data removed]",
      "text/plain": [
       "<Figure size 432x288 with 1 Axes>"
      ]
     },
     "metadata": {
      "needs_background": "light"
     },
     "output_type": "display_data"
    }
   ],
   "source": [
    "plt.scatter(himachal_crime,himachal_area)\n",
    "\n",
    "plt.xlabel('crime')\n",
    "plt.ylabel('area')\n",
    "\n",
    "plt.show()"
   ]
  },
  {
   "cell_type": "code",
   "execution_count": null,
   "id": "73796636",
   "metadata": {},
   "outputs": [],
   "source": []
  },
  {
   "cell_type": "code",
   "execution_count": null,
   "id": "90b0de6a",
   "metadata": {},
   "outputs": [],
   "source": []
  },
  {
   "cell_type": "code",
   "execution_count": 63,
   "id": "5a867fa9",
   "metadata": {},
   "outputs": [],
   "source": [
    "# for Jammu & Kashmir"
   ]
  },
  {
   "cell_type": "code",
   "execution_count": 64,
   "id": "d6580820",
   "metadata": {},
   "outputs": [
    {
     "data": {
      "text/html": [
       "<div>\n",
       "<style scoped>\n",
       "    .dataframe tbody tr th:only-of-type {\n",
       "        vertical-align: middle;\n",
       "    }\n",
       "\n",
       "    .dataframe tbody tr th {\n",
       "        vertical-align: top;\n",
       "    }\n",
       "\n",
       "    .dataframe thead th {\n",
       "        text-align: right;\n",
       "    }\n",
       "</style>\n",
       "<table border=\"1\" class=\"dataframe\">\n",
       "  <thead>\n",
       "    <tr style=\"text-align: right;\">\n",
       "      <th></th>\n",
       "      <th>STATE/UT</th>\n",
       "      <th>DISTRICT</th>\n",
       "      <th>YEAR</th>\n",
       "      <th>MURDER</th>\n",
       "      <th>ATTEMPT TO MURDER</th>\n",
       "      <th>CULPABLE HOMICIDE NOT AMOUNTING TO MURDER</th>\n",
       "      <th>RAPE</th>\n",
       "      <th>CUSTODIAL RAPE</th>\n",
       "      <th>OTHER RAPE</th>\n",
       "      <th>KIDNAPPING &amp; ABDUCTION</th>\n",
       "      <th>...</th>\n",
       "      <th>ARSON</th>\n",
       "      <th>HURT/GREVIOUS HURT</th>\n",
       "      <th>DOWRY DEATHS</th>\n",
       "      <th>ASSAULT ON WOMEN WITH INTENT TO OUTRAGE HER MODESTY</th>\n",
       "      <th>INSULT TO MODESTY OF WOMEN</th>\n",
       "      <th>CRUELTY BY HUSBAND OR HIS RELATIVES</th>\n",
       "      <th>IMPORTATION OF GIRLS FROM FOREIGN COUNTRIES</th>\n",
       "      <th>CAUSING DEATH BY NEGLIGENCE</th>\n",
       "      <th>OTHER IPC CRIMES</th>\n",
       "      <th>TOTAL IPC CRIMES</th>\n",
       "    </tr>\n",
       "  </thead>\n",
       "  <tbody>\n",
       "    <tr>\n",
       "      <th>8473</th>\n",
       "      <td>JAMMU &amp; KASHMIR</td>\n",
       "      <td>TOTAL</td>\n",
       "      <td>2012</td>\n",
       "      <td>124</td>\n",
       "      <td>511</td>\n",
       "      <td>16</td>\n",
       "      <td>303</td>\n",
       "      <td>0</td>\n",
       "      <td>303</td>\n",
       "      <td>1093</td>\n",
       "      <td>...</td>\n",
       "      <td>190</td>\n",
       "      <td>322</td>\n",
       "      <td>8</td>\n",
       "      <td>1322</td>\n",
       "      <td>347</td>\n",
       "      <td>301</td>\n",
       "      <td>0</td>\n",
       "      <td>371</td>\n",
       "      <td>14004</td>\n",
       "      <td>24608</td>\n",
       "    </tr>\n",
       "  </tbody>\n",
       "</table>\n",
       "<p>1 rows × 33 columns</p>\n",
       "</div>"
      ],
      "text/plain": [
       "             STATE/UT DISTRICT  YEAR  MURDER  ATTEMPT TO MURDER  \\\n",
       "8473  JAMMU & KASHMIR    TOTAL  2012     124                511   \n",
       "\n",
       "      CULPABLE HOMICIDE NOT AMOUNTING TO MURDER  RAPE  CUSTODIAL RAPE  \\\n",
       "8473                                         16   303               0   \n",
       "\n",
       "      OTHER RAPE  KIDNAPPING & ABDUCTION  ...  ARSON  HURT/GREVIOUS HURT  \\\n",
       "8473         303                    1093  ...    190                 322   \n",
       "\n",
       "      DOWRY DEATHS  ASSAULT ON WOMEN WITH INTENT TO OUTRAGE HER MODESTY  \\\n",
       "8473             8                                               1322     \n",
       "\n",
       "      INSULT TO MODESTY OF WOMEN  CRUELTY BY HUSBAND OR HIS RELATIVES  \\\n",
       "8473                         347                                  301   \n",
       "\n",
       "      IMPORTATION OF GIRLS FROM FOREIGN COUNTRIES  \\\n",
       "8473                                            0   \n",
       "\n",
       "      CAUSING DEATH BY NEGLIGENCE  OTHER IPC CRIMES  TOTAL IPC CRIMES  \n",
       "8473                          371             14004             24608  \n",
       "\n",
       "[1 rows x 33 columns]"
      ]
     },
     "execution_count": 64,
     "metadata": {},
     "output_type": "execute_result"
    }
   ],
   "source": [
    "jammu_crime = crime_type[8473:8474]\n",
    "jammu_crime"
   ]
  },
  {
   "cell_type": "code",
   "execution_count": 65,
   "id": "ca390cfb",
   "metadata": {},
   "outputs": [
    {
     "data": {
      "text/plain": [
       "8473    24608\n",
       "Name: TOTAL IPC CRIMES, dtype: int64"
      ]
     },
     "execution_count": 65,
     "metadata": {},
     "output_type": "execute_result"
    }
   ],
   "source": [
    "jammu_crime = jammu_crime['TOTAL IPC CRIMES']\n",
    "jammu_crime"
   ]
  },
  {
   "cell_type": "code",
   "execution_count": 66,
   "id": "65e5a033",
   "metadata": {},
   "outputs": [
    {
     "data": {
      "text/html": [
       "<div>\n",
       "<style scoped>\n",
       "    .dataframe tbody tr th:only-of-type {\n",
       "        vertical-align: middle;\n",
       "    }\n",
       "\n",
       "    .dataframe tbody tr th {\n",
       "        vertical-align: top;\n",
       "    }\n",
       "\n",
       "    .dataframe thead th {\n",
       "        text-align: right;\n",
       "    }\n",
       "</style>\n",
       "<table border=\"1\" class=\"dataframe\">\n",
       "  <thead>\n",
       "    <tr style=\"text-align: right;\">\n",
       "      <th></th>\n",
       "      <th>Rank</th>\n",
       "      <th>State (S) / Union territory (UT)</th>\n",
       "      <th>Area (km2)</th>\n",
       "      <th>Region</th>\n",
       "      <th>National Share (%)</th>\n",
       "      <th>Country of comparable size (land mass)</th>\n",
       "    </tr>\n",
       "  </thead>\n",
       "  <tbody>\n",
       "    <tr>\n",
       "      <th>21</th>\n",
       "      <td>19 (UT2)</td>\n",
       "      <td>Jammu and Kashmir</td>\n",
       "      <td>42,241</td>\n",
       "      <td>Northern</td>\n",
       "      <td>1.7</td>\n",
       "      <td>Croatia</td>\n",
       "    </tr>\n",
       "  </tbody>\n",
       "</table>\n",
       "</div>"
      ],
      "text/plain": [
       "        Rank State (S) / Union territory (UT) Area (km2)    Region  \\\n",
       "21  19 (UT2)                Jammu and Kashmir     42,241  Northern   \n",
       "\n",
       "    National Share (%) Country of comparable size (land mass)  \n",
       "21                 1.7                                Croatia  "
      ]
     },
     "execution_count": 66,
     "metadata": {},
     "output_type": "execute_result"
    }
   ],
   "source": [
    "jammu_area = area[21:22]\n",
    "jammu_area"
   ]
  },
  {
   "cell_type": "code",
   "execution_count": 67,
   "id": "4ffc8fd8",
   "metadata": {},
   "outputs": [
    {
     "data": {
      "text/plain": [
       "21    42,241\n",
       "Name: Area (km2), dtype: object"
      ]
     },
     "execution_count": 67,
     "metadata": {},
     "output_type": "execute_result"
    }
   ],
   "source": [
    "jammu_area = jammu_area['Area (km2)']\n",
    "jammu_area"
   ]
  },
  {
   "cell_type": "code",
   "execution_count": 68,
   "id": "d6ac880e",
   "metadata": {},
   "outputs": [
    {
     "data": {
      "image/png": "[encoded data removed]",
      "text/plain": [
       "<Figure size 432x288 with 1 Axes>"
      ]
     },
     "metadata": {
      "needs_background": "light"
     },
     "output_type": "display_data"
    }
   ],
   "source": [
    "plt.scatter(jammu_crime,jammu_area)\n",
    "\n",
    "plt.xlabel('crime')\n",
    "plt.ylabel('area')\n",
    "\n",
    "plt.show()"
   ]
  },
  {
   "cell_type": "code",
   "execution_count": null,
   "id": "b4292ccf",
   "metadata": {},
   "outputs": [],
   "source": []
  },
  {
   "cell_type": "code",
   "execution_count": null,
   "id": "c5f58000",
   "metadata": {},
   "outputs": [],
   "source": []
  },
  {
   "cell_type": "code",
   "execution_count": 69,
   "id": "059adf57",
   "metadata": {},
   "outputs": [],
   "source": [
    "# for Jharkhand"
   ]
  },
  {
   "cell_type": "code",
   "execution_count": 70,
   "id": "d47e1cbd",
   "metadata": {},
   "outputs": [
    {
     "data": {
      "text/html": [
       "<div>\n",
       "<style scoped>\n",
       "    .dataframe tbody tr th:only-of-type {\n",
       "        vertical-align: middle;\n",
       "    }\n",
       "\n",
       "    .dataframe tbody tr th {\n",
       "        vertical-align: top;\n",
       "    }\n",
       "\n",
       "    .dataframe thead th {\n",
       "        text-align: right;\n",
       "    }\n",
       "</style>\n",
       "<table border=\"1\" class=\"dataframe\">\n",
       "  <thead>\n",
       "    <tr style=\"text-align: right;\">\n",
       "      <th></th>\n",
       "      <th>STATE/UT</th>\n",
       "      <th>DISTRICT</th>\n",
       "      <th>YEAR</th>\n",
       "      <th>MURDER</th>\n",
       "      <th>ATTEMPT TO MURDER</th>\n",
       "      <th>CULPABLE HOMICIDE NOT AMOUNTING TO MURDER</th>\n",
       "      <th>RAPE</th>\n",
       "      <th>CUSTODIAL RAPE</th>\n",
       "      <th>OTHER RAPE</th>\n",
       "      <th>KIDNAPPING &amp; ABDUCTION</th>\n",
       "      <th>...</th>\n",
       "      <th>ARSON</th>\n",
       "      <th>HURT/GREVIOUS HURT</th>\n",
       "      <th>DOWRY DEATHS</th>\n",
       "      <th>ASSAULT ON WOMEN WITH INTENT TO OUTRAGE HER MODESTY</th>\n",
       "      <th>INSULT TO MODESTY OF WOMEN</th>\n",
       "      <th>CRUELTY BY HUSBAND OR HIS RELATIVES</th>\n",
       "      <th>IMPORTATION OF GIRLS FROM FOREIGN COUNTRIES</th>\n",
       "      <th>CAUSING DEATH BY NEGLIGENCE</th>\n",
       "      <th>OTHER IPC CRIMES</th>\n",
       "      <th>TOTAL IPC CRIMES</th>\n",
       "    </tr>\n",
       "  </thead>\n",
       "  <tbody>\n",
       "    <tr>\n",
       "      <th>8500</th>\n",
       "      <td>JHARKHAND</td>\n",
       "      <td>TOTAL</td>\n",
       "      <td>2012</td>\n",
       "      <td>1694</td>\n",
       "      <td>842</td>\n",
       "      <td>92</td>\n",
       "      <td>812</td>\n",
       "      <td>0</td>\n",
       "      <td>812</td>\n",
       "      <td>1056</td>\n",
       "      <td>...</td>\n",
       "      <td>136</td>\n",
       "      <td>4785</td>\n",
       "      <td>302</td>\n",
       "      <td>284</td>\n",
       "      <td>10</td>\n",
       "      <td>1261</td>\n",
       "      <td>3</td>\n",
       "      <td>1594</td>\n",
       "      <td>14818</td>\n",
       "      <td>40946</td>\n",
       "    </tr>\n",
       "  </tbody>\n",
       "</table>\n",
       "<p>1 rows × 33 columns</p>\n",
       "</div>"
      ],
      "text/plain": [
       "       STATE/UT DISTRICT  YEAR  MURDER  ATTEMPT TO MURDER  \\\n",
       "8500  JHARKHAND    TOTAL  2012    1694                842   \n",
       "\n",
       "      CULPABLE HOMICIDE NOT AMOUNTING TO MURDER  RAPE  CUSTODIAL RAPE  \\\n",
       "8500                                         92   812               0   \n",
       "\n",
       "      OTHER RAPE  KIDNAPPING & ABDUCTION  ...  ARSON  HURT/GREVIOUS HURT  \\\n",
       "8500         812                    1056  ...    136                4785   \n",
       "\n",
       "      DOWRY DEATHS  ASSAULT ON WOMEN WITH INTENT TO OUTRAGE HER MODESTY  \\\n",
       "8500           302                                                284     \n",
       "\n",
       "      INSULT TO MODESTY OF WOMEN  CRUELTY BY HUSBAND OR HIS RELATIVES  \\\n",
       "8500                          10                                 1261   \n",
       "\n",
       "      IMPORTATION OF GIRLS FROM FOREIGN COUNTRIES  \\\n",
       "8500                                            3   \n",
       "\n",
       "      CAUSING DEATH BY NEGLIGENCE  OTHER IPC CRIMES  TOTAL IPC CRIMES  \n",
       "8500                         1594             14818             40946  \n",
       "\n",
       "[1 rows x 33 columns]"
      ]
     },
     "execution_count": 70,
     "metadata": {},
     "output_type": "execute_result"
    }
   ],
   "source": [
    "jharkhand_crime = crime_type[8500:8501]\n",
    "jharkhand_crime"
   ]
  },
  {
   "cell_type": "code",
   "execution_count": 71,
   "id": "e260e769",
   "metadata": {},
   "outputs": [
    {
     "data": {
      "text/plain": [
       "8500    40946\n",
       "Name: TOTAL IPC CRIMES, dtype: int64"
      ]
     },
     "execution_count": 71,
     "metadata": {},
     "output_type": "execute_result"
    }
   ],
   "source": [
    "jharkhand_crime = jharkhand_crime['TOTAL IPC CRIMES']\n",
    "jharkhand_crime"
   ]
  },
  {
   "cell_type": "code",
   "execution_count": 72,
   "id": "b771bdeb",
   "metadata": {},
   "outputs": [
    {
     "data": {
      "text/html": [
       "<div>\n",
       "<style scoped>\n",
       "    .dataframe tbody tr th:only-of-type {\n",
       "        vertical-align: middle;\n",
       "    }\n",
       "\n",
       "    .dataframe tbody tr th {\n",
       "        vertical-align: top;\n",
       "    }\n",
       "\n",
       "    .dataframe thead th {\n",
       "        text-align: right;\n",
       "    }\n",
       "</style>\n",
       "<table border=\"1\" class=\"dataframe\">\n",
       "  <thead>\n",
       "    <tr style=\"text-align: right;\">\n",
       "      <th></th>\n",
       "      <th>Rank</th>\n",
       "      <th>State (S) / Union territory (UT)</th>\n",
       "      <th>Area (km2)</th>\n",
       "      <th>Region</th>\n",
       "      <th>National Share (%)</th>\n",
       "      <th>Country of comparable size (land mass)</th>\n",
       "    </tr>\n",
       "  </thead>\n",
       "  <tbody>\n",
       "    <tr>\n",
       "      <th>15</th>\n",
       "      <td>16 (S15)</td>\n",
       "      <td>Jharkhand</td>\n",
       "      <td>79,714</td>\n",
       "      <td>Eastern</td>\n",
       "      <td>2.42</td>\n",
       "      <td>Czech Republic</td>\n",
       "    </tr>\n",
       "  </tbody>\n",
       "</table>\n",
       "</div>"
      ],
      "text/plain": [
       "        Rank State (S) / Union territory (UT) Area (km2)   Region  \\\n",
       "15  16 (S15)                        Jharkhand     79,714  Eastern   \n",
       "\n",
       "    National Share (%) Country of comparable size (land mass)  \n",
       "15                2.42                         Czech Republic  "
      ]
     },
     "execution_count": 72,
     "metadata": {},
     "output_type": "execute_result"
    }
   ],
   "source": [
    "jharkhand_area = area[15:16]\n",
    "jharkhand_area"
   ]
  },
  {
   "cell_type": "code",
   "execution_count": 73,
   "id": "f8756ccc",
   "metadata": {},
   "outputs": [
    {
     "data": {
      "text/plain": [
       "15    79,714\n",
       "Name: Area (km2), dtype: object"
      ]
     },
     "execution_count": 73,
     "metadata": {},
     "output_type": "execute_result"
    }
   ],
   "source": [
    "jharkhand_area = jharkhand_area['Area (km2)']\n",
    "jharkhand_area"
   ]
  },
  {
   "cell_type": "code",
   "execution_count": 74,
   "id": "615293ed",
   "metadata": {},
   "outputs": [
    {
     "data": {
      "image/png": "[encoded data removed]",
      "text/plain": [
       "<Figure size 432x288 with 1 Axes>"
      ]
     },
     "metadata": {
      "needs_background": "light"
     },
     "output_type": "display_data"
    }
   ],
   "source": [
    "plt.scatter(jharkhand_crime,jharkhand_area)\n",
    "\n",
    "plt.xlabel('crime')\n",
    "plt.ylabel('area')\n",
    "\n",
    "plt.show()"
   ]
  },
  {
   "cell_type": "code",
   "execution_count": null,
   "id": "8c3eeba9",
   "metadata": {},
   "outputs": [],
   "source": []
  },
  {
   "cell_type": "code",
   "execution_count": null,
   "id": "aac221a5",
   "metadata": {},
   "outputs": [],
   "source": []
  },
  {
   "cell_type": "code",
   "execution_count": 75,
   "id": "d4579ddc",
   "metadata": {},
   "outputs": [],
   "source": [
    "# for Karnataka"
   ]
  },
  {
   "cell_type": "code",
   "execution_count": 76,
   "id": "5108cd9a",
   "metadata": {},
   "outputs": [
    {
     "data": {
      "text/html": [
       "<div>\n",
       "<style scoped>\n",
       "    .dataframe tbody tr th:only-of-type {\n",
       "        vertical-align: middle;\n",
       "    }\n",
       "\n",
       "    .dataframe tbody tr th {\n",
       "        vertical-align: top;\n",
       "    }\n",
       "\n",
       "    .dataframe thead th {\n",
       "        text-align: right;\n",
       "    }\n",
       "</style>\n",
       "<table border=\"1\" class=\"dataframe\">\n",
       "  <thead>\n",
       "    <tr style=\"text-align: right;\">\n",
       "      <th></th>\n",
       "      <th>STATE/UT</th>\n",
       "      <th>DISTRICT</th>\n",
       "      <th>YEAR</th>\n",
       "      <th>MURDER</th>\n",
       "      <th>ATTEMPT TO MURDER</th>\n",
       "      <th>CULPABLE HOMICIDE NOT AMOUNTING TO MURDER</th>\n",
       "      <th>RAPE</th>\n",
       "      <th>CUSTODIAL RAPE</th>\n",
       "      <th>OTHER RAPE</th>\n",
       "      <th>KIDNAPPING &amp; ABDUCTION</th>\n",
       "      <th>...</th>\n",
       "      <th>ARSON</th>\n",
       "      <th>HURT/GREVIOUS HURT</th>\n",
       "      <th>DOWRY DEATHS</th>\n",
       "      <th>ASSAULT ON WOMEN WITH INTENT TO OUTRAGE HER MODESTY</th>\n",
       "      <th>INSULT TO MODESTY OF WOMEN</th>\n",
       "      <th>CRUELTY BY HUSBAND OR HIS RELATIVES</th>\n",
       "      <th>IMPORTATION OF GIRLS FROM FOREIGN COUNTRIES</th>\n",
       "      <th>CAUSING DEATH BY NEGLIGENCE</th>\n",
       "      <th>OTHER IPC CRIMES</th>\n",
       "      <th>TOTAL IPC CRIMES</th>\n",
       "    </tr>\n",
       "  </thead>\n",
       "  <tbody>\n",
       "    <tr>\n",
       "      <th>8536</th>\n",
       "      <td>KARNATAKA</td>\n",
       "      <td>TOTAL</td>\n",
       "      <td>2012</td>\n",
       "      <td>1860</td>\n",
       "      <td>1923</td>\n",
       "      <td>71</td>\n",
       "      <td>621</td>\n",
       "      <td>0</td>\n",
       "      <td>621</td>\n",
       "      <td>1451</td>\n",
       "      <td>...</td>\n",
       "      <td>416</td>\n",
       "      <td>20350</td>\n",
       "      <td>218</td>\n",
       "      <td>2978</td>\n",
       "      <td>100</td>\n",
       "      <td>3684</td>\n",
       "      <td>32</td>\n",
       "      <td>876</td>\n",
       "      <td>58468</td>\n",
       "      <td>134021</td>\n",
       "    </tr>\n",
       "  </tbody>\n",
       "</table>\n",
       "<p>1 rows × 33 columns</p>\n",
       "</div>"
      ],
      "text/plain": [
       "       STATE/UT DISTRICT  YEAR  MURDER  ATTEMPT TO MURDER  \\\n",
       "8536  KARNATAKA    TOTAL  2012    1860               1923   \n",
       "\n",
       "      CULPABLE HOMICIDE NOT AMOUNTING TO MURDER  RAPE  CUSTODIAL RAPE  \\\n",
       "8536                                         71   621               0   \n",
       "\n",
       "      OTHER RAPE  KIDNAPPING & ABDUCTION  ...  ARSON  HURT/GREVIOUS HURT  \\\n",
       "8536         621                    1451  ...    416               20350   \n",
       "\n",
       "      DOWRY DEATHS  ASSAULT ON WOMEN WITH INTENT TO OUTRAGE HER MODESTY  \\\n",
       "8536           218                                               2978     \n",
       "\n",
       "      INSULT TO MODESTY OF WOMEN  CRUELTY BY HUSBAND OR HIS RELATIVES  \\\n",
       "8536                         100                                 3684   \n",
       "\n",
       "      IMPORTATION OF GIRLS FROM FOREIGN COUNTRIES  \\\n",
       "8536                                           32   \n",
       "\n",
       "      CAUSING DEATH BY NEGLIGENCE  OTHER IPC CRIMES  TOTAL IPC CRIMES  \n",
       "8536                          876             58468            134021  \n",
       "\n",
       "[1 rows x 33 columns]"
      ]
     },
     "execution_count": 76,
     "metadata": {},
     "output_type": "execute_result"
    }
   ],
   "source": [
    "karna_crime = crime_type[8536:8537]\n",
    "karna_crime"
   ]
  },
  {
   "cell_type": "code",
   "execution_count": 77,
   "id": "86ff5086",
   "metadata": {},
   "outputs": [
    {
     "data": {
      "text/plain": [
       "8536    134021\n",
       "Name: TOTAL IPC CRIMES, dtype: int64"
      ]
     },
     "execution_count": 77,
     "metadata": {},
     "output_type": "execute_result"
    }
   ],
   "source": [
    "karna_crime = karna_crime['TOTAL IPC CRIMES']\n",
    "karna_crime"
   ]
  },
  {
   "cell_type": "code",
   "execution_count": 78,
   "id": "b6e57035",
   "metadata": {},
   "outputs": [
    {
     "data": {
      "text/html": [
       "<div>\n",
       "<style scoped>\n",
       "    .dataframe tbody tr th:only-of-type {\n",
       "        vertical-align: middle;\n",
       "    }\n",
       "\n",
       "    .dataframe tbody tr th {\n",
       "        vertical-align: top;\n",
       "    }\n",
       "\n",
       "    .dataframe thead th {\n",
       "        text-align: right;\n",
       "    }\n",
       "</style>\n",
       "<table border=\"1\" class=\"dataframe\">\n",
       "  <thead>\n",
       "    <tr style=\"text-align: right;\">\n",
       "      <th></th>\n",
       "      <th>Rank</th>\n",
       "      <th>State (S) / Union territory (UT)</th>\n",
       "      <th>Area (km2)</th>\n",
       "      <th>Region</th>\n",
       "      <th>National Share (%)</th>\n",
       "      <th>Country of comparable size (land mass)</th>\n",
       "    </tr>\n",
       "  </thead>\n",
       "  <tbody>\n",
       "    <tr>\n",
       "      <th>5</th>\n",
       "      <td>6 (S6)</td>\n",
       "      <td>Karnataka</td>\n",
       "      <td>191,791</td>\n",
       "      <td>Southern</td>\n",
       "      <td>5.83</td>\n",
       "      <td>Syria</td>\n",
       "    </tr>\n",
       "  </tbody>\n",
       "</table>\n",
       "</div>"
      ],
      "text/plain": [
       "     Rank State (S) / Union territory (UT) Area (km2)    Region  \\\n",
       "5  6 (S6)                        Karnataka    191,791  Southern   \n",
       "\n",
       "   National Share (%) Country of comparable size (land mass)  \n",
       "5                5.83                                  Syria  "
      ]
     },
     "execution_count": 78,
     "metadata": {},
     "output_type": "execute_result"
    }
   ],
   "source": [
    "karna_area = area[5:6]\n",
    "karna_area"
   ]
  },
  {
   "cell_type": "code",
   "execution_count": 79,
   "id": "dcc3b273",
   "metadata": {},
   "outputs": [
    {
     "data": {
      "text/plain": [
       "5    191,791\n",
       "Name: Area (km2), dtype: object"
      ]
     },
     "execution_count": 79,
     "metadata": {},
     "output_type": "execute_result"
    }
   ],
   "source": [
    "karna_area = karna_area['Area (km2)']\n",
    "karna_area"
   ]
  },
  {
   "cell_type": "code",
   "execution_count": 80,
   "id": "55ca5eaf",
   "metadata": {},
   "outputs": [
    {
     "data": {
      "image/png": "[encoded data removed]",
      "text/plain": [
       "<Figure size 432x288 with 1 Axes>"
      ]
     },
     "metadata": {
      "needs_background": "light"
     },
     "output_type": "display_data"
    }
   ],
   "source": [
    "plt.scatter(karna_crime,karna_area)\n",
    "\n",
    "plt.xlabel('crime')\n",
    "plt.ylabel('area')\n",
    "\n",
    "plt.show()"
   ]
  },
  {
   "cell_type": "code",
   "execution_count": null,
   "id": "3e9ddead",
   "metadata": {},
   "outputs": [],
   "source": []
  },
  {
   "cell_type": "code",
   "execution_count": null,
   "id": "35f02c09",
   "metadata": {},
   "outputs": [],
   "source": []
  },
  {
   "cell_type": "code",
   "execution_count": 81,
   "id": "1bdcc86d",
   "metadata": {},
   "outputs": [],
   "source": [
    "# for Kerala"
   ]
  },
  {
   "cell_type": "code",
   "execution_count": 82,
   "id": "fc99875e",
   "metadata": {},
   "outputs": [
    {
     "data": {
      "text/html": [
       "<div>\n",
       "<style scoped>\n",
       "    .dataframe tbody tr th:only-of-type {\n",
       "        vertical-align: middle;\n",
       "    }\n",
       "\n",
       "    .dataframe tbody tr th {\n",
       "        vertical-align: top;\n",
       "    }\n",
       "\n",
       "    .dataframe thead th {\n",
       "        text-align: right;\n",
       "    }\n",
       "</style>\n",
       "<table border=\"1\" class=\"dataframe\">\n",
       "  <thead>\n",
       "    <tr style=\"text-align: right;\">\n",
       "      <th></th>\n",
       "      <th>STATE/UT</th>\n",
       "      <th>DISTRICT</th>\n",
       "      <th>YEAR</th>\n",
       "      <th>MURDER</th>\n",
       "      <th>ATTEMPT TO MURDER</th>\n",
       "      <th>CULPABLE HOMICIDE NOT AMOUNTING TO MURDER</th>\n",
       "      <th>RAPE</th>\n",
       "      <th>CUSTODIAL RAPE</th>\n",
       "      <th>OTHER RAPE</th>\n",
       "      <th>KIDNAPPING &amp; ABDUCTION</th>\n",
       "      <th>...</th>\n",
       "      <th>ARSON</th>\n",
       "      <th>HURT/GREVIOUS HURT</th>\n",
       "      <th>DOWRY DEATHS</th>\n",
       "      <th>ASSAULT ON WOMEN WITH INTENT TO OUTRAGE HER MODESTY</th>\n",
       "      <th>INSULT TO MODESTY OF WOMEN</th>\n",
       "      <th>CRUELTY BY HUSBAND OR HIS RELATIVES</th>\n",
       "      <th>IMPORTATION OF GIRLS FROM FOREIGN COUNTRIES</th>\n",
       "      <th>CAUSING DEATH BY NEGLIGENCE</th>\n",
       "      <th>OTHER IPC CRIMES</th>\n",
       "      <th>TOTAL IPC CRIMES</th>\n",
       "    </tr>\n",
       "  </thead>\n",
       "  <tbody>\n",
       "    <tr>\n",
       "      <th>8557</th>\n",
       "      <td>KERALA</td>\n",
       "      <td>TOTAL</td>\n",
       "      <td>2012</td>\n",
       "      <td>374</td>\n",
       "      <td>497</td>\n",
       "      <td>107</td>\n",
       "      <td>1019</td>\n",
       "      <td>0</td>\n",
       "      <td>1019</td>\n",
       "      <td>281</td>\n",
       "      <td>...</td>\n",
       "      <td>568</td>\n",
       "      <td>21170</td>\n",
       "      <td>32</td>\n",
       "      <td>3735</td>\n",
       "      <td>498</td>\n",
       "      <td>5216</td>\n",
       "      <td>0</td>\n",
       "      <td>48</td>\n",
       "      <td>101582</td>\n",
       "      <td>158989</td>\n",
       "    </tr>\n",
       "  </tbody>\n",
       "</table>\n",
       "<p>1 rows × 33 columns</p>\n",
       "</div>"
      ],
      "text/plain": [
       "     STATE/UT DISTRICT  YEAR  MURDER  ATTEMPT TO MURDER  \\\n",
       "8557   KERALA    TOTAL  2012     374                497   \n",
       "\n",
       "      CULPABLE HOMICIDE NOT AMOUNTING TO MURDER  RAPE  CUSTODIAL RAPE  \\\n",
       "8557                                        107  1019               0   \n",
       "\n",
       "      OTHER RAPE  KIDNAPPING & ABDUCTION  ...  ARSON  HURT/GREVIOUS HURT  \\\n",
       "8557        1019                     281  ...    568               21170   \n",
       "\n",
       "      DOWRY DEATHS  ASSAULT ON WOMEN WITH INTENT TO OUTRAGE HER MODESTY  \\\n",
       "8557            32                                               3735     \n",
       "\n",
       "      INSULT TO MODESTY OF WOMEN  CRUELTY BY HUSBAND OR HIS RELATIVES  \\\n",
       "8557                         498                                 5216   \n",
       "\n",
       "      IMPORTATION OF GIRLS FROM FOREIGN COUNTRIES  \\\n",
       "8557                                            0   \n",
       "\n",
       "      CAUSING DEATH BY NEGLIGENCE  OTHER IPC CRIMES  TOTAL IPC CRIMES  \n",
       "8557                           48            101582            158989  \n",
       "\n",
       "[1 rows x 33 columns]"
      ]
     },
     "execution_count": 82,
     "metadata": {},
     "output_type": "execute_result"
    }
   ],
   "source": [
    "kerala_crime = crime_type[8557:8558]\n",
    "kerala_crime"
   ]
  },
  {
   "cell_type": "code",
   "execution_count": 83,
   "id": "784b268b",
   "metadata": {},
   "outputs": [
    {
     "data": {
      "text/plain": [
       "8557    158989\n",
       "Name: TOTAL IPC CRIMES, dtype: int64"
      ]
     },
     "execution_count": 83,
     "metadata": {},
     "output_type": "execute_result"
    }
   ],
   "source": [
    "kerala_crime = kerala_crime['TOTAL IPC CRIMES']\n",
    "kerala_crime"
   ]
  },
  {
   "cell_type": "code",
   "execution_count": 84,
   "id": "65725039",
   "metadata": {},
   "outputs": [
    {
     "data": {
      "text/html": [
       "<div>\n",
       "<style scoped>\n",
       "    .dataframe tbody tr th:only-of-type {\n",
       "        vertical-align: middle;\n",
       "    }\n",
       "\n",
       "    .dataframe tbody tr th {\n",
       "        vertical-align: top;\n",
       "    }\n",
       "\n",
       "    .dataframe thead th {\n",
       "        text-align: right;\n",
       "    }\n",
       "</style>\n",
       "<table border=\"1\" class=\"dataframe\">\n",
       "  <thead>\n",
       "    <tr style=\"text-align: right;\">\n",
       "      <th></th>\n",
       "      <th>Rank</th>\n",
       "      <th>State (S) / Union territory (UT)</th>\n",
       "      <th>Area (km2)</th>\n",
       "      <th>Region</th>\n",
       "      <th>National Share (%)</th>\n",
       "      <th>Country of comparable size (land mass)</th>\n",
       "    </tr>\n",
       "  </thead>\n",
       "  <tbody>\n",
       "    <tr>\n",
       "      <th>22</th>\n",
       "      <td>23 (S21)</td>\n",
       "      <td>Kerala</td>\n",
       "      <td>38,863</td>\n",
       "      <td>Southern</td>\n",
       "      <td>1.18</td>\n",
       "      <td>Bhutan</td>\n",
       "    </tr>\n",
       "  </tbody>\n",
       "</table>\n",
       "</div>"
      ],
      "text/plain": [
       "        Rank State (S) / Union territory (UT) Area (km2)    Region  \\\n",
       "22  23 (S21)                           Kerala     38,863  Southern   \n",
       "\n",
       "    National Share (%) Country of comparable size (land mass)  \n",
       "22                1.18                                 Bhutan  "
      ]
     },
     "execution_count": 84,
     "metadata": {},
     "output_type": "execute_result"
    }
   ],
   "source": [
    "kerala_area = area[22:23]\n",
    "kerala_area"
   ]
  },
  {
   "cell_type": "code",
   "execution_count": 85,
   "id": "8891c885",
   "metadata": {},
   "outputs": [
    {
     "data": {
      "text/plain": [
       "22    38,863\n",
       "Name: Area (km2), dtype: object"
      ]
     },
     "execution_count": 85,
     "metadata": {},
     "output_type": "execute_result"
    }
   ],
   "source": [
    "kerala_area = kerala_area['Area (km2)']\n",
    "kerala_area"
   ]
  },
  {
   "cell_type": "code",
   "execution_count": 86,
   "id": "b2b58fd0",
   "metadata": {},
   "outputs": [
    {
     "data": {
      "image/png": "[encoded data removed]",
      "text/plain": [
       "<Figure size 432x288 with 1 Axes>"
      ]
     },
     "metadata": {
      "needs_background": "light"
     },
     "output_type": "display_data"
    }
   ],
   "source": [
    "plt.scatter(kerala_crime,kerala_area)\n",
    "\n",
    "plt.xlabel('crime')\n",
    "plt.ylabel('area')\n",
    "\n",
    "plt.show()"
   ]
  },
  {
   "cell_type": "code",
   "execution_count": null,
   "id": "4285f9a1",
   "metadata": {},
   "outputs": [],
   "source": []
  },
  {
   "cell_type": "code",
   "execution_count": null,
   "id": "2c27145e",
   "metadata": {},
   "outputs": [],
   "source": []
  },
  {
   "cell_type": "code",
   "execution_count": 87,
   "id": "818d545c",
   "metadata": {},
   "outputs": [],
   "source": [
    "# for Madhya Pradesh"
   ]
  },
  {
   "cell_type": "code",
   "execution_count": 88,
   "id": "72cf24fa",
   "metadata": {},
   "outputs": [
    {
     "data": {
      "text/html": [
       "<div>\n",
       "<style scoped>\n",
       "    .dataframe tbody tr th:only-of-type {\n",
       "        vertical-align: middle;\n",
       "    }\n",
       "\n",
       "    .dataframe tbody tr th {\n",
       "        vertical-align: top;\n",
       "    }\n",
       "\n",
       "    .dataframe thead th {\n",
       "        text-align: right;\n",
       "    }\n",
       "</style>\n",
       "<table border=\"1\" class=\"dataframe\">\n",
       "  <thead>\n",
       "    <tr style=\"text-align: right;\">\n",
       "      <th></th>\n",
       "      <th>STATE/UT</th>\n",
       "      <th>DISTRICT</th>\n",
       "      <th>YEAR</th>\n",
       "      <th>MURDER</th>\n",
       "      <th>ATTEMPT TO MURDER</th>\n",
       "      <th>CULPABLE HOMICIDE NOT AMOUNTING TO MURDER</th>\n",
       "      <th>RAPE</th>\n",
       "      <th>CUSTODIAL RAPE</th>\n",
       "      <th>OTHER RAPE</th>\n",
       "      <th>KIDNAPPING &amp; ABDUCTION</th>\n",
       "      <th>...</th>\n",
       "      <th>ARSON</th>\n",
       "      <th>HURT/GREVIOUS HURT</th>\n",
       "      <th>DOWRY DEATHS</th>\n",
       "      <th>ASSAULT ON WOMEN WITH INTENT TO OUTRAGE HER MODESTY</th>\n",
       "      <th>INSULT TO MODESTY OF WOMEN</th>\n",
       "      <th>CRUELTY BY HUSBAND OR HIS RELATIVES</th>\n",
       "      <th>IMPORTATION OF GIRLS FROM FOREIGN COUNTRIES</th>\n",
       "      <th>CAUSING DEATH BY NEGLIGENCE</th>\n",
       "      <th>OTHER IPC CRIMES</th>\n",
       "      <th>TOTAL IPC CRIMES</th>\n",
       "    </tr>\n",
       "  </thead>\n",
       "  <tbody>\n",
       "    <tr>\n",
       "      <th>8611</th>\n",
       "      <td>MADHYA PRADESH</td>\n",
       "      <td>TOTAL</td>\n",
       "      <td>2012</td>\n",
       "      <td>2373</td>\n",
       "      <td>2332</td>\n",
       "      <td>114</td>\n",
       "      <td>3425</td>\n",
       "      <td>0</td>\n",
       "      <td>3425</td>\n",
       "      <td>1302</td>\n",
       "      <td>...</td>\n",
       "      <td>814</td>\n",
       "      <td>35549</td>\n",
       "      <td>743</td>\n",
       "      <td>6655</td>\n",
       "      <td>774</td>\n",
       "      <td>3988</td>\n",
       "      <td>6</td>\n",
       "      <td>7721</td>\n",
       "      <td>114585</td>\n",
       "      <td>220335</td>\n",
       "    </tr>\n",
       "  </tbody>\n",
       "</table>\n",
       "<p>1 rows × 33 columns</p>\n",
       "</div>"
      ],
      "text/plain": [
       "            STATE/UT DISTRICT  YEAR  MURDER  ATTEMPT TO MURDER  \\\n",
       "8611  MADHYA PRADESH    TOTAL  2012    2373               2332   \n",
       "\n",
       "      CULPABLE HOMICIDE NOT AMOUNTING TO MURDER  RAPE  CUSTODIAL RAPE  \\\n",
       "8611                                        114  3425               0   \n",
       "\n",
       "      OTHER RAPE  KIDNAPPING & ABDUCTION  ...  ARSON  HURT/GREVIOUS HURT  \\\n",
       "8611        3425                    1302  ...    814               35549   \n",
       "\n",
       "      DOWRY DEATHS  ASSAULT ON WOMEN WITH INTENT TO OUTRAGE HER MODESTY  \\\n",
       "8611           743                                               6655     \n",
       "\n",
       "      INSULT TO MODESTY OF WOMEN  CRUELTY BY HUSBAND OR HIS RELATIVES  \\\n",
       "8611                         774                                 3988   \n",
       "\n",
       "      IMPORTATION OF GIRLS FROM FOREIGN COUNTRIES  \\\n",
       "8611                                            6   \n",
       "\n",
       "      CAUSING DEATH BY NEGLIGENCE  OTHER IPC CRIMES  TOTAL IPC CRIMES  \n",
       "8611                         7721            114585            220335  \n",
       "\n",
       "[1 rows x 33 columns]"
      ]
     },
     "execution_count": 88,
     "metadata": {},
     "output_type": "execute_result"
    }
   ],
   "source": [
    "mp_crime = crime_type[8611:8612]\n",
    "mp_crime"
   ]
  },
  {
   "cell_type": "code",
   "execution_count": 89,
   "id": "2e6e2bad",
   "metadata": {},
   "outputs": [
    {
     "data": {
      "text/plain": [
       "8611    220335\n",
       "Name: TOTAL IPC CRIMES, dtype: int64"
      ]
     },
     "execution_count": 89,
     "metadata": {},
     "output_type": "execute_result"
    }
   ],
   "source": [
    "mp_crime = mp_crime['TOTAL IPC CRIMES']\n",
    "mp_crime"
   ]
  },
  {
   "cell_type": "code",
   "execution_count": 90,
   "id": "096c52a0",
   "metadata": {},
   "outputs": [
    {
     "data": {
      "text/html": [
       "<div>\n",
       "<style scoped>\n",
       "    .dataframe tbody tr th:only-of-type {\n",
       "        vertical-align: middle;\n",
       "    }\n",
       "\n",
       "    .dataframe tbody tr th {\n",
       "        vertical-align: top;\n",
       "    }\n",
       "\n",
       "    .dataframe thead th {\n",
       "        text-align: right;\n",
       "    }\n",
       "</style>\n",
       "<table border=\"1\" class=\"dataframe\">\n",
       "  <thead>\n",
       "    <tr style=\"text-align: right;\">\n",
       "      <th></th>\n",
       "      <th>Rank</th>\n",
       "      <th>State (S) / Union territory (UT)</th>\n",
       "      <th>Area (km2)</th>\n",
       "      <th>Region</th>\n",
       "      <th>National Share (%)</th>\n",
       "      <th>Country of comparable size (land mass)</th>\n",
       "    </tr>\n",
       "  </thead>\n",
       "  <tbody>\n",
       "    <tr>\n",
       "      <th>1</th>\n",
       "      <td>2 (S2)</td>\n",
       "      <td>Madhya Pradesh</td>\n",
       "      <td>308,252</td>\n",
       "      <td>Central</td>\n",
       "      <td>9.37</td>\n",
       "      <td>Oman</td>\n",
       "    </tr>\n",
       "  </tbody>\n",
       "</table>\n",
       "</div>"
      ],
      "text/plain": [
       "     Rank State (S) / Union territory (UT) Area (km2)   Region  \\\n",
       "1  2 (S2)                   Madhya Pradesh    308,252  Central   \n",
       "\n",
       "   National Share (%) Country of comparable size (land mass)  \n",
       "1                9.37                                   Oman  "
      ]
     },
     "execution_count": 90,
     "metadata": {},
     "output_type": "execute_result"
    }
   ],
   "source": [
    "mp_area = area[1:2]\n",
    "mp_area"
   ]
  },
  {
   "cell_type": "code",
   "execution_count": 91,
   "id": "191d649c",
   "metadata": {},
   "outputs": [
    {
     "data": {
      "text/plain": [
       "1    308,252\n",
       "Name: Area (km2), dtype: object"
      ]
     },
     "execution_count": 91,
     "metadata": {},
     "output_type": "execute_result"
    }
   ],
   "source": [
    "mp_area = mp_area['Area (km2)']\n",
    "mp_area"
   ]
  },
  {
   "cell_type": "code",
   "execution_count": 92,
   "id": "26adcfff",
   "metadata": {},
   "outputs": [
    {
     "data": {
      "image/png": "[encoded data removed]",
      "text/plain": [
       "<Figure size 432x288 with 1 Axes>"
      ]
     },
     "metadata": {
      "needs_background": "light"
     },
     "output_type": "display_data"
    }
   ],
   "source": [
    "plt.scatter(mp_crime,mp_area)\n",
    "\n",
    "plt.xlabel('crime')\n",
    "plt.ylabel('area')\n",
    "\n",
    "plt.show()"
   ]
  },
  {
   "cell_type": "code",
   "execution_count": null,
   "id": "8308badb",
   "metadata": {},
   "outputs": [],
   "source": []
  },
  {
   "cell_type": "code",
   "execution_count": null,
   "id": "4c388d93",
   "metadata": {},
   "outputs": [],
   "source": []
  },
  {
   "cell_type": "code",
   "execution_count": 93,
   "id": "eb7d8b69",
   "metadata": {},
   "outputs": [],
   "source": [
    "# for Maharashtra"
   ]
  },
  {
   "cell_type": "code",
   "execution_count": 94,
   "id": "30e0fe89",
   "metadata": {},
   "outputs": [
    {
     "data": {
      "text/html": [
       "<div>\n",
       "<style scoped>\n",
       "    .dataframe tbody tr th:only-of-type {\n",
       "        vertical-align: middle;\n",
       "    }\n",
       "\n",
       "    .dataframe tbody tr th {\n",
       "        vertical-align: top;\n",
       "    }\n",
       "\n",
       "    .dataframe thead th {\n",
       "        text-align: right;\n",
       "    }\n",
       "</style>\n",
       "<table border=\"1\" class=\"dataframe\">\n",
       "  <thead>\n",
       "    <tr style=\"text-align: right;\">\n",
       "      <th></th>\n",
       "      <th>STATE/UT</th>\n",
       "      <th>DISTRICT</th>\n",
       "      <th>YEAR</th>\n",
       "      <th>MURDER</th>\n",
       "      <th>ATTEMPT TO MURDER</th>\n",
       "      <th>CULPABLE HOMICIDE NOT AMOUNTING TO MURDER</th>\n",
       "      <th>RAPE</th>\n",
       "      <th>CUSTODIAL RAPE</th>\n",
       "      <th>OTHER RAPE</th>\n",
       "      <th>KIDNAPPING &amp; ABDUCTION</th>\n",
       "      <th>...</th>\n",
       "      <th>ARSON</th>\n",
       "      <th>HURT/GREVIOUS HURT</th>\n",
       "      <th>DOWRY DEATHS</th>\n",
       "      <th>ASSAULT ON WOMEN WITH INTENT TO OUTRAGE HER MODESTY</th>\n",
       "      <th>INSULT TO MODESTY OF WOMEN</th>\n",
       "      <th>CRUELTY BY HUSBAND OR HIS RELATIVES</th>\n",
       "      <th>IMPORTATION OF GIRLS FROM FOREIGN COUNTRIES</th>\n",
       "      <th>CAUSING DEATH BY NEGLIGENCE</th>\n",
       "      <th>OTHER IPC CRIMES</th>\n",
       "      <th>TOTAL IPC CRIMES</th>\n",
       "    </tr>\n",
       "  </thead>\n",
       "  <tbody>\n",
       "    <tr>\n",
       "      <th>8657</th>\n",
       "      <td>MAHARASHTRA</td>\n",
       "      <td>TOTAL</td>\n",
       "      <td>2012</td>\n",
       "      <td>2712</td>\n",
       "      <td>2168</td>\n",
       "      <td>171</td>\n",
       "      <td>1839</td>\n",
       "      <td>0</td>\n",
       "      <td>1839</td>\n",
       "      <td>1583</td>\n",
       "      <td>...</td>\n",
       "      <td>1246</td>\n",
       "      <td>28392</td>\n",
       "      <td>329</td>\n",
       "      <td>3935</td>\n",
       "      <td>1294</td>\n",
       "      <td>7415</td>\n",
       "      <td>0</td>\n",
       "      <td>13311</td>\n",
       "      <td>46668</td>\n",
       "      <td>202700</td>\n",
       "    </tr>\n",
       "  </tbody>\n",
       "</table>\n",
       "<p>1 rows × 33 columns</p>\n",
       "</div>"
      ],
      "text/plain": [
       "         STATE/UT DISTRICT  YEAR  MURDER  ATTEMPT TO MURDER  \\\n",
       "8657  MAHARASHTRA    TOTAL  2012    2712               2168   \n",
       "\n",
       "      CULPABLE HOMICIDE NOT AMOUNTING TO MURDER  RAPE  CUSTODIAL RAPE  \\\n",
       "8657                                        171  1839               0   \n",
       "\n",
       "      OTHER RAPE  KIDNAPPING & ABDUCTION  ...  ARSON  HURT/GREVIOUS HURT  \\\n",
       "8657        1839                    1583  ...   1246               28392   \n",
       "\n",
       "      DOWRY DEATHS  ASSAULT ON WOMEN WITH INTENT TO OUTRAGE HER MODESTY  \\\n",
       "8657           329                                               3935     \n",
       "\n",
       "      INSULT TO MODESTY OF WOMEN  CRUELTY BY HUSBAND OR HIS RELATIVES  \\\n",
       "8657                        1294                                 7415   \n",
       "\n",
       "      IMPORTATION OF GIRLS FROM FOREIGN COUNTRIES  \\\n",
       "8657                                            0   \n",
       "\n",
       "      CAUSING DEATH BY NEGLIGENCE  OTHER IPC CRIMES  TOTAL IPC CRIMES  \n",
       "8657                        13311             46668            202700  \n",
       "\n",
       "[1 rows x 33 columns]"
      ]
     },
     "execution_count": 94,
     "metadata": {},
     "output_type": "execute_result"
    }
   ],
   "source": [
    "mh_crime = crime_type[8657:8658]\n",
    "mh_crime"
   ]
  },
  {
   "cell_type": "code",
   "execution_count": 95,
   "id": "a5cdc074",
   "metadata": {},
   "outputs": [
    {
     "data": {
      "text/plain": [
       "8657    202700\n",
       "Name: TOTAL IPC CRIMES, dtype: int64"
      ]
     },
     "execution_count": 95,
     "metadata": {},
     "output_type": "execute_result"
    }
   ],
   "source": [
    "mh_crime = mh_crime['TOTAL IPC CRIMES']\n",
    "mh_crime"
   ]
  },
  {
   "cell_type": "code",
   "execution_count": 96,
   "id": "68fb236f",
   "metadata": {},
   "outputs": [
    {
     "data": {
      "text/html": [
       "<div>\n",
       "<style scoped>\n",
       "    .dataframe tbody tr th:only-of-type {\n",
       "        vertical-align: middle;\n",
       "    }\n",
       "\n",
       "    .dataframe tbody tr th {\n",
       "        vertical-align: top;\n",
       "    }\n",
       "\n",
       "    .dataframe thead th {\n",
       "        text-align: right;\n",
       "    }\n",
       "</style>\n",
       "<table border=\"1\" class=\"dataframe\">\n",
       "  <thead>\n",
       "    <tr style=\"text-align: right;\">\n",
       "      <th></th>\n",
       "      <th>Rank</th>\n",
       "      <th>State (S) / Union territory (UT)</th>\n",
       "      <th>Area (km2)</th>\n",
       "      <th>Region</th>\n",
       "      <th>National Share (%)</th>\n",
       "      <th>Country of comparable size (land mass)</th>\n",
       "    </tr>\n",
       "  </thead>\n",
       "  <tbody>\n",
       "    <tr>\n",
       "      <th>2</th>\n",
       "      <td>3 (S3)</td>\n",
       "      <td>Maharashtra</td>\n",
       "      <td>307,713</td>\n",
       "      <td>Western</td>\n",
       "      <td>9.36</td>\n",
       "      <td>Italy</td>\n",
       "    </tr>\n",
       "  </tbody>\n",
       "</table>\n",
       "</div>"
      ],
      "text/plain": [
       "     Rank State (S) / Union territory (UT) Area (km2)   Region  \\\n",
       "2  3 (S3)                      Maharashtra    307,713  Western   \n",
       "\n",
       "   National Share (%) Country of comparable size (land mass)  \n",
       "2                9.36                                  Italy  "
      ]
     },
     "execution_count": 96,
     "metadata": {},
     "output_type": "execute_result"
    }
   ],
   "source": [
    "mh_area = area[2:3]\n",
    "mh_area"
   ]
  },
  {
   "cell_type": "code",
   "execution_count": 97,
   "id": "aad3b889",
   "metadata": {},
   "outputs": [
    {
     "data": {
      "text/plain": [
       "2    307,713\n",
       "Name: Area (km2), dtype: object"
      ]
     },
     "execution_count": 97,
     "metadata": {},
     "output_type": "execute_result"
    }
   ],
   "source": [
    "mh_area = mh_area['Area (km2)']\n",
    "mh_area"
   ]
  },
  {
   "cell_type": "code",
   "execution_count": 98,
   "id": "6973fef3",
   "metadata": {},
   "outputs": [
    {
     "data": {
      "image/png": "[encoded data removed]",
      "text/plain": [
       "<Figure size 432x288 with 1 Axes>"
      ]
     },
     "metadata": {
      "needs_background": "light"
     },
     "output_type": "display_data"
    }
   ],
   "source": [
    "plt.scatter(mh_crime,mh_area)\n",
    "\n",
    "plt.xlabel('crime')\n",
    "plt.ylabel('area')\n",
    "\n",
    "plt.show()"
   ]
  },
  {
   "cell_type": "code",
   "execution_count": null,
   "id": "b838d608",
   "metadata": {},
   "outputs": [],
   "source": []
  },
  {
   "cell_type": "code",
   "execution_count": null,
   "id": "3bf160fc",
   "metadata": {},
   "outputs": [],
   "source": []
  },
  {
   "cell_type": "code",
   "execution_count": 99,
   "id": "e87c84f5",
   "metadata": {},
   "outputs": [],
   "source": [
    "# for Manipur"
   ]
  },
  {
   "cell_type": "code",
   "execution_count": 100,
   "id": "4649b94e",
   "metadata": {},
   "outputs": [
    {
     "data": {
      "text/html": [
       "<div>\n",
       "<style scoped>\n",
       "    .dataframe tbody tr th:only-of-type {\n",
       "        vertical-align: middle;\n",
       "    }\n",
       "\n",
       "    .dataframe tbody tr th {\n",
       "        vertical-align: top;\n",
       "    }\n",
       "\n",
       "    .dataframe thead th {\n",
       "        text-align: right;\n",
       "    }\n",
       "</style>\n",
       "<table border=\"1\" class=\"dataframe\">\n",
       "  <thead>\n",
       "    <tr style=\"text-align: right;\">\n",
       "      <th></th>\n",
       "      <th>STATE/UT</th>\n",
       "      <th>DISTRICT</th>\n",
       "      <th>YEAR</th>\n",
       "      <th>MURDER</th>\n",
       "      <th>ATTEMPT TO MURDER</th>\n",
       "      <th>CULPABLE HOMICIDE NOT AMOUNTING TO MURDER</th>\n",
       "      <th>RAPE</th>\n",
       "      <th>CUSTODIAL RAPE</th>\n",
       "      <th>OTHER RAPE</th>\n",
       "      <th>KIDNAPPING &amp; ABDUCTION</th>\n",
       "      <th>...</th>\n",
       "      <th>ARSON</th>\n",
       "      <th>HURT/GREVIOUS HURT</th>\n",
       "      <th>DOWRY DEATHS</th>\n",
       "      <th>ASSAULT ON WOMEN WITH INTENT TO OUTRAGE HER MODESTY</th>\n",
       "      <th>INSULT TO MODESTY OF WOMEN</th>\n",
       "      <th>CRUELTY BY HUSBAND OR HIS RELATIVES</th>\n",
       "      <th>IMPORTATION OF GIRLS FROM FOREIGN COUNTRIES</th>\n",
       "      <th>CAUSING DEATH BY NEGLIGENCE</th>\n",
       "      <th>OTHER IPC CRIMES</th>\n",
       "      <th>TOTAL IPC CRIMES</th>\n",
       "    </tr>\n",
       "  </thead>\n",
       "  <tbody>\n",
       "    <tr>\n",
       "      <th>8668</th>\n",
       "      <td>MANIPUR</td>\n",
       "      <td>TOTAL</td>\n",
       "      <td>2012</td>\n",
       "      <td>83</td>\n",
       "      <td>409</td>\n",
       "      <td>4</td>\n",
       "      <td>63</td>\n",
       "      <td>0</td>\n",
       "      <td>63</td>\n",
       "      <td>223</td>\n",
       "      <td>...</td>\n",
       "      <td>74</td>\n",
       "      <td>285</td>\n",
       "      <td>0</td>\n",
       "      <td>49</td>\n",
       "      <td>1</td>\n",
       "      <td>43</td>\n",
       "      <td>0</td>\n",
       "      <td>2</td>\n",
       "      <td>1086</td>\n",
       "      <td>3737</td>\n",
       "    </tr>\n",
       "  </tbody>\n",
       "</table>\n",
       "<p>1 rows × 33 columns</p>\n",
       "</div>"
      ],
      "text/plain": [
       "     STATE/UT DISTRICT  YEAR  MURDER  ATTEMPT TO MURDER  \\\n",
       "8668  MANIPUR    TOTAL  2012      83                409   \n",
       "\n",
       "      CULPABLE HOMICIDE NOT AMOUNTING TO MURDER  RAPE  CUSTODIAL RAPE  \\\n",
       "8668                                          4    63               0   \n",
       "\n",
       "      OTHER RAPE  KIDNAPPING & ABDUCTION  ...  ARSON  HURT/GREVIOUS HURT  \\\n",
       "8668          63                     223  ...     74                 285   \n",
       "\n",
       "      DOWRY DEATHS  ASSAULT ON WOMEN WITH INTENT TO OUTRAGE HER MODESTY  \\\n",
       "8668             0                                                 49     \n",
       "\n",
       "      INSULT TO MODESTY OF WOMEN  CRUELTY BY HUSBAND OR HIS RELATIVES  \\\n",
       "8668                           1                                   43   \n",
       "\n",
       "      IMPORTATION OF GIRLS FROM FOREIGN COUNTRIES  \\\n",
       "8668                                            0   \n",
       "\n",
       "      CAUSING DEATH BY NEGLIGENCE  OTHER IPC CRIMES  TOTAL IPC CRIMES  \n",
       "8668                            2              1086              3737  \n",
       "\n",
       "[1 rows x 33 columns]"
      ]
     },
     "execution_count": 100,
     "metadata": {},
     "output_type": "execute_result"
    }
   ],
   "source": [
    "manipur_crime = crime_type[8668:8669]\n",
    "manipur_crime"
   ]
  },
  {
   "cell_type": "code",
   "execution_count": 101,
   "id": "3a04de05",
   "metadata": {},
   "outputs": [
    {
     "data": {
      "text/plain": [
       "8668    3737\n",
       "Name: TOTAL IPC CRIMES, dtype: int64"
      ]
     },
     "execution_count": 101,
     "metadata": {},
     "output_type": "execute_result"
    }
   ],
   "source": [
    "manipur_crime = manipur_crime['TOTAL IPC CRIMES']\n",
    "manipur_crime"
   ]
  },
  {
   "cell_type": "code",
   "execution_count": 102,
   "id": "7d2cc315",
   "metadata": {},
   "outputs": [
    {
     "data": {
      "text/html": [
       "<div>\n",
       "<style scoped>\n",
       "    .dataframe tbody tr th:only-of-type {\n",
       "        vertical-align: middle;\n",
       "    }\n",
       "\n",
       "    .dataframe tbody tr th {\n",
       "        vertical-align: top;\n",
       "    }\n",
       "\n",
       "    .dataframe thead th {\n",
       "        text-align: right;\n",
       "    }\n",
       "</style>\n",
       "<table border=\"1\" class=\"dataframe\">\n",
       "  <thead>\n",
       "    <tr style=\"text-align: right;\">\n",
       "      <th></th>\n",
       "      <th>Rank</th>\n",
       "      <th>State (S) / Union territory (UT)</th>\n",
       "      <th>Area (km2)</th>\n",
       "      <th>Region</th>\n",
       "      <th>National Share (%)</th>\n",
       "      <th>Country of comparable size (land mass)</th>\n",
       "    </tr>\n",
       "  </thead>\n",
       "  <tbody>\n",
       "    <tr>\n",
       "      <th>24</th>\n",
       "      <td>25 (S23)</td>\n",
       "      <td>Manipur</td>\n",
       "      <td>22,327</td>\n",
       "      <td>Northeastern</td>\n",
       "      <td>0.68</td>\n",
       "      <td>Slovenia</td>\n",
       "    </tr>\n",
       "  </tbody>\n",
       "</table>\n",
       "</div>"
      ],
      "text/plain": [
       "        Rank State (S) / Union territory (UT) Area (km2)        Region  \\\n",
       "24  25 (S23)                          Manipur     22,327  Northeastern   \n",
       "\n",
       "    National Share (%) Country of comparable size (land mass)  \n",
       "24                0.68                               Slovenia  "
      ]
     },
     "execution_count": 102,
     "metadata": {},
     "output_type": "execute_result"
    }
   ],
   "source": [
    "manipur_area = area[24:25]\n",
    "manipur_area"
   ]
  },
  {
   "cell_type": "code",
   "execution_count": 103,
   "id": "5638c048",
   "metadata": {},
   "outputs": [
    {
     "data": {
      "text/plain": [
       "24    22,327\n",
       "Name: Area (km2), dtype: object"
      ]
     },
     "execution_count": 103,
     "metadata": {},
     "output_type": "execute_result"
    }
   ],
   "source": [
    "manipur_area = manipur_area['Area (km2)']\n",
    "manipur_area"
   ]
  },
  {
   "cell_type": "code",
   "execution_count": 104,
   "id": "e6255614",
   "metadata": {},
   "outputs": [
    {
     "data": {
      "image/png": "[encoded data removed]",
      "text/plain": [
       "<Figure size 432x288 with 1 Axes>"
      ]
     },
     "metadata": {
      "needs_background": "light"
     },
     "output_type": "display_data"
    }
   ],
   "source": [
    "plt.scatter(manipur_crime,manipur_area)\n",
    "\n",
    "plt.xlabel('crime')\n",
    "plt.ylabel('area')\n",
    "\n",
    "plt.show()"
   ]
  },
  {
   "cell_type": "code",
   "execution_count": null,
   "id": "6105ed9b",
   "metadata": {},
   "outputs": [],
   "source": []
  },
  {
   "cell_type": "code",
   "execution_count": null,
   "id": "fa4af6fe",
   "metadata": {},
   "outputs": [],
   "source": []
  },
  {
   "cell_type": "code",
   "execution_count": 105,
   "id": "737c963e",
   "metadata": {},
   "outputs": [],
   "source": [
    "# for Meghalaya"
   ]
  },
  {
   "cell_type": "code",
   "execution_count": 106,
   "id": "221ea36c",
   "metadata": {},
   "outputs": [
    {
     "data": {
      "text/html": [
       "<div>\n",
       "<style scoped>\n",
       "    .dataframe tbody tr th:only-of-type {\n",
       "        vertical-align: middle;\n",
       "    }\n",
       "\n",
       "    .dataframe tbody tr th {\n",
       "        vertical-align: top;\n",
       "    }\n",
       "\n",
       "    .dataframe thead th {\n",
       "        text-align: right;\n",
       "    }\n",
       "</style>\n",
       "<table border=\"1\" class=\"dataframe\">\n",
       "  <thead>\n",
       "    <tr style=\"text-align: right;\">\n",
       "      <th></th>\n",
       "      <th>STATE/UT</th>\n",
       "      <th>DISTRICT</th>\n",
       "      <th>YEAR</th>\n",
       "      <th>MURDER</th>\n",
       "      <th>ATTEMPT TO MURDER</th>\n",
       "      <th>CULPABLE HOMICIDE NOT AMOUNTING TO MURDER</th>\n",
       "      <th>RAPE</th>\n",
       "      <th>CUSTODIAL RAPE</th>\n",
       "      <th>OTHER RAPE</th>\n",
       "      <th>KIDNAPPING &amp; ABDUCTION</th>\n",
       "      <th>...</th>\n",
       "      <th>ARSON</th>\n",
       "      <th>HURT/GREVIOUS HURT</th>\n",
       "      <th>DOWRY DEATHS</th>\n",
       "      <th>ASSAULT ON WOMEN WITH INTENT TO OUTRAGE HER MODESTY</th>\n",
       "      <th>INSULT TO MODESTY OF WOMEN</th>\n",
       "      <th>CRUELTY BY HUSBAND OR HIS RELATIVES</th>\n",
       "      <th>IMPORTATION OF GIRLS FROM FOREIGN COUNTRIES</th>\n",
       "      <th>CAUSING DEATH BY NEGLIGENCE</th>\n",
       "      <th>OTHER IPC CRIMES</th>\n",
       "      <th>TOTAL IPC CRIMES</th>\n",
       "    </tr>\n",
       "  </thead>\n",
       "  <tbody>\n",
       "    <tr>\n",
       "      <th>8676</th>\n",
       "      <td>MEGHALAYA</td>\n",
       "      <td>TOTAL</td>\n",
       "      <td>2012</td>\n",
       "      <td>137</td>\n",
       "      <td>63</td>\n",
       "      <td>8</td>\n",
       "      <td>164</td>\n",
       "      <td>0</td>\n",
       "      <td>164</td>\n",
       "      <td>92</td>\n",
       "      <td>...</td>\n",
       "      <td>61</td>\n",
       "      <td>157</td>\n",
       "      <td>1</td>\n",
       "      <td>43</td>\n",
       "      <td>0</td>\n",
       "      <td>16</td>\n",
       "      <td>0</td>\n",
       "      <td>102</td>\n",
       "      <td>761</td>\n",
       "      <td>2557</td>\n",
       "    </tr>\n",
       "  </tbody>\n",
       "</table>\n",
       "<p>1 rows × 33 columns</p>\n",
       "</div>"
      ],
      "text/plain": [
       "       STATE/UT DISTRICT  YEAR  MURDER  ATTEMPT TO MURDER  \\\n",
       "8676  MEGHALAYA    TOTAL  2012     137                 63   \n",
       "\n",
       "      CULPABLE HOMICIDE NOT AMOUNTING TO MURDER  RAPE  CUSTODIAL RAPE  \\\n",
       "8676                                          8   164               0   \n",
       "\n",
       "      OTHER RAPE  KIDNAPPING & ABDUCTION  ...  ARSON  HURT/GREVIOUS HURT  \\\n",
       "8676         164                      92  ...     61                 157   \n",
       "\n",
       "      DOWRY DEATHS  ASSAULT ON WOMEN WITH INTENT TO OUTRAGE HER MODESTY  \\\n",
       "8676             1                                                 43     \n",
       "\n",
       "      INSULT TO MODESTY OF WOMEN  CRUELTY BY HUSBAND OR HIS RELATIVES  \\\n",
       "8676                           0                                   16   \n",
       "\n",
       "      IMPORTATION OF GIRLS FROM FOREIGN COUNTRIES  \\\n",
       "8676                                            0   \n",
       "\n",
       "      CAUSING DEATH BY NEGLIGENCE  OTHER IPC CRIMES  TOTAL IPC CRIMES  \n",
       "8676                          102               761              2557  \n",
       "\n",
       "[1 rows x 33 columns]"
      ]
     },
     "execution_count": 106,
     "metadata": {},
     "output_type": "execute_result"
    }
   ],
   "source": [
    "meghalya_crime = crime_type[8676:8677]\n",
    "meghalya_crime"
   ]
  },
  {
   "cell_type": "code",
   "execution_count": 107,
   "id": "945f8698",
   "metadata": {},
   "outputs": [
    {
     "data": {
      "text/plain": [
       "8676    2557\n",
       "Name: TOTAL IPC CRIMES, dtype: int64"
      ]
     },
     "execution_count": 107,
     "metadata": {},
     "output_type": "execute_result"
    }
   ],
   "source": [
    "meghalya_crime = meghalya_crime['TOTAL IPC CRIMES']\n",
    "meghalya_crime"
   ]
  },
  {
   "cell_type": "code",
   "execution_count": 108,
   "id": "98aafed6",
   "metadata": {},
   "outputs": [
    {
     "data": {
      "text/html": [
       "<div>\n",
       "<style scoped>\n",
       "    .dataframe tbody tr th:only-of-type {\n",
       "        vertical-align: middle;\n",
       "    }\n",
       "\n",
       "    .dataframe tbody tr th {\n",
       "        vertical-align: top;\n",
       "    }\n",
       "\n",
       "    .dataframe thead th {\n",
       "        text-align: right;\n",
       "    }\n",
       "</style>\n",
       "<table border=\"1\" class=\"dataframe\">\n",
       "  <thead>\n",
       "    <tr style=\"text-align: right;\">\n",
       "      <th></th>\n",
       "      <th>Rank</th>\n",
       "      <th>State (S) / Union territory (UT)</th>\n",
       "      <th>Area (km2)</th>\n",
       "      <th>Region</th>\n",
       "      <th>National Share (%)</th>\n",
       "      <th>Country of comparable size (land mass)</th>\n",
       "    </tr>\n",
       "  </thead>\n",
       "  <tbody>\n",
       "    <tr>\n",
       "      <th>23</th>\n",
       "      <td>24 (S22)</td>\n",
       "      <td>Meghalaya</td>\n",
       "      <td>22,429</td>\n",
       "      <td>Northeastern</td>\n",
       "      <td>0.68</td>\n",
       "      <td>Belize</td>\n",
       "    </tr>\n",
       "  </tbody>\n",
       "</table>\n",
       "</div>"
      ],
      "text/plain": [
       "        Rank State (S) / Union territory (UT) Area (km2)        Region  \\\n",
       "23  24 (S22)                        Meghalaya     22,429  Northeastern   \n",
       "\n",
       "    National Share (%) Country of comparable size (land mass)  \n",
       "23                0.68                                 Belize  "
      ]
     },
     "execution_count": 108,
     "metadata": {},
     "output_type": "execute_result"
    }
   ],
   "source": [
    "meghalya_area = area[23:24]\n",
    "meghalya_area"
   ]
  },
  {
   "cell_type": "code",
   "execution_count": 109,
   "id": "1821f7fe",
   "metadata": {},
   "outputs": [
    {
     "data": {
      "text/plain": [
       "23    22,429\n",
       "Name: Area (km2), dtype: object"
      ]
     },
     "execution_count": 109,
     "metadata": {},
     "output_type": "execute_result"
    }
   ],
   "source": [
    "meghalya_area = meghalya_area['Area (km2)']\n",
    "meghalya_area"
   ]
  },
  {
   "cell_type": "code",
   "execution_count": 110,
   "id": "e586c3ed",
   "metadata": {},
   "outputs": [
    {
     "data": {
      "image/png": "[encoded data removed]",
      "text/plain": [
       "<Figure size 432x288 with 1 Axes>"
      ]
     },
     "metadata": {
      "needs_background": "light"
     },
     "output_type": "display_data"
    }
   ],
   "source": [
    "plt.scatter(meghalya_crime,meghalya_area)\n",
    "\n",
    "plt.xlabel('crime')\n",
    "plt.ylabel('area')\n",
    "\n",
    "plt.show()"
   ]
  },
  {
   "cell_type": "code",
   "execution_count": null,
   "id": "f34c4742",
   "metadata": {},
   "outputs": [],
   "source": []
  },
  {
   "cell_type": "code",
   "execution_count": null,
   "id": "91f58a0b",
   "metadata": {},
   "outputs": [],
   "source": []
  },
  {
   "cell_type": "code",
   "execution_count": 111,
   "id": "7f7f674c",
   "metadata": {},
   "outputs": [],
   "source": [
    "# for Mizoram"
   ]
  },
  {
   "cell_type": "code",
   "execution_count": 112,
   "id": "facb480f",
   "metadata": {},
   "outputs": [
    {
     "data": {
      "text/html": [
       "<div>\n",
       "<style scoped>\n",
       "    .dataframe tbody tr th:only-of-type {\n",
       "        vertical-align: middle;\n",
       "    }\n",
       "\n",
       "    .dataframe tbody tr th {\n",
       "        vertical-align: top;\n",
       "    }\n",
       "\n",
       "    .dataframe thead th {\n",
       "        text-align: right;\n",
       "    }\n",
       "</style>\n",
       "<table border=\"1\" class=\"dataframe\">\n",
       "  <thead>\n",
       "    <tr style=\"text-align: right;\">\n",
       "      <th></th>\n",
       "      <th>STATE/UT</th>\n",
       "      <th>DISTRICT</th>\n",
       "      <th>YEAR</th>\n",
       "      <th>MURDER</th>\n",
       "      <th>ATTEMPT TO MURDER</th>\n",
       "      <th>CULPABLE HOMICIDE NOT AMOUNTING TO MURDER</th>\n",
       "      <th>RAPE</th>\n",
       "      <th>CUSTODIAL RAPE</th>\n",
       "      <th>OTHER RAPE</th>\n",
       "      <th>KIDNAPPING &amp; ABDUCTION</th>\n",
       "      <th>...</th>\n",
       "      <th>ARSON</th>\n",
       "      <th>HURT/GREVIOUS HURT</th>\n",
       "      <th>DOWRY DEATHS</th>\n",
       "      <th>ASSAULT ON WOMEN WITH INTENT TO OUTRAGE HER MODESTY</th>\n",
       "      <th>INSULT TO MODESTY OF WOMEN</th>\n",
       "      <th>CRUELTY BY HUSBAND OR HIS RELATIVES</th>\n",
       "      <th>IMPORTATION OF GIRLS FROM FOREIGN COUNTRIES</th>\n",
       "      <th>CAUSING DEATH BY NEGLIGENCE</th>\n",
       "      <th>OTHER IPC CRIMES</th>\n",
       "      <th>TOTAL IPC CRIMES</th>\n",
       "    </tr>\n",
       "  </thead>\n",
       "  <tbody>\n",
       "    <tr>\n",
       "      <th>8685</th>\n",
       "      <td>MIZORAM</td>\n",
       "      <td>TOTAL</td>\n",
       "      <td>2012</td>\n",
       "      <td>30</td>\n",
       "      <td>21</td>\n",
       "      <td>7</td>\n",
       "      <td>103</td>\n",
       "      <td>0</td>\n",
       "      <td>103</td>\n",
       "      <td>8</td>\n",
       "      <td>...</td>\n",
       "      <td>12</td>\n",
       "      <td>103</td>\n",
       "      <td>0</td>\n",
       "      <td>85</td>\n",
       "      <td>0</td>\n",
       "      <td>8</td>\n",
       "      <td>0</td>\n",
       "      <td>34</td>\n",
       "      <td>336</td>\n",
       "      <td>1766</td>\n",
       "    </tr>\n",
       "  </tbody>\n",
       "</table>\n",
       "<p>1 rows × 33 columns</p>\n",
       "</div>"
      ],
      "text/plain": [
       "     STATE/UT DISTRICT  YEAR  MURDER  ATTEMPT TO MURDER  \\\n",
       "8685  MIZORAM    TOTAL  2012      30                 21   \n",
       "\n",
       "      CULPABLE HOMICIDE NOT AMOUNTING TO MURDER  RAPE  CUSTODIAL RAPE  \\\n",
       "8685                                          7   103               0   \n",
       "\n",
       "      OTHER RAPE  KIDNAPPING & ABDUCTION  ...  ARSON  HURT/GREVIOUS HURT  \\\n",
       "8685         103                       8  ...     12                 103   \n",
       "\n",
       "      DOWRY DEATHS  ASSAULT ON WOMEN WITH INTENT TO OUTRAGE HER MODESTY  \\\n",
       "8685             0                                                 85     \n",
       "\n",
       "      INSULT TO MODESTY OF WOMEN  CRUELTY BY HUSBAND OR HIS RELATIVES  \\\n",
       "8685                           0                                    8   \n",
       "\n",
       "      IMPORTATION OF GIRLS FROM FOREIGN COUNTRIES  \\\n",
       "8685                                            0   \n",
       "\n",
       "      CAUSING DEATH BY NEGLIGENCE  OTHER IPC CRIMES  TOTAL IPC CRIMES  \n",
       "8685                           34               336              1766  \n",
       "\n",
       "[1 rows x 33 columns]"
      ]
     },
     "execution_count": 112,
     "metadata": {},
     "output_type": "execute_result"
    }
   ],
   "source": [
    "mizoram_crime = crime_type[8685:8686]\n",
    "mizoram_crime"
   ]
  },
  {
   "cell_type": "code",
   "execution_count": 113,
   "id": "078c7d11",
   "metadata": {},
   "outputs": [
    {
     "data": {
      "text/plain": [
       "8685    1766\n",
       "Name: TOTAL IPC CRIMES, dtype: int64"
      ]
     },
     "execution_count": 113,
     "metadata": {},
     "output_type": "execute_result"
    }
   ],
   "source": [
    "mizoram_crime = mizoram_crime['TOTAL IPC CRIMES']\n",
    "mizoram_crime"
   ]
  },
  {
   "cell_type": "code",
   "execution_count": 114,
   "id": "664e9635",
   "metadata": {},
   "outputs": [
    {
     "data": {
      "text/html": [
       "<div>\n",
       "<style scoped>\n",
       "    .dataframe tbody tr th:only-of-type {\n",
       "        vertical-align: middle;\n",
       "    }\n",
       "\n",
       "    .dataframe tbody tr th {\n",
       "        vertical-align: top;\n",
       "    }\n",
       "\n",
       "    .dataframe thead th {\n",
       "        text-align: right;\n",
       "    }\n",
       "</style>\n",
       "<table border=\"1\" class=\"dataframe\">\n",
       "  <thead>\n",
       "    <tr style=\"text-align: right;\">\n",
       "      <th></th>\n",
       "      <th>Rank</th>\n",
       "      <th>State (S) / Union territory (UT)</th>\n",
       "      <th>Area (km2)</th>\n",
       "      <th>Region</th>\n",
       "      <th>National Share (%)</th>\n",
       "      <th>Country of comparable size (land mass)</th>\n",
       "    </tr>\n",
       "  </thead>\n",
       "  <tbody>\n",
       "    <tr>\n",
       "      <th>25</th>\n",
       "      <td>26 (S24)</td>\n",
       "      <td>Mizoram</td>\n",
       "      <td>21,081</td>\n",
       "      <td>Northeastern</td>\n",
       "      <td>0.64</td>\n",
       "      <td>El Salvador</td>\n",
       "    </tr>\n",
       "  </tbody>\n",
       "</table>\n",
       "</div>"
      ],
      "text/plain": [
       "        Rank State (S) / Union territory (UT) Area (km2)        Region  \\\n",
       "25  26 (S24)                          Mizoram     21,081  Northeastern   \n",
       "\n",
       "    National Share (%) Country of comparable size (land mass)  \n",
       "25                0.64                            El Salvador  "
      ]
     },
     "execution_count": 114,
     "metadata": {},
     "output_type": "execute_result"
    }
   ],
   "source": [
    "mizoram_area = area[25:26]\n",
    "mizoram_area"
   ]
  },
  {
   "cell_type": "code",
   "execution_count": 115,
   "id": "5532205e",
   "metadata": {},
   "outputs": [
    {
     "data": {
      "text/plain": [
       "25    21,081\n",
       "Name: Area (km2), dtype: object"
      ]
     },
     "execution_count": 115,
     "metadata": {},
     "output_type": "execute_result"
    }
   ],
   "source": [
    "mizoram_area = mizoram_area['Area (km2)']\n",
    "mizoram_area"
   ]
  },
  {
   "cell_type": "code",
   "execution_count": 116,
   "id": "e9b061ae",
   "metadata": {},
   "outputs": [
    {
     "data": {
      "image/png": "[encoded data removed]",
      "text/plain": [
       "<Figure size 432x288 with 1 Axes>"
      ]
     },
     "metadata": {
      "needs_background": "light"
     },
     "output_type": "display_data"
    }
   ],
   "source": [
    "plt.scatter(mizoram_crime,mizoram_area)\n",
    "\n",
    "plt.xlabel('crime')\n",
    "plt.ylabel('area')\n",
    "\n",
    "plt.show()"
   ]
  },
  {
   "cell_type": "code",
   "execution_count": null,
   "id": "8cf82eca",
   "metadata": {},
   "outputs": [],
   "source": []
  },
  {
   "cell_type": "code",
   "execution_count": null,
   "id": "4f5a4ccf",
   "metadata": {},
   "outputs": [],
   "source": []
  },
  {
   "cell_type": "code",
   "execution_count": 117,
   "id": "d7258398",
   "metadata": {},
   "outputs": [],
   "source": [
    "# for Nagaland"
   ]
  },
  {
   "cell_type": "code",
   "execution_count": 118,
   "id": "caaf3ea3",
   "metadata": {},
   "outputs": [
    {
     "data": {
      "text/html": [
       "<div>\n",
       "<style scoped>\n",
       "    .dataframe tbody tr th:only-of-type {\n",
       "        vertical-align: middle;\n",
       "    }\n",
       "\n",
       "    .dataframe tbody tr th {\n",
       "        vertical-align: top;\n",
       "    }\n",
       "\n",
       "    .dataframe thead th {\n",
       "        text-align: right;\n",
       "    }\n",
       "</style>\n",
       "<table border=\"1\" class=\"dataframe\">\n",
       "  <thead>\n",
       "    <tr style=\"text-align: right;\">\n",
       "      <th></th>\n",
       "      <th>STATE/UT</th>\n",
       "      <th>DISTRICT</th>\n",
       "      <th>YEAR</th>\n",
       "      <th>MURDER</th>\n",
       "      <th>ATTEMPT TO MURDER</th>\n",
       "      <th>CULPABLE HOMICIDE NOT AMOUNTING TO MURDER</th>\n",
       "      <th>RAPE</th>\n",
       "      <th>CUSTODIAL RAPE</th>\n",
       "      <th>OTHER RAPE</th>\n",
       "      <th>KIDNAPPING &amp; ABDUCTION</th>\n",
       "      <th>...</th>\n",
       "      <th>ARSON</th>\n",
       "      <th>HURT/GREVIOUS HURT</th>\n",
       "      <th>DOWRY DEATHS</th>\n",
       "      <th>ASSAULT ON WOMEN WITH INTENT TO OUTRAGE HER MODESTY</th>\n",
       "      <th>INSULT TO MODESTY OF WOMEN</th>\n",
       "      <th>CRUELTY BY HUSBAND OR HIS RELATIVES</th>\n",
       "      <th>IMPORTATION OF GIRLS FROM FOREIGN COUNTRIES</th>\n",
       "      <th>CAUSING DEATH BY NEGLIGENCE</th>\n",
       "      <th>OTHER IPC CRIMES</th>\n",
       "      <th>TOTAL IPC CRIMES</th>\n",
       "    </tr>\n",
       "  </thead>\n",
       "  <tbody>\n",
       "    <tr>\n",
       "      <th>8697</th>\n",
       "      <td>NAGALAND</td>\n",
       "      <td>TOTAL</td>\n",
       "      <td>2012</td>\n",
       "      <td>75</td>\n",
       "      <td>42</td>\n",
       "      <td>6</td>\n",
       "      <td>21</td>\n",
       "      <td>0</td>\n",
       "      <td>21</td>\n",
       "      <td>27</td>\n",
       "      <td>...</td>\n",
       "      <td>7</td>\n",
       "      <td>30</td>\n",
       "      <td>0</td>\n",
       "      <td>16</td>\n",
       "      <td>0</td>\n",
       "      <td>0</td>\n",
       "      <td>0</td>\n",
       "      <td>31</td>\n",
       "      <td>266</td>\n",
       "      <td>1090</td>\n",
       "    </tr>\n",
       "  </tbody>\n",
       "</table>\n",
       "<p>1 rows × 33 columns</p>\n",
       "</div>"
      ],
      "text/plain": [
       "      STATE/UT DISTRICT  YEAR  MURDER  ATTEMPT TO MURDER  \\\n",
       "8697  NAGALAND    TOTAL  2012      75                 42   \n",
       "\n",
       "      CULPABLE HOMICIDE NOT AMOUNTING TO MURDER  RAPE  CUSTODIAL RAPE  \\\n",
       "8697                                          6    21               0   \n",
       "\n",
       "      OTHER RAPE  KIDNAPPING & ABDUCTION  ...  ARSON  HURT/GREVIOUS HURT  \\\n",
       "8697          21                      27  ...      7                  30   \n",
       "\n",
       "      DOWRY DEATHS  ASSAULT ON WOMEN WITH INTENT TO OUTRAGE HER MODESTY  \\\n",
       "8697             0                                                 16     \n",
       "\n",
       "      INSULT TO MODESTY OF WOMEN  CRUELTY BY HUSBAND OR HIS RELATIVES  \\\n",
       "8697                           0                                    0   \n",
       "\n",
       "      IMPORTATION OF GIRLS FROM FOREIGN COUNTRIES  \\\n",
       "8697                                            0   \n",
       "\n",
       "      CAUSING DEATH BY NEGLIGENCE  OTHER IPC CRIMES  TOTAL IPC CRIMES  \n",
       "8697                           31               266              1090  \n",
       "\n",
       "[1 rows x 33 columns]"
      ]
     },
     "execution_count": 118,
     "metadata": {},
     "output_type": "execute_result"
    }
   ],
   "source": [
    "nagaland_crime = crime_type[8697:8698]\n",
    "nagaland_crime"
   ]
  },
  {
   "cell_type": "code",
   "execution_count": 119,
   "id": "00b05827",
   "metadata": {},
   "outputs": [
    {
     "data": {
      "text/plain": [
       "8697    1090\n",
       "Name: TOTAL IPC CRIMES, dtype: int64"
      ]
     },
     "execution_count": 119,
     "metadata": {},
     "output_type": "execute_result"
    }
   ],
   "source": [
    "nagaland_crime = nagaland_crime['TOTAL IPC CRIMES']\n",
    "nagaland_crime"
   ]
  },
  {
   "cell_type": "code",
   "execution_count": 120,
   "id": "3ff27354",
   "metadata": {},
   "outputs": [
    {
     "data": {
      "text/html": [
       "<div>\n",
       "<style scoped>\n",
       "    .dataframe tbody tr th:only-of-type {\n",
       "        vertical-align: middle;\n",
       "    }\n",
       "\n",
       "    .dataframe tbody tr th {\n",
       "        vertical-align: top;\n",
       "    }\n",
       "\n",
       "    .dataframe thead th {\n",
       "        text-align: right;\n",
       "    }\n",
       "</style>\n",
       "<table border=\"1\" class=\"dataframe\">\n",
       "  <thead>\n",
       "    <tr style=\"text-align: right;\">\n",
       "      <th></th>\n",
       "      <th>Rank</th>\n",
       "      <th>State (S) / Union territory (UT)</th>\n",
       "      <th>Area (km2)</th>\n",
       "      <th>Region</th>\n",
       "      <th>National Share (%)</th>\n",
       "      <th>Country of comparable size (land mass)</th>\n",
       "    </tr>\n",
       "  </thead>\n",
       "  <tbody>\n",
       "    <tr>\n",
       "      <th>26</th>\n",
       "      <td>27 (S25)</td>\n",
       "      <td>Nagaland</td>\n",
       "      <td>16,579</td>\n",
       "      <td>Northeastern</td>\n",
       "      <td>0.5</td>\n",
       "      <td>Eswatini</td>\n",
       "    </tr>\n",
       "  </tbody>\n",
       "</table>\n",
       "</div>"
      ],
      "text/plain": [
       "        Rank State (S) / Union territory (UT) Area (km2)        Region  \\\n",
       "26  27 (S25)                         Nagaland     16,579  Northeastern   \n",
       "\n",
       "    National Share (%) Country of comparable size (land mass)  \n",
       "26                 0.5                               Eswatini  "
      ]
     },
     "execution_count": 120,
     "metadata": {},
     "output_type": "execute_result"
    }
   ],
   "source": [
    "nagaland_area = area[26:27]\n",
    "nagaland_area"
   ]
  },
  {
   "cell_type": "code",
   "execution_count": 121,
   "id": "fb2fd425",
   "metadata": {},
   "outputs": [
    {
     "data": {
      "text/plain": [
       "26    16,579\n",
       "Name: Area (km2), dtype: object"
      ]
     },
     "execution_count": 121,
     "metadata": {},
     "output_type": "execute_result"
    }
   ],
   "source": [
    "nagaland_area = nagaland_area['Area (km2)']\n",
    "nagaland_area"
   ]
  },
  {
   "cell_type": "code",
   "execution_count": 122,
   "id": "62796fff",
   "metadata": {},
   "outputs": [
    {
     "data": {
      "image/png": "[encoded data removed]",
      "text/plain": [
       "<Figure size 432x288 with 1 Axes>"
      ]
     },
     "metadata": {
      "needs_background": "light"
     },
     "output_type": "display_data"
    }
   ],
   "source": [
    "plt.scatter(nagaland_crime,nagaland_area)\n",
    "\n",
    "plt.xlabel('crime')\n",
    "plt.ylabel('area')\n",
    "\n",
    "plt.show()"
   ]
  },
  {
   "cell_type": "code",
   "execution_count": null,
   "id": "61d171d3",
   "metadata": {},
   "outputs": [],
   "source": []
  },
  {
   "cell_type": "code",
   "execution_count": null,
   "id": "224bac8d",
   "metadata": {},
   "outputs": [],
   "source": []
  },
  {
   "cell_type": "code",
   "execution_count": 123,
   "id": "e7ce3d5e",
   "metadata": {},
   "outputs": [],
   "source": [
    "# for Odisha"
   ]
  },
  {
   "cell_type": "code",
   "execution_count": 124,
   "id": "0991d7f9",
   "metadata": {},
   "outputs": [
    {
     "data": {
      "text/html": [
       "<div>\n",
       "<style scoped>\n",
       "    .dataframe tbody tr th:only-of-type {\n",
       "        vertical-align: middle;\n",
       "    }\n",
       "\n",
       "    .dataframe tbody tr th {\n",
       "        vertical-align: top;\n",
       "    }\n",
       "\n",
       "    .dataframe thead th {\n",
       "        text-align: right;\n",
       "    }\n",
       "</style>\n",
       "<table border=\"1\" class=\"dataframe\">\n",
       "  <thead>\n",
       "    <tr style=\"text-align: right;\">\n",
       "      <th></th>\n",
       "      <th>STATE/UT</th>\n",
       "      <th>DISTRICT</th>\n",
       "      <th>YEAR</th>\n",
       "      <th>MURDER</th>\n",
       "      <th>ATTEMPT TO MURDER</th>\n",
       "      <th>CULPABLE HOMICIDE NOT AMOUNTING TO MURDER</th>\n",
       "      <th>RAPE</th>\n",
       "      <th>CUSTODIAL RAPE</th>\n",
       "      <th>OTHER RAPE</th>\n",
       "      <th>KIDNAPPING &amp; ABDUCTION</th>\n",
       "      <th>...</th>\n",
       "      <th>ARSON</th>\n",
       "      <th>HURT/GREVIOUS HURT</th>\n",
       "      <th>DOWRY DEATHS</th>\n",
       "      <th>ASSAULT ON WOMEN WITH INTENT TO OUTRAGE HER MODESTY</th>\n",
       "      <th>INSULT TO MODESTY OF WOMEN</th>\n",
       "      <th>CRUELTY BY HUSBAND OR HIS RELATIVES</th>\n",
       "      <th>IMPORTATION OF GIRLS FROM FOREIGN COUNTRIES</th>\n",
       "      <th>CAUSING DEATH BY NEGLIGENCE</th>\n",
       "      <th>OTHER IPC CRIMES</th>\n",
       "      <th>TOTAL IPC CRIMES</th>\n",
       "    </tr>\n",
       "  </thead>\n",
       "  <tbody>\n",
       "    <tr>\n",
       "      <th>8734</th>\n",
       "      <td>ODISHA</td>\n",
       "      <td>TOTAL</td>\n",
       "      <td>2012</td>\n",
       "      <td>1548</td>\n",
       "      <td>1879</td>\n",
       "      <td>54</td>\n",
       "      <td>1458</td>\n",
       "      <td>0</td>\n",
       "      <td>1458</td>\n",
       "      <td>1542</td>\n",
       "      <td>...</td>\n",
       "      <td>469</td>\n",
       "      <td>8223</td>\n",
       "      <td>525</td>\n",
       "      <td>4187</td>\n",
       "      <td>304</td>\n",
       "      <td>2638</td>\n",
       "      <td>0</td>\n",
       "      <td>3605</td>\n",
       "      <td>22203</td>\n",
       "      <td>67957</td>\n",
       "    </tr>\n",
       "  </tbody>\n",
       "</table>\n",
       "<p>1 rows × 33 columns</p>\n",
       "</div>"
      ],
      "text/plain": [
       "     STATE/UT DISTRICT  YEAR  MURDER  ATTEMPT TO MURDER  \\\n",
       "8734   ODISHA    TOTAL  2012    1548               1879   \n",
       "\n",
       "      CULPABLE HOMICIDE NOT AMOUNTING TO MURDER  RAPE  CUSTODIAL RAPE  \\\n",
       "8734                                         54  1458               0   \n",
       "\n",
       "      OTHER RAPE  KIDNAPPING & ABDUCTION  ...  ARSON  HURT/GREVIOUS HURT  \\\n",
       "8734        1458                    1542  ...    469                8223   \n",
       "\n",
       "      DOWRY DEATHS  ASSAULT ON WOMEN WITH INTENT TO OUTRAGE HER MODESTY  \\\n",
       "8734           525                                               4187     \n",
       "\n",
       "      INSULT TO MODESTY OF WOMEN  CRUELTY BY HUSBAND OR HIS RELATIVES  \\\n",
       "8734                         304                                 2638   \n",
       "\n",
       "      IMPORTATION OF GIRLS FROM FOREIGN COUNTRIES  \\\n",
       "8734                                            0   \n",
       "\n",
       "      CAUSING DEATH BY NEGLIGENCE  OTHER IPC CRIMES  TOTAL IPC CRIMES  \n",
       "8734                         3605             22203             67957  \n",
       "\n",
       "[1 rows x 33 columns]"
      ]
     },
     "execution_count": 124,
     "metadata": {},
     "output_type": "execute_result"
    }
   ],
   "source": [
    "odisha_crime = crime_type[8734:8735]\n",
    "odisha_crime"
   ]
  },
  {
   "cell_type": "code",
   "execution_count": 125,
   "id": "2785113d",
   "metadata": {},
   "outputs": [
    {
     "data": {
      "text/plain": [
       "8734    67957\n",
       "Name: TOTAL IPC CRIMES, dtype: int64"
      ]
     },
     "execution_count": 125,
     "metadata": {},
     "output_type": "execute_result"
    }
   ],
   "source": [
    "odisha_crime = odisha_crime['TOTAL IPC CRIMES']\n",
    "odisha_crime"
   ]
  },
  {
   "cell_type": "code",
   "execution_count": 126,
   "id": "035c85f9",
   "metadata": {},
   "outputs": [
    {
     "data": {
      "text/html": [
       "<div>\n",
       "<style scoped>\n",
       "    .dataframe tbody tr th:only-of-type {\n",
       "        vertical-align: middle;\n",
       "    }\n",
       "\n",
       "    .dataframe tbody tr th {\n",
       "        vertical-align: top;\n",
       "    }\n",
       "\n",
       "    .dataframe thead th {\n",
       "        text-align: right;\n",
       "    }\n",
       "</style>\n",
       "<table border=\"1\" class=\"dataframe\">\n",
       "  <thead>\n",
       "    <tr style=\"text-align: right;\">\n",
       "      <th></th>\n",
       "      <th>Rank</th>\n",
       "      <th>State (S) / Union territory (UT)</th>\n",
       "      <th>Area (km2)</th>\n",
       "      <th>Region</th>\n",
       "      <th>National Share (%)</th>\n",
       "      <th>Country of comparable size (land mass)</th>\n",
       "    </tr>\n",
       "  </thead>\n",
       "  <tbody>\n",
       "    <tr>\n",
       "      <th>7</th>\n",
       "      <td>9 (S8)</td>\n",
       "      <td>Odisha</td>\n",
       "      <td>155,707</td>\n",
       "      <td>Eastern</td>\n",
       "      <td>4.73</td>\n",
       "      <td>Bangladesh</td>\n",
       "    </tr>\n",
       "  </tbody>\n",
       "</table>\n",
       "</div>"
      ],
      "text/plain": [
       "     Rank State (S) / Union territory (UT) Area (km2)   Region  \\\n",
       "7  9 (S8)                           Odisha    155,707  Eastern   \n",
       "\n",
       "   National Share (%) Country of comparable size (land mass)  \n",
       "7                4.73                             Bangladesh  "
      ]
     },
     "execution_count": 126,
     "metadata": {},
     "output_type": "execute_result"
    }
   ],
   "source": [
    "odisha_area = area[7:8]\n",
    "odisha_area"
   ]
  },
  {
   "cell_type": "code",
   "execution_count": 127,
   "id": "7a066cd0",
   "metadata": {},
   "outputs": [
    {
     "data": {
      "text/plain": [
       "7    155,707\n",
       "Name: Area (km2), dtype: object"
      ]
     },
     "execution_count": 127,
     "metadata": {},
     "output_type": "execute_result"
    }
   ],
   "source": [
    "odisha_area = odisha_area['Area (km2)']\n",
    "odisha_area"
   ]
  },
  {
   "cell_type": "code",
   "execution_count": 128,
   "id": "9e44d538",
   "metadata": {},
   "outputs": [
    {
     "data": {
      "image/png": "[encoded data removed]",
      "text/plain": [
       "<Figure size 432x288 with 1 Axes>"
      ]
     },
     "metadata": {
      "needs_background": "light"
     },
     "output_type": "display_data"
    }
   ],
   "source": [
    "plt.scatter(odisha_crime,odisha_area)\n",
    "\n",
    "plt.xlabel('crime')\n",
    "plt.ylabel('area')\n",
    "\n",
    "plt.show()"
   ]
  },
  {
   "cell_type": "code",
   "execution_count": null,
   "id": "39612034",
   "metadata": {},
   "outputs": [],
   "source": []
  },
  {
   "cell_type": "code",
   "execution_count": null,
   "id": "87d89734",
   "metadata": {},
   "outputs": [],
   "source": []
  },
  {
   "cell_type": "code",
   "execution_count": 129,
   "id": "7e5b9ca3",
   "metadata": {},
   "outputs": [],
   "source": [
    "# for Punjab"
   ]
  },
  {
   "cell_type": "code",
   "execution_count": 130,
   "id": "9a49e245",
   "metadata": {},
   "outputs": [
    {
     "data": {
      "text/html": [
       "<div>\n",
       "<style scoped>\n",
       "    .dataframe tbody tr th:only-of-type {\n",
       "        vertical-align: middle;\n",
       "    }\n",
       "\n",
       "    .dataframe tbody tr th {\n",
       "        vertical-align: top;\n",
       "    }\n",
       "\n",
       "    .dataframe thead th {\n",
       "        text-align: right;\n",
       "    }\n",
       "</style>\n",
       "<table border=\"1\" class=\"dataframe\">\n",
       "  <thead>\n",
       "    <tr style=\"text-align: right;\">\n",
       "      <th></th>\n",
       "      <th>STATE/UT</th>\n",
       "      <th>DISTRICT</th>\n",
       "      <th>YEAR</th>\n",
       "      <th>MURDER</th>\n",
       "      <th>ATTEMPT TO MURDER</th>\n",
       "      <th>CULPABLE HOMICIDE NOT AMOUNTING TO MURDER</th>\n",
       "      <th>RAPE</th>\n",
       "      <th>CUSTODIAL RAPE</th>\n",
       "      <th>OTHER RAPE</th>\n",
       "      <th>KIDNAPPING &amp; ABDUCTION</th>\n",
       "      <th>...</th>\n",
       "      <th>ARSON</th>\n",
       "      <th>HURT/GREVIOUS HURT</th>\n",
       "      <th>DOWRY DEATHS</th>\n",
       "      <th>ASSAULT ON WOMEN WITH INTENT TO OUTRAGE HER MODESTY</th>\n",
       "      <th>INSULT TO MODESTY OF WOMEN</th>\n",
       "      <th>CRUELTY BY HUSBAND OR HIS RELATIVES</th>\n",
       "      <th>IMPORTATION OF GIRLS FROM FOREIGN COUNTRIES</th>\n",
       "      <th>CAUSING DEATH BY NEGLIGENCE</th>\n",
       "      <th>OTHER IPC CRIMES</th>\n",
       "      <th>TOTAL IPC CRIMES</th>\n",
       "    </tr>\n",
       "  </thead>\n",
       "  <tbody>\n",
       "    <tr>\n",
       "      <th>8763</th>\n",
       "      <td>PUNJAB</td>\n",
       "      <td>TOTAL</td>\n",
       "      <td>2012</td>\n",
       "      <td>855</td>\n",
       "      <td>1045</td>\n",
       "      <td>104</td>\n",
       "      <td>680</td>\n",
       "      <td>1</td>\n",
       "      <td>679</td>\n",
       "      <td>919</td>\n",
       "      <td>...</td>\n",
       "      <td>74</td>\n",
       "      <td>4186</td>\n",
       "      <td>118</td>\n",
       "      <td>340</td>\n",
       "      <td>31</td>\n",
       "      <td>1293</td>\n",
       "      <td>0</td>\n",
       "      <td>3405</td>\n",
       "      <td>10405</td>\n",
       "      <td>35790</td>\n",
       "    </tr>\n",
       "  </tbody>\n",
       "</table>\n",
       "<p>1 rows × 33 columns</p>\n",
       "</div>"
      ],
      "text/plain": [
       "     STATE/UT DISTRICT  YEAR  MURDER  ATTEMPT TO MURDER  \\\n",
       "8763   PUNJAB    TOTAL  2012     855               1045   \n",
       "\n",
       "      CULPABLE HOMICIDE NOT AMOUNTING TO MURDER  RAPE  CUSTODIAL RAPE  \\\n",
       "8763                                        104   680               1   \n",
       "\n",
       "      OTHER RAPE  KIDNAPPING & ABDUCTION  ...  ARSON  HURT/GREVIOUS HURT  \\\n",
       "8763         679                     919  ...     74                4186   \n",
       "\n",
       "      DOWRY DEATHS  ASSAULT ON WOMEN WITH INTENT TO OUTRAGE HER MODESTY  \\\n",
       "8763           118                                                340     \n",
       "\n",
       "      INSULT TO MODESTY OF WOMEN  CRUELTY BY HUSBAND OR HIS RELATIVES  \\\n",
       "8763                          31                                 1293   \n",
       "\n",
       "      IMPORTATION OF GIRLS FROM FOREIGN COUNTRIES  \\\n",
       "8763                                            0   \n",
       "\n",
       "      CAUSING DEATH BY NEGLIGENCE  OTHER IPC CRIMES  TOTAL IPC CRIMES  \n",
       "8763                         3405             10405             35790  \n",
       "\n",
       "[1 rows x 33 columns]"
      ]
     },
     "execution_count": 130,
     "metadata": {},
     "output_type": "execute_result"
    }
   ],
   "source": [
    "punjab_crime = crime_type[8763:8764]\n",
    "punjab_crime"
   ]
  },
  {
   "cell_type": "code",
   "execution_count": 131,
   "id": "663de707",
   "metadata": {},
   "outputs": [
    {
     "data": {
      "text/plain": [
       "8763    35790\n",
       "Name: TOTAL IPC CRIMES, dtype: int64"
      ]
     },
     "execution_count": 131,
     "metadata": {},
     "output_type": "execute_result"
    }
   ],
   "source": [
    "punjab_crime = punjab_crime['TOTAL IPC CRIMES']\n",
    "punjab_crime "
   ]
  },
  {
   "cell_type": "code",
   "execution_count": 132,
   "id": "e5dcd945",
   "metadata": {},
   "outputs": [
    {
     "data": {
      "text/html": [
       "<div>\n",
       "<style scoped>\n",
       "    .dataframe tbody tr th:only-of-type {\n",
       "        vertical-align: middle;\n",
       "    }\n",
       "\n",
       "    .dataframe tbody tr th {\n",
       "        vertical-align: top;\n",
       "    }\n",
       "\n",
       "    .dataframe thead th {\n",
       "        text-align: right;\n",
       "    }\n",
       "</style>\n",
       "<table border=\"1\" class=\"dataframe\">\n",
       "  <thead>\n",
       "    <tr style=\"text-align: right;\">\n",
       "      <th></th>\n",
       "      <th>Rank</th>\n",
       "      <th>State (S) / Union territory (UT)</th>\n",
       "      <th>Area (km2)</th>\n",
       "      <th>Region</th>\n",
       "      <th>National Share (%)</th>\n",
       "      <th>Country of comparable size (land mass)</th>\n",
       "    </tr>\n",
       "  </thead>\n",
       "  <tbody>\n",
       "    <tr>\n",
       "      <th>19</th>\n",
       "      <td>21 (S19)</td>\n",
       "      <td>Punjab</td>\n",
       "      <td>50,362</td>\n",
       "      <td>Northern</td>\n",
       "      <td>1.53</td>\n",
       "      <td>Slovakia</td>\n",
       "    </tr>\n",
       "  </tbody>\n",
       "</table>\n",
       "</div>"
      ],
      "text/plain": [
       "        Rank State (S) / Union territory (UT) Area (km2)    Region  \\\n",
       "19  21 (S19)                           Punjab     50,362  Northern   \n",
       "\n",
       "    National Share (%) Country of comparable size (land mass)  \n",
       "19                1.53                               Slovakia  "
      ]
     },
     "execution_count": 132,
     "metadata": {},
     "output_type": "execute_result"
    }
   ],
   "source": [
    "punjab_area = area[19:20]\n",
    "punjab_area"
   ]
  },
  {
   "cell_type": "code",
   "execution_count": 133,
   "id": "3eb4156c",
   "metadata": {},
   "outputs": [
    {
     "data": {
      "text/plain": [
       "19    50,362\n",
       "Name: Area (km2), dtype: object"
      ]
     },
     "execution_count": 133,
     "metadata": {},
     "output_type": "execute_result"
    }
   ],
   "source": [
    "punjab_area = punjab_area['Area (km2)']\n",
    "punjab_area"
   ]
  },
  {
   "cell_type": "code",
   "execution_count": 134,
   "id": "42a15f84",
   "metadata": {},
   "outputs": [
    {
     "data": {
      "image/png": "[encoded data removed]",
      "text/plain": [
       "<Figure size 432x288 with 1 Axes>"
      ]
     },
     "metadata": {
      "needs_background": "light"
     },
     "output_type": "display_data"
    }
   ],
   "source": [
    "plt.scatter(punjab_crime,punjab_area)\n",
    "\n",
    "plt.xlabel('crime')\n",
    "plt.ylabel('area')\n",
    "\n",
    "plt.show()"
   ]
  },
  {
   "cell_type": "code",
   "execution_count": null,
   "id": "c550c289",
   "metadata": {},
   "outputs": [],
   "source": []
  },
  {
   "cell_type": "code",
   "execution_count": null,
   "id": "83fa4b81",
   "metadata": {},
   "outputs": [],
   "source": []
  },
  {
   "cell_type": "code",
   "execution_count": 135,
   "id": "27fe680e",
   "metadata": {},
   "outputs": [],
   "source": [
    "# for Rajasthan"
   ]
  },
  {
   "cell_type": "code",
   "execution_count": 136,
   "id": "c5b8d754",
   "metadata": {},
   "outputs": [
    {
     "data": {
      "text/html": [
       "<div>\n",
       "<style scoped>\n",
       "    .dataframe tbody tr th:only-of-type {\n",
       "        vertical-align: middle;\n",
       "    }\n",
       "\n",
       "    .dataframe tbody tr th {\n",
       "        vertical-align: top;\n",
       "    }\n",
       "\n",
       "    .dataframe thead th {\n",
       "        text-align: right;\n",
       "    }\n",
       "</style>\n",
       "<table border=\"1\" class=\"dataframe\">\n",
       "  <thead>\n",
       "    <tr style=\"text-align: right;\">\n",
       "      <th></th>\n",
       "      <th>STATE/UT</th>\n",
       "      <th>DISTRICT</th>\n",
       "      <th>YEAR</th>\n",
       "      <th>MURDER</th>\n",
       "      <th>ATTEMPT TO MURDER</th>\n",
       "      <th>CULPABLE HOMICIDE NOT AMOUNTING TO MURDER</th>\n",
       "      <th>RAPE</th>\n",
       "      <th>CUSTODIAL RAPE</th>\n",
       "      <th>OTHER RAPE</th>\n",
       "      <th>KIDNAPPING &amp; ABDUCTION</th>\n",
       "      <th>...</th>\n",
       "      <th>ARSON</th>\n",
       "      <th>HURT/GREVIOUS HURT</th>\n",
       "      <th>DOWRY DEATHS</th>\n",
       "      <th>ASSAULT ON WOMEN WITH INTENT TO OUTRAGE HER MODESTY</th>\n",
       "      <th>INSULT TO MODESTY OF WOMEN</th>\n",
       "      <th>CRUELTY BY HUSBAND OR HIS RELATIVES</th>\n",
       "      <th>IMPORTATION OF GIRLS FROM FOREIGN COUNTRIES</th>\n",
       "      <th>CAUSING DEATH BY NEGLIGENCE</th>\n",
       "      <th>OTHER IPC CRIMES</th>\n",
       "      <th>TOTAL IPC CRIMES</th>\n",
       "    </tr>\n",
       "  </thead>\n",
       "  <tbody>\n",
       "    <tr>\n",
       "      <th>8806</th>\n",
       "      <td>RAJASTHAN</td>\n",
       "      <td>TOTAL</td>\n",
       "      <td>2012</td>\n",
       "      <td>1461</td>\n",
       "      <td>1538</td>\n",
       "      <td>98</td>\n",
       "      <td>2049</td>\n",
       "      <td>0</td>\n",
       "      <td>2049</td>\n",
       "      <td>3243</td>\n",
       "      <td>...</td>\n",
       "      <td>475</td>\n",
       "      <td>17614</td>\n",
       "      <td>478</td>\n",
       "      <td>2352</td>\n",
       "      <td>18</td>\n",
       "      <td>13312</td>\n",
       "      <td>0</td>\n",
       "      <td>8284</td>\n",
       "      <td>70240</td>\n",
       "      <td>170948</td>\n",
       "    </tr>\n",
       "  </tbody>\n",
       "</table>\n",
       "<p>1 rows × 33 columns</p>\n",
       "</div>"
      ],
      "text/plain": [
       "       STATE/UT DISTRICT  YEAR  MURDER  ATTEMPT TO MURDER  \\\n",
       "8806  RAJASTHAN    TOTAL  2012    1461               1538   \n",
       "\n",
       "      CULPABLE HOMICIDE NOT AMOUNTING TO MURDER  RAPE  CUSTODIAL RAPE  \\\n",
       "8806                                         98  2049               0   \n",
       "\n",
       "      OTHER RAPE  KIDNAPPING & ABDUCTION  ...  ARSON  HURT/GREVIOUS HURT  \\\n",
       "8806        2049                    3243  ...    475               17614   \n",
       "\n",
       "      DOWRY DEATHS  ASSAULT ON WOMEN WITH INTENT TO OUTRAGE HER MODESTY  \\\n",
       "8806           478                                               2352     \n",
       "\n",
       "      INSULT TO MODESTY OF WOMEN  CRUELTY BY HUSBAND OR HIS RELATIVES  \\\n",
       "8806                          18                                13312   \n",
       "\n",
       "      IMPORTATION OF GIRLS FROM FOREIGN COUNTRIES  \\\n",
       "8806                                            0   \n",
       "\n",
       "      CAUSING DEATH BY NEGLIGENCE  OTHER IPC CRIMES  TOTAL IPC CRIMES  \n",
       "8806                         8284             70240            170948  \n",
       "\n",
       "[1 rows x 33 columns]"
      ]
     },
     "execution_count": 136,
     "metadata": {},
     "output_type": "execute_result"
    }
   ],
   "source": [
    "raja_crime = crime_type[8806:8807]\n",
    "raja_crime"
   ]
  },
  {
   "cell_type": "code",
   "execution_count": 137,
   "id": "18fda24b",
   "metadata": {},
   "outputs": [
    {
     "data": {
      "text/plain": [
       "8806    170948\n",
       "Name: TOTAL IPC CRIMES, dtype: int64"
      ]
     },
     "execution_count": 137,
     "metadata": {},
     "output_type": "execute_result"
    }
   ],
   "source": [
    "raja_crime = raja_crime['TOTAL IPC CRIMES']\n",
    "raja_crime"
   ]
  },
  {
   "cell_type": "code",
   "execution_count": 138,
   "id": "0dba5218",
   "metadata": {},
   "outputs": [
    {
     "data": {
      "text/html": [
       "<div>\n",
       "<style scoped>\n",
       "    .dataframe tbody tr th:only-of-type {\n",
       "        vertical-align: middle;\n",
       "    }\n",
       "\n",
       "    .dataframe tbody tr th {\n",
       "        vertical-align: top;\n",
       "    }\n",
       "\n",
       "    .dataframe thead th {\n",
       "        text-align: right;\n",
       "    }\n",
       "</style>\n",
       "<table border=\"1\" class=\"dataframe\">\n",
       "  <thead>\n",
       "    <tr style=\"text-align: right;\">\n",
       "      <th></th>\n",
       "      <th>Rank</th>\n",
       "      <th>State (S) / Union territory (UT)</th>\n",
       "      <th>Area (km2)</th>\n",
       "      <th>Region</th>\n",
       "      <th>National Share (%)</th>\n",
       "      <th>Country of comparable size (land mass)</th>\n",
       "    </tr>\n",
       "  </thead>\n",
       "  <tbody>\n",
       "    <tr>\n",
       "      <th>0</th>\n",
       "      <td>1 (S1)</td>\n",
       "      <td>Rajasthan</td>\n",
       "      <td>342,239</td>\n",
       "      <td>Northern</td>\n",
       "      <td>10.42</td>\n",
       "      <td>Germany</td>\n",
       "    </tr>\n",
       "  </tbody>\n",
       "</table>\n",
       "</div>"
      ],
      "text/plain": [
       "     Rank State (S) / Union territory (UT) Area (km2)    Region  \\\n",
       "0  1 (S1)                        Rajasthan    342,239  Northern   \n",
       "\n",
       "   National Share (%) Country of comparable size (land mass)  \n",
       "0               10.42                                Germany  "
      ]
     },
     "execution_count": 138,
     "metadata": {},
     "output_type": "execute_result"
    }
   ],
   "source": [
    "raja_area = area[0:1]\n",
    "raja_area"
   ]
  },
  {
   "cell_type": "code",
   "execution_count": 139,
   "id": "b3bfed0d",
   "metadata": {},
   "outputs": [
    {
     "data": {
      "text/plain": [
       "0    342,239\n",
       "Name: Area (km2), dtype: object"
      ]
     },
     "execution_count": 139,
     "metadata": {},
     "output_type": "execute_result"
    }
   ],
   "source": [
    "raja_area = raja_area['Area (km2)']\n",
    "raja_area"
   ]
  },
  {
   "cell_type": "code",
   "execution_count": 140,
   "id": "2609a0ac",
   "metadata": {},
   "outputs": [
    {
     "data": {
      "image/png": "[encoded data removed]",
      "text/plain": [
       "<Figure size 432x288 with 1 Axes>"
      ]
     },
     "metadata": {
      "needs_background": "light"
     },
     "output_type": "display_data"
    }
   ],
   "source": [
    "plt.scatter(raja_crime,raja_area)\n",
    "\n",
    "plt.xlabel('crime')\n",
    "plt.ylabel('area')\n",
    "\n",
    "plt.show()"
   ]
  },
  {
   "cell_type": "code",
   "execution_count": null,
   "id": "eea09caf",
   "metadata": {},
   "outputs": [],
   "source": []
  },
  {
   "cell_type": "code",
   "execution_count": null,
   "id": "7280a67c",
   "metadata": {},
   "outputs": [],
   "source": []
  },
  {
   "cell_type": "code",
   "execution_count": 141,
   "id": "2cd89116",
   "metadata": {},
   "outputs": [],
   "source": [
    "# for Sikkim"
   ]
  },
  {
   "cell_type": "code",
   "execution_count": 142,
   "id": "dcab7077",
   "metadata": {},
   "outputs": [
    {
     "data": {
      "text/html": [
       "<div>\n",
       "<style scoped>\n",
       "    .dataframe tbody tr th:only-of-type {\n",
       "        vertical-align: middle;\n",
       "    }\n",
       "\n",
       "    .dataframe tbody tr th {\n",
       "        vertical-align: top;\n",
       "    }\n",
       "\n",
       "    .dataframe thead th {\n",
       "        text-align: right;\n",
       "    }\n",
       "</style>\n",
       "<table border=\"1\" class=\"dataframe\">\n",
       "  <thead>\n",
       "    <tr style=\"text-align: right;\">\n",
       "      <th></th>\n",
       "      <th>STATE/UT</th>\n",
       "      <th>DISTRICT</th>\n",
       "      <th>YEAR</th>\n",
       "      <th>MURDER</th>\n",
       "      <th>ATTEMPT TO MURDER</th>\n",
       "      <th>CULPABLE HOMICIDE NOT AMOUNTING TO MURDER</th>\n",
       "      <th>RAPE</th>\n",
       "      <th>CUSTODIAL RAPE</th>\n",
       "      <th>OTHER RAPE</th>\n",
       "      <th>KIDNAPPING &amp; ABDUCTION</th>\n",
       "      <th>...</th>\n",
       "      <th>ARSON</th>\n",
       "      <th>HURT/GREVIOUS HURT</th>\n",
       "      <th>DOWRY DEATHS</th>\n",
       "      <th>ASSAULT ON WOMEN WITH INTENT TO OUTRAGE HER MODESTY</th>\n",
       "      <th>INSULT TO MODESTY OF WOMEN</th>\n",
       "      <th>CRUELTY BY HUSBAND OR HIS RELATIVES</th>\n",
       "      <th>IMPORTATION OF GIRLS FROM FOREIGN COUNTRIES</th>\n",
       "      <th>CAUSING DEATH BY NEGLIGENCE</th>\n",
       "      <th>OTHER IPC CRIMES</th>\n",
       "      <th>TOTAL IPC CRIMES</th>\n",
       "    </tr>\n",
       "  </thead>\n",
       "  <tbody>\n",
       "    <tr>\n",
       "      <th>8811</th>\n",
       "      <td>SIKKIM</td>\n",
       "      <td>TOTAL</td>\n",
       "      <td>2012</td>\n",
       "      <td>7</td>\n",
       "      <td>7</td>\n",
       "      <td>0</td>\n",
       "      <td>34</td>\n",
       "      <td>0</td>\n",
       "      <td>34</td>\n",
       "      <td>10</td>\n",
       "      <td>...</td>\n",
       "      <td>20</td>\n",
       "      <td>91</td>\n",
       "      <td>1</td>\n",
       "      <td>19</td>\n",
       "      <td>0</td>\n",
       "      <td>4</td>\n",
       "      <td>0</td>\n",
       "      <td>32</td>\n",
       "      <td>58</td>\n",
       "      <td>528</td>\n",
       "    </tr>\n",
       "  </tbody>\n",
       "</table>\n",
       "<p>1 rows × 33 columns</p>\n",
       "</div>"
      ],
      "text/plain": [
       "     STATE/UT DISTRICT  YEAR  MURDER  ATTEMPT TO MURDER  \\\n",
       "8811   SIKKIM    TOTAL  2012       7                  7   \n",
       "\n",
       "      CULPABLE HOMICIDE NOT AMOUNTING TO MURDER  RAPE  CUSTODIAL RAPE  \\\n",
       "8811                                          0    34               0   \n",
       "\n",
       "      OTHER RAPE  KIDNAPPING & ABDUCTION  ...  ARSON  HURT/GREVIOUS HURT  \\\n",
       "8811          34                      10  ...     20                  91   \n",
       "\n",
       "      DOWRY DEATHS  ASSAULT ON WOMEN WITH INTENT TO OUTRAGE HER MODESTY  \\\n",
       "8811             1                                                 19     \n",
       "\n",
       "      INSULT TO MODESTY OF WOMEN  CRUELTY BY HUSBAND OR HIS RELATIVES  \\\n",
       "8811                           0                                    4   \n",
       "\n",
       "      IMPORTATION OF GIRLS FROM FOREIGN COUNTRIES  \\\n",
       "8811                                            0   \n",
       "\n",
       "      CAUSING DEATH BY NEGLIGENCE  OTHER IPC CRIMES  TOTAL IPC CRIMES  \n",
       "8811                           32                58               528  \n",
       "\n",
       "[1 rows x 33 columns]"
      ]
     },
     "execution_count": 142,
     "metadata": {},
     "output_type": "execute_result"
    }
   ],
   "source": [
    "sikkim_crime = crime_type[8811:8812]\n",
    "sikkim_crime"
   ]
  },
  {
   "cell_type": "code",
   "execution_count": 143,
   "id": "fc706a31",
   "metadata": {},
   "outputs": [
    {
     "data": {
      "text/plain": [
       "8811    528\n",
       "Name: TOTAL IPC CRIMES, dtype: int64"
      ]
     },
     "execution_count": 143,
     "metadata": {},
     "output_type": "execute_result"
    }
   ],
   "source": [
    "sikkim_crime = sikkim_crime['TOTAL IPC CRIMES']\n",
    "sikkim_crime"
   ]
  },
  {
   "cell_type": "code",
   "execution_count": 144,
   "id": "1765e3fa",
   "metadata": {},
   "outputs": [
    {
     "data": {
      "text/html": [
       "<div>\n",
       "<style scoped>\n",
       "    .dataframe tbody tr th:only-of-type {\n",
       "        vertical-align: middle;\n",
       "    }\n",
       "\n",
       "    .dataframe tbody tr th {\n",
       "        vertical-align: top;\n",
       "    }\n",
       "\n",
       "    .dataframe thead th {\n",
       "        text-align: right;\n",
       "    }\n",
       "</style>\n",
       "<table border=\"1\" class=\"dataframe\">\n",
       "  <thead>\n",
       "    <tr style=\"text-align: right;\">\n",
       "      <th></th>\n",
       "      <th>Rank</th>\n",
       "      <th>State (S) / Union territory (UT)</th>\n",
       "      <th>Area (km2)</th>\n",
       "      <th>Region</th>\n",
       "      <th>National Share (%)</th>\n",
       "      <th>Country of comparable size (land mass)</th>\n",
       "    </tr>\n",
       "  </thead>\n",
       "  <tbody>\n",
       "    <tr>\n",
       "      <th>29</th>\n",
       "      <td>30 (S27)</td>\n",
       "      <td>Sikkim</td>\n",
       "      <td>7,096</td>\n",
       "      <td>Northeastern</td>\n",
       "      <td>0.21</td>\n",
       "      <td>Cyprus</td>\n",
       "    </tr>\n",
       "  </tbody>\n",
       "</table>\n",
       "</div>"
      ],
      "text/plain": [
       "        Rank State (S) / Union territory (UT) Area (km2)        Region  \\\n",
       "29  30 (S27)                           Sikkim      7,096  Northeastern   \n",
       "\n",
       "    National Share (%) Country of comparable size (land mass)  \n",
       "29                0.21                                 Cyprus  "
      ]
     },
     "execution_count": 144,
     "metadata": {},
     "output_type": "execute_result"
    }
   ],
   "source": [
    "sikkim_area = area[29:30]\n",
    "sikkim_area"
   ]
  },
  {
   "cell_type": "code",
   "execution_count": 145,
   "id": "b5735418",
   "metadata": {},
   "outputs": [
    {
     "data": {
      "text/plain": [
       "29    7,096\n",
       "Name: Area (km2), dtype: object"
      ]
     },
     "execution_count": 145,
     "metadata": {},
     "output_type": "execute_result"
    }
   ],
   "source": [
    "sikkim_area = sikkim_area['Area (km2)']\n",
    "sikkim_area"
   ]
  },
  {
   "cell_type": "code",
   "execution_count": 146,
   "id": "21130da9",
   "metadata": {},
   "outputs": [
    {
     "data": {
      "image/png": "[encoded data removed]",
      "text/plain": [
       "<Figure size 432x288 with 1 Axes>"
      ]
     },
     "metadata": {
      "needs_background": "light"
     },
     "output_type": "display_data"
    }
   ],
   "source": [
    "plt.scatter(sikkim_crime,sikkim_area)\n",
    "\n",
    "plt.xlabel('crime')\n",
    "plt.ylabel('area')\n",
    "\n",
    "plt.show()"
   ]
  },
  {
   "cell_type": "code",
   "execution_count": null,
   "id": "53b16ce3",
   "metadata": {},
   "outputs": [],
   "source": []
  },
  {
   "cell_type": "code",
   "execution_count": null,
   "id": "4ba5e1d3",
   "metadata": {},
   "outputs": [],
   "source": []
  },
  {
   "cell_type": "code",
   "execution_count": 147,
   "id": "b4704215",
   "metadata": {},
   "outputs": [],
   "source": [
    "# for Tamil Nadu"
   ]
  },
  {
   "cell_type": "code",
   "execution_count": 148,
   "id": "8cc7a40b",
   "metadata": {},
   "outputs": [
    {
     "data": {
      "text/html": [
       "<div>\n",
       "<style scoped>\n",
       "    .dataframe tbody tr th:only-of-type {\n",
       "        vertical-align: middle;\n",
       "    }\n",
       "\n",
       "    .dataframe tbody tr th {\n",
       "        vertical-align: top;\n",
       "    }\n",
       "\n",
       "    .dataframe thead th {\n",
       "        text-align: right;\n",
       "    }\n",
       "</style>\n",
       "<table border=\"1\" class=\"dataframe\">\n",
       "  <thead>\n",
       "    <tr style=\"text-align: right;\">\n",
       "      <th></th>\n",
       "      <th>STATE/UT</th>\n",
       "      <th>DISTRICT</th>\n",
       "      <th>YEAR</th>\n",
       "      <th>MURDER</th>\n",
       "      <th>ATTEMPT TO MURDER</th>\n",
       "      <th>CULPABLE HOMICIDE NOT AMOUNTING TO MURDER</th>\n",
       "      <th>RAPE</th>\n",
       "      <th>CUSTODIAL RAPE</th>\n",
       "      <th>OTHER RAPE</th>\n",
       "      <th>KIDNAPPING &amp; ABDUCTION</th>\n",
       "      <th>...</th>\n",
       "      <th>ARSON</th>\n",
       "      <th>HURT/GREVIOUS HURT</th>\n",
       "      <th>DOWRY DEATHS</th>\n",
       "      <th>ASSAULT ON WOMEN WITH INTENT TO OUTRAGE HER MODESTY</th>\n",
       "      <th>INSULT TO MODESTY OF WOMEN</th>\n",
       "      <th>CRUELTY BY HUSBAND OR HIS RELATIVES</th>\n",
       "      <th>IMPORTATION OF GIRLS FROM FOREIGN COUNTRIES</th>\n",
       "      <th>CAUSING DEATH BY NEGLIGENCE</th>\n",
       "      <th>OTHER IPC CRIMES</th>\n",
       "      <th>TOTAL IPC CRIMES</th>\n",
       "    </tr>\n",
       "  </thead>\n",
       "  <tbody>\n",
       "    <tr>\n",
       "      <th>8851</th>\n",
       "      <td>TAMIL NADU</td>\n",
       "      <td>TOTAL</td>\n",
       "      <td>2012</td>\n",
       "      <td>1949</td>\n",
       "      <td>2954</td>\n",
       "      <td>44</td>\n",
       "      <td>737</td>\n",
       "      <td>0</td>\n",
       "      <td>737</td>\n",
       "      <td>1945</td>\n",
       "      <td>...</td>\n",
       "      <td>726</td>\n",
       "      <td>22100</td>\n",
       "      <td>110</td>\n",
       "      <td>1494</td>\n",
       "      <td>382</td>\n",
       "      <td>1965</td>\n",
       "      <td>0</td>\n",
       "      <td>15499</td>\n",
       "      <td>124176</td>\n",
       "      <td>200474</td>\n",
       "    </tr>\n",
       "  </tbody>\n",
       "</table>\n",
       "<p>1 rows × 33 columns</p>\n",
       "</div>"
      ],
      "text/plain": [
       "        STATE/UT DISTRICT  YEAR  MURDER  ATTEMPT TO MURDER  \\\n",
       "8851  TAMIL NADU    TOTAL  2012    1949               2954   \n",
       "\n",
       "      CULPABLE HOMICIDE NOT AMOUNTING TO MURDER  RAPE  CUSTODIAL RAPE  \\\n",
       "8851                                         44   737               0   \n",
       "\n",
       "      OTHER RAPE  KIDNAPPING & ABDUCTION  ...  ARSON  HURT/GREVIOUS HURT  \\\n",
       "8851         737                    1945  ...    726               22100   \n",
       "\n",
       "      DOWRY DEATHS  ASSAULT ON WOMEN WITH INTENT TO OUTRAGE HER MODESTY  \\\n",
       "8851           110                                               1494     \n",
       "\n",
       "      INSULT TO MODESTY OF WOMEN  CRUELTY BY HUSBAND OR HIS RELATIVES  \\\n",
       "8851                         382                                 1965   \n",
       "\n",
       "      IMPORTATION OF GIRLS FROM FOREIGN COUNTRIES  \\\n",
       "8851                                            0   \n",
       "\n",
       "      CAUSING DEATH BY NEGLIGENCE  OTHER IPC CRIMES  TOTAL IPC CRIMES  \n",
       "8851                        15499            124176            200474  \n",
       "\n",
       "[1 rows x 33 columns]"
      ]
     },
     "execution_count": 148,
     "metadata": {},
     "output_type": "execute_result"
    }
   ],
   "source": [
    "tn_crime = crime_type[8851:8852]\n",
    "tn_crime"
   ]
  },
  {
   "cell_type": "code",
   "execution_count": 149,
   "id": "1c18d9de",
   "metadata": {},
   "outputs": [
    {
     "data": {
      "text/plain": [
       "8851    200474\n",
       "Name: TOTAL IPC CRIMES, dtype: int64"
      ]
     },
     "execution_count": 149,
     "metadata": {},
     "output_type": "execute_result"
    }
   ],
   "source": [
    "tn_crime = tn_crime['TOTAL IPC CRIMES']\n",
    "tn_crime"
   ]
  },
  {
   "cell_type": "code",
   "execution_count": 150,
   "id": "40098551",
   "metadata": {},
   "outputs": [
    {
     "data": {
      "text/html": [
       "<div>\n",
       "<style scoped>\n",
       "    .dataframe tbody tr th:only-of-type {\n",
       "        vertical-align: middle;\n",
       "    }\n",
       "\n",
       "    .dataframe tbody tr th {\n",
       "        vertical-align: top;\n",
       "    }\n",
       "\n",
       "    .dataframe thead th {\n",
       "        text-align: right;\n",
       "    }\n",
       "</style>\n",
       "<table border=\"1\" class=\"dataframe\">\n",
       "  <thead>\n",
       "    <tr style=\"text-align: right;\">\n",
       "      <th></th>\n",
       "      <th>Rank</th>\n",
       "      <th>State (S) / Union territory (UT)</th>\n",
       "      <th>Area (km2)</th>\n",
       "      <th>Region</th>\n",
       "      <th>National Share (%)</th>\n",
       "      <th>Country of comparable size (land mass)</th>\n",
       "    </tr>\n",
       "  </thead>\n",
       "  <tbody>\n",
       "    <tr>\n",
       "      <th>9</th>\n",
       "      <td>11 (S10)</td>\n",
       "      <td>Tamil Nadu</td>\n",
       "      <td>130,058</td>\n",
       "      <td>Southern</td>\n",
       "      <td>3.95</td>\n",
       "      <td>Greece</td>\n",
       "    </tr>\n",
       "  </tbody>\n",
       "</table>\n",
       "</div>"
      ],
      "text/plain": [
       "       Rank State (S) / Union territory (UT) Area (km2)    Region  \\\n",
       "9  11 (S10)                       Tamil Nadu    130,058  Southern   \n",
       "\n",
       "   National Share (%) Country of comparable size (land mass)  \n",
       "9                3.95                                 Greece  "
      ]
     },
     "execution_count": 150,
     "metadata": {},
     "output_type": "execute_result"
    }
   ],
   "source": [
    "tn_area = area[9:10]\n",
    "tn_area"
   ]
  },
  {
   "cell_type": "code",
   "execution_count": 151,
   "id": "0292ebb2",
   "metadata": {},
   "outputs": [
    {
     "data": {
      "text/plain": [
       "9    130,058\n",
       "Name: Area (km2), dtype: object"
      ]
     },
     "execution_count": 151,
     "metadata": {},
     "output_type": "execute_result"
    }
   ],
   "source": [
    "tn_area = tn_area['Area (km2)']\n",
    "tn_area"
   ]
  },
  {
   "cell_type": "code",
   "execution_count": 152,
   "id": "6c6fdbf3",
   "metadata": {},
   "outputs": [
    {
     "data": {
      "image/png": "[encoded data removed]",
      "text/plain": [
       "<Figure size 432x288 with 1 Axes>"
      ]
     },
     "metadata": {
      "needs_background": "light"
     },
     "output_type": "display_data"
    }
   ],
   "source": [
    "plt.scatter(tn_crime,tn_area)\n",
    "\n",
    "plt.xlabel('crime')\n",
    "plt.ylabel('area')\n",
    "\n",
    "plt.show()"
   ]
  },
  {
   "cell_type": "code",
   "execution_count": null,
   "id": "5967f799",
   "metadata": {},
   "outputs": [],
   "source": []
  },
  {
   "cell_type": "code",
   "execution_count": null,
   "id": "40f25a94",
   "metadata": {},
   "outputs": [],
   "source": []
  },
  {
   "cell_type": "code",
   "execution_count": 153,
   "id": "e9a48952",
   "metadata": {},
   "outputs": [],
   "source": [
    "# for Tripura"
   ]
  },
  {
   "cell_type": "code",
   "execution_count": 154,
   "id": "6f31c97d",
   "metadata": {},
   "outputs": [
    {
     "data": {
      "text/html": [
       "<div>\n",
       "<style scoped>\n",
       "    .dataframe tbody tr th:only-of-type {\n",
       "        vertical-align: middle;\n",
       "    }\n",
       "\n",
       "    .dataframe tbody tr th {\n",
       "        vertical-align: top;\n",
       "    }\n",
       "\n",
       "    .dataframe thead th {\n",
       "        text-align: right;\n",
       "    }\n",
       "</style>\n",
       "<table border=\"1\" class=\"dataframe\">\n",
       "  <thead>\n",
       "    <tr style=\"text-align: right;\">\n",
       "      <th></th>\n",
       "      <th>STATE/UT</th>\n",
       "      <th>DISTRICT</th>\n",
       "      <th>YEAR</th>\n",
       "      <th>MURDER</th>\n",
       "      <th>ATTEMPT TO MURDER</th>\n",
       "      <th>CULPABLE HOMICIDE NOT AMOUNTING TO MURDER</th>\n",
       "      <th>RAPE</th>\n",
       "      <th>CUSTODIAL RAPE</th>\n",
       "      <th>OTHER RAPE</th>\n",
       "      <th>KIDNAPPING &amp; ABDUCTION</th>\n",
       "      <th>...</th>\n",
       "      <th>ARSON</th>\n",
       "      <th>HURT/GREVIOUS HURT</th>\n",
       "      <th>DOWRY DEATHS</th>\n",
       "      <th>ASSAULT ON WOMEN WITH INTENT TO OUTRAGE HER MODESTY</th>\n",
       "      <th>INSULT TO MODESTY OF WOMEN</th>\n",
       "      <th>CRUELTY BY HUSBAND OR HIS RELATIVES</th>\n",
       "      <th>IMPORTATION OF GIRLS FROM FOREIGN COUNTRIES</th>\n",
       "      <th>CAUSING DEATH BY NEGLIGENCE</th>\n",
       "      <th>OTHER IPC CRIMES</th>\n",
       "      <th>TOTAL IPC CRIMES</th>\n",
       "    </tr>\n",
       "  </thead>\n",
       "  <tbody>\n",
       "    <tr>\n",
       "      <th>8861</th>\n",
       "      <td>TRIPURA</td>\n",
       "      <td>TOTAL</td>\n",
       "      <td>2012</td>\n",
       "      <td>124</td>\n",
       "      <td>79</td>\n",
       "      <td>2</td>\n",
       "      <td>229</td>\n",
       "      <td>0</td>\n",
       "      <td>229</td>\n",
       "      <td>139</td>\n",
       "      <td>...</td>\n",
       "      <td>59</td>\n",
       "      <td>1504</td>\n",
       "      <td>37</td>\n",
       "      <td>314</td>\n",
       "      <td>7</td>\n",
       "      <td>858</td>\n",
       "      <td>0</td>\n",
       "      <td>10</td>\n",
       "      <td>1742</td>\n",
       "      <td>6264</td>\n",
       "    </tr>\n",
       "  </tbody>\n",
       "</table>\n",
       "<p>1 rows × 33 columns</p>\n",
       "</div>"
      ],
      "text/plain": [
       "     STATE/UT DISTRICT  YEAR  MURDER  ATTEMPT TO MURDER  \\\n",
       "8861  TRIPURA    TOTAL  2012     124                 79   \n",
       "\n",
       "      CULPABLE HOMICIDE NOT AMOUNTING TO MURDER  RAPE  CUSTODIAL RAPE  \\\n",
       "8861                                          2   229               0   \n",
       "\n",
       "      OTHER RAPE  KIDNAPPING & ABDUCTION  ...  ARSON  HURT/GREVIOUS HURT  \\\n",
       "8861         229                     139  ...     59                1504   \n",
       "\n",
       "      DOWRY DEATHS  ASSAULT ON WOMEN WITH INTENT TO OUTRAGE HER MODESTY  \\\n",
       "8861            37                                                314     \n",
       "\n",
       "      INSULT TO MODESTY OF WOMEN  CRUELTY BY HUSBAND OR HIS RELATIVES  \\\n",
       "8861                           7                                  858   \n",
       "\n",
       "      IMPORTATION OF GIRLS FROM FOREIGN COUNTRIES  \\\n",
       "8861                                            0   \n",
       "\n",
       "      CAUSING DEATH BY NEGLIGENCE  OTHER IPC CRIMES  TOTAL IPC CRIMES  \n",
       "8861                           10              1742              6264  \n",
       "\n",
       "[1 rows x 33 columns]"
      ]
     },
     "execution_count": 154,
     "metadata": {},
     "output_type": "execute_result"
    }
   ],
   "source": [
    "tripura_crime = crime_type[8861:8862]\n",
    "tripura_crime"
   ]
  },
  {
   "cell_type": "code",
   "execution_count": 155,
   "id": "2e585270",
   "metadata": {},
   "outputs": [
    {
     "data": {
      "text/plain": [
       "8861    6264\n",
       "Name: TOTAL IPC CRIMES, dtype: int64"
      ]
     },
     "execution_count": 155,
     "metadata": {},
     "output_type": "execute_result"
    }
   ],
   "source": [
    "tripura_crime = tripura_crime['TOTAL IPC CRIMES']\n",
    "tripura_crime"
   ]
  },
  {
   "cell_type": "code",
   "execution_count": 156,
   "id": "1e9b2713",
   "metadata": {},
   "outputs": [
    {
     "data": {
      "text/html": [
       "<div>\n",
       "<style scoped>\n",
       "    .dataframe tbody tr th:only-of-type {\n",
       "        vertical-align: middle;\n",
       "    }\n",
       "\n",
       "    .dataframe tbody tr th {\n",
       "        vertical-align: top;\n",
       "    }\n",
       "\n",
       "    .dataframe thead th {\n",
       "        text-align: right;\n",
       "    }\n",
       "</style>\n",
       "<table border=\"1\" class=\"dataframe\">\n",
       "  <thead>\n",
       "    <tr style=\"text-align: right;\">\n",
       "      <th></th>\n",
       "      <th>Rank</th>\n",
       "      <th>State (S) / Union territory (UT)</th>\n",
       "      <th>Area (km2)</th>\n",
       "      <th>Region</th>\n",
       "      <th>National Share (%)</th>\n",
       "      <th>Country of comparable size (land mass)</th>\n",
       "    </tr>\n",
       "  </thead>\n",
       "  <tbody>\n",
       "    <tr>\n",
       "      <th>27</th>\n",
       "      <td>28 (S26)</td>\n",
       "      <td>Tripura</td>\n",
       "      <td>10,486</td>\n",
       "      <td>Northeastern</td>\n",
       "      <td>0.31</td>\n",
       "      <td>Lebanon</td>\n",
       "    </tr>\n",
       "  </tbody>\n",
       "</table>\n",
       "</div>"
      ],
      "text/plain": [
       "        Rank State (S) / Union territory (UT) Area (km2)        Region  \\\n",
       "27  28 (S26)                          Tripura     10,486  Northeastern   \n",
       "\n",
       "    National Share (%) Country of comparable size (land mass)  \n",
       "27                0.31                                Lebanon  "
      ]
     },
     "execution_count": 156,
     "metadata": {},
     "output_type": "execute_result"
    }
   ],
   "source": [
    "tripura_area = area[27:28]\n",
    "tripura_area"
   ]
  },
  {
   "cell_type": "code",
   "execution_count": 157,
   "id": "45619006",
   "metadata": {},
   "outputs": [
    {
     "data": {
      "text/plain": [
       "27    10,486\n",
       "Name: Area (km2), dtype: object"
      ]
     },
     "execution_count": 157,
     "metadata": {},
     "output_type": "execute_result"
    }
   ],
   "source": [
    "tripura_area = tripura_area['Area (km2)']\n",
    "tripura_area"
   ]
  },
  {
   "cell_type": "code",
   "execution_count": 158,
   "id": "bc62a00d",
   "metadata": {},
   "outputs": [
    {
     "data": {
      "image/png": "[encoded data removed]",
      "text/plain": [
       "<Figure size 432x288 with 1 Axes>"
      ]
     },
     "metadata": {
      "needs_background": "light"
     },
     "output_type": "display_data"
    }
   ],
   "source": [
    "plt.scatter(tripura_crime,tripura_area)\n",
    "\n",
    "plt.xlabel('crime')\n",
    "plt.ylabel('area')\n",
    "\n",
    "plt.show()"
   ]
  },
  {
   "cell_type": "code",
   "execution_count": null,
   "id": "48c06fb6",
   "metadata": {},
   "outputs": [],
   "source": []
  },
  {
   "cell_type": "code",
   "execution_count": null,
   "id": "23f7c193",
   "metadata": {},
   "outputs": [],
   "source": []
  },
  {
   "cell_type": "code",
   "execution_count": 159,
   "id": "1f57fd15",
   "metadata": {},
   "outputs": [],
   "source": [
    "# for Uttar Pradesh"
   ]
  },
  {
   "cell_type": "code",
   "execution_count": 160,
   "id": "551f49e2",
   "metadata": {},
   "outputs": [
    {
     "data": {
      "text/html": [
       "<div>\n",
       "<style scoped>\n",
       "    .dataframe tbody tr th:only-of-type {\n",
       "        vertical-align: middle;\n",
       "    }\n",
       "\n",
       "    .dataframe tbody tr th {\n",
       "        vertical-align: top;\n",
       "    }\n",
       "\n",
       "    .dataframe thead th {\n",
       "        text-align: right;\n",
       "    }\n",
       "</style>\n",
       "<table border=\"1\" class=\"dataframe\">\n",
       "  <thead>\n",
       "    <tr style=\"text-align: right;\">\n",
       "      <th></th>\n",
       "      <th>STATE/UT</th>\n",
       "      <th>DISTRICT</th>\n",
       "      <th>YEAR</th>\n",
       "      <th>MURDER</th>\n",
       "      <th>ATTEMPT TO MURDER</th>\n",
       "      <th>CULPABLE HOMICIDE NOT AMOUNTING TO MURDER</th>\n",
       "      <th>RAPE</th>\n",
       "      <th>CUSTODIAL RAPE</th>\n",
       "      <th>OTHER RAPE</th>\n",
       "      <th>KIDNAPPING &amp; ABDUCTION</th>\n",
       "      <th>...</th>\n",
       "      <th>ARSON</th>\n",
       "      <th>HURT/GREVIOUS HURT</th>\n",
       "      <th>DOWRY DEATHS</th>\n",
       "      <th>ASSAULT ON WOMEN WITH INTENT TO OUTRAGE HER MODESTY</th>\n",
       "      <th>INSULT TO MODESTY OF WOMEN</th>\n",
       "      <th>CRUELTY BY HUSBAND OR HIS RELATIVES</th>\n",
       "      <th>IMPORTATION OF GIRLS FROM FOREIGN COUNTRIES</th>\n",
       "      <th>CAUSING DEATH BY NEGLIGENCE</th>\n",
       "      <th>OTHER IPC CRIMES</th>\n",
       "      <th>TOTAL IPC CRIMES</th>\n",
       "    </tr>\n",
       "  </thead>\n",
       "  <tbody>\n",
       "    <tr>\n",
       "      <th>8938</th>\n",
       "      <td>UTTAR PRADESH</td>\n",
       "      <td>TOTAL</td>\n",
       "      <td>2012</td>\n",
       "      <td>4966</td>\n",
       "      <td>4811</td>\n",
       "      <td>1410</td>\n",
       "      <td>1963</td>\n",
       "      <td>0</td>\n",
       "      <td>1963</td>\n",
       "      <td>8878</td>\n",
       "      <td>...</td>\n",
       "      <td>327</td>\n",
       "      <td>12290</td>\n",
       "      <td>2244</td>\n",
       "      <td>3247</td>\n",
       "      <td>8</td>\n",
       "      <td>7661</td>\n",
       "      <td>0</td>\n",
       "      <td>14406</td>\n",
       "      <td>68538</td>\n",
       "      <td>198093</td>\n",
       "    </tr>\n",
       "  </tbody>\n",
       "</table>\n",
       "<p>1 rows × 33 columns</p>\n",
       "</div>"
      ],
      "text/plain": [
       "           STATE/UT DISTRICT  YEAR  MURDER  ATTEMPT TO MURDER  \\\n",
       "8938  UTTAR PRADESH    TOTAL  2012    4966               4811   \n",
       "\n",
       "      CULPABLE HOMICIDE NOT AMOUNTING TO MURDER  RAPE  CUSTODIAL RAPE  \\\n",
       "8938                                       1410  1963               0   \n",
       "\n",
       "      OTHER RAPE  KIDNAPPING & ABDUCTION  ...  ARSON  HURT/GREVIOUS HURT  \\\n",
       "8938        1963                    8878  ...    327               12290   \n",
       "\n",
       "      DOWRY DEATHS  ASSAULT ON WOMEN WITH INTENT TO OUTRAGE HER MODESTY  \\\n",
       "8938          2244                                               3247     \n",
       "\n",
       "      INSULT TO MODESTY OF WOMEN  CRUELTY BY HUSBAND OR HIS RELATIVES  \\\n",
       "8938                           8                                 7661   \n",
       "\n",
       "      IMPORTATION OF GIRLS FROM FOREIGN COUNTRIES  \\\n",
       "8938                                            0   \n",
       "\n",
       "      CAUSING DEATH BY NEGLIGENCE  OTHER IPC CRIMES  TOTAL IPC CRIMES  \n",
       "8938                        14406             68538            198093  \n",
       "\n",
       "[1 rows x 33 columns]"
      ]
     },
     "execution_count": 160,
     "metadata": {},
     "output_type": "execute_result"
    }
   ],
   "source": [
    "up_crime = crime_type[8938:8939]\n",
    "up_crime"
   ]
  },
  {
   "cell_type": "code",
   "execution_count": 161,
   "id": "0c998d5b",
   "metadata": {},
   "outputs": [
    {
     "data": {
      "text/plain": [
       "8938    198093\n",
       "Name: TOTAL IPC CRIMES, dtype: int64"
      ]
     },
     "execution_count": 161,
     "metadata": {},
     "output_type": "execute_result"
    }
   ],
   "source": [
    "up_crime = up_crime['TOTAL IPC CRIMES']\n",
    "up_crime"
   ]
  },
  {
   "cell_type": "code",
   "execution_count": 162,
   "id": "758b2b84",
   "metadata": {},
   "outputs": [
    {
     "data": {
      "text/html": [
       "<div>\n",
       "<style scoped>\n",
       "    .dataframe tbody tr th:only-of-type {\n",
       "        vertical-align: middle;\n",
       "    }\n",
       "\n",
       "    .dataframe tbody tr th {\n",
       "        vertical-align: top;\n",
       "    }\n",
       "\n",
       "    .dataframe thead th {\n",
       "        text-align: right;\n",
       "    }\n",
       "</style>\n",
       "<table border=\"1\" class=\"dataframe\">\n",
       "  <thead>\n",
       "    <tr style=\"text-align: right;\">\n",
       "      <th></th>\n",
       "      <th>Rank</th>\n",
       "      <th>State (S) / Union territory (UT)</th>\n",
       "      <th>Area (km2)</th>\n",
       "      <th>Region</th>\n",
       "      <th>National Share (%)</th>\n",
       "      <th>Country of comparable size (land mass)</th>\n",
       "    </tr>\n",
       "  </thead>\n",
       "  <tbody>\n",
       "    <tr>\n",
       "      <th>3</th>\n",
       "      <td>4 (S4)</td>\n",
       "      <td>Uttar Pradesh</td>\n",
       "      <td>240,928</td>\n",
       "      <td>Northern</td>\n",
       "      <td>7.33</td>\n",
       "      <td>United Kingdom</td>\n",
       "    </tr>\n",
       "  </tbody>\n",
       "</table>\n",
       "</div>"
      ],
      "text/plain": [
       "     Rank State (S) / Union territory (UT) Area (km2)    Region  \\\n",
       "3  4 (S4)                    Uttar Pradesh    240,928  Northern   \n",
       "\n",
       "   National Share (%) Country of comparable size (land mass)  \n",
       "3                7.33                         United Kingdom  "
      ]
     },
     "execution_count": 162,
     "metadata": {},
     "output_type": "execute_result"
    }
   ],
   "source": [
    "up_area = area[3:4]\n",
    "up_area"
   ]
  },
  {
   "cell_type": "code",
   "execution_count": 163,
   "id": "8397c5b3",
   "metadata": {},
   "outputs": [
    {
     "data": {
      "text/plain": [
       "3    240,928\n",
       "Name: Area (km2), dtype: object"
      ]
     },
     "execution_count": 163,
     "metadata": {},
     "output_type": "execute_result"
    }
   ],
   "source": [
    "up_area = up_area['Area (km2)']\n",
    "up_area"
   ]
  },
  {
   "cell_type": "code",
   "execution_count": 164,
   "id": "9d6ad857",
   "metadata": {},
   "outputs": [
    {
     "data": {
      "image/png": "[encoded data removed]",
      "text/plain": [
       "<Figure size 432x288 with 1 Axes>"
      ]
     },
     "metadata": {
      "needs_background": "light"
     },
     "output_type": "display_data"
    }
   ],
   "source": [
    "plt.scatter(up_crime,up_area)\n",
    "\n",
    "plt.xlabel('crime')\n",
    "plt.ylabel('area')\n",
    "\n",
    "plt.show()"
   ]
  },
  {
   "cell_type": "code",
   "execution_count": null,
   "id": "d4874a8a",
   "metadata": {},
   "outputs": [],
   "source": []
  },
  {
   "cell_type": "code",
   "execution_count": null,
   "id": "d130f10d",
   "metadata": {},
   "outputs": [],
   "source": []
  },
  {
   "cell_type": "code",
   "execution_count": 165,
   "id": "9376658a",
   "metadata": {},
   "outputs": [],
   "source": [
    "# for Uttarakhand"
   ]
  },
  {
   "cell_type": "code",
   "execution_count": 166,
   "id": "4b36cd67",
   "metadata": {},
   "outputs": [
    {
     "data": {
      "text/html": [
       "<div>\n",
       "<style scoped>\n",
       "    .dataframe tbody tr th:only-of-type {\n",
       "        vertical-align: middle;\n",
       "    }\n",
       "\n",
       "    .dataframe tbody tr th {\n",
       "        vertical-align: top;\n",
       "    }\n",
       "\n",
       "    .dataframe thead th {\n",
       "        text-align: right;\n",
       "    }\n",
       "</style>\n",
       "<table border=\"1\" class=\"dataframe\">\n",
       "  <thead>\n",
       "    <tr style=\"text-align: right;\">\n",
       "      <th></th>\n",
       "      <th>STATE/UT</th>\n",
       "      <th>DISTRICT</th>\n",
       "      <th>YEAR</th>\n",
       "      <th>MURDER</th>\n",
       "      <th>ATTEMPT TO MURDER</th>\n",
       "      <th>CULPABLE HOMICIDE NOT AMOUNTING TO MURDER</th>\n",
       "      <th>RAPE</th>\n",
       "      <th>CUSTODIAL RAPE</th>\n",
       "      <th>OTHER RAPE</th>\n",
       "      <th>KIDNAPPING &amp; ABDUCTION</th>\n",
       "      <th>...</th>\n",
       "      <th>ARSON</th>\n",
       "      <th>HURT/GREVIOUS HURT</th>\n",
       "      <th>DOWRY DEATHS</th>\n",
       "      <th>ASSAULT ON WOMEN WITH INTENT TO OUTRAGE HER MODESTY</th>\n",
       "      <th>INSULT TO MODESTY OF WOMEN</th>\n",
       "      <th>CRUELTY BY HUSBAND OR HIS RELATIVES</th>\n",
       "      <th>IMPORTATION OF GIRLS FROM FOREIGN COUNTRIES</th>\n",
       "      <th>CAUSING DEATH BY NEGLIGENCE</th>\n",
       "      <th>OTHER IPC CRIMES</th>\n",
       "      <th>TOTAL IPC CRIMES</th>\n",
       "    </tr>\n",
       "  </thead>\n",
       "  <tbody>\n",
       "    <tr>\n",
       "      <th>8952</th>\n",
       "      <td>UTTARAKHAND</td>\n",
       "      <td>TOTAL</td>\n",
       "      <td>2012</td>\n",
       "      <td>217</td>\n",
       "      <td>161</td>\n",
       "      <td>44</td>\n",
       "      <td>148</td>\n",
       "      <td>0</td>\n",
       "      <td>148</td>\n",
       "      <td>297</td>\n",
       "      <td>...</td>\n",
       "      <td>17</td>\n",
       "      <td>1022</td>\n",
       "      <td>71</td>\n",
       "      <td>139</td>\n",
       "      <td>73</td>\n",
       "      <td>368</td>\n",
       "      <td>0</td>\n",
       "      <td>670</td>\n",
       "      <td>2118</td>\n",
       "      <td>8882</td>\n",
       "    </tr>\n",
       "  </tbody>\n",
       "</table>\n",
       "<p>1 rows × 33 columns</p>\n",
       "</div>"
      ],
      "text/plain": [
       "         STATE/UT DISTRICT  YEAR  MURDER  ATTEMPT TO MURDER  \\\n",
       "8952  UTTARAKHAND    TOTAL  2012     217                161   \n",
       "\n",
       "      CULPABLE HOMICIDE NOT AMOUNTING TO MURDER  RAPE  CUSTODIAL RAPE  \\\n",
       "8952                                         44   148               0   \n",
       "\n",
       "      OTHER RAPE  KIDNAPPING & ABDUCTION  ...  ARSON  HURT/GREVIOUS HURT  \\\n",
       "8952         148                     297  ...     17                1022   \n",
       "\n",
       "      DOWRY DEATHS  ASSAULT ON WOMEN WITH INTENT TO OUTRAGE HER MODESTY  \\\n",
       "8952            71                                                139     \n",
       "\n",
       "      INSULT TO MODESTY OF WOMEN  CRUELTY BY HUSBAND OR HIS RELATIVES  \\\n",
       "8952                          73                                  368   \n",
       "\n",
       "      IMPORTATION OF GIRLS FROM FOREIGN COUNTRIES  \\\n",
       "8952                                            0   \n",
       "\n",
       "      CAUSING DEATH BY NEGLIGENCE  OTHER IPC CRIMES  TOTAL IPC CRIMES  \n",
       "8952                          670              2118              8882  \n",
       "\n",
       "[1 rows x 33 columns]"
      ]
     },
     "execution_count": 166,
     "metadata": {},
     "output_type": "execute_result"
    }
   ],
   "source": [
    "uk_crime = crime_type[8952:8953]\n",
    "uk_crime"
   ]
  },
  {
   "cell_type": "code",
   "execution_count": 167,
   "id": "e3390d93",
   "metadata": {},
   "outputs": [
    {
     "data": {
      "text/plain": [
       "8952    8882\n",
       "Name: TOTAL IPC CRIMES, dtype: int64"
      ]
     },
     "execution_count": 167,
     "metadata": {},
     "output_type": "execute_result"
    }
   ],
   "source": [
    "uk_crime = uk_crime['TOTAL IPC CRIMES']\n",
    "uk_crime"
   ]
  },
  {
   "cell_type": "code",
   "execution_count": 168,
   "id": "eb695d73",
   "metadata": {},
   "outputs": [
    {
     "data": {
      "text/html": [
       "<div>\n",
       "<style scoped>\n",
       "    .dataframe tbody tr th:only-of-type {\n",
       "        vertical-align: middle;\n",
       "    }\n",
       "\n",
       "    .dataframe tbody tr th {\n",
       "        vertical-align: top;\n",
       "    }\n",
       "\n",
       "    .dataframe thead th {\n",
       "        text-align: right;\n",
       "    }\n",
       "</style>\n",
       "<table border=\"1\" class=\"dataframe\">\n",
       "  <thead>\n",
       "    <tr style=\"text-align: right;\">\n",
       "      <th></th>\n",
       "      <th>Rank</th>\n",
       "      <th>State (S) / Union territory (UT)</th>\n",
       "      <th>Area (km2)</th>\n",
       "      <th>Region</th>\n",
       "      <th>National Share (%)</th>\n",
       "      <th>Country of comparable size (land mass)</th>\n",
       "    </tr>\n",
       "  </thead>\n",
       "  <tbody>\n",
       "    <tr>\n",
       "      <th>18</th>\n",
       "      <td>20 (S18)</td>\n",
       "      <td>Uttarakhand</td>\n",
       "      <td>53,483</td>\n",
       "      <td>Northern</td>\n",
       "      <td>1.62</td>\n",
       "      <td>Bosnia and Herzegovina</td>\n",
       "    </tr>\n",
       "  </tbody>\n",
       "</table>\n",
       "</div>"
      ],
      "text/plain": [
       "        Rank State (S) / Union territory (UT) Area (km2)    Region  \\\n",
       "18  20 (S18)                      Uttarakhand     53,483  Northern   \n",
       "\n",
       "    National Share (%) Country of comparable size (land mass)  \n",
       "18                1.62                 Bosnia and Herzegovina  "
      ]
     },
     "execution_count": 168,
     "metadata": {},
     "output_type": "execute_result"
    }
   ],
   "source": [
    "uk_area = area[18:19]\n",
    "uk_area"
   ]
  },
  {
   "cell_type": "code",
   "execution_count": 169,
   "id": "a16d3ef5",
   "metadata": {},
   "outputs": [
    {
     "data": {
      "text/plain": [
       "18    53,483\n",
       "Name: Area (km2), dtype: object"
      ]
     },
     "execution_count": 169,
     "metadata": {},
     "output_type": "execute_result"
    }
   ],
   "source": [
    "uk_area = uk_area['Area (km2)']\n",
    "uk_area"
   ]
  },
  {
   "cell_type": "code",
   "execution_count": 170,
   "id": "71ca03c8",
   "metadata": {},
   "outputs": [
    {
     "data": {
      "image/png": "[encoded data removed]",
      "text/plain": [
       "<Figure size 432x288 with 1 Axes>"
      ]
     },
     "metadata": {
      "needs_background": "light"
     },
     "output_type": "display_data"
    }
   ],
   "source": [
    "plt.scatter(uk_crime,uk_area)\n",
    "\n",
    "plt.xlabel('crime')\n",
    "plt.ylabel('area')\n",
    "\n",
    "plt.show()"
   ]
  },
  {
   "cell_type": "code",
   "execution_count": null,
   "id": "849b74e6",
   "metadata": {},
   "outputs": [],
   "source": []
  },
  {
   "cell_type": "code",
   "execution_count": null,
   "id": "9b3d68d3",
   "metadata": {},
   "outputs": [],
   "source": []
  },
  {
   "cell_type": "code",
   "execution_count": 171,
   "id": "f072a3bd",
   "metadata": {},
   "outputs": [],
   "source": [
    "# for West Bengal"
   ]
  },
  {
   "cell_type": "code",
   "execution_count": 172,
   "id": "e4addb1d",
   "metadata": {},
   "outputs": [
    {
     "data": {
      "text/html": [
       "<div>\n",
       "<style scoped>\n",
       "    .dataframe tbody tr th:only-of-type {\n",
       "        vertical-align: middle;\n",
       "    }\n",
       "\n",
       "    .dataframe tbody tr th {\n",
       "        vertical-align: top;\n",
       "    }\n",
       "\n",
       "    .dataframe thead th {\n",
       "        text-align: right;\n",
       "    }\n",
       "</style>\n",
       "<table border=\"1\" class=\"dataframe\">\n",
       "  <thead>\n",
       "    <tr style=\"text-align: right;\">\n",
       "      <th></th>\n",
       "      <th>STATE/UT</th>\n",
       "      <th>DISTRICT</th>\n",
       "      <th>YEAR</th>\n",
       "      <th>MURDER</th>\n",
       "      <th>ATTEMPT TO MURDER</th>\n",
       "      <th>CULPABLE HOMICIDE NOT AMOUNTING TO MURDER</th>\n",
       "      <th>RAPE</th>\n",
       "      <th>CUSTODIAL RAPE</th>\n",
       "      <th>OTHER RAPE</th>\n",
       "      <th>KIDNAPPING &amp; ABDUCTION</th>\n",
       "      <th>...</th>\n",
       "      <th>ARSON</th>\n",
       "      <th>HURT/GREVIOUS HURT</th>\n",
       "      <th>DOWRY DEATHS</th>\n",
       "      <th>ASSAULT ON WOMEN WITH INTENT TO OUTRAGE HER MODESTY</th>\n",
       "      <th>INSULT TO MODESTY OF WOMEN</th>\n",
       "      <th>CRUELTY BY HUSBAND OR HIS RELATIVES</th>\n",
       "      <th>IMPORTATION OF GIRLS FROM FOREIGN COUNTRIES</th>\n",
       "      <th>CAUSING DEATH BY NEGLIGENCE</th>\n",
       "      <th>OTHER IPC CRIMES</th>\n",
       "      <th>TOTAL IPC CRIMES</th>\n",
       "    </tr>\n",
       "  </thead>\n",
       "  <tbody>\n",
       "    <tr>\n",
       "      <th>8982</th>\n",
       "      <td>WEST BENGAL</td>\n",
       "      <td>TOTAL</td>\n",
       "      <td>2012</td>\n",
       "      <td>2252</td>\n",
       "      <td>2854</td>\n",
       "      <td>522</td>\n",
       "      <td>2046</td>\n",
       "      <td>0</td>\n",
       "      <td>2046</td>\n",
       "      <td>5117</td>\n",
       "      <td>...</td>\n",
       "      <td>396</td>\n",
       "      <td>15923</td>\n",
       "      <td>593</td>\n",
       "      <td>3345</td>\n",
       "      <td>556</td>\n",
       "      <td>19865</td>\n",
       "      <td>12</td>\n",
       "      <td>4385</td>\n",
       "      <td>64482</td>\n",
       "      <td>161427</td>\n",
       "    </tr>\n",
       "  </tbody>\n",
       "</table>\n",
       "<p>1 rows × 33 columns</p>\n",
       "</div>"
      ],
      "text/plain": [
       "         STATE/UT DISTRICT  YEAR  MURDER  ATTEMPT TO MURDER  \\\n",
       "8982  WEST BENGAL    TOTAL  2012    2252               2854   \n",
       "\n",
       "      CULPABLE HOMICIDE NOT AMOUNTING TO MURDER  RAPE  CUSTODIAL RAPE  \\\n",
       "8982                                        522  2046               0   \n",
       "\n",
       "      OTHER RAPE  KIDNAPPING & ABDUCTION  ...  ARSON  HURT/GREVIOUS HURT  \\\n",
       "8982        2046                    5117  ...    396               15923   \n",
       "\n",
       "      DOWRY DEATHS  ASSAULT ON WOMEN WITH INTENT TO OUTRAGE HER MODESTY  \\\n",
       "8982           593                                               3345     \n",
       "\n",
       "      INSULT TO MODESTY OF WOMEN  CRUELTY BY HUSBAND OR HIS RELATIVES  \\\n",
       "8982                         556                                19865   \n",
       "\n",
       "      IMPORTATION OF GIRLS FROM FOREIGN COUNTRIES  \\\n",
       "8982                                           12   \n",
       "\n",
       "      CAUSING DEATH BY NEGLIGENCE  OTHER IPC CRIMES  TOTAL IPC CRIMES  \n",
       "8982                         4385             64482            161427  \n",
       "\n",
       "[1 rows x 33 columns]"
      ]
     },
     "execution_count": 172,
     "metadata": {},
     "output_type": "execute_result"
    }
   ],
   "source": [
    "wb_crime = crime_type[8982:8983]\n",
    "wb_crime"
   ]
  },
  {
   "cell_type": "code",
   "execution_count": 173,
   "id": "c4e74730",
   "metadata": {},
   "outputs": [
    {
     "data": {
      "text/plain": [
       "8982    161427\n",
       "Name: TOTAL IPC CRIMES, dtype: int64"
      ]
     },
     "execution_count": 173,
     "metadata": {},
     "output_type": "execute_result"
    }
   ],
   "source": [
    "wb_crime = wb_crime['TOTAL IPC CRIMES']\n",
    "wb_crime"
   ]
  },
  {
   "cell_type": "code",
   "execution_count": 174,
   "id": "22876ea0",
   "metadata": {},
   "outputs": [
    {
     "data": {
      "text/html": [
       "<div>\n",
       "<style scoped>\n",
       "    .dataframe tbody tr th:only-of-type {\n",
       "        vertical-align: middle;\n",
       "    }\n",
       "\n",
       "    .dataframe tbody tr th {\n",
       "        vertical-align: top;\n",
       "    }\n",
       "\n",
       "    .dataframe thead th {\n",
       "        text-align: right;\n",
       "    }\n",
       "</style>\n",
       "<table border=\"1\" class=\"dataframe\">\n",
       "  <thead>\n",
       "    <tr style=\"text-align: right;\">\n",
       "      <th></th>\n",
       "      <th>Rank</th>\n",
       "      <th>State (S) / Union territory (UT)</th>\n",
       "      <th>Area (km2)</th>\n",
       "      <th>Region</th>\n",
       "      <th>National Share (%)</th>\n",
       "      <th>Country of comparable size (land mass)</th>\n",
       "    </tr>\n",
       "  </thead>\n",
       "  <tbody>\n",
       "    <tr>\n",
       "      <th>13</th>\n",
       "      <td>14 (S13)</td>\n",
       "      <td>West Bengal</td>\n",
       "      <td>88,752</td>\n",
       "      <td>Eastern</td>\n",
       "      <td>2.7</td>\n",
       "      <td>Serbia</td>\n",
       "    </tr>\n",
       "  </tbody>\n",
       "</table>\n",
       "</div>"
      ],
      "text/plain": [
       "        Rank State (S) / Union territory (UT) Area (km2)   Region  \\\n",
       "13  14 (S13)                      West Bengal     88,752  Eastern   \n",
       "\n",
       "    National Share (%) Country of comparable size (land mass)  \n",
       "13                 2.7                                 Serbia  "
      ]
     },
     "execution_count": 174,
     "metadata": {},
     "output_type": "execute_result"
    }
   ],
   "source": [
    "wb_area = area[13:14]\n",
    "wb_area"
   ]
  },
  {
   "cell_type": "code",
   "execution_count": 175,
   "id": "ed8401d0",
   "metadata": {},
   "outputs": [
    {
     "data": {
      "text/plain": [
       "13    88,752\n",
       "Name: Area (km2), dtype: object"
      ]
     },
     "execution_count": 175,
     "metadata": {},
     "output_type": "execute_result"
    }
   ],
   "source": [
    "wb_area = wb_area['Area (km2)']\n",
    "wb_area"
   ]
  },
  {
   "cell_type": "code",
   "execution_count": 176,
   "id": "7f7741df",
   "metadata": {},
   "outputs": [
    {
     "data": {
      "image/png": "[encoded data removed]",
      "text/plain": [
       "<Figure size 432x288 with 1 Axes>"
      ]
     },
     "metadata": {
      "needs_background": "light"
     },
     "output_type": "display_data"
    }
   ],
   "source": [
    "plt.scatter(wb_crime,wb_area)\n",
    "\n",
    "plt.xlabel('crime')\n",
    "plt.ylabel('area')\n",
    "\n",
    "plt.show()"
   ]
  },
  {
   "cell_type": "code",
   "execution_count": null,
   "id": "48d67b6e",
   "metadata": {},
   "outputs": [],
   "source": []
  },
  {
   "cell_type": "code",
   "execution_count": null,
   "id": "c071c629",
   "metadata": {},
   "outputs": [],
   "source": []
  },
  {
   "cell_type": "code",
   "execution_count": 177,
   "id": "90005988",
   "metadata": {},
   "outputs": [],
   "source": [
    "# for Andman & Nicobar"
   ]
  },
  {
   "cell_type": "code",
   "execution_count": 178,
   "id": "d728a96e",
   "metadata": {},
   "outputs": [
    {
     "data": {
      "text/html": [
       "<div>\n",
       "<style scoped>\n",
       "    .dataframe tbody tr th:only-of-type {\n",
       "        vertical-align: middle;\n",
       "    }\n",
       "\n",
       "    .dataframe tbody tr th {\n",
       "        vertical-align: top;\n",
       "    }\n",
       "\n",
       "    .dataframe thead th {\n",
       "        text-align: right;\n",
       "    }\n",
       "</style>\n",
       "<table border=\"1\" class=\"dataframe\">\n",
       "  <thead>\n",
       "    <tr style=\"text-align: right;\">\n",
       "      <th></th>\n",
       "      <th>STATE/UT</th>\n",
       "      <th>DISTRICT</th>\n",
       "      <th>YEAR</th>\n",
       "      <th>MURDER</th>\n",
       "      <th>ATTEMPT TO MURDER</th>\n",
       "      <th>CULPABLE HOMICIDE NOT AMOUNTING TO MURDER</th>\n",
       "      <th>RAPE</th>\n",
       "      <th>CUSTODIAL RAPE</th>\n",
       "      <th>OTHER RAPE</th>\n",
       "      <th>KIDNAPPING &amp; ABDUCTION</th>\n",
       "      <th>...</th>\n",
       "      <th>ARSON</th>\n",
       "      <th>HURT/GREVIOUS HURT</th>\n",
       "      <th>DOWRY DEATHS</th>\n",
       "      <th>ASSAULT ON WOMEN WITH INTENT TO OUTRAGE HER MODESTY</th>\n",
       "      <th>INSULT TO MODESTY OF WOMEN</th>\n",
       "      <th>CRUELTY BY HUSBAND OR HIS RELATIVES</th>\n",
       "      <th>IMPORTATION OF GIRLS FROM FOREIGN COUNTRIES</th>\n",
       "      <th>CAUSING DEATH BY NEGLIGENCE</th>\n",
       "      <th>OTHER IPC CRIMES</th>\n",
       "      <th>TOTAL IPC CRIMES</th>\n",
       "    </tr>\n",
       "  </thead>\n",
       "  <tbody>\n",
       "    <tr>\n",
       "      <th>8986</th>\n",
       "      <td>A &amp; N ISLANDS</td>\n",
       "      <td>TOTAL</td>\n",
       "      <td>2012</td>\n",
       "      <td>15</td>\n",
       "      <td>3</td>\n",
       "      <td>0</td>\n",
       "      <td>12</td>\n",
       "      <td>0</td>\n",
       "      <td>12</td>\n",
       "      <td>8</td>\n",
       "      <td>...</td>\n",
       "      <td>4</td>\n",
       "      <td>62</td>\n",
       "      <td>2</td>\n",
       "      <td>17</td>\n",
       "      <td>4</td>\n",
       "      <td>5</td>\n",
       "      <td>0</td>\n",
       "      <td>6</td>\n",
       "      <td>351</td>\n",
       "      <td>683</td>\n",
       "    </tr>\n",
       "  </tbody>\n",
       "</table>\n",
       "<p>1 rows × 33 columns</p>\n",
       "</div>"
      ],
      "text/plain": [
       "           STATE/UT DISTRICT  YEAR  MURDER  ATTEMPT TO MURDER  \\\n",
       "8986  A & N ISLANDS    TOTAL  2012      15                  3   \n",
       "\n",
       "      CULPABLE HOMICIDE NOT AMOUNTING TO MURDER  RAPE  CUSTODIAL RAPE  \\\n",
       "8986                                          0    12               0   \n",
       "\n",
       "      OTHER RAPE  KIDNAPPING & ABDUCTION  ...  ARSON  HURT/GREVIOUS HURT  \\\n",
       "8986          12                       8  ...      4                  62   \n",
       "\n",
       "      DOWRY DEATHS  ASSAULT ON WOMEN WITH INTENT TO OUTRAGE HER MODESTY  \\\n",
       "8986             2                                                 17     \n",
       "\n",
       "      INSULT TO MODESTY OF WOMEN  CRUELTY BY HUSBAND OR HIS RELATIVES  \\\n",
       "8986                           4                                    5   \n",
       "\n",
       "      IMPORTATION OF GIRLS FROM FOREIGN COUNTRIES  \\\n",
       "8986                                            0   \n",
       "\n",
       "      CAUSING DEATH BY NEGLIGENCE  OTHER IPC CRIMES  TOTAL IPC CRIMES  \n",
       "8986                            6               351               683  \n",
       "\n",
       "[1 rows x 33 columns]"
      ]
     },
     "execution_count": 178,
     "metadata": {},
     "output_type": "execute_result"
    }
   ],
   "source": [
    "and_crime = crime_type[8986:8987]\n",
    "and_crime"
   ]
  },
  {
   "cell_type": "code",
   "execution_count": 179,
   "id": "00b97704",
   "metadata": {},
   "outputs": [
    {
     "data": {
      "text/plain": [
       "8986    683\n",
       "Name: TOTAL IPC CRIMES, dtype: int64"
      ]
     },
     "execution_count": 179,
     "metadata": {},
     "output_type": "execute_result"
    }
   ],
   "source": [
    "and_crime = and_crime['TOTAL IPC CRIMES']\n",
    "and_crime"
   ]
  },
  {
   "cell_type": "code",
   "execution_count": 180,
   "id": "6827972b",
   "metadata": {},
   "outputs": [
    {
     "data": {
      "text/html": [
       "<div>\n",
       "<style scoped>\n",
       "    .dataframe tbody tr th:only-of-type {\n",
       "        vertical-align: middle;\n",
       "    }\n",
       "\n",
       "    .dataframe tbody tr th {\n",
       "        vertical-align: top;\n",
       "    }\n",
       "\n",
       "    .dataframe thead th {\n",
       "        text-align: right;\n",
       "    }\n",
       "</style>\n",
       "<table border=\"1\" class=\"dataframe\">\n",
       "  <thead>\n",
       "    <tr style=\"text-align: right;\">\n",
       "      <th></th>\n",
       "      <th>Rank</th>\n",
       "      <th>State (S) / Union territory (UT)</th>\n",
       "      <th>Area (km2)</th>\n",
       "      <th>Region</th>\n",
       "      <th>National Share (%)</th>\n",
       "      <th>Country of comparable size (land mass)</th>\n",
       "    </tr>\n",
       "  </thead>\n",
       "  <tbody>\n",
       "    <tr>\n",
       "      <th>28</th>\n",
       "      <td>29 (UT3)</td>\n",
       "      <td>Andaman and Nicobar Islands</td>\n",
       "      <td>8,249</td>\n",
       "      <td>Bay of Bengal</td>\n",
       "      <td>0.25</td>\n",
       "      <td>Puerto Rico</td>\n",
       "    </tr>\n",
       "  </tbody>\n",
       "</table>\n",
       "</div>"
      ],
      "text/plain": [
       "        Rank State (S) / Union territory (UT) Area (km2)         Region  \\\n",
       "28  29 (UT3)      Andaman and Nicobar Islands      8,249  Bay of Bengal   \n",
       "\n",
       "    National Share (%) Country of comparable size (land mass)  \n",
       "28                0.25                            Puerto Rico  "
      ]
     },
     "execution_count": 180,
     "metadata": {},
     "output_type": "execute_result"
    }
   ],
   "source": [
    "and_area = area[28:29]\n",
    "and_area"
   ]
  },
  {
   "cell_type": "code",
   "execution_count": 181,
   "id": "ba4f28e6",
   "metadata": {},
   "outputs": [
    {
     "data": {
      "text/plain": [
       "28    8,249\n",
       "Name: Area (km2), dtype: object"
      ]
     },
     "execution_count": 181,
     "metadata": {},
     "output_type": "execute_result"
    }
   ],
   "source": [
    "and_area = and_area['Area (km2)']\n",
    "and_area"
   ]
  },
  {
   "cell_type": "code",
   "execution_count": 182,
   "id": "6ec09e3b",
   "metadata": {},
   "outputs": [
    {
     "data": {
      "image/png": "[encoded data removed]",
      "text/plain": [
       "<Figure size 432x288 with 1 Axes>"
      ]
     },
     "metadata": {
      "needs_background": "light"
     },
     "output_type": "display_data"
    }
   ],
   "source": [
    "plt.scatter(and_crime,and_area)\n",
    "\n",
    "plt.xlabel('crime')\n",
    "plt.ylabel('area')\n",
    "\n",
    "plt.show()"
   ]
  },
  {
   "cell_type": "code",
   "execution_count": null,
   "id": "ed9f7524",
   "metadata": {},
   "outputs": [],
   "source": []
  },
  {
   "cell_type": "code",
   "execution_count": null,
   "id": "0048e0b6",
   "metadata": {},
   "outputs": [],
   "source": []
  },
  {
   "cell_type": "code",
   "execution_count": 183,
   "id": "914fc633",
   "metadata": {},
   "outputs": [],
   "source": [
    "# for Chandigarh"
   ]
  },
  {
   "cell_type": "code",
   "execution_count": 184,
   "id": "d41caa59",
   "metadata": {},
   "outputs": [
    {
     "data": {
      "text/html": [
       "<div>\n",
       "<style scoped>\n",
       "    .dataframe tbody tr th:only-of-type {\n",
       "        vertical-align: middle;\n",
       "    }\n",
       "\n",
       "    .dataframe tbody tr th {\n",
       "        vertical-align: top;\n",
       "    }\n",
       "\n",
       "    .dataframe thead th {\n",
       "        text-align: right;\n",
       "    }\n",
       "</style>\n",
       "<table border=\"1\" class=\"dataframe\">\n",
       "  <thead>\n",
       "    <tr style=\"text-align: right;\">\n",
       "      <th></th>\n",
       "      <th>STATE/UT</th>\n",
       "      <th>DISTRICT</th>\n",
       "      <th>YEAR</th>\n",
       "      <th>MURDER</th>\n",
       "      <th>ATTEMPT TO MURDER</th>\n",
       "      <th>CULPABLE HOMICIDE NOT AMOUNTING TO MURDER</th>\n",
       "      <th>RAPE</th>\n",
       "      <th>CUSTODIAL RAPE</th>\n",
       "      <th>OTHER RAPE</th>\n",
       "      <th>KIDNAPPING &amp; ABDUCTION</th>\n",
       "      <th>...</th>\n",
       "      <th>ARSON</th>\n",
       "      <th>HURT/GREVIOUS HURT</th>\n",
       "      <th>DOWRY DEATHS</th>\n",
       "      <th>ASSAULT ON WOMEN WITH INTENT TO OUTRAGE HER MODESTY</th>\n",
       "      <th>INSULT TO MODESTY OF WOMEN</th>\n",
       "      <th>CRUELTY BY HUSBAND OR HIS RELATIVES</th>\n",
       "      <th>IMPORTATION OF GIRLS FROM FOREIGN COUNTRIES</th>\n",
       "      <th>CAUSING DEATH BY NEGLIGENCE</th>\n",
       "      <th>OTHER IPC CRIMES</th>\n",
       "      <th>TOTAL IPC CRIMES</th>\n",
       "    </tr>\n",
       "  </thead>\n",
       "  <tbody>\n",
       "    <tr>\n",
       "      <th>8988</th>\n",
       "      <td>CHANDIGARH</td>\n",
       "      <td>TOTAL</td>\n",
       "      <td>2012</td>\n",
       "      <td>21</td>\n",
       "      <td>44</td>\n",
       "      <td>5</td>\n",
       "      <td>27</td>\n",
       "      <td>0</td>\n",
       "      <td>27</td>\n",
       "      <td>87</td>\n",
       "      <td>...</td>\n",
       "      <td>9</td>\n",
       "      <td>42</td>\n",
       "      <td>5</td>\n",
       "      <td>45</td>\n",
       "      <td>25</td>\n",
       "      <td>73</td>\n",
       "      <td>0</td>\n",
       "      <td>3</td>\n",
       "      <td>1042</td>\n",
       "      <td>3606</td>\n",
       "    </tr>\n",
       "  </tbody>\n",
       "</table>\n",
       "<p>1 rows × 33 columns</p>\n",
       "</div>"
      ],
      "text/plain": [
       "        STATE/UT DISTRICT  YEAR  MURDER  ATTEMPT TO MURDER  \\\n",
       "8988  CHANDIGARH    TOTAL  2012      21                 44   \n",
       "\n",
       "      CULPABLE HOMICIDE NOT AMOUNTING TO MURDER  RAPE  CUSTODIAL RAPE  \\\n",
       "8988                                          5    27               0   \n",
       "\n",
       "      OTHER RAPE  KIDNAPPING & ABDUCTION  ...  ARSON  HURT/GREVIOUS HURT  \\\n",
       "8988          27                      87  ...      9                  42   \n",
       "\n",
       "      DOWRY DEATHS  ASSAULT ON WOMEN WITH INTENT TO OUTRAGE HER MODESTY  \\\n",
       "8988             5                                                 45     \n",
       "\n",
       "      INSULT TO MODESTY OF WOMEN  CRUELTY BY HUSBAND OR HIS RELATIVES  \\\n",
       "8988                          25                                   73   \n",
       "\n",
       "      IMPORTATION OF GIRLS FROM FOREIGN COUNTRIES  \\\n",
       "8988                                            0   \n",
       "\n",
       "      CAUSING DEATH BY NEGLIGENCE  OTHER IPC CRIMES  TOTAL IPC CRIMES  \n",
       "8988                            3              1042              3606  \n",
       "\n",
       "[1 rows x 33 columns]"
      ]
     },
     "execution_count": 184,
     "metadata": {},
     "output_type": "execute_result"
    }
   ],
   "source": [
    "chandigarh_crime = crime_type[8988:8989]\n",
    "chandigarh_crime"
   ]
  },
  {
   "cell_type": "code",
   "execution_count": 185,
   "id": "44fc67d5",
   "metadata": {},
   "outputs": [
    {
     "data": {
      "text/plain": [
       "8988    3606\n",
       "Name: TOTAL IPC CRIMES, dtype: int64"
      ]
     },
     "execution_count": 185,
     "metadata": {},
     "output_type": "execute_result"
    }
   ],
   "source": [
    "chandigarh_crime = chandigarh_crime['TOTAL IPC CRIMES']\n",
    "chandigarh_crime"
   ]
  },
  {
   "cell_type": "code",
   "execution_count": 186,
   "id": "e36e2aa3",
   "metadata": {},
   "outputs": [
    {
     "data": {
      "text/html": [
       "<div>\n",
       "<style scoped>\n",
       "    .dataframe tbody tr th:only-of-type {\n",
       "        vertical-align: middle;\n",
       "    }\n",
       "\n",
       "    .dataframe tbody tr th {\n",
       "        vertical-align: top;\n",
       "    }\n",
       "\n",
       "    .dataframe thead th {\n",
       "        text-align: right;\n",
       "    }\n",
       "</style>\n",
       "<table border=\"1\" class=\"dataframe\">\n",
       "  <thead>\n",
       "    <tr style=\"text-align: right;\">\n",
       "      <th></th>\n",
       "      <th>Rank</th>\n",
       "      <th>State (S) / Union territory (UT)</th>\n",
       "      <th>Area (km2)</th>\n",
       "      <th>Region</th>\n",
       "      <th>National Share (%)</th>\n",
       "      <th>Country of comparable size (land mass)</th>\n",
       "    </tr>\n",
       "  </thead>\n",
       "  <tbody>\n",
       "    <tr>\n",
       "      <th>34</th>\n",
       "      <td>35 (UT7)</td>\n",
       "      <td>Chandigarh</td>\n",
       "      <td>114</td>\n",
       "      <td>Northern</td>\n",
       "      <td>0.003</td>\n",
       "      <td>Wallis and Futuna</td>\n",
       "    </tr>\n",
       "  </tbody>\n",
       "</table>\n",
       "</div>"
      ],
      "text/plain": [
       "        Rank State (S) / Union territory (UT) Area (km2)    Region  \\\n",
       "34  35 (UT7)                       Chandigarh        114  Northern   \n",
       "\n",
       "    National Share (%) Country of comparable size (land mass)  \n",
       "34               0.003                      Wallis and Futuna  "
      ]
     },
     "execution_count": 186,
     "metadata": {},
     "output_type": "execute_result"
    }
   ],
   "source": [
    "chandigarh_area = area[34:35]\n",
    "chandigarh_area"
   ]
  },
  {
   "cell_type": "code",
   "execution_count": 187,
   "id": "8db2cfa3",
   "metadata": {},
   "outputs": [
    {
     "data": {
      "text/plain": [
       "34    114\n",
       "Name: Area (km2), dtype: object"
      ]
     },
     "execution_count": 187,
     "metadata": {},
     "output_type": "execute_result"
    }
   ],
   "source": [
    "chandigarh_area = chandigarh_area['Area (km2)']\n",
    "chandigarh_area"
   ]
  },
  {
   "cell_type": "code",
   "execution_count": 188,
   "id": "b9028834",
   "metadata": {},
   "outputs": [
    {
     "data": {
      "image/png": "[encoded data removed]",
      "text/plain": [
       "<Figure size 432x288 with 1 Axes>"
      ]
     },
     "metadata": {
      "needs_background": "light"
     },
     "output_type": "display_data"
    }
   ],
   "source": [
    "plt.scatter(chandigarh_crime,chandigarh_area)\n",
    "\n",
    "plt.xlabel('crime')\n",
    "plt.ylabel('area')\n",
    "\n",
    "plt.show()"
   ]
  },
  {
   "cell_type": "code",
   "execution_count": null,
   "id": "51d7ef09",
   "metadata": {},
   "outputs": [],
   "source": []
  },
  {
   "cell_type": "code",
   "execution_count": null,
   "id": "f11cfe87",
   "metadata": {},
   "outputs": [],
   "source": []
  },
  {
   "cell_type": "code",
   "execution_count": 189,
   "id": "1b5470bc",
   "metadata": {},
   "outputs": [],
   "source": [
    "# for Dadra & Nagra Haveli"
   ]
  },
  {
   "cell_type": "code",
   "execution_count": 190,
   "id": "eae407f8",
   "metadata": {},
   "outputs": [
    {
     "data": {
      "text/html": [
       "<div>\n",
       "<style scoped>\n",
       "    .dataframe tbody tr th:only-of-type {\n",
       "        vertical-align: middle;\n",
       "    }\n",
       "\n",
       "    .dataframe tbody tr th {\n",
       "        vertical-align: top;\n",
       "    }\n",
       "\n",
       "    .dataframe thead th {\n",
       "        text-align: right;\n",
       "    }\n",
       "</style>\n",
       "<table border=\"1\" class=\"dataframe\">\n",
       "  <thead>\n",
       "    <tr style=\"text-align: right;\">\n",
       "      <th></th>\n",
       "      <th>STATE/UT</th>\n",
       "      <th>DISTRICT</th>\n",
       "      <th>YEAR</th>\n",
       "      <th>MURDER</th>\n",
       "      <th>ATTEMPT TO MURDER</th>\n",
       "      <th>CULPABLE HOMICIDE NOT AMOUNTING TO MURDER</th>\n",
       "      <th>RAPE</th>\n",
       "      <th>CUSTODIAL RAPE</th>\n",
       "      <th>OTHER RAPE</th>\n",
       "      <th>KIDNAPPING &amp; ABDUCTION</th>\n",
       "      <th>...</th>\n",
       "      <th>ARSON</th>\n",
       "      <th>HURT/GREVIOUS HURT</th>\n",
       "      <th>DOWRY DEATHS</th>\n",
       "      <th>ASSAULT ON WOMEN WITH INTENT TO OUTRAGE HER MODESTY</th>\n",
       "      <th>INSULT TO MODESTY OF WOMEN</th>\n",
       "      <th>CRUELTY BY HUSBAND OR HIS RELATIVES</th>\n",
       "      <th>IMPORTATION OF GIRLS FROM FOREIGN COUNTRIES</th>\n",
       "      <th>CAUSING DEATH BY NEGLIGENCE</th>\n",
       "      <th>OTHER IPC CRIMES</th>\n",
       "      <th>TOTAL IPC CRIMES</th>\n",
       "    </tr>\n",
       "  </thead>\n",
       "  <tbody>\n",
       "    <tr>\n",
       "      <th>8990</th>\n",
       "      <td>D &amp; N HAVELI</td>\n",
       "      <td>TOTAL</td>\n",
       "      <td>2012</td>\n",
       "      <td>7</td>\n",
       "      <td>2</td>\n",
       "      <td>0</td>\n",
       "      <td>3</td>\n",
       "      <td>0</td>\n",
       "      <td>3</td>\n",
       "      <td>13</td>\n",
       "      <td>...</td>\n",
       "      <td>12</td>\n",
       "      <td>25</td>\n",
       "      <td>0</td>\n",
       "      <td>2</td>\n",
       "      <td>0</td>\n",
       "      <td>0</td>\n",
       "      <td>0</td>\n",
       "      <td>23</td>\n",
       "      <td>112</td>\n",
       "      <td>318</td>\n",
       "    </tr>\n",
       "  </tbody>\n",
       "</table>\n",
       "<p>1 rows × 33 columns</p>\n",
       "</div>"
      ],
      "text/plain": [
       "          STATE/UT DISTRICT  YEAR  MURDER  ATTEMPT TO MURDER  \\\n",
       "8990  D & N HAVELI    TOTAL  2012       7                  2   \n",
       "\n",
       "      CULPABLE HOMICIDE NOT AMOUNTING TO MURDER  RAPE  CUSTODIAL RAPE  \\\n",
       "8990                                          0     3               0   \n",
       "\n",
       "      OTHER RAPE  KIDNAPPING & ABDUCTION  ...  ARSON  HURT/GREVIOUS HURT  \\\n",
       "8990           3                      13  ...     12                  25   \n",
       "\n",
       "      DOWRY DEATHS  ASSAULT ON WOMEN WITH INTENT TO OUTRAGE HER MODESTY  \\\n",
       "8990             0                                                  2     \n",
       "\n",
       "      INSULT TO MODESTY OF WOMEN  CRUELTY BY HUSBAND OR HIS RELATIVES  \\\n",
       "8990                           0                                    0   \n",
       "\n",
       "      IMPORTATION OF GIRLS FROM FOREIGN COUNTRIES  \\\n",
       "8990                                            0   \n",
       "\n",
       "      CAUSING DEATH BY NEGLIGENCE  OTHER IPC CRIMES  TOTAL IPC CRIMES  \n",
       "8990                           23               112               318  \n",
       "\n",
       "[1 rows x 33 columns]"
      ]
     },
     "execution_count": 190,
     "metadata": {},
     "output_type": "execute_result"
    }
   ],
   "source": [
    "dadra_crime = crime_type[8990:8991]\n",
    "dadra_crime"
   ]
  },
  {
   "cell_type": "code",
   "execution_count": 191,
   "id": "b23518e7",
   "metadata": {},
   "outputs": [
    {
     "data": {
      "text/plain": [
       "8990    318\n",
       "Name: TOTAL IPC CRIMES, dtype: int64"
      ]
     },
     "execution_count": 191,
     "metadata": {},
     "output_type": "execute_result"
    }
   ],
   "source": [
    "dadra_crime = dadra_crime['TOTAL IPC CRIMES']\n",
    "dadra_crime"
   ]
  },
  {
   "cell_type": "code",
   "execution_count": 192,
   "id": "d8160918",
   "metadata": {},
   "outputs": [
    {
     "data": {
      "text/html": [
       "<div>\n",
       "<style scoped>\n",
       "    .dataframe tbody tr th:only-of-type {\n",
       "        vertical-align: middle;\n",
       "    }\n",
       "\n",
       "    .dataframe tbody tr th {\n",
       "        vertical-align: top;\n",
       "    }\n",
       "\n",
       "    .dataframe thead th {\n",
       "        text-align: right;\n",
       "    }\n",
       "</style>\n",
       "<table border=\"1\" class=\"dataframe\">\n",
       "  <thead>\n",
       "    <tr style=\"text-align: right;\">\n",
       "      <th></th>\n",
       "      <th>Rank</th>\n",
       "      <th>State (S) / Union territory (UT)</th>\n",
       "      <th>Area (km2)</th>\n",
       "      <th>Region</th>\n",
       "      <th>National Share (%)</th>\n",
       "      <th>Country of comparable size (land mass)</th>\n",
       "    </tr>\n",
       "  </thead>\n",
       "  <tbody>\n",
       "    <tr>\n",
       "      <th>32</th>\n",
       "      <td>33 (UT5)</td>\n",
       "      <td>Dadra and Nagar Haveli and Daman and Diu</td>\n",
       "      <td>603</td>\n",
       "      <td>Western</td>\n",
       "      <td>0.01</td>\n",
       "      <td>Saint Lucia</td>\n",
       "    </tr>\n",
       "  </tbody>\n",
       "</table>\n",
       "</div>"
      ],
      "text/plain": [
       "        Rank          State (S) / Union territory (UT) Area (km2)   Region  \\\n",
       "32  33 (UT5)  Dadra and Nagar Haveli and Daman and Diu        603  Western   \n",
       "\n",
       "    National Share (%) Country of comparable size (land mass)  \n",
       "32                0.01                            Saint Lucia  "
      ]
     },
     "execution_count": 192,
     "metadata": {},
     "output_type": "execute_result"
    }
   ],
   "source": [
    "dadra_area = area[32:33]\n",
    "dadra_area"
   ]
  },
  {
   "cell_type": "code",
   "execution_count": 193,
   "id": "33be22b5",
   "metadata": {},
   "outputs": [
    {
     "data": {
      "text/plain": [
       "32    603\n",
       "Name: Area (km2), dtype: object"
      ]
     },
     "execution_count": 193,
     "metadata": {},
     "output_type": "execute_result"
    }
   ],
   "source": [
    "dadra_area = dadra_area['Area (km2)']\n",
    "dadra_area"
   ]
  },
  {
   "cell_type": "code",
   "execution_count": 194,
   "id": "6ace8155",
   "metadata": {},
   "outputs": [
    {
     "data": {
      "image/png": "[encoded data removed]",
      "text/plain": [
       "<Figure size 432x288 with 1 Axes>"
      ]
     },
     "metadata": {
      "needs_background": "light"
     },
     "output_type": "display_data"
    }
   ],
   "source": [
    "plt.scatter(dadra_crime,dadra_area)\n",
    "\n",
    "plt.xlabel('crime')\n",
    "plt.ylabel('area')\n",
    "\n",
    "plt.show()"
   ]
  },
  {
   "cell_type": "code",
   "execution_count": null,
   "id": "a7d33feb",
   "metadata": {},
   "outputs": [],
   "source": []
  },
  {
   "cell_type": "code",
   "execution_count": null,
   "id": "56d04903",
   "metadata": {},
   "outputs": [],
   "source": []
  },
  {
   "cell_type": "code",
   "execution_count": null,
   "id": "ab2f73c3",
   "metadata": {},
   "outputs": [],
   "source": []
  },
  {
   "cell_type": "code",
   "execution_count": 195,
   "id": "6daad4b2",
   "metadata": {},
   "outputs": [],
   "source": [
    "# for Daman & Diu"
   ]
  },
  {
   "cell_type": "code",
   "execution_count": 196,
   "id": "003b7af4",
   "metadata": {},
   "outputs": [
    {
     "data": {
      "text/html": [
       "<div>\n",
       "<style scoped>\n",
       "    .dataframe tbody tr th:only-of-type {\n",
       "        vertical-align: middle;\n",
       "    }\n",
       "\n",
       "    .dataframe tbody tr th {\n",
       "        vertical-align: top;\n",
       "    }\n",
       "\n",
       "    .dataframe thead th {\n",
       "        text-align: right;\n",
       "    }\n",
       "</style>\n",
       "<table border=\"1\" class=\"dataframe\">\n",
       "  <thead>\n",
       "    <tr style=\"text-align: right;\">\n",
       "      <th></th>\n",
       "      <th>STATE/UT</th>\n",
       "      <th>DISTRICT</th>\n",
       "      <th>YEAR</th>\n",
       "      <th>MURDER</th>\n",
       "      <th>ATTEMPT TO MURDER</th>\n",
       "      <th>CULPABLE HOMICIDE NOT AMOUNTING TO MURDER</th>\n",
       "      <th>RAPE</th>\n",
       "      <th>CUSTODIAL RAPE</th>\n",
       "      <th>OTHER RAPE</th>\n",
       "      <th>KIDNAPPING &amp; ABDUCTION</th>\n",
       "      <th>...</th>\n",
       "      <th>ARSON</th>\n",
       "      <th>HURT/GREVIOUS HURT</th>\n",
       "      <th>DOWRY DEATHS</th>\n",
       "      <th>ASSAULT ON WOMEN WITH INTENT TO OUTRAGE HER MODESTY</th>\n",
       "      <th>INSULT TO MODESTY OF WOMEN</th>\n",
       "      <th>CRUELTY BY HUSBAND OR HIS RELATIVES</th>\n",
       "      <th>IMPORTATION OF GIRLS FROM FOREIGN COUNTRIES</th>\n",
       "      <th>CAUSING DEATH BY NEGLIGENCE</th>\n",
       "      <th>OTHER IPC CRIMES</th>\n",
       "      <th>TOTAL IPC CRIMES</th>\n",
       "    </tr>\n",
       "  </thead>\n",
       "  <tbody>\n",
       "    <tr>\n",
       "      <th>8993</th>\n",
       "      <td>DAMAN &amp; DIU</td>\n",
       "      <td>TOTAL</td>\n",
       "      <td>2012</td>\n",
       "      <td>3</td>\n",
       "      <td>5</td>\n",
       "      <td>0</td>\n",
       "      <td>5</td>\n",
       "      <td>0</td>\n",
       "      <td>5</td>\n",
       "      <td>3</td>\n",
       "      <td>...</td>\n",
       "      <td>11</td>\n",
       "      <td>17</td>\n",
       "      <td>0</td>\n",
       "      <td>0</td>\n",
       "      <td>0</td>\n",
       "      <td>3</td>\n",
       "      <td>0</td>\n",
       "      <td>38</td>\n",
       "      <td>46</td>\n",
       "      <td>239</td>\n",
       "    </tr>\n",
       "  </tbody>\n",
       "</table>\n",
       "<p>1 rows × 33 columns</p>\n",
       "</div>"
      ],
      "text/plain": [
       "         STATE/UT DISTRICT  YEAR  MURDER  ATTEMPT TO MURDER  \\\n",
       "8993  DAMAN & DIU    TOTAL  2012       3                  5   \n",
       "\n",
       "      CULPABLE HOMICIDE NOT AMOUNTING TO MURDER  RAPE  CUSTODIAL RAPE  \\\n",
       "8993                                          0     5               0   \n",
       "\n",
       "      OTHER RAPE  KIDNAPPING & ABDUCTION  ...  ARSON  HURT/GREVIOUS HURT  \\\n",
       "8993           5                       3  ...     11                  17   \n",
       "\n",
       "      DOWRY DEATHS  ASSAULT ON WOMEN WITH INTENT TO OUTRAGE HER MODESTY  \\\n",
       "8993             0                                                  0     \n",
       "\n",
       "      INSULT TO MODESTY OF WOMEN  CRUELTY BY HUSBAND OR HIS RELATIVES  \\\n",
       "8993                           0                                    3   \n",
       "\n",
       "      IMPORTATION OF GIRLS FROM FOREIGN COUNTRIES  \\\n",
       "8993                                            0   \n",
       "\n",
       "      CAUSING DEATH BY NEGLIGENCE  OTHER IPC CRIMES  TOTAL IPC CRIMES  \n",
       "8993                           38                46               239  \n",
       "\n",
       "[1 rows x 33 columns]"
      ]
     },
     "execution_count": 196,
     "metadata": {},
     "output_type": "execute_result"
    }
   ],
   "source": [
    "dd_crime = crime_type[8993:8994]\n",
    "dd_crime"
   ]
  },
  {
   "cell_type": "code",
   "execution_count": 197,
   "id": "3746aefc",
   "metadata": {},
   "outputs": [
    {
     "data": {
      "text/plain": [
       "8993    239\n",
       "Name: TOTAL IPC CRIMES, dtype: int64"
      ]
     },
     "execution_count": 197,
     "metadata": {},
     "output_type": "execute_result"
    }
   ],
   "source": [
    "dd_crime = dd_crime['TOTAL IPC CRIMES']\n",
    "dd_crime"
   ]
  },
  {
   "cell_type": "code",
   "execution_count": 198,
   "id": "b4c06c0b",
   "metadata": {},
   "outputs": [
    {
     "data": {
      "text/html": [
       "<div>\n",
       "<style scoped>\n",
       "    .dataframe tbody tr th:only-of-type {\n",
       "        vertical-align: middle;\n",
       "    }\n",
       "\n",
       "    .dataframe tbody tr th {\n",
       "        vertical-align: top;\n",
       "    }\n",
       "\n",
       "    .dataframe thead th {\n",
       "        text-align: right;\n",
       "    }\n",
       "</style>\n",
       "<table border=\"1\" class=\"dataframe\">\n",
       "  <thead>\n",
       "    <tr style=\"text-align: right;\">\n",
       "      <th></th>\n",
       "      <th>Rank</th>\n",
       "      <th>State (S) / Union territory (UT)</th>\n",
       "      <th>Area (km2)</th>\n",
       "      <th>Region</th>\n",
       "      <th>National Share (%)</th>\n",
       "      <th>Country of comparable size (land mass)</th>\n",
       "    </tr>\n",
       "  </thead>\n",
       "  <tbody>\n",
       "    <tr>\n",
       "      <th>32</th>\n",
       "      <td>33 (UT5)</td>\n",
       "      <td>Dadra and Nagar Haveli and Daman and Diu</td>\n",
       "      <td>603</td>\n",
       "      <td>Western</td>\n",
       "      <td>0.01</td>\n",
       "      <td>Saint Lucia</td>\n",
       "    </tr>\n",
       "  </tbody>\n",
       "</table>\n",
       "</div>"
      ],
      "text/plain": [
       "        Rank          State (S) / Union territory (UT) Area (km2)   Region  \\\n",
       "32  33 (UT5)  Dadra and Nagar Haveli and Daman and Diu        603  Western   \n",
       "\n",
       "    National Share (%) Country of comparable size (land mass)  \n",
       "32                0.01                            Saint Lucia  "
      ]
     },
     "execution_count": 198,
     "metadata": {},
     "output_type": "execute_result"
    }
   ],
   "source": [
    "dd_area = area[32:33]\n",
    "dd_area"
   ]
  },
  {
   "cell_type": "code",
   "execution_count": 199,
   "id": "63ccc135",
   "metadata": {},
   "outputs": [
    {
     "data": {
      "text/plain": [
       "32    603\n",
       "Name: Area (km2), dtype: object"
      ]
     },
     "execution_count": 199,
     "metadata": {},
     "output_type": "execute_result"
    }
   ],
   "source": [
    "dd_area = dd_area['Area (km2)']\n",
    "dd_area"
   ]
  },
  {
   "cell_type": "code",
   "execution_count": 200,
   "id": "42f23658",
   "metadata": {},
   "outputs": [
    {
     "data": {
      "image/png": "[encoded data removed]",
      "text/plain": [
       "<Figure size 432x288 with 1 Axes>"
      ]
     },
     "metadata": {
      "needs_background": "light"
     },
     "output_type": "display_data"
    }
   ],
   "source": [
    "plt.scatter(dd_crime,dd_area)\n",
    "\n",
    "plt.xlabel('crime')\n",
    "plt.ylabel('area')\n",
    "\n",
    "plt.show()"
   ]
  },
  {
   "cell_type": "code",
   "execution_count": null,
   "id": "7f62bf56",
   "metadata": {},
   "outputs": [],
   "source": []
  },
  {
   "cell_type": "code",
   "execution_count": null,
   "id": "286ea872",
   "metadata": {},
   "outputs": [],
   "source": []
  },
  {
   "cell_type": "code",
   "execution_count": 201,
   "id": "e8097b1a",
   "metadata": {},
   "outputs": [],
   "source": [
    "# for Delhi"
   ]
  },
  {
   "cell_type": "code",
   "execution_count": 202,
   "id": "d2ef9e7b",
   "metadata": {},
   "outputs": [
    {
     "data": {
      "text/html": [
       "<div>\n",
       "<style scoped>\n",
       "    .dataframe tbody tr th:only-of-type {\n",
       "        vertical-align: middle;\n",
       "    }\n",
       "\n",
       "    .dataframe tbody tr th {\n",
       "        vertical-align: top;\n",
       "    }\n",
       "\n",
       "    .dataframe thead th {\n",
       "        text-align: right;\n",
       "    }\n",
       "</style>\n",
       "<table border=\"1\" class=\"dataframe\">\n",
       "  <thead>\n",
       "    <tr style=\"text-align: right;\">\n",
       "      <th></th>\n",
       "      <th>STATE/UT</th>\n",
       "      <th>DISTRICT</th>\n",
       "      <th>YEAR</th>\n",
       "      <th>MURDER</th>\n",
       "      <th>ATTEMPT TO MURDER</th>\n",
       "      <th>CULPABLE HOMICIDE NOT AMOUNTING TO MURDER</th>\n",
       "      <th>RAPE</th>\n",
       "      <th>CUSTODIAL RAPE</th>\n",
       "      <th>OTHER RAPE</th>\n",
       "      <th>KIDNAPPING &amp; ABDUCTION</th>\n",
       "      <th>...</th>\n",
       "      <th>ARSON</th>\n",
       "      <th>HURT/GREVIOUS HURT</th>\n",
       "      <th>DOWRY DEATHS</th>\n",
       "      <th>ASSAULT ON WOMEN WITH INTENT TO OUTRAGE HER MODESTY</th>\n",
       "      <th>INSULT TO MODESTY OF WOMEN</th>\n",
       "      <th>CRUELTY BY HUSBAND OR HIS RELATIVES</th>\n",
       "      <th>IMPORTATION OF GIRLS FROM FOREIGN COUNTRIES</th>\n",
       "      <th>CAUSING DEATH BY NEGLIGENCE</th>\n",
       "      <th>OTHER IPC CRIMES</th>\n",
       "      <th>TOTAL IPC CRIMES</th>\n",
       "    </tr>\n",
       "  </thead>\n",
       "  <tbody>\n",
       "    <tr>\n",
       "      <th>9011</th>\n",
       "      <td>DELHI UT</td>\n",
       "      <td>WEST</td>\n",
       "      <td>2012</td>\n",
       "      <td>52</td>\n",
       "      <td>37</td>\n",
       "      <td>10</td>\n",
       "      <td>79</td>\n",
       "      <td>0</td>\n",
       "      <td>79</td>\n",
       "      <td>454</td>\n",
       "      <td>...</td>\n",
       "      <td>18</td>\n",
       "      <td>227</td>\n",
       "      <td>18</td>\n",
       "      <td>53</td>\n",
       "      <td>6</td>\n",
       "      <td>327</td>\n",
       "      <td>0</td>\n",
       "      <td>292</td>\n",
       "      <td>1144</td>\n",
       "      <td>5558</td>\n",
       "    </tr>\n",
       "  </tbody>\n",
       "</table>\n",
       "<p>1 rows × 33 columns</p>\n",
       "</div>"
      ],
      "text/plain": [
       "      STATE/UT DISTRICT  YEAR  MURDER  ATTEMPT TO MURDER  \\\n",
       "9011  DELHI UT     WEST  2012      52                 37   \n",
       "\n",
       "      CULPABLE HOMICIDE NOT AMOUNTING TO MURDER  RAPE  CUSTODIAL RAPE  \\\n",
       "9011                                         10    79               0   \n",
       "\n",
       "      OTHER RAPE  KIDNAPPING & ABDUCTION  ...  ARSON  HURT/GREVIOUS HURT  \\\n",
       "9011          79                     454  ...     18                 227   \n",
       "\n",
       "      DOWRY DEATHS  ASSAULT ON WOMEN WITH INTENT TO OUTRAGE HER MODESTY  \\\n",
       "9011            18                                                 53     \n",
       "\n",
       "      INSULT TO MODESTY OF WOMEN  CRUELTY BY HUSBAND OR HIS RELATIVES  \\\n",
       "9011                           6                                  327   \n",
       "\n",
       "      IMPORTATION OF GIRLS FROM FOREIGN COUNTRIES  \\\n",
       "9011                                            0   \n",
       "\n",
       "      CAUSING DEATH BY NEGLIGENCE  OTHER IPC CRIMES  TOTAL IPC CRIMES  \n",
       "9011                          292              1144              5558  \n",
       "\n",
       "[1 rows x 33 columns]"
      ]
     },
     "execution_count": 202,
     "metadata": {},
     "output_type": "execute_result"
    }
   ],
   "source": [
    "delhi_crime = crime_type[9011:9012]\n",
    "delhi_crime"
   ]
  },
  {
   "cell_type": "code",
   "execution_count": 203,
   "id": "575a3919",
   "metadata": {},
   "outputs": [
    {
     "data": {
      "text/plain": [
       "9011    5558\n",
       "Name: TOTAL IPC CRIMES, dtype: int64"
      ]
     },
     "execution_count": 203,
     "metadata": {},
     "output_type": "execute_result"
    }
   ],
   "source": [
    "delhi_crime = delhi_crime['TOTAL IPC CRIMES']\n",
    "delhi_crime"
   ]
  },
  {
   "cell_type": "code",
   "execution_count": 204,
   "id": "5f7afdef",
   "metadata": {},
   "outputs": [
    {
     "data": {
      "text/html": [
       "<div>\n",
       "<style scoped>\n",
       "    .dataframe tbody tr th:only-of-type {\n",
       "        vertical-align: middle;\n",
       "    }\n",
       "\n",
       "    .dataframe tbody tr th {\n",
       "        vertical-align: top;\n",
       "    }\n",
       "\n",
       "    .dataframe thead th {\n",
       "        text-align: right;\n",
       "    }\n",
       "</style>\n",
       "<table border=\"1\" class=\"dataframe\">\n",
       "  <thead>\n",
       "    <tr style=\"text-align: right;\">\n",
       "      <th></th>\n",
       "      <th>Rank</th>\n",
       "      <th>State (S) / Union territory (UT)</th>\n",
       "      <th>Area (km2)</th>\n",
       "      <th>Region</th>\n",
       "      <th>National Share (%)</th>\n",
       "      <th>Country of comparable size (land mass)</th>\n",
       "    </tr>\n",
       "  </thead>\n",
       "  <tbody>\n",
       "    <tr>\n",
       "      <th>31</th>\n",
       "      <td>32 (UT4)</td>\n",
       "      <td>NCT Delhi</td>\n",
       "      <td>1,483</td>\n",
       "      <td>Northern</td>\n",
       "      <td>0.04</td>\n",
       "      <td>Faroe Islands</td>\n",
       "    </tr>\n",
       "  </tbody>\n",
       "</table>\n",
       "</div>"
      ],
      "text/plain": [
       "        Rank State (S) / Union territory (UT) Area (km2)    Region  \\\n",
       "31  32 (UT4)                        NCT Delhi      1,483  Northern   \n",
       "\n",
       "    National Share (%) Country of comparable size (land mass)  \n",
       "31                0.04                          Faroe Islands  "
      ]
     },
     "execution_count": 204,
     "metadata": {},
     "output_type": "execute_result"
    }
   ],
   "source": [
    "delhi_area = area[31:32]\n",
    "delhi_area"
   ]
  },
  {
   "cell_type": "code",
   "execution_count": 205,
   "id": "8ddb3258",
   "metadata": {},
   "outputs": [
    {
     "data": {
      "text/plain": [
       "31    1,483\n",
       "Name: Area (km2), dtype: object"
      ]
     },
     "execution_count": 205,
     "metadata": {},
     "output_type": "execute_result"
    }
   ],
   "source": [
    "delhi_area = delhi_area['Area (km2)']\n",
    "delhi_area"
   ]
  },
  {
   "cell_type": "code",
   "execution_count": 206,
   "id": "dc299f97",
   "metadata": {},
   "outputs": [
    {
     "data": {
      "image/png": "[encoded data removed]",
      "text/plain": [
       "<Figure size 432x288 with 1 Axes>"
      ]
     },
     "metadata": {
      "needs_background": "light"
     },
     "output_type": "display_data"
    }
   ],
   "source": [
    "plt.scatter(delhi_crime,delhi_area)\n",
    "\n",
    "plt.xlabel('crime')\n",
    "plt.ylabel('area')\n",
    "\n",
    "plt.show()"
   ]
  },
  {
   "cell_type": "code",
   "execution_count": null,
   "id": "19b5b0c4",
   "metadata": {},
   "outputs": [],
   "source": []
  },
  {
   "cell_type": "code",
   "execution_count": null,
   "id": "cbab44d3",
   "metadata": {},
   "outputs": [],
   "source": []
  },
  {
   "cell_type": "code",
   "execution_count": 207,
   "id": "c50b2faa",
   "metadata": {},
   "outputs": [],
   "source": [
    "# for Lakshadweep"
   ]
  },
  {
   "cell_type": "code",
   "execution_count": 208,
   "id": "061aa6d1",
   "metadata": {},
   "outputs": [
    {
     "data": {
      "text/html": [
       "<div>\n",
       "<style scoped>\n",
       "    .dataframe tbody tr th:only-of-type {\n",
       "        vertical-align: middle;\n",
       "    }\n",
       "\n",
       "    .dataframe tbody tr th {\n",
       "        vertical-align: top;\n",
       "    }\n",
       "\n",
       "    .dataframe thead th {\n",
       "        text-align: right;\n",
       "    }\n",
       "</style>\n",
       "<table border=\"1\" class=\"dataframe\">\n",
       "  <thead>\n",
       "    <tr style=\"text-align: right;\">\n",
       "      <th></th>\n",
       "      <th>STATE/UT</th>\n",
       "      <th>DISTRICT</th>\n",
       "      <th>YEAR</th>\n",
       "      <th>MURDER</th>\n",
       "      <th>ATTEMPT TO MURDER</th>\n",
       "      <th>CULPABLE HOMICIDE NOT AMOUNTING TO MURDER</th>\n",
       "      <th>RAPE</th>\n",
       "      <th>CUSTODIAL RAPE</th>\n",
       "      <th>OTHER RAPE</th>\n",
       "      <th>KIDNAPPING &amp; ABDUCTION</th>\n",
       "      <th>...</th>\n",
       "      <th>ARSON</th>\n",
       "      <th>HURT/GREVIOUS HURT</th>\n",
       "      <th>DOWRY DEATHS</th>\n",
       "      <th>ASSAULT ON WOMEN WITH INTENT TO OUTRAGE HER MODESTY</th>\n",
       "      <th>INSULT TO MODESTY OF WOMEN</th>\n",
       "      <th>CRUELTY BY HUSBAND OR HIS RELATIVES</th>\n",
       "      <th>IMPORTATION OF GIRLS FROM FOREIGN COUNTRIES</th>\n",
       "      <th>CAUSING DEATH BY NEGLIGENCE</th>\n",
       "      <th>OTHER IPC CRIMES</th>\n",
       "      <th>TOTAL IPC CRIMES</th>\n",
       "    </tr>\n",
       "  </thead>\n",
       "  <tbody>\n",
       "    <tr>\n",
       "      <th>9013</th>\n",
       "      <td>LAKSHADWEEP</td>\n",
       "      <td>TOTAL</td>\n",
       "      <td>2012</td>\n",
       "      <td>0</td>\n",
       "      <td>0</td>\n",
       "      <td>0</td>\n",
       "      <td>0</td>\n",
       "      <td>0</td>\n",
       "      <td>0</td>\n",
       "      <td>0</td>\n",
       "      <td>...</td>\n",
       "      <td>3</td>\n",
       "      <td>3</td>\n",
       "      <td>0</td>\n",
       "      <td>1</td>\n",
       "      <td>0</td>\n",
       "      <td>1</td>\n",
       "      <td>0</td>\n",
       "      <td>0</td>\n",
       "      <td>32</td>\n",
       "      <td>60</td>\n",
       "    </tr>\n",
       "  </tbody>\n",
       "</table>\n",
       "<p>1 rows × 33 columns</p>\n",
       "</div>"
      ],
      "text/plain": [
       "         STATE/UT DISTRICT  YEAR  MURDER  ATTEMPT TO MURDER  \\\n",
       "9013  LAKSHADWEEP    TOTAL  2012       0                  0   \n",
       "\n",
       "      CULPABLE HOMICIDE NOT AMOUNTING TO MURDER  RAPE  CUSTODIAL RAPE  \\\n",
       "9013                                          0     0               0   \n",
       "\n",
       "      OTHER RAPE  KIDNAPPING & ABDUCTION  ...  ARSON  HURT/GREVIOUS HURT  \\\n",
       "9013           0                       0  ...      3                   3   \n",
       "\n",
       "      DOWRY DEATHS  ASSAULT ON WOMEN WITH INTENT TO OUTRAGE HER MODESTY  \\\n",
       "9013             0                                                  1     \n",
       "\n",
       "      INSULT TO MODESTY OF WOMEN  CRUELTY BY HUSBAND OR HIS RELATIVES  \\\n",
       "9013                           0                                    1   \n",
       "\n",
       "      IMPORTATION OF GIRLS FROM FOREIGN COUNTRIES  \\\n",
       "9013                                            0   \n",
       "\n",
       "      CAUSING DEATH BY NEGLIGENCE  OTHER IPC CRIMES  TOTAL IPC CRIMES  \n",
       "9013                            0                32                60  \n",
       "\n",
       "[1 rows x 33 columns]"
      ]
     },
     "execution_count": 208,
     "metadata": {},
     "output_type": "execute_result"
    }
   ],
   "source": [
    "lak_crime = crime_type[9013:9014]\n",
    "lak_crime"
   ]
  },
  {
   "cell_type": "code",
   "execution_count": 209,
   "id": "70ede0f4",
   "metadata": {},
   "outputs": [
    {
     "data": {
      "text/plain": [
       "9013    60\n",
       "Name: TOTAL IPC CRIMES, dtype: int64"
      ]
     },
     "execution_count": 209,
     "metadata": {},
     "output_type": "execute_result"
    }
   ],
   "source": [
    "lak_crime = lak_crime['TOTAL IPC CRIMES']\n",
    "lak_crime"
   ]
  },
  {
   "cell_type": "code",
   "execution_count": 210,
   "id": "e79baa87",
   "metadata": {},
   "outputs": [
    {
     "data": {
      "text/html": [
       "<div>\n",
       "<style scoped>\n",
       "    .dataframe tbody tr th:only-of-type {\n",
       "        vertical-align: middle;\n",
       "    }\n",
       "\n",
       "    .dataframe tbody tr th {\n",
       "        vertical-align: top;\n",
       "    }\n",
       "\n",
       "    .dataframe thead th {\n",
       "        text-align: right;\n",
       "    }\n",
       "</style>\n",
       "<table border=\"1\" class=\"dataframe\">\n",
       "  <thead>\n",
       "    <tr style=\"text-align: right;\">\n",
       "      <th></th>\n",
       "      <th>Rank</th>\n",
       "      <th>State (S) / Union territory (UT)</th>\n",
       "      <th>Area (km2)</th>\n",
       "      <th>Region</th>\n",
       "      <th>National Share (%)</th>\n",
       "      <th>Country of comparable size (land mass)</th>\n",
       "    </tr>\n",
       "  </thead>\n",
       "  <tbody>\n",
       "    <tr>\n",
       "      <th>35</th>\n",
       "      <td>36 (UT8)</td>\n",
       "      <td>Lakshadweep</td>\n",
       "      <td>32</td>\n",
       "      <td>Arabian Sea</td>\n",
       "      <td>0.001</td>\n",
       "      <td>Macau</td>\n",
       "    </tr>\n",
       "  </tbody>\n",
       "</table>\n",
       "</div>"
      ],
      "text/plain": [
       "        Rank State (S) / Union territory (UT) Area (km2)       Region  \\\n",
       "35  36 (UT8)                      Lakshadweep         32  Arabian Sea   \n",
       "\n",
       "    National Share (%) Country of comparable size (land mass)  \n",
       "35               0.001                                  Macau  "
      ]
     },
     "execution_count": 210,
     "metadata": {},
     "output_type": "execute_result"
    }
   ],
   "source": [
    "lak_area = area[35:36]\n",
    "lak_area"
   ]
  },
  {
   "cell_type": "code",
   "execution_count": 211,
   "id": "afcd988d",
   "metadata": {},
   "outputs": [
    {
     "data": {
      "text/plain": [
       "35    32\n",
       "Name: Area (km2), dtype: object"
      ]
     },
     "execution_count": 211,
     "metadata": {},
     "output_type": "execute_result"
    }
   ],
   "source": [
    "lak_area = lak_area['Area (km2)']\n",
    "lak_area"
   ]
  },
  {
   "cell_type": "code",
   "execution_count": 212,
   "id": "517e487a",
   "metadata": {},
   "outputs": [
    {
     "data": {
      "image/png": "[encoded data removed]",
      "text/plain": [
       "<Figure size 432x288 with 1 Axes>"
      ]
     },
     "metadata": {
      "needs_background": "light"
     },
     "output_type": "display_data"
    }
   ],
   "source": [
    "plt.scatter(lak_crime,lak_area)\n",
    "\n",
    "plt.xlabel('crime')\n",
    "plt.ylabel('area')\n",
    "\n",
    "plt.show()"
   ]
  },
  {
   "cell_type": "code",
   "execution_count": null,
   "id": "00cb2fa0",
   "metadata": {},
   "outputs": [],
   "source": []
  },
  {
   "cell_type": "code",
   "execution_count": null,
   "id": "46127322",
   "metadata": {},
   "outputs": [],
   "source": []
  },
  {
   "cell_type": "code",
   "execution_count": 213,
   "id": "71821a26",
   "metadata": {},
   "outputs": [],
   "source": [
    "# for Puducherry"
   ]
  },
  {
   "cell_type": "code",
   "execution_count": 214,
   "id": "6dad661b",
   "metadata": {},
   "outputs": [
    {
     "data": {
      "text/html": [
       "<div>\n",
       "<style scoped>\n",
       "    .dataframe tbody tr th:only-of-type {\n",
       "        vertical-align: middle;\n",
       "    }\n",
       "\n",
       "    .dataframe tbody tr th {\n",
       "        vertical-align: top;\n",
       "    }\n",
       "\n",
       "    .dataframe thead th {\n",
       "        text-align: right;\n",
       "    }\n",
       "</style>\n",
       "<table border=\"1\" class=\"dataframe\">\n",
       "  <thead>\n",
       "    <tr style=\"text-align: right;\">\n",
       "      <th></th>\n",
       "      <th>STATE/UT</th>\n",
       "      <th>DISTRICT</th>\n",
       "      <th>YEAR</th>\n",
       "      <th>MURDER</th>\n",
       "      <th>ATTEMPT TO MURDER</th>\n",
       "      <th>CULPABLE HOMICIDE NOT AMOUNTING TO MURDER</th>\n",
       "      <th>RAPE</th>\n",
       "      <th>CUSTODIAL RAPE</th>\n",
       "      <th>OTHER RAPE</th>\n",
       "      <th>KIDNAPPING &amp; ABDUCTION</th>\n",
       "      <th>...</th>\n",
       "      <th>ARSON</th>\n",
       "      <th>HURT/GREVIOUS HURT</th>\n",
       "      <th>DOWRY DEATHS</th>\n",
       "      <th>ASSAULT ON WOMEN WITH INTENT TO OUTRAGE HER MODESTY</th>\n",
       "      <th>INSULT TO MODESTY OF WOMEN</th>\n",
       "      <th>CRUELTY BY HUSBAND OR HIS RELATIVES</th>\n",
       "      <th>IMPORTATION OF GIRLS FROM FOREIGN COUNTRIES</th>\n",
       "      <th>CAUSING DEATH BY NEGLIGENCE</th>\n",
       "      <th>OTHER IPC CRIMES</th>\n",
       "      <th>TOTAL IPC CRIMES</th>\n",
       "    </tr>\n",
       "  </thead>\n",
       "  <tbody>\n",
       "    <tr>\n",
       "      <th>9016</th>\n",
       "      <td>PUDUCHERRY</td>\n",
       "      <td>TOTAL</td>\n",
       "      <td>2012</td>\n",
       "      <td>29</td>\n",
       "      <td>27</td>\n",
       "      <td>12</td>\n",
       "      <td>13</td>\n",
       "      <td>0</td>\n",
       "      <td>13</td>\n",
       "      <td>19</td>\n",
       "      <td>...</td>\n",
       "      <td>21</td>\n",
       "      <td>818</td>\n",
       "      <td>0</td>\n",
       "      <td>9</td>\n",
       "      <td>2</td>\n",
       "      <td>6</td>\n",
       "      <td>0</td>\n",
       "      <td>263</td>\n",
       "      <td>2060</td>\n",
       "      <td>4281</td>\n",
       "    </tr>\n",
       "  </tbody>\n",
       "</table>\n",
       "<p>1 rows × 33 columns</p>\n",
       "</div>"
      ],
      "text/plain": [
       "        STATE/UT DISTRICT  YEAR  MURDER  ATTEMPT TO MURDER  \\\n",
       "9016  PUDUCHERRY    TOTAL  2012      29                 27   \n",
       "\n",
       "      CULPABLE HOMICIDE NOT AMOUNTING TO MURDER  RAPE  CUSTODIAL RAPE  \\\n",
       "9016                                         12    13               0   \n",
       "\n",
       "      OTHER RAPE  KIDNAPPING & ABDUCTION  ...  ARSON  HURT/GREVIOUS HURT  \\\n",
       "9016          13                      19  ...     21                 818   \n",
       "\n",
       "      DOWRY DEATHS  ASSAULT ON WOMEN WITH INTENT TO OUTRAGE HER MODESTY  \\\n",
       "9016             0                                                  9     \n",
       "\n",
       "      INSULT TO MODESTY OF WOMEN  CRUELTY BY HUSBAND OR HIS RELATIVES  \\\n",
       "9016                           2                                    6   \n",
       "\n",
       "      IMPORTATION OF GIRLS FROM FOREIGN COUNTRIES  \\\n",
       "9016                                            0   \n",
       "\n",
       "      CAUSING DEATH BY NEGLIGENCE  OTHER IPC CRIMES  TOTAL IPC CRIMES  \n",
       "9016                          263              2060              4281  \n",
       "\n",
       "[1 rows x 33 columns]"
      ]
     },
     "execution_count": 214,
     "metadata": {},
     "output_type": "execute_result"
    }
   ],
   "source": [
    "pudu_crime = crime_type[9016:9017]\n",
    "pudu_crime"
   ]
  },
  {
   "cell_type": "code",
   "execution_count": 215,
   "id": "511461d0",
   "metadata": {},
   "outputs": [
    {
     "data": {
      "text/plain": [
       "9016    4281\n",
       "Name: TOTAL IPC CRIMES, dtype: int64"
      ]
     },
     "execution_count": 215,
     "metadata": {},
     "output_type": "execute_result"
    }
   ],
   "source": [
    "pudu_crime = pudu_crime['TOTAL IPC CRIMES']\n",
    "pudu_crime"
   ]
  },
  {
   "cell_type": "code",
   "execution_count": 216,
   "id": "ce5602f9",
   "metadata": {},
   "outputs": [
    {
     "data": {
      "text/html": [
       "<div>\n",
       "<style scoped>\n",
       "    .dataframe tbody tr th:only-of-type {\n",
       "        vertical-align: middle;\n",
       "    }\n",
       "\n",
       "    .dataframe tbody tr th {\n",
       "        vertical-align: top;\n",
       "    }\n",
       "\n",
       "    .dataframe thead th {\n",
       "        text-align: right;\n",
       "    }\n",
       "</style>\n",
       "<table border=\"1\" class=\"dataframe\">\n",
       "  <thead>\n",
       "    <tr style=\"text-align: right;\">\n",
       "      <th></th>\n",
       "      <th>Rank</th>\n",
       "      <th>State (S) / Union territory (UT)</th>\n",
       "      <th>Area (km2)</th>\n",
       "      <th>Region</th>\n",
       "      <th>National Share (%)</th>\n",
       "      <th>Country of comparable size (land mass)</th>\n",
       "    </tr>\n",
       "  </thead>\n",
       "  <tbody>\n",
       "    <tr>\n",
       "      <th>33</th>\n",
       "      <td>34 (UT6)</td>\n",
       "      <td>Puducherry</td>\n",
       "      <td>479</td>\n",
       "      <td>Southern</td>\n",
       "      <td>0.01</td>\n",
       "      <td>Andorra</td>\n",
       "    </tr>\n",
       "  </tbody>\n",
       "</table>\n",
       "</div>"
      ],
      "text/plain": [
       "        Rank State (S) / Union territory (UT) Area (km2)    Region  \\\n",
       "33  34 (UT6)                       Puducherry        479  Southern   \n",
       "\n",
       "    National Share (%) Country of comparable size (land mass)  \n",
       "33                0.01                                Andorra  "
      ]
     },
     "execution_count": 216,
     "metadata": {},
     "output_type": "execute_result"
    }
   ],
   "source": [
    "pudu_area = area[33:34]\n",
    "pudu_area"
   ]
  },
  {
   "cell_type": "code",
   "execution_count": 217,
   "id": "c9fe103e",
   "metadata": {},
   "outputs": [
    {
     "data": {
      "text/plain": [
       "33    479\n",
       "Name: Area (km2), dtype: object"
      ]
     },
     "execution_count": 217,
     "metadata": {},
     "output_type": "execute_result"
    }
   ],
   "source": [
    "pudu_area = pudu_area['Area (km2)']\n",
    "pudu_area"
   ]
  },
  {
   "cell_type": "code",
   "execution_count": 218,
   "id": "dda9f69f",
   "metadata": {},
   "outputs": [
    {
     "data": {
      "image/png": "[encoded data removed]",
      "text/plain": [
       "<Figure size 432x288 with 1 Axes>"
      ]
     },
     "metadata": {
      "needs_background": "light"
     },
     "output_type": "display_data"
    }
   ],
   "source": [
    "plt.scatter(pudu_crime,pudu_area)\n",
    "\n",
    "plt.xlabel('crime')\n",
    "plt.ylabel('area')\n",
    "\n",
    "plt.show()"
   ]
  },
  {
   "cell_type": "code",
   "execution_count": null,
   "id": "501a867e",
   "metadata": {},
   "outputs": [],
   "source": []
  },
  {
   "cell_type": "code",
   "execution_count": null,
   "id": "e8975960",
   "metadata": {},
   "outputs": [],
   "source": []
  },
  {
   "cell_type": "code",
   "execution_count": null,
   "id": "371ebcd6",
   "metadata": {},
   "outputs": [],
   "source": []
  }
 ],
 "metadata": {
  "kernelspec": {
   "display_name": "Python 3 (ipykernel)",
   "language": "python",
   "name": "python3"
  },
  "language_info": {
   "codemirror_mode": {
    "name": "ipython",
    "version": 3
   },
   "file_extension": ".py",
   "mimetype": "text/x-python",
   "name": "python",
   "nbconvert_exporter": "python",
   "pygments_lexer": "ipython3",
   "version": "3.9.12"
  }
 },
 "nbformat": 4,
 "nbformat_minor": 5
}
